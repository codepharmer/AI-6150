{
 "cells": [
  {
   "cell_type": "code",
   "execution_count": 2,
   "metadata": {
    "id": "GSuAc70-kE7_"
   },
   "outputs": [],
   "source": [
    "import pandas as pd\n",
    "import numpy as np\n",
    "import matplotlib.pyplot as plt\n",
    "import seaborn as sns\n",
    "from sklearn import svm\n",
    "from sklearn.preprocessing import normalize, StandardScaler\n",
    "from sklearn.neighbors import KNeighborsClassifier\n",
    "from sklearn.metrics import f1_score\n",
    "from sklearn.cluster import KMeans\n",
    "from kmodes.kprototypes import KPrototypes"
   ]
  },
  {
   "cell_type": "code",
   "execution_count": 3,
   "metadata": {
    "id": "ORpUbSRWlZi4"
   },
   "outputs": [],
   "source": [
    "data = pd.read_csv('https://raw.githubusercontent.com/askidelsky/DAV-6150/main/Data%20Sets/Project%202/Project2_Data.csv')\n",
    "labels = pd.read_csv('https://raw.githubusercontent.com/askidelsky/DAV-6150/main/Data%20Sets/Project%202/Project2_Data_Labels.csv')"
   ]
  },
  {
   "cell_type": "markdown",
   "metadata": {
    "id": "65dS4tMqa40s"
   },
   "source": [
    "## **1) Introduction:** \n",
    "\n",
    "In this project we are given a customer data from a ecommerce website.\n",
    "Each record includes:\n",
    "- How close to a holiday or (special day) an observation is, with respect to time\n",
    "- Number of pages visted by a user by page category (ex. informational, admin, product)\n",
    "- How likely a customer is to leave upon landing on a page\n",
    "- A considerable amount of categorical data.\n",
    "- A number of of other variables\n",
    "\n",
    "The goal is to build a clustering model which can predict whether a particular user session will result in a sale.\n",
    "\n",
    "We will be woring with the k-means clustering algorithm.\n",
    "\n",
    "Using the standard kmeans algorithm, we cannot include categorical data in our clustering training data. Therefore, for the Kmeans clustering part of this assignmnet, we have excluded the categorical data.\n",
    "\n",
    "Additionally, for the SVM algorithms, some of the categorical data is given without an explaination and with a large number of categories. As such we decided to exclude these variables from the SVM algorithms.\n",
    " "
   ]
  },
  {
   "cell_type": "markdown",
   "metadata": {
    "id": "X25UJh9Dp61V"
   },
   "source": [
    "## **2) Pre-Clustering EDA:** \n",
    "\n",
    "Data Description:\n",
    "\n",
    "\"Administrative\", \"Administrative Duration\", \"Informational\", \"Informational Duration\", \"Product Related\", and \"Product Related Duration\" are the number of different types of pages visited by the visitor in that session and total time spent in each of these categories.\n",
    "\n",
    "\"Bounce Rate\", \"Exit Rate\", and \"Page Value\" represent metrics for each page in the e-commerce site. The bounce rate is the percentage of users who enter the site from that page and leave without triggering other requests. Exit rate is calculated as for all pageviews to the page, the percentage that were the last in the session. Page value represents the average value of a page that a user visited before completing an e-commerce transaction. Special day feature indicates the closeness of the site visiting time to a specific day in which the sessions are more likely to be finalized with the transaction. "
   ]
  },
  {
   "cell_type": "markdown",
   "metadata": {
    "id": "nRx_qfFYJ5Pa"
   },
   "source": [
    "\n",
    "1. Administrative: the number of administrative pages visited by the visitor in that session\n",
    "2. Administrative_Duration: total time spent on the administrative page\n",
    "3. Informational: the number of informational pages visited by the visitor in that session\n",
    "4. Informational_Duration: total time spent on an informational page\n",
    "5. ProductRelated: the number of product-related pages visited by the visitor in that session\n",
    "6. ProductRelated_Duration: total time spent on product-related page\n",
    "7. BounceRates: the percentage of visitors who enter the site from that page and then leave (\"bounce\") without triggering any other requests to the analytics server during that session.\n",
    "8. ExitRates: the value of the \"Exit Rate\" feature for a specific web page is calculated as for all pageviews to the page, the percentage that was the last in the session.\n",
    "9. PageValues: the \"Page Value\" feature represents the average value for a web page that a user visited before completing an e-commerce transaction.\n",
    "10. SpecialDay: the closeness of the site visiting time to a specific special day (e.g. Mother’s Day, Valentine's Day) in which the sessions are more likely to be finalized with the transaction.\n",
    "11. Month: month of the year.\n",
    "12. OperatingSystems: different operating systems of the machine used by the user to access the website\n",
    "13. Browser: different browsers used by the user to access the website\n",
    "14. Region: the region of the user visiting the site\n",
    "15. TrafficType: different vehicles used by users\n",
    "16. VisitorType: returning/new visitor\n",
    "17. Weekend: a Boolean value indicating whether the date of the visit is weekend.\n"
   ]
  },
  {
   "cell_type": "code",
   "execution_count": null,
   "metadata": {
    "colab": {
     "base_uri": "https://localhost:8080/",
     "height": 270
    },
    "id": "kMKx__1eSdv7",
    "outputId": "3831c92f-b4ba-4fe0-baaf-32527812c333"
   },
   "outputs": [
    {
     "data": {
      "text/html": [
       "\n",
       "  <div id=\"df-5f34b612-616d-4ec4-8a58-61713c4e8d01\">\n",
       "    <div class=\"colab-df-container\">\n",
       "      <div>\n",
       "<style scoped>\n",
       "    .dataframe tbody tr th:only-of-type {\n",
       "        vertical-align: middle;\n",
       "    }\n",
       "\n",
       "    .dataframe tbody tr th {\n",
       "        vertical-align: top;\n",
       "    }\n",
       "\n",
       "    .dataframe thead th {\n",
       "        text-align: right;\n",
       "    }\n",
       "</style>\n",
       "<table border=\"1\" class=\"dataframe\">\n",
       "  <thead>\n",
       "    <tr style=\"text-align: right;\">\n",
       "      <th></th>\n",
       "      <th>Administrative</th>\n",
       "      <th>Administrative_Duration</th>\n",
       "      <th>Informational</th>\n",
       "      <th>Informational_Duration</th>\n",
       "      <th>ProductRelated</th>\n",
       "      <th>ProductRelated_Duration</th>\n",
       "      <th>BounceRates</th>\n",
       "      <th>ExitRates</th>\n",
       "      <th>PageValues</th>\n",
       "      <th>SpecialDay</th>\n",
       "      <th>Month</th>\n",
       "      <th>OperatingSystems</th>\n",
       "      <th>Browser</th>\n",
       "      <th>Region</th>\n",
       "      <th>TrafficType</th>\n",
       "      <th>VisitorType</th>\n",
       "      <th>Weekend</th>\n",
       "    </tr>\n",
       "  </thead>\n",
       "  <tbody>\n",
       "    <tr>\n",
       "      <th>0</th>\n",
       "      <td>0</td>\n",
       "      <td>0.0</td>\n",
       "      <td>0</td>\n",
       "      <td>0.0</td>\n",
       "      <td>8</td>\n",
       "      <td>222.000000</td>\n",
       "      <td>0.000000</td>\n",
       "      <td>0.028571</td>\n",
       "      <td>53.474571</td>\n",
       "      <td>0.0</td>\n",
       "      <td>May</td>\n",
       "      <td>1</td>\n",
       "      <td>1</td>\n",
       "      <td>1</td>\n",
       "      <td>2</td>\n",
       "      <td>New_Visitor</td>\n",
       "      <td>True</td>\n",
       "    </tr>\n",
       "    <tr>\n",
       "      <th>1</th>\n",
       "      <td>0</td>\n",
       "      <td>0.0</td>\n",
       "      <td>0</td>\n",
       "      <td>0.0</td>\n",
       "      <td>14</td>\n",
       "      <td>1037.500000</td>\n",
       "      <td>0.014286</td>\n",
       "      <td>0.047619</td>\n",
       "      <td>0.000000</td>\n",
       "      <td>0.0</td>\n",
       "      <td>Mar</td>\n",
       "      <td>2</td>\n",
       "      <td>2</td>\n",
       "      <td>4</td>\n",
       "      <td>2</td>\n",
       "      <td>Returning_Visitor</td>\n",
       "      <td>False</td>\n",
       "    </tr>\n",
       "    <tr>\n",
       "      <th>2</th>\n",
       "      <td>4</td>\n",
       "      <td>37.5</td>\n",
       "      <td>2</td>\n",
       "      <td>82.0</td>\n",
       "      <td>4</td>\n",
       "      <td>96.625000</td>\n",
       "      <td>0.000000</td>\n",
       "      <td>0.017500</td>\n",
       "      <td>0.000000</td>\n",
       "      <td>0.0</td>\n",
       "      <td>Nov</td>\n",
       "      <td>2</td>\n",
       "      <td>2</td>\n",
       "      <td>9</td>\n",
       "      <td>2</td>\n",
       "      <td>New_Visitor</td>\n",
       "      <td>False</td>\n",
       "    </tr>\n",
       "    <tr>\n",
       "      <th>3</th>\n",
       "      <td>4</td>\n",
       "      <td>115.7</td>\n",
       "      <td>0</td>\n",
       "      <td>0.0</td>\n",
       "      <td>16</td>\n",
       "      <td>655.383333</td>\n",
       "      <td>0.000000</td>\n",
       "      <td>0.012037</td>\n",
       "      <td>0.000000</td>\n",
       "      <td>0.0</td>\n",
       "      <td>Nov</td>\n",
       "      <td>1</td>\n",
       "      <td>1</td>\n",
       "      <td>2</td>\n",
       "      <td>3</td>\n",
       "      <td>Returning_Visitor</td>\n",
       "      <td>False</td>\n",
       "    </tr>\n",
       "    <tr>\n",
       "      <th>4</th>\n",
       "      <td>1</td>\n",
       "      <td>60.0</td>\n",
       "      <td>1</td>\n",
       "      <td>15.0</td>\n",
       "      <td>26</td>\n",
       "      <td>670.166667</td>\n",
       "      <td>0.000000</td>\n",
       "      <td>0.003846</td>\n",
       "      <td>0.000000</td>\n",
       "      <td>0.0</td>\n",
       "      <td>May</td>\n",
       "      <td>2</td>\n",
       "      <td>2</td>\n",
       "      <td>3</td>\n",
       "      <td>4</td>\n",
       "      <td>Returning_Visitor</td>\n",
       "      <td>False</td>\n",
       "    </tr>\n",
       "  </tbody>\n",
       "</table>\n",
       "</div>\n",
       "      <button class=\"colab-df-convert\" onclick=\"convertToInteractive('df-5f34b612-616d-4ec4-8a58-61713c4e8d01')\"\n",
       "              title=\"Convert this dataframe to an interactive table.\"\n",
       "              style=\"display:none;\">\n",
       "        \n",
       "  <svg xmlns=\"http://www.w3.org/2000/svg\" height=\"24px\"viewBox=\"0 0 24 24\"\n",
       "       width=\"24px\">\n",
       "    <path d=\"M0 0h24v24H0V0z\" fill=\"none\"/>\n",
       "    <path d=\"M18.56 5.44l.94 2.06.94-2.06 2.06-.94-2.06-.94-.94-2.06-.94 2.06-2.06.94zm-11 1L8.5 8.5l.94-2.06 2.06-.94-2.06-.94L8.5 2.5l-.94 2.06-2.06.94zm10 10l.94 2.06.94-2.06 2.06-.94-2.06-.94-.94-2.06-.94 2.06-2.06.94z\"/><path d=\"M17.41 7.96l-1.37-1.37c-.4-.4-.92-.59-1.43-.59-.52 0-1.04.2-1.43.59L10.3 9.45l-7.72 7.72c-.78.78-.78 2.05 0 2.83L4 21.41c.39.39.9.59 1.41.59.51 0 1.02-.2 1.41-.59l7.78-7.78 2.81-2.81c.8-.78.8-2.07 0-2.86zM5.41 20L4 18.59l7.72-7.72 1.47 1.35L5.41 20z\"/>\n",
       "  </svg>\n",
       "      </button>\n",
       "      \n",
       "  <style>\n",
       "    .colab-df-container {\n",
       "      display:flex;\n",
       "      flex-wrap:wrap;\n",
       "      gap: 12px;\n",
       "    }\n",
       "\n",
       "    .colab-df-convert {\n",
       "      background-color: #E8F0FE;\n",
       "      border: none;\n",
       "      border-radius: 50%;\n",
       "      cursor: pointer;\n",
       "      display: none;\n",
       "      fill: #1967D2;\n",
       "      height: 32px;\n",
       "      padding: 0 0 0 0;\n",
       "      width: 32px;\n",
       "    }\n",
       "\n",
       "    .colab-df-convert:hover {\n",
       "      background-color: #E2EBFA;\n",
       "      box-shadow: 0px 1px 2px rgba(60, 64, 67, 0.3), 0px 1px 3px 1px rgba(60, 64, 67, 0.15);\n",
       "      fill: #174EA6;\n",
       "    }\n",
       "\n",
       "    [theme=dark] .colab-df-convert {\n",
       "      background-color: #3B4455;\n",
       "      fill: #D2E3FC;\n",
       "    }\n",
       "\n",
       "    [theme=dark] .colab-df-convert:hover {\n",
       "      background-color: #434B5C;\n",
       "      box-shadow: 0px 1px 3px 1px rgba(0, 0, 0, 0.15);\n",
       "      filter: drop-shadow(0px 1px 2px rgba(0, 0, 0, 0.3));\n",
       "      fill: #FFFFFF;\n",
       "    }\n",
       "  </style>\n",
       "\n",
       "      <script>\n",
       "        const buttonEl =\n",
       "          document.querySelector('#df-5f34b612-616d-4ec4-8a58-61713c4e8d01 button.colab-df-convert');\n",
       "        buttonEl.style.display =\n",
       "          google.colab.kernel.accessAllowed ? 'block' : 'none';\n",
       "\n",
       "        async function convertToInteractive(key) {\n",
       "          const element = document.querySelector('#df-5f34b612-616d-4ec4-8a58-61713c4e8d01');\n",
       "          const dataTable =\n",
       "            await google.colab.kernel.invokeFunction('convertToInteractive',\n",
       "                                                     [key], {});\n",
       "          if (!dataTable) return;\n",
       "\n",
       "          const docLinkHtml = 'Like what you see? Visit the ' +\n",
       "            '<a target=\"_blank\" href=https://colab.research.google.com/notebooks/data_table.ipynb>data table notebook</a>'\n",
       "            + ' to learn more about interactive tables.';\n",
       "          element.innerHTML = '';\n",
       "          dataTable['output_type'] = 'display_data';\n",
       "          await google.colab.output.renderOutput(dataTable, element);\n",
       "          const docLink = document.createElement('div');\n",
       "          docLink.innerHTML = docLinkHtml;\n",
       "          element.appendChild(docLink);\n",
       "        }\n",
       "      </script>\n",
       "    </div>\n",
       "  </div>\n",
       "  "
      ],
      "text/plain": [
       "   Administrative  Administrative_Duration  Informational  \\\n",
       "0               0                      0.0              0   \n",
       "1               0                      0.0              0   \n",
       "2               4                     37.5              2   \n",
       "3               4                    115.7              0   \n",
       "4               1                     60.0              1   \n",
       "\n",
       "   Informational_Duration  ProductRelated  ProductRelated_Duration  \\\n",
       "0                     0.0               8               222.000000   \n",
       "1                     0.0              14              1037.500000   \n",
       "2                    82.0               4                96.625000   \n",
       "3                     0.0              16               655.383333   \n",
       "4                    15.0              26               670.166667   \n",
       "\n",
       "   BounceRates  ExitRates  PageValues  SpecialDay Month  OperatingSystems  \\\n",
       "0     0.000000   0.028571   53.474571         0.0   May                 1   \n",
       "1     0.014286   0.047619    0.000000         0.0   Mar                 2   \n",
       "2     0.000000   0.017500    0.000000         0.0   Nov                 2   \n",
       "3     0.000000   0.012037    0.000000         0.0   Nov                 1   \n",
       "4     0.000000   0.003846    0.000000         0.0   May                 2   \n",
       "\n",
       "   Browser  Region  TrafficType        VisitorType  Weekend  \n",
       "0        1       1            2        New_Visitor     True  \n",
       "1        2       4            2  Returning_Visitor    False  \n",
       "2        2       9            2        New_Visitor    False  \n",
       "3        1       2            3  Returning_Visitor    False  \n",
       "4        2       3            4  Returning_Visitor    False  "
      ]
     },
     "execution_count": 12,
     "metadata": {},
     "output_type": "execute_result"
    }
   ],
   "source": [
    "data.head()"
   ]
  },
  {
   "cell_type": "code",
   "execution_count": null,
   "metadata": {
    "colab": {
     "base_uri": "https://localhost:8080/"
    },
    "id": "JaonsQs7ThbZ",
    "outputId": "a917abf3-9b20-42ae-ec85-5a4d653e1519"
   },
   "outputs": [
    {
     "data": {
      "text/plain": [
       "Administrative               int64\n",
       "Administrative_Duration    float64\n",
       "Informational                int64\n",
       "Informational_Duration     float64\n",
       "ProductRelated               int64\n",
       "ProductRelated_Duration    float64\n",
       "BounceRates                float64\n",
       "ExitRates                  float64\n",
       "PageValues                 float64\n",
       "SpecialDay                 float64\n",
       "Month                       object\n",
       "OperatingSystems             int64\n",
       "Browser                      int64\n",
       "Region                       int64\n",
       "TrafficType                  int64\n",
       "VisitorType                 object\n",
       "Weekend                       bool\n",
       "dtype: object"
      ]
     },
     "execution_count": 13,
     "metadata": {},
     "output_type": "execute_result"
    }
   ],
   "source": [
    "data.dtypes"
   ]
  },
  {
   "cell_type": "code",
   "execution_count": null,
   "metadata": {
    "id": "THyHqc-sNv40"
   },
   "outputs": [],
   "source": []
  },
  {
   "cell_type": "markdown",
   "metadata": {
    "id": "QT1DwuEJ6K8K"
   },
   "source": [
    "Not all numeric values are truely numeric, browser, region, traffic type, visitor type are all identifiers."
   ]
  },
  {
   "cell_type": "code",
   "execution_count": null,
   "metadata": {
    "colab": {
     "base_uri": "https://localhost:8080/"
    },
    "id": "9UaKpLsD46C1",
    "outputId": "c2b3071a-d88e-4c0c-e9c6-882dfc185187"
   },
   "outputs": [
    {
     "data": {
      "text/plain": [
       "0"
      ]
     },
     "execution_count": 14,
     "metadata": {},
     "output_type": "execute_result"
    }
   ],
   "source": [
    "  data.isna().sum().sum()"
   ]
  },
  {
   "cell_type": "markdown",
   "metadata": {
    "id": "CPTWhHig6Wi5"
   },
   "source": [
    "No missing values in data set, we can move on with EDA."
   ]
  },
  {
   "cell_type": "markdown",
   "metadata": {
    "id": "Goeiki3vax4V"
   },
   "source": [
    "2) Pre-Clustering Exploratory Data Analysis (10 Points)"
   ]
  },
  {
   "cell_type": "code",
   "execution_count": null,
   "metadata": {
    "colab": {
     "base_uri": "https://localhost:8080/",
     "height": 725
    },
    "id": "8H5nC5LE6iDc",
    "outputId": "2e9e7c77-053c-487b-f38c-de151dbbd4a8"
   },
   "outputs": [
    {
     "data": {
      "text/plain": [
       "array([[<matplotlib.axes._subplots.AxesSubplot object at 0x7f4ba2f16790>,\n",
       "        <matplotlib.axes._subplots.AxesSubplot object at 0x7f4ba57720d0>,\n",
       "        <matplotlib.axes._subplots.AxesSubplot object at 0x7f4ba2e3d390>],\n",
       "       [<matplotlib.axes._subplots.AxesSubplot object at 0x7f4ba2df2990>,\n",
       "        <matplotlib.axes._subplots.AxesSubplot object at 0x7f4ba2daaf90>,\n",
       "        <matplotlib.axes._subplots.AxesSubplot object at 0x7f4ba2d6d5d0>],\n",
       "       [<matplotlib.axes._subplots.AxesSubplot object at 0x7f4ba2da3c50>,\n",
       "        <matplotlib.axes._subplots.AxesSubplot object at 0x7f4ba2ce61d0>,\n",
       "        <matplotlib.axes._subplots.AxesSubplot object at 0x7f4ba2ce6210>]],\n",
       "      dtype=object)"
      ]
     },
     "execution_count": 15,
     "metadata": {},
     "output_type": "execute_result"
    },
    {
     "data": {
      "image/png": "[encoded data removed]",
      "text/plain": [
       "<Figure size 1440x720 with 9 Axes>"
      ]
     },
     "metadata": {
      "needs_background": "light"
     },
     "output_type": "display_data"
    }
   ],
   "source": [
    "data.iloc[:,:9].hist(figsize=(20,10))"
   ]
  },
  {
   "cell_type": "markdown",
   "metadata": {
    "id": "cg7krUR6B34J"
   },
   "source": [
    "Data needs to be standardized and scaled before going into a lot of clustering algorithms so the data will have to be put through a standard scaler. All of the variables are extremely right skewed and as such need to be put through a distribution transformation. Even ExitRates, which has a more variable distribution is skewed but less so."
   ]
  },
  {
   "cell_type": "markdown",
   "metadata": {
    "id": "oYdxwBVlIjhT"
   },
   "source": [
    "Before going into a clustering algorithm, it needs to be treated for outliers. According to the above distribution charts, there don't seem to be very many outliers for the numeric values so we shouldn't be too worried about those impacting our analysis, especially after transformation."
   ]
  },
  {
   "cell_type": "code",
   "execution_count": null,
   "metadata": {
    "colab": {
     "base_uri": "https://localhost:8080/",
     "height": 450
    },
    "id": "U3VGHpmuBtWx",
    "outputId": "3d294a39-efd9-44ad-b08f-99f8c7b77864"
   },
   "outputs": [
    {
     "data": {
      "text/plain": [
       "<seaborn.axisgrid.PairGrid at 0x7f4ba2976410>"
      ]
     },
     "execution_count": 16,
     "metadata": {},
     "output_type": "execute_result"
    },
    {
     "name": "stdout",
     "output_type": "stream",
     "text": [
      "Error in callback <function flush_figures at 0x7f4bbc603290> (for post_execute):\n"
     ]
    },
    {
     "ename": "KeyboardInterrupt",
     "evalue": "ignored",
     "output_type": "error",
     "traceback": [
      "\u001b[0;31m---------------------------------------------------------------------------\u001b[0m",
      "\u001b[0;31mKeyboardInterrupt\u001b[0m                         Traceback (most recent call last)",
      "\u001b[0;32m/usr/local/lib/python3.7/dist-packages/ipykernel/pylab/backend_inline.py\u001b[0m in \u001b[0;36mflush_figures\u001b[0;34m()\u001b[0m\n\u001b[1;32m    115\u001b[0m         \u001b[0;31m# ignore the tracking, just draw and close all figures\u001b[0m\u001b[0;34m\u001b[0m\u001b[0;34m\u001b[0m\u001b[0;34m\u001b[0m\u001b[0m\n\u001b[1;32m    116\u001b[0m         \u001b[0;32mtry\u001b[0m\u001b[0;34m:\u001b[0m\u001b[0;34m\u001b[0m\u001b[0;34m\u001b[0m\u001b[0m\n\u001b[0;32m--> 117\u001b[0;31m             \u001b[0;32mreturn\u001b[0m \u001b[0mshow\u001b[0m\u001b[0;34m(\u001b[0m\u001b[0;32mTrue\u001b[0m\u001b[0;34m)\u001b[0m\u001b[0;34m\u001b[0m\u001b[0;34m\u001b[0m\u001b[0m\n\u001b[0m\u001b[1;32m    118\u001b[0m         \u001b[0;32mexcept\u001b[0m \u001b[0mException\u001b[0m \u001b[0;32mas\u001b[0m \u001b[0me\u001b[0m\u001b[0;34m:\u001b[0m\u001b[0;34m\u001b[0m\u001b[0;34m\u001b[0m\u001b[0m\n\u001b[1;32m    119\u001b[0m             \u001b[0;31m# safely show traceback if in IPython, else raise\u001b[0m\u001b[0;34m\u001b[0m\u001b[0;34m\u001b[0m\u001b[0;34m\u001b[0m\u001b[0m\n",
      "\u001b[0;32m/usr/local/lib/python3.7/dist-packages/ipykernel/pylab/backend_inline.py\u001b[0m in \u001b[0;36mshow\u001b[0;34m(close, block)\u001b[0m\n\u001b[1;32m     37\u001b[0m             display(\n\u001b[1;32m     38\u001b[0m                 \u001b[0mfigure_manager\u001b[0m\u001b[0;34m.\u001b[0m\u001b[0mcanvas\u001b[0m\u001b[0;34m.\u001b[0m\u001b[0mfigure\u001b[0m\u001b[0;34m,\u001b[0m\u001b[0;34m\u001b[0m\u001b[0;34m\u001b[0m\u001b[0m\n\u001b[0;32m---> 39\u001b[0;31m                 \u001b[0mmetadata\u001b[0m\u001b[0;34m=\u001b[0m\u001b[0m_fetch_figure_metadata\u001b[0m\u001b[0;34m(\u001b[0m\u001b[0mfigure_manager\u001b[0m\u001b[0;34m.\u001b[0m\u001b[0mcanvas\u001b[0m\u001b[0;34m.\u001b[0m\u001b[0mfigure\u001b[0m\u001b[0;34m)\u001b[0m\u001b[0;34m\u001b[0m\u001b[0;34m\u001b[0m\u001b[0m\n\u001b[0m\u001b[1;32m     40\u001b[0m             )\n\u001b[1;32m     41\u001b[0m     \u001b[0;32mfinally\u001b[0m\u001b[0;34m:\u001b[0m\u001b[0;34m\u001b[0m\u001b[0;34m\u001b[0m\u001b[0m\n",
      "\u001b[0;32m/usr/local/lib/python3.7/dist-packages/IPython/core/display.py\u001b[0m in \u001b[0;36mdisplay\u001b[0;34m(*objs, **kwargs)\u001b[0m\n\u001b[1;32m    304\u001b[0m             \u001b[0mpublish_display_data\u001b[0m\u001b[0;34m(\u001b[0m\u001b[0mdata\u001b[0m\u001b[0;34m=\u001b[0m\u001b[0mobj\u001b[0m\u001b[0;34m,\u001b[0m \u001b[0mmetadata\u001b[0m\u001b[0;34m=\u001b[0m\u001b[0mmetadata\u001b[0m\u001b[0;34m,\u001b[0m \u001b[0;34m**\u001b[0m\u001b[0mkwargs\u001b[0m\u001b[0;34m)\u001b[0m\u001b[0;34m\u001b[0m\u001b[0;34m\u001b[0m\u001b[0m\n\u001b[1;32m    305\u001b[0m         \u001b[0;32melse\u001b[0m\u001b[0;34m:\u001b[0m\u001b[0;34m\u001b[0m\u001b[0;34m\u001b[0m\u001b[0m\n\u001b[0;32m--> 306\u001b[0;31m             \u001b[0mformat_dict\u001b[0m\u001b[0;34m,\u001b[0m \u001b[0mmd_dict\u001b[0m \u001b[0;34m=\u001b[0m \u001b[0mformat\u001b[0m\u001b[0;34m(\u001b[0m\u001b[0mobj\u001b[0m\u001b[0;34m,\u001b[0m \u001b[0minclude\u001b[0m\u001b[0;34m=\u001b[0m\u001b[0minclude\u001b[0m\u001b[0;34m,\u001b[0m \u001b[0mexclude\u001b[0m\u001b[0;34m=\u001b[0m\u001b[0mexclude\u001b[0m\u001b[0;34m)\u001b[0m\u001b[0;34m\u001b[0m\u001b[0;34m\u001b[0m\u001b[0m\n\u001b[0m\u001b[1;32m    307\u001b[0m             \u001b[0;32mif\u001b[0m \u001b[0;32mnot\u001b[0m \u001b[0mformat_dict\u001b[0m\u001b[0;34m:\u001b[0m\u001b[0;34m\u001b[0m\u001b[0;34m\u001b[0m\u001b[0m\n\u001b[1;32m    308\u001b[0m                 \u001b[0;31m# nothing to display (e.g. _ipython_display_ took over)\u001b[0m\u001b[0;34m\u001b[0m\u001b[0;34m\u001b[0m\u001b[0;34m\u001b[0m\u001b[0m\n",
      "\u001b[0;32m/usr/local/lib/python3.7/dist-packages/IPython/core/formatters.py\u001b[0m in \u001b[0;36mformat\u001b[0;34m(self, obj, include, exclude)\u001b[0m\n\u001b[1;32m    171\u001b[0m             \u001b[0mmd\u001b[0m \u001b[0;34m=\u001b[0m \u001b[0;32mNone\u001b[0m\u001b[0;34m\u001b[0m\u001b[0;34m\u001b[0m\u001b[0m\n\u001b[1;32m    172\u001b[0m             \u001b[0;32mtry\u001b[0m\u001b[0;34m:\u001b[0m\u001b[0;34m\u001b[0m\u001b[0;34m\u001b[0m\u001b[0m\n\u001b[0;32m--> 173\u001b[0;31m                 \u001b[0mdata\u001b[0m \u001b[0;34m=\u001b[0m \u001b[0mformatter\u001b[0m\u001b[0;34m(\u001b[0m\u001b[0mobj\u001b[0m\u001b[0;34m)\u001b[0m\u001b[0;34m\u001b[0m\u001b[0;34m\u001b[0m\u001b[0m\n\u001b[0m\u001b[1;32m    174\u001b[0m             \u001b[0;32mexcept\u001b[0m\u001b[0;34m:\u001b[0m\u001b[0;34m\u001b[0m\u001b[0;34m\u001b[0m\u001b[0m\n\u001b[1;32m    175\u001b[0m                 \u001b[0;31m# FIXME: log the exception\u001b[0m\u001b[0;34m\u001b[0m\u001b[0;34m\u001b[0m\u001b[0;34m\u001b[0m\u001b[0m\n",
      "\u001b[0;32m<decorator-gen-2>\u001b[0m in \u001b[0;36m__call__\u001b[0;34m(self, obj)\u001b[0m\n",
      "\u001b[0;32m/usr/local/lib/python3.7/dist-packages/IPython/core/formatters.py\u001b[0m in \u001b[0;36mcatch_format_error\u001b[0;34m(method, self, *args, **kwargs)\u001b[0m\n\u001b[1;32m    215\u001b[0m     \u001b[0;34m\"\"\"show traceback on failed format call\"\"\"\u001b[0m\u001b[0;34m\u001b[0m\u001b[0;34m\u001b[0m\u001b[0m\n\u001b[1;32m    216\u001b[0m     \u001b[0;32mtry\u001b[0m\u001b[0;34m:\u001b[0m\u001b[0;34m\u001b[0m\u001b[0;34m\u001b[0m\u001b[0m\n\u001b[0;32m--> 217\u001b[0;31m         \u001b[0mr\u001b[0m \u001b[0;34m=\u001b[0m \u001b[0mmethod\u001b[0m\u001b[0;34m(\u001b[0m\u001b[0mself\u001b[0m\u001b[0;34m,\u001b[0m \u001b[0;34m*\u001b[0m\u001b[0margs\u001b[0m\u001b[0;34m,\u001b[0m \u001b[0;34m**\u001b[0m\u001b[0mkwargs\u001b[0m\u001b[0;34m)\u001b[0m\u001b[0;34m\u001b[0m\u001b[0;34m\u001b[0m\u001b[0m\n\u001b[0m\u001b[1;32m    218\u001b[0m     \u001b[0;32mexcept\u001b[0m \u001b[0mNotImplementedError\u001b[0m\u001b[0;34m:\u001b[0m\u001b[0;34m\u001b[0m\u001b[0;34m\u001b[0m\u001b[0m\n\u001b[1;32m    219\u001b[0m         \u001b[0;31m# don't warn on NotImplementedErrors\u001b[0m\u001b[0;34m\u001b[0m\u001b[0;34m\u001b[0m\u001b[0;34m\u001b[0m\u001b[0m\n",
      "\u001b[0;32m/usr/local/lib/python3.7/dist-packages/IPython/core/formatters.py\u001b[0m in \u001b[0;36m__call__\u001b[0;34m(self, obj)\u001b[0m\n\u001b[1;32m    332\u001b[0m                 \u001b[0;32mpass\u001b[0m\u001b[0;34m\u001b[0m\u001b[0;34m\u001b[0m\u001b[0m\n\u001b[1;32m    333\u001b[0m             \u001b[0;32melse\u001b[0m\u001b[0;34m:\u001b[0m\u001b[0;34m\u001b[0m\u001b[0;34m\u001b[0m\u001b[0m\n\u001b[0;32m--> 334\u001b[0;31m                 \u001b[0;32mreturn\u001b[0m \u001b[0mprinter\u001b[0m\u001b[0;34m(\u001b[0m\u001b[0mobj\u001b[0m\u001b[0;34m)\u001b[0m\u001b[0;34m\u001b[0m\u001b[0;34m\u001b[0m\u001b[0m\n\u001b[0m\u001b[1;32m    335\u001b[0m             \u001b[0;31m# Finally look for special method names\u001b[0m\u001b[0;34m\u001b[0m\u001b[0;34m\u001b[0m\u001b[0;34m\u001b[0m\u001b[0m\n\u001b[1;32m    336\u001b[0m             \u001b[0mmethod\u001b[0m \u001b[0;34m=\u001b[0m \u001b[0mget_real_method\u001b[0m\u001b[0;34m(\u001b[0m\u001b[0mobj\u001b[0m\u001b[0;34m,\u001b[0m \u001b[0mself\u001b[0m\u001b[0;34m.\u001b[0m\u001b[0mprint_method\u001b[0m\u001b[0;34m)\u001b[0m\u001b[0;34m\u001b[0m\u001b[0;34m\u001b[0m\u001b[0m\n",
      "\u001b[0;32m/usr/local/lib/python3.7/dist-packages/IPython/core/pylabtools.py\u001b[0m in \u001b[0;36m<lambda>\u001b[0;34m(fig)\u001b[0m\n\u001b[1;32m    239\u001b[0m \u001b[0;34m\u001b[0m\u001b[0m\n\u001b[1;32m    240\u001b[0m     \u001b[0;32mif\u001b[0m \u001b[0;34m'png'\u001b[0m \u001b[0;32min\u001b[0m \u001b[0mformats\u001b[0m\u001b[0;34m:\u001b[0m\u001b[0;34m\u001b[0m\u001b[0;34m\u001b[0m\u001b[0m\n\u001b[0;32m--> 241\u001b[0;31m         \u001b[0mpng_formatter\u001b[0m\u001b[0;34m.\u001b[0m\u001b[0mfor_type\u001b[0m\u001b[0;34m(\u001b[0m\u001b[0mFigure\u001b[0m\u001b[0;34m,\u001b[0m \u001b[0;32mlambda\u001b[0m \u001b[0mfig\u001b[0m\u001b[0;34m:\u001b[0m \u001b[0mprint_figure\u001b[0m\u001b[0;34m(\u001b[0m\u001b[0mfig\u001b[0m\u001b[0;34m,\u001b[0m \u001b[0;34m'png'\u001b[0m\u001b[0;34m,\u001b[0m \u001b[0;34m**\u001b[0m\u001b[0mkwargs\u001b[0m\u001b[0;34m)\u001b[0m\u001b[0;34m)\u001b[0m\u001b[0;34m\u001b[0m\u001b[0;34m\u001b[0m\u001b[0m\n\u001b[0m\u001b[1;32m    242\u001b[0m     \u001b[0;32mif\u001b[0m \u001b[0;34m'retina'\u001b[0m \u001b[0;32min\u001b[0m \u001b[0mformats\u001b[0m \u001b[0;32mor\u001b[0m \u001b[0;34m'png2x'\u001b[0m \u001b[0;32min\u001b[0m \u001b[0mformats\u001b[0m\u001b[0;34m:\u001b[0m\u001b[0;34m\u001b[0m\u001b[0;34m\u001b[0m\u001b[0m\n\u001b[1;32m    243\u001b[0m         \u001b[0mpng_formatter\u001b[0m\u001b[0;34m.\u001b[0m\u001b[0mfor_type\u001b[0m\u001b[0;34m(\u001b[0m\u001b[0mFigure\u001b[0m\u001b[0;34m,\u001b[0m \u001b[0;32mlambda\u001b[0m \u001b[0mfig\u001b[0m\u001b[0;34m:\u001b[0m \u001b[0mretina_figure\u001b[0m\u001b[0;34m(\u001b[0m\u001b[0mfig\u001b[0m\u001b[0;34m,\u001b[0m \u001b[0;34m**\u001b[0m\u001b[0mkwargs\u001b[0m\u001b[0;34m)\u001b[0m\u001b[0;34m)\u001b[0m\u001b[0;34m\u001b[0m\u001b[0;34m\u001b[0m\u001b[0m\n",
      "\u001b[0;32m/usr/local/lib/python3.7/dist-packages/IPython/core/pylabtools.py\u001b[0m in \u001b[0;36mprint_figure\u001b[0;34m(fig, fmt, bbox_inches, **kwargs)\u001b[0m\n\u001b[1;32m    123\u001b[0m \u001b[0;34m\u001b[0m\u001b[0m\n\u001b[1;32m    124\u001b[0m     \u001b[0mbytes_io\u001b[0m \u001b[0;34m=\u001b[0m \u001b[0mBytesIO\u001b[0m\u001b[0;34m(\u001b[0m\u001b[0;34m)\u001b[0m\u001b[0;34m\u001b[0m\u001b[0;34m\u001b[0m\u001b[0m\n\u001b[0;32m--> 125\u001b[0;31m     \u001b[0mfig\u001b[0m\u001b[0;34m.\u001b[0m\u001b[0mcanvas\u001b[0m\u001b[0;34m.\u001b[0m\u001b[0mprint_figure\u001b[0m\u001b[0;34m(\u001b[0m\u001b[0mbytes_io\u001b[0m\u001b[0;34m,\u001b[0m \u001b[0;34m**\u001b[0m\u001b[0mkw\u001b[0m\u001b[0;34m)\u001b[0m\u001b[0;34m\u001b[0m\u001b[0;34m\u001b[0m\u001b[0m\n\u001b[0m\u001b[1;32m    126\u001b[0m     \u001b[0mdata\u001b[0m \u001b[0;34m=\u001b[0m \u001b[0mbytes_io\u001b[0m\u001b[0;34m.\u001b[0m\u001b[0mgetvalue\u001b[0m\u001b[0;34m(\u001b[0m\u001b[0;34m)\u001b[0m\u001b[0;34m\u001b[0m\u001b[0;34m\u001b[0m\u001b[0m\n\u001b[1;32m    127\u001b[0m     \u001b[0;32mif\u001b[0m \u001b[0mfmt\u001b[0m \u001b[0;34m==\u001b[0m \u001b[0;34m'svg'\u001b[0m\u001b[0;34m:\u001b[0m\u001b[0;34m\u001b[0m\u001b[0;34m\u001b[0m\u001b[0m\n",
      "\u001b[0;32m/usr/local/lib/python3.7/dist-packages/matplotlib/backend_bases.py\u001b[0m in \u001b[0;36mprint_figure\u001b[0;34m(self, filename, dpi, facecolor, edgecolor, orientation, format, bbox_inches, **kwargs)\u001b[0m\n\u001b[1;32m   2124\u001b[0m                     \u001b[0morientation\u001b[0m\u001b[0;34m=\u001b[0m\u001b[0morientation\u001b[0m\u001b[0;34m,\u001b[0m\u001b[0;34m\u001b[0m\u001b[0;34m\u001b[0m\u001b[0m\n\u001b[1;32m   2125\u001b[0m                     \u001b[0mbbox_inches_restore\u001b[0m\u001b[0;34m=\u001b[0m\u001b[0m_bbox_inches_restore\u001b[0m\u001b[0;34m,\u001b[0m\u001b[0;34m\u001b[0m\u001b[0;34m\u001b[0m\u001b[0m\n\u001b[0;32m-> 2126\u001b[0;31m                     **kwargs)\n\u001b[0m\u001b[1;32m   2127\u001b[0m             \u001b[0;32mfinally\u001b[0m\u001b[0;34m:\u001b[0m\u001b[0;34m\u001b[0m\u001b[0;34m\u001b[0m\u001b[0m\n\u001b[1;32m   2128\u001b[0m                 \u001b[0;32mif\u001b[0m \u001b[0mbbox_inches\u001b[0m \u001b[0;32mand\u001b[0m \u001b[0mrestore_bbox\u001b[0m\u001b[0;34m:\u001b[0m\u001b[0;34m\u001b[0m\u001b[0;34m\u001b[0m\u001b[0m\n",
      "\u001b[0;32m/usr/local/lib/python3.7/dist-packages/matplotlib/backends/backend_agg.py\u001b[0m in \u001b[0;36mprint_png\u001b[0;34m(self, filename_or_obj, metadata, pil_kwargs, *args, **kwargs)\u001b[0m\n\u001b[1;32m    535\u001b[0m             \u001b[0;32mwith\u001b[0m \u001b[0mcbook\u001b[0m\u001b[0;34m.\u001b[0m\u001b[0mopen_file_cm\u001b[0m\u001b[0;34m(\u001b[0m\u001b[0mfilename_or_obj\u001b[0m\u001b[0;34m,\u001b[0m \u001b[0;34m\"wb\"\u001b[0m\u001b[0;34m)\u001b[0m \u001b[0;32mas\u001b[0m \u001b[0mfh\u001b[0m\u001b[0;34m:\u001b[0m\u001b[0;34m\u001b[0m\u001b[0;34m\u001b[0m\u001b[0m\n\u001b[1;32m    536\u001b[0m                 _png.write_png(renderer._renderer, fh, self.figure.dpi,\n\u001b[0;32m--> 537\u001b[0;31m                                metadata={**default_metadata, **metadata})\n\u001b[0m\u001b[1;32m    538\u001b[0m \u001b[0;34m\u001b[0m\u001b[0m\n\u001b[1;32m    539\u001b[0m     \u001b[0;32mdef\u001b[0m \u001b[0mprint_to_buffer\u001b[0m\u001b[0;34m(\u001b[0m\u001b[0mself\u001b[0m\u001b[0;34m)\u001b[0m\u001b[0;34m:\u001b[0m\u001b[0;34m\u001b[0m\u001b[0;34m\u001b[0m\u001b[0m\n",
      "\u001b[0;31mKeyboardInterrupt\u001b[0m: "
     ]
    }
   ],
   "source": [
    "nums = data.iloc[:,:10]\n",
    "sns.pairplot(nums, diag_kind=\"kde\")\n"
   ]
  },
  {
   "cell_type": "markdown",
   "metadata": {
    "id": "qGTBe30JPJWA"
   },
   "source": [
    "If we would look at this pairwise plot, one of the variables that is very well segmented is SpecialDay. When it is paried with every variable it is nearly perfectly separated into separate clusters. From domain knowledge this makes sense. People are likely more engaged the closer it gets to a \"special day\" and this will likely have a direct influence. \n",
    "\n",
    "Two other variables that seem to be well segmented even if they're not as apparent as SpecialDay are ProductRelated and Informational_Duration. Using domain knowledge, this also makes sense. The amount of time spent on an informational page doing research could be a good indicator of interest in a given product. Similarly, the amount of product related pages visited is also a good indicator of interest in making a purchase. "
   ]
  },
  {
   "cell_type": "code",
   "execution_count": null,
   "metadata": {
    "colab": {
     "base_uri": "https://localhost:8080/",
     "height": 298
    },
    "id": "SynqrQSw91wh",
    "outputId": "284ebef1-c379-43c1-91bd-d88c3bb33160"
   },
   "outputs": [
    {
     "data": {
      "text/plain": [
       "<matplotlib.axes._subplots.AxesSubplot at 0x7f32b801bd10>"
      ]
     },
     "execution_count": 4,
     "metadata": {},
     "output_type": "execute_result"
    },
    {
     "data": {
      "image/png": "[encoded data removed]",
      "text/plain": [
       "<Figure size 432x288 with 1 Axes>"
      ]
     },
     "metadata": {
      "needs_background": "light"
     },
     "output_type": "display_data"
    }
   ],
   "source": [
    "sns.countplot(x='Month', data=data)"
   ]
  },
  {
   "cell_type": "code",
   "execution_count": null,
   "metadata": {
    "colab": {
     "base_uri": "https://localhost:8080/",
     "height": 296
    },
    "id": "LV3VqM8D97cU",
    "outputId": "f8fed609-5ec3-465e-b7ef-64cf4cd158cc"
   },
   "outputs": [
    {
     "data": {
      "text/plain": [
       "<matplotlib.axes._subplots.AxesSubplot at 0x7f32b7932dd0>"
      ]
     },
     "execution_count": 5,
     "metadata": {},
     "output_type": "execute_result"
    },
    {
     "data": {
      "image/png": "[encoded data removed]",
      "text/plain": [
       "<Figure size 432x288 with 1 Axes>"
      ]
     },
     "metadata": {
      "needs_background": "light"
     },
     "output_type": "display_data"
    }
   ],
   "source": [
    "sns.countplot(x='OperatingSystems', data=data)"
   ]
  },
  {
   "cell_type": "code",
   "execution_count": null,
   "metadata": {
    "colab": {
     "base_uri": "https://localhost:8080/",
     "height": 296
    },
    "id": "eth1u-dM-LDE",
    "outputId": "7271d7c7-af7a-4649-b9d5-cfe5bef55276"
   },
   "outputs": [
    {
     "data": {
      "text/plain": [
       "<matplotlib.axes._subplots.AxesSubplot at 0x7f32b7930fd0>"
      ]
     },
     "execution_count": 6,
     "metadata": {},
     "output_type": "execute_result"
    },
    {
     "data": {
      "image/png": "[encoded data removed]",
      "text/plain": [
       "<Figure size 432x288 with 1 Axes>"
      ]
     },
     "metadata": {
      "needs_background": "light"
     },
     "output_type": "display_data"
    }
   ],
   "source": [
    "sns.countplot(x='Browser', data=data)"
   ]
  },
  {
   "cell_type": "code",
   "execution_count": null,
   "metadata": {
    "colab": {
     "base_uri": "https://localhost:8080/",
     "height": 300
    },
    "id": "pVIaxvez-PFJ",
    "outputId": "c59ea85d-db13-47be-a13a-5dbea53bd963"
   },
   "outputs": [
    {
     "data": {
      "text/plain": [
       "<matplotlib.axes._subplots.AxesSubplot at 0x7f32b7802450>"
      ]
     },
     "execution_count": 7,
     "metadata": {},
     "output_type": "execute_result"
    },
    {
     "data": {
      "image/png": "[encoded data removed]",
      "text/plain": [
       "<Figure size 432x288 with 1 Axes>"
      ]
     },
     "metadata": {
      "needs_background": "light"
     },
     "output_type": "display_data"
    }
   ],
   "source": [
    "sns.countplot(x='Region',data=data)"
   ]
  },
  {
   "cell_type": "code",
   "execution_count": null,
   "metadata": {
    "colab": {
     "base_uri": "https://localhost:8080/",
     "height": 296
    },
    "id": "eV7UZwZD-UFC",
    "outputId": "3e953877-7e44-4b55-9e69-f7ef0cc13809"
   },
   "outputs": [
    {
     "data": {
      "text/plain": [
       "<matplotlib.axes._subplots.AxesSubplot at 0x7f32b778ff50>"
      ]
     },
     "execution_count": 8,
     "metadata": {},
     "output_type": "execute_result"
    },
    {
     "data": {
      "image/png": "[encoded data removed]",
      "text/plain": [
       "<Figure size 432x288 with 1 Axes>"
      ]
     },
     "metadata": {
      "needs_background": "light"
     },
     "output_type": "display_data"
    }
   ],
   "source": [
    "sns.countplot(x='TrafficType', data=data)"
   ]
  },
  {
   "cell_type": "code",
   "execution_count": null,
   "metadata": {
    "colab": {
     "base_uri": "https://localhost:8080/",
     "height": 297
    },
    "id": "_8VBf-mb-d29",
    "outputId": "d50fe861-c924-4716-adae-047d2216b6c9"
   },
   "outputs": [
    {
     "data": {
      "text/plain": [
       "<matplotlib.axes._subplots.AxesSubplot at 0x7f32b768c710>"
      ]
     },
     "execution_count": 9,
     "metadata": {},
     "output_type": "execute_result"
    },
    {
     "data": {
      "image/png": "[encoded data removed]",
      "text/plain": [
       "<Figure size 432x288 with 1 Axes>"
      ]
     },
     "metadata": {
      "needs_background": "light"
     },
     "output_type": "display_data"
    }
   ],
   "source": [
    "sns.countplot(x='VisitorType', data=data)"
   ]
  },
  {
   "cell_type": "code",
   "execution_count": null,
   "metadata": {
    "colab": {
     "base_uri": "https://localhost:8080/",
     "height": 296
    },
    "id": "Zzg0v1j3-p63",
    "outputId": "39db2859-0cd2-4980-92e3-f4b6501dc9b9"
   },
   "outputs": [
    {
     "data": {
      "text/plain": [
       "<matplotlib.axes._subplots.AxesSubplot at 0x7f32b738f510>"
      ]
     },
     "execution_count": 12,
     "metadata": {},
     "output_type": "execute_result"
    },
    {
     "data": {
      "image/png": "[encoded data removed]",
      "text/plain": [
       "<Figure size 432x288 with 1 Axes>"
      ]
     },
     "metadata": {
      "needs_background": "light"
     },
     "output_type": "display_data"
    }
   ],
   "source": [
    "sns.countplot(x='Weekend', data=data)"
   ]
  },
  {
   "cell_type": "markdown",
   "metadata": {
    "id": "S3Mr3cqOejm2"
   },
   "source": [
    "Based on looking at the data, we can tell that Month, OperatingSystems, Browser, Region, TrafficType, VisitorType, and weekend are all categorical with no inherent ranking which means that we will have to remove them since clustering algorithms don't well with non-numeric data."
   ]
  },
  {
   "cell_type": "markdown",
   "metadata": {
    "id": "iF4b-jcDgVbl"
   },
   "source": [
    "3) Pre-Clustering Data Preparation (5 Points):"
   ]
  },
  {
   "cell_type": "markdown",
   "metadata": {
    "id": "syEiAqnxqSnV"
   },
   "source": [
    "As stated before, all numerical values will need to be standardized to use in a clustering algorithm so that no variable will be treated with greater weight than the others."
   ]
  },
  {
   "cell_type": "code",
   "execution_count": null,
   "metadata": {
    "colab": {
     "base_uri": "https://localhost:8080/",
     "height": 311
    },
    "id": "04-n1K6cxo7o",
    "outputId": "7c9942a0-b5ff-43f5-bdde-1974259e51b8"
   },
   "outputs": [
    {
     "ename": "KeyError",
     "evalue": "ignored",
     "output_type": "error",
     "traceback": [
      "\u001b[0;31m---------------------------------------------------------------------------\u001b[0m",
      "\u001b[0;31mKeyError\u001b[0m                                  Traceback (most recent call last)",
      "\u001b[0;32m<ipython-input-43-cb913a3dcec1>\u001b[0m in \u001b[0;36m<module>\u001b[0;34m()\u001b[0m\n\u001b[0;32m----> 1\u001b[0;31m \u001b[0mdata\u001b[0m \u001b[0;34m=\u001b[0m \u001b[0mpd\u001b[0m\u001b[0;34m.\u001b[0m\u001b[0mget_dummies\u001b[0m\u001b[0;34m(\u001b[0m\u001b[0mdata\u001b[0m\u001b[0;34m,\u001b[0m \u001b[0mcolumns\u001b[0m\u001b[0;34m=\u001b[0m\u001b[0;34m[\u001b[0m\u001b[0;34m'Month'\u001b[0m\u001b[0;34m,\u001b[0m\u001b[0;34m'OperatingSystems'\u001b[0m\u001b[0;34m,\u001b[0m\u001b[0;34m'Browser'\u001b[0m\u001b[0;34m,\u001b[0m\u001b[0;34m'Region'\u001b[0m\u001b[0;34m,\u001b[0m\u001b[0;34m'TrafficType'\u001b[0m\u001b[0;34m,\u001b[0m\u001b[0;34m'VisitorType'\u001b[0m\u001b[0;34m]\u001b[0m\u001b[0;34m)\u001b[0m\u001b[0;34m\u001b[0m\u001b[0;34m\u001b[0m\u001b[0m\n\u001b[0m",
      "\u001b[0;32m/usr/local/lib/python3.7/dist-packages/pandas/core/reshape/reshape.py\u001b[0m in \u001b[0;36mget_dummies\u001b[0;34m(data, prefix, prefix_sep, dummy_na, columns, sparse, drop_first, dtype)\u001b[0m\n\u001b[1;32m    888\u001b[0m             \u001b[0;32mraise\u001b[0m \u001b[0mTypeError\u001b[0m\u001b[0;34m(\u001b[0m\u001b[0;34m\"Input must be a list-like for parameter `columns`\"\u001b[0m\u001b[0;34m)\u001b[0m\u001b[0;34m\u001b[0m\u001b[0;34m\u001b[0m\u001b[0m\n\u001b[1;32m    889\u001b[0m         \u001b[0;32melse\u001b[0m\u001b[0;34m:\u001b[0m\u001b[0;34m\u001b[0m\u001b[0;34m\u001b[0m\u001b[0m\n\u001b[0;32m--> 890\u001b[0;31m             \u001b[0mdata_to_encode\u001b[0m \u001b[0;34m=\u001b[0m \u001b[0mdata\u001b[0m\u001b[0;34m[\u001b[0m\u001b[0mcolumns\u001b[0m\u001b[0;34m]\u001b[0m\u001b[0;34m\u001b[0m\u001b[0;34m\u001b[0m\u001b[0m\n\u001b[0m\u001b[1;32m    891\u001b[0m \u001b[0;34m\u001b[0m\u001b[0m\n\u001b[1;32m    892\u001b[0m         \u001b[0;31m# validate prefixes and separator to avoid silently dropping cols\u001b[0m\u001b[0;34m\u001b[0m\u001b[0;34m\u001b[0m\u001b[0;34m\u001b[0m\u001b[0m\n",
      "\u001b[0;32m/usr/local/lib/python3.7/dist-packages/pandas/core/frame.py\u001b[0m in \u001b[0;36m__getitem__\u001b[0;34m(self, key)\u001b[0m\n\u001b[1;32m   3462\u001b[0m             \u001b[0;32mif\u001b[0m \u001b[0mis_iterator\u001b[0m\u001b[0;34m(\u001b[0m\u001b[0mkey\u001b[0m\u001b[0;34m)\u001b[0m\u001b[0;34m:\u001b[0m\u001b[0;34m\u001b[0m\u001b[0;34m\u001b[0m\u001b[0m\n\u001b[1;32m   3463\u001b[0m                 \u001b[0mkey\u001b[0m \u001b[0;34m=\u001b[0m \u001b[0mlist\u001b[0m\u001b[0;34m(\u001b[0m\u001b[0mkey\u001b[0m\u001b[0;34m)\u001b[0m\u001b[0;34m\u001b[0m\u001b[0;34m\u001b[0m\u001b[0m\n\u001b[0;32m-> 3464\u001b[0;31m             \u001b[0mindexer\u001b[0m \u001b[0;34m=\u001b[0m \u001b[0mself\u001b[0m\u001b[0;34m.\u001b[0m\u001b[0mloc\u001b[0m\u001b[0;34m.\u001b[0m\u001b[0m_get_listlike_indexer\u001b[0m\u001b[0;34m(\u001b[0m\u001b[0mkey\u001b[0m\u001b[0;34m,\u001b[0m \u001b[0maxis\u001b[0m\u001b[0;34m=\u001b[0m\u001b[0;36m1\u001b[0m\u001b[0;34m)\u001b[0m\u001b[0;34m[\u001b[0m\u001b[0;36m1\u001b[0m\u001b[0;34m]\u001b[0m\u001b[0;34m\u001b[0m\u001b[0;34m\u001b[0m\u001b[0m\n\u001b[0m\u001b[1;32m   3465\u001b[0m \u001b[0;34m\u001b[0m\u001b[0m\n\u001b[1;32m   3466\u001b[0m         \u001b[0;31m# take() does not accept boolean indexers\u001b[0m\u001b[0;34m\u001b[0m\u001b[0;34m\u001b[0m\u001b[0;34m\u001b[0m\u001b[0m\n",
      "\u001b[0;32m/usr/local/lib/python3.7/dist-packages/pandas/core/indexing.py\u001b[0m in \u001b[0;36m_get_listlike_indexer\u001b[0;34m(self, key, axis)\u001b[0m\n\u001b[1;32m   1312\u001b[0m             \u001b[0mkeyarr\u001b[0m\u001b[0;34m,\u001b[0m \u001b[0mindexer\u001b[0m\u001b[0;34m,\u001b[0m \u001b[0mnew_indexer\u001b[0m \u001b[0;34m=\u001b[0m \u001b[0max\u001b[0m\u001b[0;34m.\u001b[0m\u001b[0m_reindex_non_unique\u001b[0m\u001b[0;34m(\u001b[0m\u001b[0mkeyarr\u001b[0m\u001b[0;34m)\u001b[0m\u001b[0;34m\u001b[0m\u001b[0;34m\u001b[0m\u001b[0m\n\u001b[1;32m   1313\u001b[0m \u001b[0;34m\u001b[0m\u001b[0m\n\u001b[0;32m-> 1314\u001b[0;31m         \u001b[0mself\u001b[0m\u001b[0;34m.\u001b[0m\u001b[0m_validate_read_indexer\u001b[0m\u001b[0;34m(\u001b[0m\u001b[0mkeyarr\u001b[0m\u001b[0;34m,\u001b[0m \u001b[0mindexer\u001b[0m\u001b[0;34m,\u001b[0m \u001b[0maxis\u001b[0m\u001b[0;34m)\u001b[0m\u001b[0;34m\u001b[0m\u001b[0;34m\u001b[0m\u001b[0m\n\u001b[0m\u001b[1;32m   1315\u001b[0m \u001b[0;34m\u001b[0m\u001b[0m\n\u001b[1;32m   1316\u001b[0m         if needs_i8_conversion(ax.dtype) or isinstance(\n",
      "\u001b[0;32m/usr/local/lib/python3.7/dist-packages/pandas/core/indexing.py\u001b[0m in \u001b[0;36m_validate_read_indexer\u001b[0;34m(self, key, indexer, axis)\u001b[0m\n\u001b[1;32m   1375\u001b[0m \u001b[0;34m\u001b[0m\u001b[0m\n\u001b[1;32m   1376\u001b[0m             \u001b[0mnot_found\u001b[0m \u001b[0;34m=\u001b[0m \u001b[0mlist\u001b[0m\u001b[0;34m(\u001b[0m\u001b[0mensure_index\u001b[0m\u001b[0;34m(\u001b[0m\u001b[0mkey\u001b[0m\u001b[0;34m)\u001b[0m\u001b[0;34m[\u001b[0m\u001b[0mmissing_mask\u001b[0m\u001b[0;34m.\u001b[0m\u001b[0mnonzero\u001b[0m\u001b[0;34m(\u001b[0m\u001b[0;34m)\u001b[0m\u001b[0;34m[\u001b[0m\u001b[0;36m0\u001b[0m\u001b[0;34m]\u001b[0m\u001b[0;34m]\u001b[0m\u001b[0;34m.\u001b[0m\u001b[0munique\u001b[0m\u001b[0;34m(\u001b[0m\u001b[0;34m)\u001b[0m\u001b[0;34m)\u001b[0m\u001b[0;34m\u001b[0m\u001b[0;34m\u001b[0m\u001b[0m\n\u001b[0;32m-> 1377\u001b[0;31m             \u001b[0;32mraise\u001b[0m \u001b[0mKeyError\u001b[0m\u001b[0;34m(\u001b[0m\u001b[0;34mf\"{not_found} not in index\"\u001b[0m\u001b[0;34m)\u001b[0m\u001b[0;34m\u001b[0m\u001b[0;34m\u001b[0m\u001b[0m\n\u001b[0m\u001b[1;32m   1378\u001b[0m \u001b[0;34m\u001b[0m\u001b[0m\n\u001b[1;32m   1379\u001b[0m \u001b[0;34m\u001b[0m\u001b[0m\n",
      "\u001b[0;31mKeyError\u001b[0m: \"['Month', 'VisitorType'] not in index\""
     ]
    }
   ],
   "source": [
    "data = pd.get_dummies(data, columns=['Month','OperatingSystems','Browser','Region','TrafficType','VisitorType'])"
   ]
  },
  {
   "cell_type": "code",
   "execution_count": null,
   "metadata": {
    "colab": {
     "base_uri": "https://localhost:8080/"
    },
    "id": "9EO4MKpHFO1r",
    "outputId": "73d138a6-8a8a-4cb9-8585-2bee2abc30e6"
   },
   "outputs": [
    {
     "name": "stdout",
     "output_type": "stream",
     "text": [
      "Initialization method and algorithm are deterministic. Setting n_init to 1.\n"
     ]
    }
   ],
   "source": [
    "kproto = KPrototypes(n_clusters=2, verbose=1, max_iter=5)"
   ]
  },
  {
   "cell_type": "code",
   "execution_count": null,
   "metadata": {
    "colab": {
     "base_uri": "https://localhost:8080/"
    },
    "id": "Ids2kvDvFoRF",
    "outputId": "c7631616-8fff-4ad1-ca50-7de85aee42ee"
   },
   "outputs": [
    {
     "name": "stdout",
     "output_type": "stream",
     "text": [
      "Init: initializing centroids\n",
      "Init: initializing clusters\n",
      "Starting iterations...\n",
      "Run: 1, iteration: 1/20, moves: 3215, ncost: 25269720739.398853\n",
      "Run: 1, iteration: 2/20, moves: 1264, ncost: 22779258011.523422\n",
      "Run: 1, iteration: 3/20, moves: 550, ncost: 21883804403.604412\n",
      "Run: 1, iteration: 4/20, moves: 227, ncost: 21638570354.814934\n",
      "Run: 1, iteration: 5/20, moves: 98, ncost: 21586230503.80413\n",
      "Run: 1, iteration: 6/20, moves: 57, ncost: 21568598046.816093\n",
      "Run: 1, iteration: 7/20, moves: 16, ncost: 21565873046.853485\n",
      "Run: 1, iteration: 8/20, moves: 20, ncost: 21563467654.16907\n",
      "Run: 1, iteration: 9/20, moves: 7, ncost: 21563116011.262054\n",
      "Run: 1, iteration: 10/20, moves: 3, ncost: 21563019027.35191\n",
      "Run: 1, iteration: 11/20, moves: 3, ncost: 21562938840.20266\n",
      "Run: 1, iteration: 12/20, moves: 2, ncost: 21562880461.71018\n",
      "Run: 1, iteration: 13/20, moves: 2, ncost: 21562841261.886047\n",
      "Run: 1, iteration: 14/20, moves: 1, ncost: 21562830347.361187\n",
      "Run: 1, iteration: 15/20, moves: 1, ncost: 21562822046.984535\n",
      "Run: 1, iteration: 16/20, moves: 0, ncost: 21562822046.984535\n",
      "Init: initializing centroids\n",
      "Init: initializing clusters\n",
      "Starting iterations...\n",
      "Run: 2, iteration: 1/20, moves: 2779, ncost: 24788449189.00302\n",
      "Run: 2, iteration: 2/20, moves: 1139, ncost: 22580224421.549435\n",
      "Run: 2, iteration: 3/20, moves: 485, ncost: 21820658122.47587\n",
      "Run: 2, iteration: 4/20, moves: 203, ncost: 21622518574.249264\n",
      "Run: 2, iteration: 5/20, moves: 79, ncost: 21584099477.30654\n",
      "Run: 2, iteration: 6/20, moves: 52, ncost: 21568598046.816097\n",
      "Run: 2, iteration: 7/20, moves: 16, ncost: 21565873046.853493\n",
      "Run: 2, iteration: 8/20, moves: 20, ncost: 21563467654.16906\n",
      "Run: 2, iteration: 9/20, moves: 7, ncost: 21563116011.262054\n",
      "Run: 2, iteration: 10/20, moves: 3, ncost: 21563019027.35193\n",
      "Run: 2, iteration: 11/20, moves: 3, ncost: 21562938840.202663\n",
      "Run: 2, iteration: 12/20, moves: 2, ncost: 21562880461.710167\n",
      "Run: 2, iteration: 13/20, moves: 2, ncost: 21562841261.88606\n",
      "Run: 2, iteration: 14/20, moves: 1, ncost: 21562830347.361168\n",
      "Run: 2, iteration: 15/20, moves: 1, ncost: 21562822046.984535\n",
      "Run: 2, iteration: 16/20, moves: 0, ncost: 21562822046.984535\n",
      "Init: initializing centroids\n",
      "Init: initializing clusters\n",
      "Starting iterations...\n",
      "Run: 3, iteration: 1/20, moves: 2663, ncost: 24695327178.28349\n",
      "Run: 3, iteration: 2/20, moves: 1107, ncost: 22554223533.51742\n",
      "Run: 3, iteration: 3/20, moves: 473, ncost: 21816943498.599705\n",
      "Run: 3, iteration: 4/20, moves: 201, ncost: 21621876367.422546\n",
      "Run: 3, iteration: 5/20, moves: 78, ncost: 21584099477.306534\n",
      "Run: 3, iteration: 6/20, moves: 52, ncost: 21568598046.81612\n",
      "Run: 3, iteration: 7/20, moves: 16, ncost: 21565873046.853485\n",
      "Run: 3, iteration: 8/20, moves: 20, ncost: 21563467654.169044\n",
      "Run: 3, iteration: 9/20, moves: 7, ncost: 21563116011.26208\n",
      "Run: 3, iteration: 10/20, moves: 3, ncost: 21563019027.35192\n",
      "Run: 3, iteration: 11/20, moves: 3, ncost: 21562938840.202656\n",
      "Run: 3, iteration: 12/20, moves: 2, ncost: 21562880461.71017\n",
      "Run: 3, iteration: 13/20, moves: 2, ncost: 21562841261.886036\n",
      "Run: 3, iteration: 14/20, moves: 1, ncost: 21562830347.36117\n",
      "Run: 3, iteration: 15/20, moves: 1, ncost: 21562822046.984528\n",
      "Run: 3, iteration: 16/20, moves: 0, ncost: 21562822046.984528\n",
      "Init: initializing centroids\n",
      "Init: initializing clusters\n",
      "Starting iterations...\n",
      "Run: 4, iteration: 1/20, moves: 6326, ncost: 27547626085.667797\n",
      "Run: 4, iteration: 2/20, moves: 2002, ncost: 23543835485.961193\n",
      "Run: 4, iteration: 3/20, moves: 764, ncost: 22164591854.441772\n",
      "Run: 4, iteration: 4/20, moves: 337, ncost: 21704822453.413692\n",
      "Run: 4, iteration: 5/20, moves: 139, ncost: 21601123976.40693\n",
      "Run: 4, iteration: 6/20, moves: 61, ncost: 21576694503.514908\n",
      "Run: 4, iteration: 7/20, moves: 37, ncost: 21567768987.14806\n",
      "Run: 4, iteration: 8/20, moves: 17, ncost: 21565043205.231133\n",
      "Run: 4, iteration: 9/20, moves: 19, ncost: 21563179005.707836\n",
      "Run: 4, iteration: 10/20, moves: 3, ncost: 21563093578.14137\n",
      "Run: 4, iteration: 11/20, moves: 2, ncost: 21563019027.35191\n",
      "Run: 4, iteration: 12/20, moves: 3, ncost: 21562938840.202667\n",
      "Run: 4, iteration: 13/20, moves: 2, ncost: 21562880461.71018\n",
      "Run: 4, iteration: 14/20, moves: 2, ncost: 21562841261.886044\n",
      "Run: 4, iteration: 15/20, moves: 1, ncost: 21562830347.361156\n",
      "Run: 4, iteration: 16/20, moves: 1, ncost: 21562822046.984543\n",
      "Run: 4, iteration: 17/20, moves: 0, ncost: 21562822046.984543\n",
      "Init: initializing centroids\n",
      "Init: initializing clusters\n",
      "Starting iterations...\n",
      "Run: 5, iteration: 1/20, moves: 4110, ncost: 25948178736.033997\n",
      "Run: 5, iteration: 2/20, moves: 1476, ncost: 23008284985.382828\n",
      "Run: 5, iteration: 3/20, moves: 616, ncost: 21969273773.565556\n",
      "Run: 5, iteration: 4/20, moves: 258, ncost: 21660082784.03151\n",
      "Run: 5, iteration: 5/20, moves: 116, ncost: 21590098547.86022\n",
      "Run: 5, iteration: 6/20, moves: 65, ncost: 21568975983.16415\n",
      "Run: 5, iteration: 7/20, moves: 16, ncost: 21566166531.202446\n",
      "Run: 5, iteration: 8/20, moves: 22, ncost: 21563467654.169056\n",
      "Run: 5, iteration: 9/20, moves: 7, ncost: 21563116011.262062\n",
      "Run: 5, iteration: 10/20, moves: 3, ncost: 21563019027.351925\n",
      "Run: 5, iteration: 11/20, moves: 3, ncost: 21562938840.202675\n",
      "Run: 5, iteration: 12/20, moves: 2, ncost: 21562880461.71018\n",
      "Run: 5, iteration: 13/20, moves: 2, ncost: 21562841261.88604\n",
      "Run: 5, iteration: 14/20, moves: 1, ncost: 21562830347.361176\n",
      "Run: 5, iteration: 15/20, moves: 1, ncost: 21562822046.98453\n",
      "Run: 5, iteration: 16/20, moves: 0, ncost: 21562822046.98453\n",
      "Init: initializing centroids\n",
      "Init: initializing clusters\n",
      "Starting iterations...\n",
      "Run: 6, iteration: 1/20, moves: 644, ncost: 22225540183.813805\n",
      "Run: 6, iteration: 2/20, moves: 354, ncost: 21728699858.108006\n",
      "Run: 6, iteration: 3/20, moves: 155, ncost: 21604747085.842636\n",
      "Run: 6, iteration: 4/20, moves: 65, ncost: 21577671591.00635\n",
      "Run: 6, iteration: 5/20, moves: 37, ncost: 21568269099.3479\n",
      "Run: 6, iteration: 6/20, moves: 16, ncost: 21565581165.134354\n",
      "Run: 6, iteration: 7/20, moves: 20, ncost: 21563355884.32007\n",
      "Run: 6, iteration: 8/20, moves: 5, ncost: 21563116011.26208\n",
      "Run: 6, iteration: 9/20, moves: 3, ncost: 21563019027.351913\n",
      "Run: 6, iteration: 10/20, moves: 3, ncost: 21562938840.202675\n",
      "Run: 6, iteration: 11/20, moves: 2, ncost: 21562880461.71018\n",
      "Run: 6, iteration: 12/20, moves: 2, ncost: 21562841261.886032\n",
      "Run: 6, iteration: 13/20, moves: 1, ncost: 21562830347.361164\n",
      "Run: 6, iteration: 14/20, moves: 1, ncost: 21562822046.984516\n",
      "Run: 6, iteration: 15/20, moves: 0, ncost: 21562822046.984516\n",
      "Init: initializing centroids\n",
      "Init: initializing clusters\n",
      "Starting iterations...\n",
      "Run: 7, iteration: 1/20, moves: 270, ncost: 21706504567.0631\n",
      "Run: 7, iteration: 2/20, moves: 141, ncost: 21601123976.406937\n",
      "Run: 7, iteration: 3/20, moves: 61, ncost: 21576694503.5149\n",
      "Run: 7, iteration: 4/20, moves: 37, ncost: 21567768987.148064\n",
      "Run: 7, iteration: 5/20, moves: 17, ncost: 21565043205.231148\n",
      "Run: 7, iteration: 6/20, moves: 19, ncost: 21563179005.707848\n",
      "Run: 7, iteration: 7/20, moves: 3, ncost: 21563093578.14137\n",
      "Run: 7, iteration: 8/20, moves: 2, ncost: 21563019027.351917\n",
      "Run: 7, iteration: 9/20, moves: 3, ncost: 21562938840.202675\n",
      "Run: 7, iteration: 10/20, moves: 2, ncost: 21562880461.710186\n",
      "Run: 7, iteration: 11/20, moves: 2, ncost: 21562841261.886036\n",
      "Run: 7, iteration: 12/20, moves: 1, ncost: 21562830347.361176\n",
      "Run: 7, iteration: 13/20, moves: 1, ncost: 21562822046.984524\n",
      "Run: 7, iteration: 14/20, moves: 0, ncost: 21562822046.984524\n",
      "Init: initializing centroids\n",
      "Init: initializing clusters\n",
      "Starting iterations...\n",
      "Run: 8, iteration: 1/20, moves: 1228, ncost: 23040358114.069466\n",
      "Run: 8, iteration: 2/20, moves: 610, ncost: 22009079025.2709\n",
      "Run: 8, iteration: 3/20, moves: 272, ncost: 21671247232.468296\n",
      "Run: 8, iteration: 4/20, moves: 118, ncost: 21594192219.357098\n",
      "Run: 8, iteration: 5/20, moves: 56, ncost: 21573717517.604248\n",
      "Run: 8, iteration: 6/20, moves: 32, ncost: 21566855596.110428\n",
      "Run: 8, iteration: 7/20, moves: 18, ncost: 21564166595.31214\n",
      "Run: 8, iteration: 8/20, moves: 13, ncost: 21563179005.707855\n",
      "Run: 8, iteration: 9/20, moves: 3, ncost: 21563093578.14136\n",
      "Run: 8, iteration: 10/20, moves: 2, ncost: 21563019027.351925\n",
      "Run: 8, iteration: 11/20, moves: 3, ncost: 21562938840.202675\n",
      "Run: 8, iteration: 12/20, moves: 2, ncost: 21562880461.71018\n",
      "Run: 8, iteration: 13/20, moves: 2, ncost: 21562841261.886063\n",
      "Run: 8, iteration: 14/20, moves: 1, ncost: 21562830347.361176\n",
      "Run: 8, iteration: 15/20, moves: 1, ncost: 21562822046.98453\n",
      "Run: 8, iteration: 16/20, moves: 0, ncost: 21562822046.98453\n",
      "Init: initializing centroids\n",
      "Init: initializing clusters\n",
      "Starting iterations...\n",
      "Run: 9, iteration: 1/20, moves: 446, ncost: 21928090307.577175\n",
      "Run: 9, iteration: 2/20, moves: 236, ncost: 21655896195.72469\n",
      "Run: 9, iteration: 3/20, moves: 111, ncost: 21590098547.860214\n",
      "Run: 9, iteration: 4/20, moves: 65, ncost: 21568975983.164158\n",
      "Run: 9, iteration: 5/20, moves: 16, ncost: 21566166531.202446\n",
      "Run: 9, iteration: 6/20, moves: 22, ncost: 21563467654.169052\n",
      "Run: 9, iteration: 7/20, moves: 7, ncost: 21563116011.262062\n",
      "Run: 9, iteration: 8/20, moves: 3, ncost: 21563019027.351917\n",
      "Run: 9, iteration: 9/20, moves: 3, ncost: 21562938840.202682\n",
      "Run: 9, iteration: 10/20, moves: 2, ncost: 21562880461.71018\n",
      "Run: 9, iteration: 11/20, moves: 2, ncost: 21562841261.886063\n",
      "Run: 9, iteration: 12/20, moves: 1, ncost: 21562830347.361176\n",
      "Run: 9, iteration: 13/20, moves: 1, ncost: 21562822046.984535\n",
      "Run: 9, iteration: 14/20, moves: 0, ncost: 21562822046.984535\n",
      "Init: initializing centroids\n",
      "Init: initializing clusters\n",
      "Starting iterations...\n",
      "Run: 10, iteration: 1/20, moves: 1316, ncost: 23186431209.17834\n",
      "Run: 10, iteration: 2/20, moves: 642, ncost: 22077572665.211285\n",
      "Run: 10, iteration: 3/20, moves: 296, ncost: 21690518570.31743\n",
      "Run: 10, iteration: 4/20, moves: 131, ncost: 21597708633.158947\n",
      "Run: 10, iteration: 5/20, moves: 55, ncost: 21576376540.115414\n",
      "Run: 10, iteration: 6/20, moves: 37, ncost: 21567581309.34139\n",
      "Run: 10, iteration: 7/20, moves: 16, ncost: 21565043205.231144\n",
      "Run: 10, iteration: 8/20, moves: 19, ncost: 21563179005.707844\n",
      "Run: 10, iteration: 9/20, moves: 3, ncost: 21563093578.141373\n",
      "Run: 10, iteration: 10/20, moves: 2, ncost: 21563019027.351917\n",
      "Run: 10, iteration: 11/20, moves: 3, ncost: 21562938840.20268\n",
      "Run: 10, iteration: 12/20, moves: 2, ncost: 21562880461.71018\n",
      "Run: 10, iteration: 13/20, moves: 2, ncost: 21562841261.886032\n",
      "Run: 10, iteration: 14/20, moves: 1, ncost: 21562830347.361168\n",
      "Run: 10, iteration: 15/20, moves: 1, ncost: 21562822046.984524\n",
      "Run: 10, iteration: 16/20, moves: 0, ncost: 21562822046.984524\n",
      "Best run was number 6\n"
     ]
    },
    {
     "data": {
      "text/plain": [
       "KPrototypes(gamma=352.45561184467806, max_iter=20, n_clusters=2, verbose=2)"
      ]
     },
     "execution_count": 23,
     "metadata": {},
     "output_type": "execute_result"
    }
   ],
   "source": [
    "cat_idx = [10,11,12,13,14,15,16]\n",
    "kproto.fit(data, categorical=cat_idx)"
   ]
  },
  {
   "cell_type": "code",
   "execution_count": 5,
   "metadata": {
    "id": "AODonD3ON7-j"
   },
   "outputs": [],
   "source": [
    "cats = data.iloc[:,[10,11,12,13,14,15,16]]\n",
    "numerical = data.drop(columns=cats.columns)\n",
    "cats = cats.astype('string')\n",
    "cats = pd.get_dummies(cats)\n",
    "numerical = numerical.astype('float')\n",
    "data_converted = pd.concat([cats, numerical], axis=1)"
   ]
  },
  {
   "cell_type": "code",
   "execution_count": 6,
   "metadata": {
    "colab": {
     "base_uri": "https://localhost:8080/",
     "height": 488
    },
    "id": "fFvg5SBrRaYg",
    "outputId": "5964c7db-4af1-4856-fed3-d8add4fe875d"
   },
   "outputs": [
    {
     "data": {
      "text/html": [
       "<div>\n",
       "<style scoped>\n",
       "    .dataframe tbody tr th:only-of-type {\n",
       "        vertical-align: middle;\n",
       "    }\n",
       "\n",
       "    .dataframe tbody tr th {\n",
       "        vertical-align: top;\n",
       "    }\n",
       "\n",
       "    .dataframe thead th {\n",
       "        text-align: right;\n",
       "    }\n",
       "</style>\n",
       "<table border=\"1\" class=\"dataframe\">\n",
       "  <thead>\n",
       "    <tr style=\"text-align: right;\">\n",
       "      <th></th>\n",
       "      <th>Administrative</th>\n",
       "      <th>Administrative_Duration</th>\n",
       "      <th>Informational</th>\n",
       "      <th>Informational_Duration</th>\n",
       "      <th>ProductRelated</th>\n",
       "      <th>ProductRelated_Duration</th>\n",
       "      <th>BounceRates</th>\n",
       "      <th>ExitRates</th>\n",
       "      <th>PageValues</th>\n",
       "      <th>SpecialDay</th>\n",
       "    </tr>\n",
       "  </thead>\n",
       "  <tbody>\n",
       "    <tr>\n",
       "      <th>0</th>\n",
       "      <td>-0.696965</td>\n",
       "      <td>-0.457173</td>\n",
       "      <td>-0.396462</td>\n",
       "      <td>-0.244921</td>\n",
       "      <td>-0.533585</td>\n",
       "      <td>-0.508315</td>\n",
       "      <td>-0.457664</td>\n",
       "      <td>-0.298403</td>\n",
       "      <td>2.562699</td>\n",
       "      <td>-0.308809</td>\n",
       "    </tr>\n",
       "    <tr>\n",
       "      <th>1</th>\n",
       "      <td>-0.696965</td>\n",
       "      <td>-0.457173</td>\n",
       "      <td>-0.396462</td>\n",
       "      <td>-0.244921</td>\n",
       "      <td>-0.398679</td>\n",
       "      <td>-0.082170</td>\n",
       "      <td>-0.163043</td>\n",
       "      <td>0.093551</td>\n",
       "      <td>-0.317165</td>\n",
       "      <td>-0.308809</td>\n",
       "    </tr>\n",
       "    <tr>\n",
       "      <th>2</th>\n",
       "      <td>0.507207</td>\n",
       "      <td>-0.245044</td>\n",
       "      <td>1.178147</td>\n",
       "      <td>0.337676</td>\n",
       "      <td>-0.623522</td>\n",
       "      <td>-0.573830</td>\n",
       "      <td>-0.457664</td>\n",
       "      <td>-0.526227</td>\n",
       "      <td>-0.317165</td>\n",
       "      <td>-0.308809</td>\n",
       "    </tr>\n",
       "    <tr>\n",
       "      <th>3</th>\n",
       "      <td>0.507207</td>\n",
       "      <td>0.197316</td>\n",
       "      <td>-0.396462</td>\n",
       "      <td>-0.244921</td>\n",
       "      <td>-0.353711</td>\n",
       "      <td>-0.281847</td>\n",
       "      <td>-0.457664</td>\n",
       "      <td>-0.638641</td>\n",
       "      <td>-0.317165</td>\n",
       "      <td>-0.308809</td>\n",
       "    </tr>\n",
       "    <tr>\n",
       "      <th>4</th>\n",
       "      <td>-0.395922</td>\n",
       "      <td>-0.117766</td>\n",
       "      <td>0.390843</td>\n",
       "      <td>-0.138348</td>\n",
       "      <td>-0.128868</td>\n",
       "      <td>-0.274122</td>\n",
       "      <td>-0.457664</td>\n",
       "      <td>-0.807190</td>\n",
       "      <td>-0.317165</td>\n",
       "      <td>-0.308809</td>\n",
       "    </tr>\n",
       "    <tr>\n",
       "      <th>...</th>\n",
       "      <td>...</td>\n",
       "      <td>...</td>\n",
       "      <td>...</td>\n",
       "      <td>...</td>\n",
       "      <td>...</td>\n",
       "      <td>...</td>\n",
       "      <td>...</td>\n",
       "      <td>...</td>\n",
       "      <td>...</td>\n",
       "      <td>...</td>\n",
       "    </tr>\n",
       "    <tr>\n",
       "      <th>12325</th>\n",
       "      <td>0.206164</td>\n",
       "      <td>0.380030</td>\n",
       "      <td>-0.396462</td>\n",
       "      <td>-0.244921</td>\n",
       "      <td>-0.533585</td>\n",
       "      <td>-0.471474</td>\n",
       "      <td>-0.457664</td>\n",
       "      <td>-0.325127</td>\n",
       "      <td>-0.317165</td>\n",
       "      <td>-0.308809</td>\n",
       "    </tr>\n",
       "    <tr>\n",
       "      <th>12326</th>\n",
       "      <td>-0.395922</td>\n",
       "      <td>-0.406262</td>\n",
       "      <td>0.390843</td>\n",
       "      <td>-0.035328</td>\n",
       "      <td>-0.196321</td>\n",
       "      <td>-0.019420</td>\n",
       "      <td>-0.299022</td>\n",
       "      <td>0.221690</td>\n",
       "      <td>-0.317165</td>\n",
       "      <td>-0.308809</td>\n",
       "    </tr>\n",
       "    <tr>\n",
       "      <th>12327</th>\n",
       "      <td>-0.696965</td>\n",
       "      <td>-0.457173</td>\n",
       "      <td>-0.396462</td>\n",
       "      <td>-0.244921</td>\n",
       "      <td>1.332611</td>\n",
       "      <td>1.548275</td>\n",
       "      <td>-0.251429</td>\n",
       "      <td>-0.309885</td>\n",
       "      <td>-0.317165</td>\n",
       "      <td>-0.308809</td>\n",
       "    </tr>\n",
       "    <tr>\n",
       "      <th>12328</th>\n",
       "      <td>-0.696965</td>\n",
       "      <td>-0.457173</td>\n",
       "      <td>-0.396462</td>\n",
       "      <td>-0.244921</td>\n",
       "      <td>0.140943</td>\n",
       "      <td>0.116488</td>\n",
       "      <td>-0.125271</td>\n",
       "      <td>0.116164</td>\n",
       "      <td>-0.317165</td>\n",
       "      <td>4.718407</td>\n",
       "    </tr>\n",
       "    <tr>\n",
       "      <th>12329</th>\n",
       "      <td>-0.395922</td>\n",
       "      <td>-0.039986</td>\n",
       "      <td>-0.396462</td>\n",
       "      <td>-0.244921</td>\n",
       "      <td>0.298333</td>\n",
       "      <td>0.773171</td>\n",
       "      <td>-0.439731</td>\n",
       "      <td>-0.471915</td>\n",
       "      <td>-0.317165</td>\n",
       "      <td>-0.308809</td>\n",
       "    </tr>\n",
       "  </tbody>\n",
       "</table>\n",
       "<p>12330 rows × 10 columns</p>\n",
       "</div>"
      ],
      "text/plain": [
       "       Administrative  Administrative_Duration  Informational  \\\n",
       "0           -0.696965                -0.457173      -0.396462   \n",
       "1           -0.696965                -0.457173      -0.396462   \n",
       "2            0.507207                -0.245044       1.178147   \n",
       "3            0.507207                 0.197316      -0.396462   \n",
       "4           -0.395922                -0.117766       0.390843   \n",
       "...               ...                      ...            ...   \n",
       "12325        0.206164                 0.380030      -0.396462   \n",
       "12326       -0.395922                -0.406262       0.390843   \n",
       "12327       -0.696965                -0.457173      -0.396462   \n",
       "12328       -0.696965                -0.457173      -0.396462   \n",
       "12329       -0.395922                -0.039986      -0.396462   \n",
       "\n",
       "       Informational_Duration  ProductRelated  ProductRelated_Duration  \\\n",
       "0                   -0.244921       -0.533585                -0.508315   \n",
       "1                   -0.244921       -0.398679                -0.082170   \n",
       "2                    0.337676       -0.623522                -0.573830   \n",
       "3                   -0.244921       -0.353711                -0.281847   \n",
       "4                   -0.138348       -0.128868                -0.274122   \n",
       "...                       ...             ...                      ...   \n",
       "12325               -0.244921       -0.533585                -0.471474   \n",
       "12326               -0.035328       -0.196321                -0.019420   \n",
       "12327               -0.244921        1.332611                 1.548275   \n",
       "12328               -0.244921        0.140943                 0.116488   \n",
       "12329               -0.244921        0.298333                 0.773171   \n",
       "\n",
       "       BounceRates  ExitRates  PageValues  SpecialDay  \n",
       "0        -0.457664  -0.298403    2.562699   -0.308809  \n",
       "1        -0.163043   0.093551   -0.317165   -0.308809  \n",
       "2        -0.457664  -0.526227   -0.317165   -0.308809  \n",
       "3        -0.457664  -0.638641   -0.317165   -0.308809  \n",
       "4        -0.457664  -0.807190   -0.317165   -0.308809  \n",
       "...            ...        ...         ...         ...  \n",
       "12325    -0.457664  -0.325127   -0.317165   -0.308809  \n",
       "12326    -0.299022   0.221690   -0.317165   -0.308809  \n",
       "12327    -0.251429  -0.309885   -0.317165   -0.308809  \n",
       "12328    -0.125271   0.116164   -0.317165    4.718407  \n",
       "12329    -0.439731  -0.471915   -0.317165   -0.308809  \n",
       "\n",
       "[12330 rows x 10 columns]"
      ]
     },
     "execution_count": 6,
     "metadata": {},
     "output_type": "execute_result"
    }
   ],
   "source": [
    "std_numerical = (numerical - numerical.mean())/numerical.std()\n",
    "std_numerical"
   ]
  },
  {
   "cell_type": "code",
   "execution_count": 24,
   "metadata": {
    "id": "Mixsl_iliAqb"
   },
   "outputs": [],
   "source": [
    "kmeans = KMeans(n_clusters=2, random_state=0).fit(std_numerical)"
   ]
  },
  {
   "cell_type": "code",
   "execution_count": 4,
   "metadata": {
    "id": "mTSE4DcziLCb"
   },
   "outputs": [
    {
     "ename": "NameError",
     "evalue": "name 'numerical' is not defined",
     "output_type": "error",
     "traceback": [
      "\u001b[1;31m---------------------------------------------------------------------------\u001b[0m",
      "\u001b[1;31mNameError\u001b[0m                                 Traceback (most recent call last)",
      "\u001b[1;32m<ipython-input-4-d622f9fd1c54>\u001b[0m in \u001b[0;36m<module>\u001b[1;34m\u001b[0m\n\u001b[0;32m      1\u001b[0m \u001b[1;32mimport\u001b[0m \u001b[0mscipy\u001b[0m\u001b[1;33m.\u001b[0m\u001b[0mcluster\u001b[0m\u001b[1;33m.\u001b[0m\u001b[0mhierarchy\u001b[0m \u001b[1;32mas\u001b[0m \u001b[0msch\u001b[0m\u001b[1;33m\u001b[0m\u001b[1;33m\u001b[0m\u001b[0m\n\u001b[1;32m----> 2\u001b[1;33m \u001b[0mdendrogram\u001b[0m \u001b[1;33m=\u001b[0m \u001b[0msch\u001b[0m\u001b[1;33m.\u001b[0m\u001b[0mdendrogram\u001b[0m\u001b[1;33m(\u001b[0m\u001b[0msch\u001b[0m\u001b[1;33m.\u001b[0m\u001b[0mlinkage\u001b[0m\u001b[1;33m(\u001b[0m\u001b[0mnumerical\u001b[0m\u001b[1;33m,\u001b[0m \u001b[0mmethod\u001b[0m \u001b[1;33m=\u001b[0m \u001b[1;34m'ward'\u001b[0m\u001b[1;33m)\u001b[0m\u001b[1;33m)\u001b[0m\u001b[1;33m\u001b[0m\u001b[1;33m\u001b[0m\u001b[0m\n\u001b[0m",
      "\u001b[1;31mNameError\u001b[0m: name 'numerical' is not defined"
     ]
    }
   ],
   "source": [
    "import scipy.cluster.hierarchy as sch\n",
    "dendrogram = sch.dendrogram(sch.linkage(numerical, method = 'ward'))"
   ]
  },
  {
   "cell_type": "code",
   "execution_count": null,
   "metadata": {
    "id": "DYtBLCHanro8"
   },
   "outputs": [],
   "source": [
    "plt.title('Dendrogram')\n",
    "plt.xlabel('User Visit Observation')\n",
    "plt.ylabel('Euclidean distances')\n",
    "plt.show()"
   ]
  },
  {
   "cell_type": "code",
   "execution_count": null,
   "metadata": {
    "colab": {
     "base_uri": "https://localhost:8080/"
    },
    "id": "k29TvBpjGSmw",
    "outputId": "e3e41714-a2c8-467a-c160-71d71265e8fa"
   },
   "outputs": [
    {
     "name": "stdout",
     "output_type": "stream",
     "text": [
      "0   Month\n",
      "1   OperatingSystems\n",
      "2   Browser\n",
      "3   Region\n",
      "4   TrafficType\n",
      "5   VisitorType\n",
      "6   Weekend\n",
      "7   Administrative\n",
      "8   Administrative_Duration\n",
      "9   Informational\n",
      "10   Informational_Duration\n",
      "11   ProductRelated\n",
      "12   ProductRelated_Duration\n",
      "13   BounceRates\n",
      "14   ExitRates\n",
      "15   PageValues\n",
      "16   SpecialDay\n"
     ]
    }
   ],
   "source": [
    "for i, col in enumerate(data_converted.columns):\n",
    "  print(i, \" \", col)"
   ]
  },
  {
   "cell_type": "code",
   "execution_count": null,
   "metadata": {
    "id": "FxZGqr5fOzwy"
   },
   "outputs": [],
   "source": []
  },
  {
   "cell_type": "code",
   "execution_count": null,
   "metadata": {
    "colab": {
     "base_uri": "https://localhost:8080/"
    },
    "id": "8GKLnxN6IctG",
    "outputId": "39e4e667-4da0-4bf2-bd9f-bafbd604c14c"
   },
   "outputs": [
    {
     "data": {
      "text/plain": [
       "['Month',\n",
       " 'OperatingSystems',\n",
       " 'Browser',\n",
       " 'Region',\n",
       " 'TrafficType',\n",
       " 'VisitorType',\n",
       " 'Weekend']"
      ]
     },
     "execution_count": 19,
     "metadata": {},
     "output_type": "execute_result"
    }
   ],
   "source": [
    "[data.columns[i] for i in [10,11,12,13,14,15,16]]"
   ]
  },
  {
   "cell_type": "code",
   "execution_count": null,
   "metadata": {
    "colab": {
     "base_uri": "https://localhost:8080/"
    },
    "id": "9qCipAQDIbeW",
    "outputId": "39e4e667-4da0-4bf2-bd9f-bafbd604c14c"
   },
   "outputs": [
    {
     "data": {
      "text/plain": [
       "['Month',\n",
       " 'OperatingSystems',\n",
       " 'Browser',\n",
       " 'Region',\n",
       " 'TrafficType',\n",
       " 'VisitorType',\n",
       " 'Weekend']"
      ]
     },
     "execution_count": 19,
     "metadata": {},
     "output_type": "execute_result"
    }
   ],
   "source": [
    "[data.columns[i] for i in [10,11,12,13,14,15,16]]"
   ]
  },
  {
   "cell_type": "code",
   "execution_count": 14,
   "metadata": {
    "colab": {
     "base_uri": "https://localhost:8080/"
    },
    "id": "9TO8k7JEygOW",
    "outputId": "c7f31897-9f67-410d-9ba6-5ea1524b8191"
   },
   "outputs": [
    {
     "data": {
      "text/plain": [
       "array([[-0.69699296, -0.4571914 , -0.3964779 , ..., -0.29841542,\n",
       "         2.56280291, -0.30882137],\n",
       "       [-0.69699296, -0.4571914 , -0.3964779 , ...,  0.0935547 ,\n",
       "        -0.31717784, -0.30882137],\n",
       "       [ 0.50722805, -0.24505366,  1.17819516, ..., -0.52624805,\n",
       "        -0.31717784, -0.30882137],\n",
       "       ...,\n",
       "       [-0.69699296, -0.4571914 , -0.3964779 , ..., -0.30989738,\n",
       "        -0.31717784, -0.30882137],\n",
       "       [-0.69699296, -0.4571914 , -0.3964779 , ...,  0.11616835,\n",
       "        -0.31717784,  4.71859801],\n",
       "       [-0.39593771, -0.03998718, -0.3964779 , ..., -0.47193431,\n",
       "        -0.31717784, -0.30882137]])"
      ]
     },
     "execution_count": 14,
     "metadata": {},
     "output_type": "execute_result"
    }
   ],
   "source": [
    "std = StandardScaler().fit_transform(numerical)\n",
    "std"
   ]
  },
  {
   "cell_type": "code",
   "execution_count": 18,
   "metadata": {
    "colab": {
     "base_uri": "https://localhost:8080/",
     "height": 488
    },
    "id": "aHLpEVFJg5ZA",
    "outputId": "d5f71a82-52ce-4737-8350-f925d7d07475"
   },
   "outputs": [
    {
     "data": {
      "text/html": [
       "\n",
       "  <div id=\"df-1a358ee1-5aa5-4283-8b3e-25df96694111\">\n",
       "    <div class=\"colab-df-container\">\n",
       "      <div>\n",
       "<style scoped>\n",
       "    .dataframe tbody tr th:only-of-type {\n",
       "        vertical-align: middle;\n",
       "    }\n",
       "\n",
       "    .dataframe tbody tr th {\n",
       "        vertical-align: top;\n",
       "    }\n",
       "\n",
       "    .dataframe thead th {\n",
       "        text-align: right;\n",
       "    }\n",
       "</style>\n",
       "<table border=\"1\" class=\"dataframe\">\n",
       "  <thead>\n",
       "    <tr style=\"text-align: right;\">\n",
       "      <th></th>\n",
       "      <th>Administrative</th>\n",
       "      <th>Administrative_Duration</th>\n",
       "      <th>Informational</th>\n",
       "      <th>Informational_Duration</th>\n",
       "      <th>ProductRelated</th>\n",
       "      <th>ProductRelated_Duration</th>\n",
       "      <th>BounceRates</th>\n",
       "      <th>ExitRates</th>\n",
       "      <th>PageValues</th>\n",
       "      <th>SpecialDay</th>\n",
       "    </tr>\n",
       "  </thead>\n",
       "  <tbody>\n",
       "    <tr>\n",
       "      <th>0</th>\n",
       "      <td>-0.696965</td>\n",
       "      <td>-0.457173</td>\n",
       "      <td>-0.396462</td>\n",
       "      <td>-0.244921</td>\n",
       "      <td>-0.533585</td>\n",
       "      <td>-0.508315</td>\n",
       "      <td>-0.457664</td>\n",
       "      <td>-0.298403</td>\n",
       "      <td>2.562699</td>\n",
       "      <td>-0.308809</td>\n",
       "    </tr>\n",
       "    <tr>\n",
       "      <th>1</th>\n",
       "      <td>-0.696965</td>\n",
       "      <td>-0.457173</td>\n",
       "      <td>-0.396462</td>\n",
       "      <td>-0.244921</td>\n",
       "      <td>-0.398679</td>\n",
       "      <td>-0.082170</td>\n",
       "      <td>-0.163043</td>\n",
       "      <td>0.093551</td>\n",
       "      <td>-0.317165</td>\n",
       "      <td>-0.308809</td>\n",
       "    </tr>\n",
       "    <tr>\n",
       "      <th>2</th>\n",
       "      <td>0.507207</td>\n",
       "      <td>-0.245044</td>\n",
       "      <td>1.178147</td>\n",
       "      <td>0.337676</td>\n",
       "      <td>-0.623522</td>\n",
       "      <td>-0.573830</td>\n",
       "      <td>-0.457664</td>\n",
       "      <td>-0.526227</td>\n",
       "      <td>-0.317165</td>\n",
       "      <td>-0.308809</td>\n",
       "    </tr>\n",
       "    <tr>\n",
       "      <th>3</th>\n",
       "      <td>0.507207</td>\n",
       "      <td>0.197316</td>\n",
       "      <td>-0.396462</td>\n",
       "      <td>-0.244921</td>\n",
       "      <td>-0.353711</td>\n",
       "      <td>-0.281847</td>\n",
       "      <td>-0.457664</td>\n",
       "      <td>-0.638641</td>\n",
       "      <td>-0.317165</td>\n",
       "      <td>-0.308809</td>\n",
       "    </tr>\n",
       "    <tr>\n",
       "      <th>4</th>\n",
       "      <td>-0.395922</td>\n",
       "      <td>-0.117766</td>\n",
       "      <td>0.390843</td>\n",
       "      <td>-0.138348</td>\n",
       "      <td>-0.128868</td>\n",
       "      <td>-0.274122</td>\n",
       "      <td>-0.457664</td>\n",
       "      <td>-0.807190</td>\n",
       "      <td>-0.317165</td>\n",
       "      <td>-0.308809</td>\n",
       "    </tr>\n",
       "    <tr>\n",
       "      <th>...</th>\n",
       "      <td>...</td>\n",
       "      <td>...</td>\n",
       "      <td>...</td>\n",
       "      <td>...</td>\n",
       "      <td>...</td>\n",
       "      <td>...</td>\n",
       "      <td>...</td>\n",
       "      <td>...</td>\n",
       "      <td>...</td>\n",
       "      <td>...</td>\n",
       "    </tr>\n",
       "    <tr>\n",
       "      <th>12325</th>\n",
       "      <td>0.206164</td>\n",
       "      <td>0.380030</td>\n",
       "      <td>-0.396462</td>\n",
       "      <td>-0.244921</td>\n",
       "      <td>-0.533585</td>\n",
       "      <td>-0.471474</td>\n",
       "      <td>-0.457664</td>\n",
       "      <td>-0.325127</td>\n",
       "      <td>-0.317165</td>\n",
       "      <td>-0.308809</td>\n",
       "    </tr>\n",
       "    <tr>\n",
       "      <th>12326</th>\n",
       "      <td>-0.395922</td>\n",
       "      <td>-0.406262</td>\n",
       "      <td>0.390843</td>\n",
       "      <td>-0.035328</td>\n",
       "      <td>-0.196321</td>\n",
       "      <td>-0.019420</td>\n",
       "      <td>-0.299022</td>\n",
       "      <td>0.221690</td>\n",
       "      <td>-0.317165</td>\n",
       "      <td>-0.308809</td>\n",
       "    </tr>\n",
       "    <tr>\n",
       "      <th>12327</th>\n",
       "      <td>-0.696965</td>\n",
       "      <td>-0.457173</td>\n",
       "      <td>-0.396462</td>\n",
       "      <td>-0.244921</td>\n",
       "      <td>1.332611</td>\n",
       "      <td>1.548275</td>\n",
       "      <td>-0.251429</td>\n",
       "      <td>-0.309885</td>\n",
       "      <td>-0.317165</td>\n",
       "      <td>-0.308809</td>\n",
       "    </tr>\n",
       "    <tr>\n",
       "      <th>12328</th>\n",
       "      <td>-0.696965</td>\n",
       "      <td>-0.457173</td>\n",
       "      <td>-0.396462</td>\n",
       "      <td>-0.244921</td>\n",
       "      <td>0.140943</td>\n",
       "      <td>0.116488</td>\n",
       "      <td>-0.125271</td>\n",
       "      <td>0.116164</td>\n",
       "      <td>-0.317165</td>\n",
       "      <td>4.718407</td>\n",
       "    </tr>\n",
       "    <tr>\n",
       "      <th>12329</th>\n",
       "      <td>-0.395922</td>\n",
       "      <td>-0.039986</td>\n",
       "      <td>-0.396462</td>\n",
       "      <td>-0.244921</td>\n",
       "      <td>0.298333</td>\n",
       "      <td>0.773171</td>\n",
       "      <td>-0.439731</td>\n",
       "      <td>-0.471915</td>\n",
       "      <td>-0.317165</td>\n",
       "      <td>-0.308809</td>\n",
       "    </tr>\n",
       "  </tbody>\n",
       "</table>\n",
       "<p>12330 rows × 10 columns</p>\n",
       "</div>\n",
       "      <button class=\"colab-df-convert\" onclick=\"convertToInteractive('df-1a358ee1-5aa5-4283-8b3e-25df96694111')\"\n",
       "              title=\"Convert this dataframe to an interactive table.\"\n",
       "              style=\"display:none;\">\n",
       "        \n",
       "  <svg xmlns=\"http://www.w3.org/2000/svg\" height=\"24px\"viewBox=\"0 0 24 24\"\n",
       "       width=\"24px\">\n",
       "    <path d=\"M0 0h24v24H0V0z\" fill=\"none\"/>\n",
       "    <path d=\"M18.56 5.44l.94 2.06.94-2.06 2.06-.94-2.06-.94-.94-2.06-.94 2.06-2.06.94zm-11 1L8.5 8.5l.94-2.06 2.06-.94-2.06-.94L8.5 2.5l-.94 2.06-2.06.94zm10 10l.94 2.06.94-2.06 2.06-.94-2.06-.94-.94-2.06-.94 2.06-2.06.94z\"/><path d=\"M17.41 7.96l-1.37-1.37c-.4-.4-.92-.59-1.43-.59-.52 0-1.04.2-1.43.59L10.3 9.45l-7.72 7.72c-.78.78-.78 2.05 0 2.83L4 21.41c.39.39.9.59 1.41.59.51 0 1.02-.2 1.41-.59l7.78-7.78 2.81-2.81c.8-.78.8-2.07 0-2.86zM5.41 20L4 18.59l7.72-7.72 1.47 1.35L5.41 20z\"/>\n",
       "  </svg>\n",
       "      </button>\n",
       "      \n",
       "  <style>\n",
       "    .colab-df-container {\n",
       "      display:flex;\n",
       "      flex-wrap:wrap;\n",
       "      gap: 12px;\n",
       "    }\n",
       "\n",
       "    .colab-df-convert {\n",
       "      background-color: #E8F0FE;\n",
       "      border: none;\n",
       "      border-radius: 50%;\n",
       "      cursor: pointer;\n",
       "      display: none;\n",
       "      fill: #1967D2;\n",
       "      height: 32px;\n",
       "      padding: 0 0 0 0;\n",
       "      width: 32px;\n",
       "    }\n",
       "\n",
       "    .colab-df-convert:hover {\n",
       "      background-color: #E2EBFA;\n",
       "      box-shadow: 0px 1px 2px rgba(60, 64, 67, 0.3), 0px 1px 3px 1px rgba(60, 64, 67, 0.15);\n",
       "      fill: #174EA6;\n",
       "    }\n",
       "\n",
       "    [theme=dark] .colab-df-convert {\n",
       "      background-color: #3B4455;\n",
       "      fill: #D2E3FC;\n",
       "    }\n",
       "\n",
       "    [theme=dark] .colab-df-convert:hover {\n",
       "      background-color: #434B5C;\n",
       "      box-shadow: 0px 1px 3px 1px rgba(0, 0, 0, 0.15);\n",
       "      filter: drop-shadow(0px 1px 2px rgba(0, 0, 0, 0.3));\n",
       "      fill: #FFFFFF;\n",
       "    }\n",
       "  </style>\n",
       "\n",
       "      <script>\n",
       "        const buttonEl =\n",
       "          document.querySelector('#df-1a358ee1-5aa5-4283-8b3e-25df96694111 button.colab-df-convert');\n",
       "        buttonEl.style.display =\n",
       "          google.colab.kernel.accessAllowed ? 'block' : 'none';\n",
       "\n",
       "        async function convertToInteractive(key) {\n",
       "          const element = document.querySelector('#df-1a358ee1-5aa5-4283-8b3e-25df96694111');\n",
       "          const dataTable =\n",
       "            await google.colab.kernel.invokeFunction('convertToInteractive',\n",
       "                                                     [key], {});\n",
       "          if (!dataTable) return;\n",
       "\n",
       "          const docLinkHtml = 'Like what you see? Visit the ' +\n",
       "            '<a target=\"_blank\" href=https://colab.research.google.com/notebooks/data_table.ipynb>data table notebook</a>'\n",
       "            + ' to learn more about interactive tables.';\n",
       "          element.innerHTML = '';\n",
       "          dataTable['output_type'] = 'display_data';\n",
       "          await google.colab.output.renderOutput(dataTable, element);\n",
       "          const docLink = document.createElement('div');\n",
       "          docLink.innerHTML = docLinkHtml;\n",
       "          element.appendChild(docLink);\n",
       "        }\n",
       "      </script>\n",
       "    </div>\n",
       "  </div>\n",
       "  "
      ],
      "text/plain": [
       "       Administrative  Administrative_Duration  Informational  \\\n",
       "0           -0.696965                -0.457173      -0.396462   \n",
       "1           -0.696965                -0.457173      -0.396462   \n",
       "2            0.507207                -0.245044       1.178147   \n",
       "3            0.507207                 0.197316      -0.396462   \n",
       "4           -0.395922                -0.117766       0.390843   \n",
       "...               ...                      ...            ...   \n",
       "12325        0.206164                 0.380030      -0.396462   \n",
       "12326       -0.395922                -0.406262       0.390843   \n",
       "12327       -0.696965                -0.457173      -0.396462   \n",
       "12328       -0.696965                -0.457173      -0.396462   \n",
       "12329       -0.395922                -0.039986      -0.396462   \n",
       "\n",
       "       Informational_Duration  ProductRelated  ProductRelated_Duration  \\\n",
       "0                   -0.244921       -0.533585                -0.508315   \n",
       "1                   -0.244921       -0.398679                -0.082170   \n",
       "2                    0.337676       -0.623522                -0.573830   \n",
       "3                   -0.244921       -0.353711                -0.281847   \n",
       "4                   -0.138348       -0.128868                -0.274122   \n",
       "...                       ...             ...                      ...   \n",
       "12325               -0.244921       -0.533585                -0.471474   \n",
       "12326               -0.035328       -0.196321                -0.019420   \n",
       "12327               -0.244921        1.332611                 1.548275   \n",
       "12328               -0.244921        0.140943                 0.116488   \n",
       "12329               -0.244921        0.298333                 0.773171   \n",
       "\n",
       "       BounceRates  ExitRates  PageValues  SpecialDay  \n",
       "0        -0.457664  -0.298403    2.562699   -0.308809  \n",
       "1        -0.163043   0.093551   -0.317165   -0.308809  \n",
       "2        -0.457664  -0.526227   -0.317165   -0.308809  \n",
       "3        -0.457664  -0.638641   -0.317165   -0.308809  \n",
       "4        -0.457664  -0.807190   -0.317165   -0.308809  \n",
       "...            ...        ...         ...         ...  \n",
       "12325    -0.457664  -0.325127   -0.317165   -0.308809  \n",
       "12326    -0.299022   0.221690   -0.317165   -0.308809  \n",
       "12327    -0.251429  -0.309885   -0.317165   -0.308809  \n",
       "12328    -0.125271   0.116164   -0.317165    4.718407  \n",
       "12329    -0.439731  -0.471915   -0.317165   -0.308809  \n",
       "\n",
       "[12330 rows x 10 columns]"
      ]
     },
     "execution_count": 18,
     "metadata": {},
     "output_type": "execute_result"
    }
   ],
   "source": []
  }
 ],
 "metadata": {
  "colab": {
   "collapsed_sections": [],
   "name": "Copy of A_Skidelsky_Project2",
   "provenance": []
  },
  "kernelspec": {
   "display_name": "Python 3",
   "language": "python",
   "name": "python3"
  },
  "language_info": {
   "codemirror_mode": {
    "name": "ipython",
    "version": 3
   },
   "file_extension": ".py",
   "mimetype": "text/x-python",
   "name": "python",
   "nbconvert_exporter": "python",
   "pygments_lexer": "ipython3",
   "version": "3.8.7"
  }
 },
 "nbformat": 4,
 "nbformat_minor": 1
}
