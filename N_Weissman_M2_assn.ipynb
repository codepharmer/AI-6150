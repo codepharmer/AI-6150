{
 "cells": [
  {
   "cell_type": "markdown",
   "id": "81abc961",
   "metadata": {},
   "source": [
    "**Module 2 Cars Dataset EDA and Regression**\n",
    "\n",
    "**Nosson Weissman**\n",
    "\n",
    "**DAV 6150 - Data Science**\n",
    "\n",
    "**Professor James Topor**\n",
    "\n",
    "**Summer, 2022**"
   ]
  },
  {
   "cell_type": "markdown",
   "id": "3c628401",
   "metadata": {},
   "source": [
    "# DAV 6150 Module 2 Assignment"
   ]
  },
  {
   "cell_type": "code",
   "execution_count": 599,
   "id": "492d31ba",
   "metadata": {},
   "outputs": [],
   "source": [
    "#laoding libraries\n",
    "import numpy as np\n",
    "import seaborn as sns\n",
    "import matplotlib.pyplot as plt\n",
    "import pandas as pd\n",
    "import urllib"
   ]
  },
  {
   "cell_type": "markdown",
   "id": "b35569c8",
   "metadata": {},
   "source": [
    "## 1. Loading Data from Git ⏬"
   ]
  },
  {
   "cell_type": "code",
   "execution_count": 600,
   "id": "61bbffc8",
   "metadata": {
    "scrolled": true
   },
   "outputs": [
    {
     "data": {
      "text/plain": [
       "['1. Title: 1985 Auto Imports Database\\n',\n",
       " '\\n',\n",
       " '2. Source Information:\\n',\n",
       " '   -- Creator/Donor: Jeffrey C. Schlimmer (Jeffrey.Schlimmer@a.gp.cs.cmu.edu)\\n',\n",
       " '   -- Date: 19 May 1987\\n',\n",
       " '   -- Sources:\\n',\n",
       " \"     1) 1985 Model Import Car and Truck Specifications, 1985 Ward's\\n\",\n",
       " '        Automotive Yearbook.\\n',\n",
       " '     2) Personal Auto Manuals, Insurance Services Office, 160 Water\\n',\n",
       " '        Street, New York, NY 10038 \\n',\n",
       " '     3) Insurance Collision Report, Insurance Institute for Highway\\n',\n",
       " '        Safety, Watergate 600, Washington, DC 20037\\n',\n",
       " '\\n',\n",
       " '3. Past Usage:\\n',\n",
       " '   -- Kibler,~D., Aha,~D.~W., \\\\& Albert,~M. (1989).  Instance-based prediction\\n',\n",
       " '      of real-valued attributes.  {\\\\it Computational Intelligence}, {\\\\it 5},\\n',\n",
       " '      51--57.\\n',\n",
       " '\\t -- Predicted price of car using all numeric and Boolean attributes\\n',\n",
       " '\\t -- Method: an instance-based learning (IBL) algorithm derived from a\\n',\n",
       " '\\t    localized k-nearest neighbor algorithm.  Compared with a\\n',\n",
       " '\\t    linear regression prediction...so all instances\\n',\n",
       " '\\t    with missing attribute values were discarded.  This resulted with\\n',\n",
       " '\\t    a training set of 159 instances, which was also used as a test\\n',\n",
       " '\\t    set (minus the actual instance during testing).\\n',\n",
       " '\\t -- Results: Percent Average Deviation Error of Prediction from Actual\\n',\n",
       " '\\t    -- 11.84% for the IBL algorithm\\n',\n",
       " '\\t    -- 14.12% for the resulting linear regression equation\\n',\n",
       " '\\n',\n",
       " '4. Relevant Information:\\n',\n",
       " '   -- Description\\n',\n",
       " '      This data set consists of three types of entities: (a) the\\n',\n",
       " '      specification of an auto in terms of various characteristics, (b)\\n',\n",
       " '      its assigned insurance risk rating, (c) its normalized losses in use\\n',\n",
       " '      as compared to other cars.  The second rating corresponds to the\\n',\n",
       " '      degree to which the auto is more risky than its price indicates.\\n',\n",
       " '      Cars are initially assigned a risk factor symbol associated with its\\n',\n",
       " '      price.   Then, if it is more risky (or less), this symbol is\\n',\n",
       " '      adjusted by moving it up (or down) the scale.  Actuarians call this\\n',\n",
       " '      process \"symboling\".  A value of +3 indicates that the auto is\\n',\n",
       " '      risky, -3 that it is probably pretty safe.\\n',\n",
       " '\\n',\n",
       " '      The third factor is the relative average loss payment per insured\\n',\n",
       " '      vehicle year.  This value is normalized for all autos within a\\n',\n",
       " '      particular size classification (two-door small, station wagons,\\n',\n",
       " '      sports/speciality, etc...), and represents the average loss per car\\n',\n",
       " '      per year.\\n',\n",
       " '\\n',\n",
       " '   -- Note: Several of the attributes in the database could be used as a\\n',\n",
       " '            \"class\" attribute.\\n',\n",
       " '\\n',\n",
       " '5. Number of Instances: 205\\n',\n",
       " '\\n',\n",
       " '6. Number of Attributes: 26 total\\n',\n",
       " '   -- 15 continuous\\n',\n",
       " '   -- 1 integer\\n',\n",
       " '   -- 10 nominal\\n',\n",
       " '\\n',\n",
       " '7. Attribute Information:     \\n',\n",
       " '     Attribute:                Attribute Range:\\n',\n",
       " '     ------------------        -----------------------------------------------\\n',\n",
       " '  1. symboling:                -3, -2, -1, 0, 1, 2, 3.\\n',\n",
       " '  2. normalized-losses:        continuous from 65 to 256.\\n',\n",
       " '  3. make:                     alfa-romero, audi, bmw, chevrolet, dodge, honda,\\n',\n",
       " '                               isuzu, jaguar, mazda, mercedes-benz, mercury,\\n',\n",
       " '                               mitsubishi, nissan, peugot, plymouth, porsche,\\n',\n",
       " '                               renault, saab, subaru, toyota, volkswagen, volvo\\n',\n",
       " '  4. fuel-type:                diesel, gas.\\n',\n",
       " '  5. aspiration:               std, turbo.\\n',\n",
       " '  6. num-of-doors:             four, two.\\n',\n",
       " '  7. body-style:               hardtop, wagon, sedan, hatchback, convertible.\\n',\n",
       " '  8. drive-wheels:             4wd, fwd, rwd.\\n',\n",
       " '  9. engine-location:          front, rear.\\n',\n",
       " ' 10. wheel-base:               continuous from 86.6 120.9.\\n',\n",
       " ' 11. length:                   continuous from 141.1 to 208.1.\\n',\n",
       " ' 12. width:                    continuous from 60.3 to 72.3.\\n',\n",
       " ' 13. height:                   continuous from 47.8 to 59.8.\\n',\n",
       " ' 14. curb-weight:              continuous from 1488 to 4066.\\n',\n",
       " ' 15. engine-type:              dohc, dohcv, l, ohc, ohcf, ohcv, rotor.\\n',\n",
       " ' 16. num-of-cylinders:         eight, five, four, six, three, twelve, two.\\n',\n",
       " ' 17. engine-size:              continuous from 61 to 326.\\n',\n",
       " ' 18. fuel-system:              1bbl, 2bbl, 4bbl, idi, mfi, mpfi, spdi, spfi.\\n',\n",
       " ' 19. bore:                     continuous from 2.54 to 3.94.\\n',\n",
       " ' 20. stroke:                   continuous from 2.07 to 4.17.\\n',\n",
       " ' 21. compression-ratio:        continuous from 7 to 23.\\n',\n",
       " ' 22. horsepower:               continuous from 48 to 288.\\n',\n",
       " ' 23. peak-rpm:                 continuous from 4150 to 6600.\\n',\n",
       " ' 24. city-mpg:                 continuous from 13 to 49.\\n',\n",
       " ' 25. highway-mpg:              continuous from 16 to 54.\\n',\n",
       " ' 26. price:                    continuous from 5118 to 45400.\\n',\n",
       " '\\n',\n",
       " '8. Missing Attribute Values: (denoted by \"?\")\\n',\n",
       " '   Attribute #:   Number of instances missing a value:\\n',\n",
       " '   2.             41\\n',\n",
       " '   6.             2\\n',\n",
       " '   19.            4\\n',\n",
       " '   20.            4\\n',\n",
       " '   22.            2\\n',\n",
       " '   23.            2\\n',\n",
       " '   26.            4\\n',\n",
       " '\\n',\n",
       " '\\n',\n",
       " '\\n',\n",
       " '\\n']"
      ]
     },
     "execution_count": 600,
     "metadata": {},
     "output_type": "execute_result"
    }
   ],
   "source": [
    "url = \"https://raw.githubusercontent.com/codepharmer/AI-6150/main/imports-85.names\"\n",
    "file = urllib.request.urlopen(url)\n",
    "\n",
    "headers = [line.decode(\"utf-8\") for line in file]\n",
    "headers"
   ]
  },
  {
   "cell_type": "markdown",
   "id": "f1e8c9ba",
   "metadata": {},
   "source": [
    "#### Extracting headers"
   ]
  },
  {
   "cell_type": "code",
   "execution_count": 601,
   "id": "aa293d15",
   "metadata": {},
   "outputs": [
    {
     "data": {
      "text/plain": [
       "['symboling',\n",
       " 'normalized-losses',\n",
       " 'make',\n",
       " 'fuel-type',\n",
       " 'aspiration',\n",
       " 'num-of-doors',\n",
       " 'body-style',\n",
       " 'drive-wheels',\n",
       " 'engine-location',\n",
       " 'wheel-base',\n",
       " 'length',\n",
       " 'width',\n",
       " 'height',\n",
       " 'curb-weight',\n",
       " 'engine-type',\n",
       " 'num-of-cylinders',\n",
       " 'engine-size',\n",
       " 'fuel-system',\n",
       " 'bore',\n",
       " 'stroke',\n",
       " 'compression-ratio',\n",
       " 'horsepower',\n",
       " 'peak-rpm',\n",
       " 'city-mpg',\n",
       " 'highway-mpg',\n",
       " 'price']"
      ]
     },
     "execution_count": 601,
     "metadata": {},
     "output_type": "execute_result"
    }
   ],
   "source": [
    "temp_headers = headers[60:89]\n",
    "cleaned_headers = []\n",
    "for header in temp_headers:\n",
    "    split_header = header.strip().split(' ')\n",
    "    if len(split_header) > 3:\n",
    "        cleaned_headers.append(split_header[1].strip()[:-1])\n",
    "# here I'm getting rid of a few car-maker names which didn't belong\n",
    "del cleaned_headers[3]\n",
    "del cleaned_headers[3]\n",
    "del cleaned_headers[3]\n",
    "cleaned_headers"
   ]
  },
  {
   "cell_type": "markdown",
   "id": "41509380",
   "metadata": {},
   "source": [
    "## 2. Reading Data into Dataframe 📖"
   ]
  },
  {
   "cell_type": "code",
   "execution_count": 602,
   "id": "24ae6f04",
   "metadata": {
    "scrolled": true
   },
   "outputs": [
    {
     "data": {
      "text/html": [
       "<div>\n",
       "<style scoped>\n",
       "    .dataframe tbody tr th:only-of-type {\n",
       "        vertical-align: middle;\n",
       "    }\n",
       "\n",
       "    .dataframe tbody tr th {\n",
       "        vertical-align: top;\n",
       "    }\n",
       "\n",
       "    .dataframe thead th {\n",
       "        text-align: right;\n",
       "    }\n",
       "</style>\n",
       "<table border=\"1\" class=\"dataframe\">\n",
       "  <thead>\n",
       "    <tr style=\"text-align: right;\">\n",
       "      <th></th>\n",
       "      <th>symboling</th>\n",
       "      <th>normalized-losses</th>\n",
       "      <th>make</th>\n",
       "      <th>fuel-type</th>\n",
       "      <th>aspiration</th>\n",
       "      <th>num-of-doors</th>\n",
       "      <th>body-style</th>\n",
       "      <th>drive-wheels</th>\n",
       "      <th>engine-location</th>\n",
       "      <th>wheel-base</th>\n",
       "      <th>...</th>\n",
       "      <th>engine-size</th>\n",
       "      <th>fuel-system</th>\n",
       "      <th>bore</th>\n",
       "      <th>stroke</th>\n",
       "      <th>compression-ratio</th>\n",
       "      <th>horsepower</th>\n",
       "      <th>peak-rpm</th>\n",
       "      <th>city-mpg</th>\n",
       "      <th>highway-mpg</th>\n",
       "      <th>price</th>\n",
       "    </tr>\n",
       "  </thead>\n",
       "  <tbody>\n",
       "    <tr>\n",
       "      <th>0</th>\n",
       "      <td>3</td>\n",
       "      <td>?</td>\n",
       "      <td>alfa-romero</td>\n",
       "      <td>gas</td>\n",
       "      <td>std</td>\n",
       "      <td>two</td>\n",
       "      <td>convertible</td>\n",
       "      <td>rwd</td>\n",
       "      <td>front</td>\n",
       "      <td>88.6</td>\n",
       "      <td>...</td>\n",
       "      <td>130</td>\n",
       "      <td>mpfi</td>\n",
       "      <td>3.47</td>\n",
       "      <td>2.68</td>\n",
       "      <td>9.0</td>\n",
       "      <td>111</td>\n",
       "      <td>5000</td>\n",
       "      <td>21</td>\n",
       "      <td>27</td>\n",
       "      <td>16500</td>\n",
       "    </tr>\n",
       "    <tr>\n",
       "      <th>1</th>\n",
       "      <td>1</td>\n",
       "      <td>?</td>\n",
       "      <td>alfa-romero</td>\n",
       "      <td>gas</td>\n",
       "      <td>std</td>\n",
       "      <td>two</td>\n",
       "      <td>hatchback</td>\n",
       "      <td>rwd</td>\n",
       "      <td>front</td>\n",
       "      <td>94.5</td>\n",
       "      <td>...</td>\n",
       "      <td>152</td>\n",
       "      <td>mpfi</td>\n",
       "      <td>2.68</td>\n",
       "      <td>3.47</td>\n",
       "      <td>9.0</td>\n",
       "      <td>154</td>\n",
       "      <td>5000</td>\n",
       "      <td>19</td>\n",
       "      <td>26</td>\n",
       "      <td>16500</td>\n",
       "    </tr>\n",
       "    <tr>\n",
       "      <th>2</th>\n",
       "      <td>2</td>\n",
       "      <td>164</td>\n",
       "      <td>audi</td>\n",
       "      <td>gas</td>\n",
       "      <td>std</td>\n",
       "      <td>four</td>\n",
       "      <td>sedan</td>\n",
       "      <td>fwd</td>\n",
       "      <td>front</td>\n",
       "      <td>99.8</td>\n",
       "      <td>...</td>\n",
       "      <td>109</td>\n",
       "      <td>mpfi</td>\n",
       "      <td>3.19</td>\n",
       "      <td>3.40</td>\n",
       "      <td>10.0</td>\n",
       "      <td>102</td>\n",
       "      <td>5500</td>\n",
       "      <td>24</td>\n",
       "      <td>30</td>\n",
       "      <td>13950</td>\n",
       "    </tr>\n",
       "    <tr>\n",
       "      <th>3</th>\n",
       "      <td>2</td>\n",
       "      <td>164</td>\n",
       "      <td>audi</td>\n",
       "      <td>gas</td>\n",
       "      <td>std</td>\n",
       "      <td>four</td>\n",
       "      <td>sedan</td>\n",
       "      <td>4wd</td>\n",
       "      <td>front</td>\n",
       "      <td>99.4</td>\n",
       "      <td>...</td>\n",
       "      <td>136</td>\n",
       "      <td>mpfi</td>\n",
       "      <td>3.19</td>\n",
       "      <td>3.40</td>\n",
       "      <td>8.0</td>\n",
       "      <td>115</td>\n",
       "      <td>5500</td>\n",
       "      <td>18</td>\n",
       "      <td>22</td>\n",
       "      <td>17450</td>\n",
       "    </tr>\n",
       "    <tr>\n",
       "      <th>4</th>\n",
       "      <td>2</td>\n",
       "      <td>?</td>\n",
       "      <td>audi</td>\n",
       "      <td>gas</td>\n",
       "      <td>std</td>\n",
       "      <td>two</td>\n",
       "      <td>sedan</td>\n",
       "      <td>fwd</td>\n",
       "      <td>front</td>\n",
       "      <td>99.8</td>\n",
       "      <td>...</td>\n",
       "      <td>136</td>\n",
       "      <td>mpfi</td>\n",
       "      <td>3.19</td>\n",
       "      <td>3.40</td>\n",
       "      <td>8.5</td>\n",
       "      <td>110</td>\n",
       "      <td>5500</td>\n",
       "      <td>19</td>\n",
       "      <td>25</td>\n",
       "      <td>15250</td>\n",
       "    </tr>\n",
       "    <tr>\n",
       "      <th>...</th>\n",
       "      <td>...</td>\n",
       "      <td>...</td>\n",
       "      <td>...</td>\n",
       "      <td>...</td>\n",
       "      <td>...</td>\n",
       "      <td>...</td>\n",
       "      <td>...</td>\n",
       "      <td>...</td>\n",
       "      <td>...</td>\n",
       "      <td>...</td>\n",
       "      <td>...</td>\n",
       "      <td>...</td>\n",
       "      <td>...</td>\n",
       "      <td>...</td>\n",
       "      <td>...</td>\n",
       "      <td>...</td>\n",
       "      <td>...</td>\n",
       "      <td>...</td>\n",
       "      <td>...</td>\n",
       "      <td>...</td>\n",
       "      <td>...</td>\n",
       "    </tr>\n",
       "    <tr>\n",
       "      <th>199</th>\n",
       "      <td>-1</td>\n",
       "      <td>95</td>\n",
       "      <td>volvo</td>\n",
       "      <td>gas</td>\n",
       "      <td>std</td>\n",
       "      <td>four</td>\n",
       "      <td>sedan</td>\n",
       "      <td>rwd</td>\n",
       "      <td>front</td>\n",
       "      <td>109.1</td>\n",
       "      <td>...</td>\n",
       "      <td>141</td>\n",
       "      <td>mpfi</td>\n",
       "      <td>3.78</td>\n",
       "      <td>3.15</td>\n",
       "      <td>9.5</td>\n",
       "      <td>114</td>\n",
       "      <td>5400</td>\n",
       "      <td>23</td>\n",
       "      <td>28</td>\n",
       "      <td>16845</td>\n",
       "    </tr>\n",
       "    <tr>\n",
       "      <th>200</th>\n",
       "      <td>-1</td>\n",
       "      <td>95</td>\n",
       "      <td>volvo</td>\n",
       "      <td>gas</td>\n",
       "      <td>turbo</td>\n",
       "      <td>four</td>\n",
       "      <td>sedan</td>\n",
       "      <td>rwd</td>\n",
       "      <td>front</td>\n",
       "      <td>109.1</td>\n",
       "      <td>...</td>\n",
       "      <td>141</td>\n",
       "      <td>mpfi</td>\n",
       "      <td>3.78</td>\n",
       "      <td>3.15</td>\n",
       "      <td>8.7</td>\n",
       "      <td>160</td>\n",
       "      <td>5300</td>\n",
       "      <td>19</td>\n",
       "      <td>25</td>\n",
       "      <td>19045</td>\n",
       "    </tr>\n",
       "    <tr>\n",
       "      <th>201</th>\n",
       "      <td>-1</td>\n",
       "      <td>95</td>\n",
       "      <td>volvo</td>\n",
       "      <td>gas</td>\n",
       "      <td>std</td>\n",
       "      <td>four</td>\n",
       "      <td>sedan</td>\n",
       "      <td>rwd</td>\n",
       "      <td>front</td>\n",
       "      <td>109.1</td>\n",
       "      <td>...</td>\n",
       "      <td>173</td>\n",
       "      <td>mpfi</td>\n",
       "      <td>3.58</td>\n",
       "      <td>2.87</td>\n",
       "      <td>8.8</td>\n",
       "      <td>134</td>\n",
       "      <td>5500</td>\n",
       "      <td>18</td>\n",
       "      <td>23</td>\n",
       "      <td>21485</td>\n",
       "    </tr>\n",
       "    <tr>\n",
       "      <th>202</th>\n",
       "      <td>-1</td>\n",
       "      <td>95</td>\n",
       "      <td>volvo</td>\n",
       "      <td>diesel</td>\n",
       "      <td>turbo</td>\n",
       "      <td>four</td>\n",
       "      <td>sedan</td>\n",
       "      <td>rwd</td>\n",
       "      <td>front</td>\n",
       "      <td>109.1</td>\n",
       "      <td>...</td>\n",
       "      <td>145</td>\n",
       "      <td>idi</td>\n",
       "      <td>3.01</td>\n",
       "      <td>3.40</td>\n",
       "      <td>23.0</td>\n",
       "      <td>106</td>\n",
       "      <td>4800</td>\n",
       "      <td>26</td>\n",
       "      <td>27</td>\n",
       "      <td>22470</td>\n",
       "    </tr>\n",
       "    <tr>\n",
       "      <th>203</th>\n",
       "      <td>-1</td>\n",
       "      <td>95</td>\n",
       "      <td>volvo</td>\n",
       "      <td>gas</td>\n",
       "      <td>turbo</td>\n",
       "      <td>four</td>\n",
       "      <td>sedan</td>\n",
       "      <td>rwd</td>\n",
       "      <td>front</td>\n",
       "      <td>109.1</td>\n",
       "      <td>...</td>\n",
       "      <td>141</td>\n",
       "      <td>mpfi</td>\n",
       "      <td>3.78</td>\n",
       "      <td>3.15</td>\n",
       "      <td>9.5</td>\n",
       "      <td>114</td>\n",
       "      <td>5400</td>\n",
       "      <td>19</td>\n",
       "      <td>25</td>\n",
       "      <td>22625</td>\n",
       "    </tr>\n",
       "  </tbody>\n",
       "</table>\n",
       "<p>204 rows × 26 columns</p>\n",
       "</div>"
      ],
      "text/plain": [
       "     symboling normalized-losses         make fuel-type aspiration  \\\n",
       "0            3                 ?  alfa-romero       gas        std   \n",
       "1            1                 ?  alfa-romero       gas        std   \n",
       "2            2               164         audi       gas        std   \n",
       "3            2               164         audi       gas        std   \n",
       "4            2                 ?         audi       gas        std   \n",
       "..         ...               ...          ...       ...        ...   \n",
       "199         -1                95        volvo       gas        std   \n",
       "200         -1                95        volvo       gas      turbo   \n",
       "201         -1                95        volvo       gas        std   \n",
       "202         -1                95        volvo    diesel      turbo   \n",
       "203         -1                95        volvo       gas      turbo   \n",
       "\n",
       "    num-of-doors   body-style drive-wheels engine-location  wheel-base  ...  \\\n",
       "0            two  convertible          rwd           front        88.6  ...   \n",
       "1            two    hatchback          rwd           front        94.5  ...   \n",
       "2           four        sedan          fwd           front        99.8  ...   \n",
       "3           four        sedan          4wd           front        99.4  ...   \n",
       "4            two        sedan          fwd           front        99.8  ...   \n",
       "..           ...          ...          ...             ...         ...  ...   \n",
       "199         four        sedan          rwd           front       109.1  ...   \n",
       "200         four        sedan          rwd           front       109.1  ...   \n",
       "201         four        sedan          rwd           front       109.1  ...   \n",
       "202         four        sedan          rwd           front       109.1  ...   \n",
       "203         four        sedan          rwd           front       109.1  ...   \n",
       "\n",
       "     engine-size  fuel-system  bore  stroke compression-ratio horsepower  \\\n",
       "0            130         mpfi  3.47    2.68               9.0        111   \n",
       "1            152         mpfi  2.68    3.47               9.0        154   \n",
       "2            109         mpfi  3.19    3.40              10.0        102   \n",
       "3            136         mpfi  3.19    3.40               8.0        115   \n",
       "4            136         mpfi  3.19    3.40               8.5        110   \n",
       "..           ...          ...   ...     ...               ...        ...   \n",
       "199          141         mpfi  3.78    3.15               9.5        114   \n",
       "200          141         mpfi  3.78    3.15               8.7        160   \n",
       "201          173         mpfi  3.58    2.87               8.8        134   \n",
       "202          145          idi  3.01    3.40              23.0        106   \n",
       "203          141         mpfi  3.78    3.15               9.5        114   \n",
       "\n",
       "     peak-rpm city-mpg highway-mpg  price  \n",
       "0        5000       21          27  16500  \n",
       "1        5000       19          26  16500  \n",
       "2        5500       24          30  13950  \n",
       "3        5500       18          22  17450  \n",
       "4        5500       19          25  15250  \n",
       "..        ...      ...         ...    ...  \n",
       "199      5400       23          28  16845  \n",
       "200      5300       19          25  19045  \n",
       "201      5500       18          23  21485  \n",
       "202      4800       26          27  22470  \n",
       "203      5400       19          25  22625  \n",
       "\n",
       "[204 rows x 26 columns]"
      ]
     },
     "execution_count": 602,
     "metadata": {},
     "output_type": "execute_result"
    }
   ],
   "source": [
    "cars_df = pd.read_csv('https://raw.githubusercontent.com/codepharmer/AI-6150/main/imports-85.data')\n",
    "#assign headers\n",
    "cars_df.columns = cleaned_headers\n",
    "cars_df"
   ]
  },
  {
   "cell_type": "markdown",
   "id": "18236032",
   "metadata": {},
   "source": [
    "## 3. Data Cleansing 🧼"
   ]
  },
  {
   "cell_type": "code",
   "execution_count": 603,
   "id": "9d2ec1a8",
   "metadata": {},
   "outputs": [],
   "source": [
    "#keep the original in case we need it, but for now we'll focus on onlly specific features\n",
    "cars_df_copy = cars_df[['height','curb-weight','width','length','wheel-base','engine-size','horsepower','peak-rpm','city-mpg']]"
   ]
  },
  {
   "cell_type": "code",
   "execution_count": 604,
   "id": "91f02fed",
   "metadata": {
    "scrolled": true
   },
   "outputs": [
    {
     "data": {
      "text/html": [
       "<div>\n",
       "<style scoped>\n",
       "    .dataframe tbody tr th:only-of-type {\n",
       "        vertical-align: middle;\n",
       "    }\n",
       "\n",
       "    .dataframe tbody tr th {\n",
       "        vertical-align: top;\n",
       "    }\n",
       "\n",
       "    .dataframe thead th {\n",
       "        text-align: right;\n",
       "    }\n",
       "</style>\n",
       "<table border=\"1\" class=\"dataframe\">\n",
       "  <thead>\n",
       "    <tr style=\"text-align: right;\">\n",
       "      <th></th>\n",
       "      <th>height</th>\n",
       "      <th>curb-weight</th>\n",
       "      <th>width</th>\n",
       "      <th>length</th>\n",
       "      <th>wheel-base</th>\n",
       "      <th>engine-size</th>\n",
       "      <th>city-mpg</th>\n",
       "    </tr>\n",
       "  </thead>\n",
       "  <tbody>\n",
       "    <tr>\n",
       "      <th>count</th>\n",
       "      <td>204.000000</td>\n",
       "      <td>204.000000</td>\n",
       "      <td>204.000000</td>\n",
       "      <td>204.000000</td>\n",
       "      <td>204.000000</td>\n",
       "      <td>204.000000</td>\n",
       "      <td>204.000000</td>\n",
       "    </tr>\n",
       "    <tr>\n",
       "      <th>mean</th>\n",
       "      <td>53.749020</td>\n",
       "      <td>2555.602941</td>\n",
       "      <td>65.916667</td>\n",
       "      <td>174.075000</td>\n",
       "      <td>98.806373</td>\n",
       "      <td>126.892157</td>\n",
       "      <td>25.240196</td>\n",
       "    </tr>\n",
       "    <tr>\n",
       "      <th>std</th>\n",
       "      <td>2.424901</td>\n",
       "      <td>521.960820</td>\n",
       "      <td>2.146716</td>\n",
       "      <td>12.362123</td>\n",
       "      <td>5.994144</td>\n",
       "      <td>41.744569</td>\n",
       "      <td>6.551513</td>\n",
       "    </tr>\n",
       "    <tr>\n",
       "      <th>min</th>\n",
       "      <td>47.800000</td>\n",
       "      <td>1488.000000</td>\n",
       "      <td>60.300000</td>\n",
       "      <td>141.100000</td>\n",
       "      <td>86.600000</td>\n",
       "      <td>61.000000</td>\n",
       "      <td>13.000000</td>\n",
       "    </tr>\n",
       "    <tr>\n",
       "      <th>25%</th>\n",
       "      <td>52.000000</td>\n",
       "      <td>2145.000000</td>\n",
       "      <td>64.075000</td>\n",
       "      <td>166.300000</td>\n",
       "      <td>94.500000</td>\n",
       "      <td>97.000000</td>\n",
       "      <td>19.000000</td>\n",
       "    </tr>\n",
       "    <tr>\n",
       "      <th>50%</th>\n",
       "      <td>54.100000</td>\n",
       "      <td>2414.000000</td>\n",
       "      <td>65.500000</td>\n",
       "      <td>173.200000</td>\n",
       "      <td>97.000000</td>\n",
       "      <td>119.500000</td>\n",
       "      <td>24.000000</td>\n",
       "    </tr>\n",
       "    <tr>\n",
       "      <th>75%</th>\n",
       "      <td>55.500000</td>\n",
       "      <td>2939.250000</td>\n",
       "      <td>66.900000</td>\n",
       "      <td>183.200000</td>\n",
       "      <td>102.400000</td>\n",
       "      <td>142.000000</td>\n",
       "      <td>30.000000</td>\n",
       "    </tr>\n",
       "    <tr>\n",
       "      <th>max</th>\n",
       "      <td>59.800000</td>\n",
       "      <td>4066.000000</td>\n",
       "      <td>72.300000</td>\n",
       "      <td>208.100000</td>\n",
       "      <td>120.900000</td>\n",
       "      <td>326.000000</td>\n",
       "      <td>49.000000</td>\n",
       "    </tr>\n",
       "  </tbody>\n",
       "</table>\n",
       "</div>"
      ],
      "text/plain": [
       "           height  curb-weight       width      length  wheel-base  \\\n",
       "count  204.000000   204.000000  204.000000  204.000000  204.000000   \n",
       "mean    53.749020  2555.602941   65.916667  174.075000   98.806373   \n",
       "std      2.424901   521.960820    2.146716   12.362123    5.994144   \n",
       "min     47.800000  1488.000000   60.300000  141.100000   86.600000   \n",
       "25%     52.000000  2145.000000   64.075000  166.300000   94.500000   \n",
       "50%     54.100000  2414.000000   65.500000  173.200000   97.000000   \n",
       "75%     55.500000  2939.250000   66.900000  183.200000  102.400000   \n",
       "max     59.800000  4066.000000   72.300000  208.100000  120.900000   \n",
       "\n",
       "       engine-size    city-mpg  \n",
       "count   204.000000  204.000000  \n",
       "mean    126.892157   25.240196  \n",
       "std      41.744569    6.551513  \n",
       "min      61.000000   13.000000  \n",
       "25%      97.000000   19.000000  \n",
       "50%     119.500000   24.000000  \n",
       "75%     142.000000   30.000000  \n",
       "max     326.000000   49.000000  "
      ]
     },
     "execution_count": 604,
     "metadata": {},
     "output_type": "execute_result"
    }
   ],
   "source": [
    "cars_df_copy.describe()"
   ]
  },
  {
   "cell_type": "markdown",
   "id": "8fb6c384",
   "metadata": {},
   "source": [
    "#### We can see that the describe method does not include a couple of columns, namely 'horsepwer' and 'peak-rpm'. Let's find out why"
   ]
  },
  {
   "cell_type": "code",
   "execution_count": 605,
   "id": "0a086704",
   "metadata": {
    "scrolled": true
   },
   "outputs": [
    {
     "name": "stdout",
     "output_type": "stream",
     "text": [
      "height :  [48.8 52.4 54.3 53.1 55.7 55.9 52.0 53.7 56.3 53.2 50.8 50.6 59.8 50.2\n",
      " 52.6 54.5 58.3 53.3 54.1 51.0 53.5 51.4 52.8 47.8 49.6 55.5 54.4 56.5\n",
      " 58.7 54.9 56.7 55.4 54.8 49.4 51.6 54.7 55.1 56.1 49.7 56.0 50.5 55.2\n",
      " 52.5 53.0 59.1 53.9 55.6 56.2 57.5]\n",
      "curb-weight :  [2548 2823 2337 2824 2507 2844 2954 3086 3053 2395 2710 2765 3055 3230\n",
      " 3380 3505 1488 1874 1909 1876 2128 1967 1989 2191 2535 2811 1713 1819\n",
      " 1837 1940 1956 2010 2024 2236 2289 2304 2372 2465 2293 2734 4066 3950\n",
      " 1890 1900 1905 1945 1950 2380 2385 2500 2410 2443 2425 2670 2700 3515\n",
      " 3750 3495 3770 3740 3685 3900 3715 2910 1918 1944 2004 2145 2370 2328\n",
      " 2833 2921 2926 2365 2405 2403 1889 2017 1938 1951 2028 1971 2037 2008\n",
      " 2324 2302 3095 3296 3060 3071 3139 3020 3197 3430 3075 3252 3285 3485\n",
      " 3130 2818 2778 2756 2800 3366 2579 2460 2658 2695 2707 2758 2808 2847\n",
      " 2050 2120 2240 2190 2340 2510 2290 2455 2420 2650 1985 2040 2015 2280\n",
      " 3110 2081 2109 2275 2094 2122 2140 2169 2204 2265 2300 2540 2536 2551\n",
      " 2679 2714 2975 2326 2480 2414 2458 2976 3016 3131 3151 2261 2209 2264\n",
      " 2212 2319 2254 2221 2661 2563 2912 3034 2935 3042 3045 3157 2952 3049\n",
      " 3012 3217 3062]\n",
      "width :  [64.1 65.5 66.2 66.4 66.3 71.4 67.9 64.8 66.9 70.9 60.3 63.6 63.8 64.6\n",
      " 63.9 64.0 65.2 62.5 66.0 61.8 69.6 70.6 64.2 65.7 66.5 66.1 70.3 71.7\n",
      " 70.5 72.0 68.0 64.4 65.4 68.4 68.3 65.0 72.3 66.6 63.4 65.6 67.7 67.2\n",
      " 68.9 68.8]\n",
      "length :  [168.8 171.2 176.6 177.3 192.7 178.2 176.8 189.0 193.8 197.0 141.1 155.9\n",
      " 158.8 157.3 174.6 173.2 144.6 150.0 163.4 157.1 167.5 175.4 169.1 170.7\n",
      " 172.6 199.6 191.7 159.1 166.8 169.0 177.8 175.0 190.9 187.5 202.6 180.3\n",
      " 208.1 199.2 178.4 173.0 172.4 165.3 170.2 165.6 162.4 173.4 181.7 184.6\n",
      " 178.5 186.7 198.9 167.3 168.9 175.7 181.5 186.6 156.9 157.9 172.0 173.5\n",
      " 173.6 158.7 169.7 166.3 168.7 176.2 175.6 183.5 187.8 171.7 159.3 165.7\n",
      " 180.2 183.1 188.8]\n",
      "wheel-base :  [88.6 94.5 99.8 99.4 105.8 99.5 101.2 103.5 110.0 88.4 93.7 103.3 95.9\n",
      " 86.6 96.5 94.3 96.0 113.0 102.0 93.1 95.3 98.8 104.9 106.7 115.6 96.6\n",
      " 120.9 112.0 102.7 93.0 96.3 95.1 97.2 100.4 91.3 99.2 107.9 114.2 108.0\n",
      " 89.5 98.4 96.1 99.1 93.3 97.0 96.9 95.7 102.4 102.9 104.5 97.3 104.3\n",
      " 109.1]\n",
      "engine-size :  [130 152 109 136 131 108 164 209 61 90 98 122 156 92 79 110 111 119 258\n",
      " 326 91 70 80 140 134 183 234 308 304 97 103 120 181 151 194 203 132 121\n",
      " 146 171 161 141 173 145]\n",
      "horsepower :  ['111' '154' '102' '115' '110' '140' '160' '101' '121' '182' '48' '70'\n",
      " '68' '88' '145' '58' '76' '60' '86' '100' '78' '90' '176' '262' '135'\n",
      " '84' '64' '120' '72' '123' '155' '184' '175' '116' '69' '55' '97' '152'\n",
      " '200' '95' '142' '143' '207' '288' '?' '73' '82' '94' '62' '56' '112'\n",
      " '92' '161' '156' '52' '85' '114' '162' '134' '106']\n",
      "peak-rpm :  ['5000' '5500' '5800' '4250' '5400' '5100' '4800' '6000' '4750' '4650'\n",
      " '4200' '4350' '4500' '5200' '4150' '5600' '5900' '5750' '?' '5250' '4900'\n",
      " '4400' '6600' '5300']\n",
      "city-mpg :  [21 19 24 18 17 16 23 20 15 47 38 37 31 49 30 27 25 13 26 36 22 14 45 28\n",
      " 32 35 34 29 33]\n"
     ]
    }
   ],
   "source": [
    "#finding uniqu entries for each column (we can see the data format too)\n",
    "for col_name,col in cars_df_copy.transpose().iterrows():\n",
    "    print(col_name,': ',col.unique())"
   ]
  },
  {
   "cell_type": "markdown",
   "id": "bd5ebe24",
   "metadata": {},
   "source": [
    "####  Below we can see that this column contains string values instead of numeric data"
   ]
  },
  {
   "cell_type": "code",
   "execution_count": 606,
   "id": "ec8a26c1",
   "metadata": {
    "scrolled": true
   },
   "outputs": [
    {
     "ename": "ValueError",
     "evalue": "Unable to parse string \"?\" at position 129",
     "output_type": "error",
     "traceback": [
      "\u001b[1;31m---------------------------------------------------------------------------\u001b[0m",
      "\u001b[1;31mValueError\u001b[0m                                Traceback (most recent call last)",
      "\u001b[1;32mpandas\\_libs\\lib.pyx\u001b[0m in \u001b[0;36mpandas._libs.lib.maybe_convert_numeric\u001b[1;34m()\u001b[0m\n",
      "\u001b[1;31mValueError\u001b[0m: Unable to parse string \"?\"",
      "\nDuring handling of the above exception, another exception occurred:\n",
      "\u001b[1;31mValueError\u001b[0m                                Traceback (most recent call last)",
      "\u001b[1;32m<ipython-input-606-b445c8a7ad7f>\u001b[0m in \u001b[0;36m<module>\u001b[1;34m\u001b[0m\n\u001b[1;32m----> 1\u001b[1;33m \u001b[0mcars_df_copy\u001b[0m\u001b[1;33m[\u001b[0m\u001b[1;34m'horsepower'\u001b[0m\u001b[1;33m]\u001b[0m \u001b[1;33m=\u001b[0m \u001b[0mpd\u001b[0m\u001b[1;33m.\u001b[0m\u001b[0mto_numeric\u001b[0m\u001b[1;33m(\u001b[0m\u001b[0mcars_df_copy\u001b[0m\u001b[1;33m[\u001b[0m\u001b[1;34m'horsepower'\u001b[0m\u001b[1;33m]\u001b[0m\u001b[1;33m)\u001b[0m\u001b[1;33m\u001b[0m\u001b[1;33m\u001b[0m\u001b[0m\n\u001b[0m",
      "\u001b[1;32m~\\Anaconda3\\lib\\site-packages\\pandas\\core\\tools\\numeric.py\u001b[0m in \u001b[0;36mto_numeric\u001b[1;34m(arg, errors, downcast)\u001b[0m\n\u001b[0;32m    153\u001b[0m         \u001b[1;32mtry\u001b[0m\u001b[1;33m:\u001b[0m\u001b[1;33m\u001b[0m\u001b[1;33m\u001b[0m\u001b[0m\n\u001b[0;32m    154\u001b[0m             values = lib.maybe_convert_numeric(\n\u001b[1;32m--> 155\u001b[1;33m                 \u001b[0mvalues\u001b[0m\u001b[1;33m,\u001b[0m \u001b[0mset\u001b[0m\u001b[1;33m(\u001b[0m\u001b[1;33m)\u001b[0m\u001b[1;33m,\u001b[0m \u001b[0mcoerce_numeric\u001b[0m\u001b[1;33m=\u001b[0m\u001b[0mcoerce_numeric\u001b[0m\u001b[1;33m\u001b[0m\u001b[1;33m\u001b[0m\u001b[0m\n\u001b[0m\u001b[0;32m    156\u001b[0m             )\n\u001b[0;32m    157\u001b[0m         \u001b[1;32mexcept\u001b[0m \u001b[1;33m(\u001b[0m\u001b[0mValueError\u001b[0m\u001b[1;33m,\u001b[0m \u001b[0mTypeError\u001b[0m\u001b[1;33m)\u001b[0m\u001b[1;33m:\u001b[0m\u001b[1;33m\u001b[0m\u001b[1;33m\u001b[0m\u001b[0m\n",
      "\u001b[1;32mpandas\\_libs\\lib.pyx\u001b[0m in \u001b[0;36mpandas._libs.lib.maybe_convert_numeric\u001b[1;34m()\u001b[0m\n",
      "\u001b[1;31mValueError\u001b[0m: Unable to parse string \"?\" at position 129"
     ]
    }
   ],
   "source": [
    "cars_df_copy['horsepower'] = pd.to_numeric(cars_df_copy['horsepower'])"
   ]
  },
  {
   "cell_type": "code",
   "execution_count": 607,
   "id": "a1280834",
   "metadata": {},
   "outputs": [],
   "source": [
    "cars_df_copy = cars_df_copy[cars_df_copy['horsepower'] != '?']\n",
    "cars_df_copy['horsepower'] = pd.to_numeric(cars_df_copy['horsepower'])"
   ]
  },
  {
   "cell_type": "code",
   "execution_count": 608,
   "id": "91de5e92",
   "metadata": {},
   "outputs": [],
   "source": [
    "cars_df_copy = cars_df_copy[cars_df_copy['peak-rpm'] != '?']\n",
    "cars_df_copy['peak-rpm'] = pd.to_numeric(cars_df_copy['peak-rpm'])"
   ]
  },
  {
   "cell_type": "code",
   "execution_count": 609,
   "id": "400f3af4",
   "metadata": {},
   "outputs": [],
   "source": [
    "def normalize(df):\n",
    "    result = df.copy()\n",
    "    for feature_name in df.columns:\n",
    "        max_value = df[feature_name].max()\n",
    "        min_value = df[feature_name].min()\n",
    "        result[feature_name] = (df[feature_name] - min_value) / (max_value - min_value)\n",
    "    return result\n",
    "cars_df_copy = normalize(cars_df_copy)"
   ]
  },
  {
   "cell_type": "markdown",
   "id": "4e1a4185",
   "metadata": {},
   "source": [
    "## 4. Exploration 😊"
   ]
  },
  {
   "cell_type": "code",
   "execution_count": 610,
   "id": "362e721d",
   "metadata": {
    "scrolled": true
   },
   "outputs": [
    {
     "data": {
      "text/html": [
       "<div>\n",
       "<style scoped>\n",
       "    .dataframe tbody tr th:only-of-type {\n",
       "        vertical-align: middle;\n",
       "    }\n",
       "\n",
       "    .dataframe tbody tr th {\n",
       "        vertical-align: top;\n",
       "    }\n",
       "\n",
       "    .dataframe thead th {\n",
       "        text-align: right;\n",
       "    }\n",
       "</style>\n",
       "<table border=\"1\" class=\"dataframe\">\n",
       "  <thead>\n",
       "    <tr style=\"text-align: right;\">\n",
       "      <th></th>\n",
       "      <th>height</th>\n",
       "      <th>curb-weight</th>\n",
       "      <th>width</th>\n",
       "      <th>length</th>\n",
       "      <th>wheel-base</th>\n",
       "      <th>engine-size</th>\n",
       "      <th>horsepower</th>\n",
       "      <th>peak-rpm</th>\n",
       "      <th>city-mpg</th>\n",
       "    </tr>\n",
       "  </thead>\n",
       "  <tbody>\n",
       "    <tr>\n",
       "      <th>count</th>\n",
       "      <td>202.000000</td>\n",
       "      <td>202.000000</td>\n",
       "      <td>202.000000</td>\n",
       "      <td>202.000000</td>\n",
       "      <td>202.000000</td>\n",
       "      <td>202.000000</td>\n",
       "      <td>202.000000</td>\n",
       "      <td>202.000000</td>\n",
       "      <td>202.000000</td>\n",
       "    </tr>\n",
       "    <tr>\n",
       "      <th>mean</th>\n",
       "      <td>0.496493</td>\n",
       "      <td>0.414259</td>\n",
       "      <td>0.467533</td>\n",
       "      <td>0.491414</td>\n",
       "      <td>0.356652</td>\n",
       "      <td>0.248459</td>\n",
       "      <td>0.234262</td>\n",
       "      <td>0.398363</td>\n",
       "      <td>0.340622</td>\n",
       "    </tr>\n",
       "    <tr>\n",
       "      <th>std</th>\n",
       "      <td>0.201997</td>\n",
       "      <td>0.203454</td>\n",
       "      <td>0.179702</td>\n",
       "      <td>0.185236</td>\n",
       "      <td>0.175445</td>\n",
       "      <td>0.158297</td>\n",
       "      <td>0.165876</td>\n",
       "      <td>0.196099</td>\n",
       "      <td>0.182783</td>\n",
       "    </tr>\n",
       "    <tr>\n",
       "      <th>min</th>\n",
       "      <td>0.000000</td>\n",
       "      <td>0.000000</td>\n",
       "      <td>0.000000</td>\n",
       "      <td>0.000000</td>\n",
       "      <td>0.000000</td>\n",
       "      <td>0.000000</td>\n",
       "      <td>0.000000</td>\n",
       "      <td>0.000000</td>\n",
       "      <td>0.000000</td>\n",
       "    </tr>\n",
       "    <tr>\n",
       "      <th>25%</th>\n",
       "      <td>0.350000</td>\n",
       "      <td>0.254849</td>\n",
       "      <td>0.310417</td>\n",
       "      <td>0.376119</td>\n",
       "      <td>0.230321</td>\n",
       "      <td>0.135849</td>\n",
       "      <td>0.091667</td>\n",
       "      <td>0.265306</td>\n",
       "      <td>0.166667</td>\n",
       "    </tr>\n",
       "    <tr>\n",
       "      <th>50%</th>\n",
       "      <td>0.525000</td>\n",
       "      <td>0.358417</td>\n",
       "      <td>0.433333</td>\n",
       "      <td>0.479104</td>\n",
       "      <td>0.303207</td>\n",
       "      <td>0.203774</td>\n",
       "      <td>0.195833</td>\n",
       "      <td>0.428571</td>\n",
       "      <td>0.319444</td>\n",
       "    </tr>\n",
       "    <tr>\n",
       "      <th>75%</th>\n",
       "      <td>0.641667</td>\n",
       "      <td>0.566234</td>\n",
       "      <td>0.550000</td>\n",
       "      <td>0.631343</td>\n",
       "      <td>0.460641</td>\n",
       "      <td>0.313208</td>\n",
       "      <td>0.283333</td>\n",
       "      <td>0.551020</td>\n",
       "      <td>0.472222</td>\n",
       "    </tr>\n",
       "    <tr>\n",
       "      <th>max</th>\n",
       "      <td>1.000000</td>\n",
       "      <td>1.000000</td>\n",
       "      <td>1.000000</td>\n",
       "      <td>1.000000</td>\n",
       "      <td>1.000000</td>\n",
       "      <td>1.000000</td>\n",
       "      <td>1.000000</td>\n",
       "      <td>1.000000</td>\n",
       "      <td>1.000000</td>\n",
       "    </tr>\n",
       "  </tbody>\n",
       "</table>\n",
       "</div>"
      ],
      "text/plain": [
       "           height  curb-weight       width      length  wheel-base  \\\n",
       "count  202.000000   202.000000  202.000000  202.000000  202.000000   \n",
       "mean     0.496493     0.414259    0.467533    0.491414    0.356652   \n",
       "std      0.201997     0.203454    0.179702    0.185236    0.175445   \n",
       "min      0.000000     0.000000    0.000000    0.000000    0.000000   \n",
       "25%      0.350000     0.254849    0.310417    0.376119    0.230321   \n",
       "50%      0.525000     0.358417    0.433333    0.479104    0.303207   \n",
       "75%      0.641667     0.566234    0.550000    0.631343    0.460641   \n",
       "max      1.000000     1.000000    1.000000    1.000000    1.000000   \n",
       "\n",
       "       engine-size  horsepower    peak-rpm    city-mpg  \n",
       "count   202.000000  202.000000  202.000000  202.000000  \n",
       "mean      0.248459    0.234262    0.398363    0.340622  \n",
       "std       0.158297    0.165876    0.196099    0.182783  \n",
       "min       0.000000    0.000000    0.000000    0.000000  \n",
       "25%       0.135849    0.091667    0.265306    0.166667  \n",
       "50%       0.203774    0.195833    0.428571    0.319444  \n",
       "75%       0.313208    0.283333    0.551020    0.472222  \n",
       "max       1.000000    1.000000    1.000000    1.000000  "
      ]
     },
     "execution_count": 610,
     "metadata": {},
     "output_type": "execute_result"
    }
   ],
   "source": [
    "cars_df_copy.describe()"
   ]
  },
  {
   "cell_type": "code",
   "execution_count": 611,
   "id": "58a02ca0",
   "metadata": {},
   "outputs": [
    {
     "data": {
      "text/html": [
       "<div>\n",
       "<style scoped>\n",
       "    .dataframe tbody tr th:only-of-type {\n",
       "        vertical-align: middle;\n",
       "    }\n",
       "\n",
       "    .dataframe tbody tr th {\n",
       "        vertical-align: top;\n",
       "    }\n",
       "\n",
       "    .dataframe thead th {\n",
       "        text-align: right;\n",
       "    }\n",
       "</style>\n",
       "<table border=\"1\" class=\"dataframe\">\n",
       "  <thead>\n",
       "    <tr style=\"text-align: right;\">\n",
       "      <th></th>\n",
       "      <th>height</th>\n",
       "      <th>curb-weight</th>\n",
       "      <th>width</th>\n",
       "      <th>length</th>\n",
       "      <th>wheel-base</th>\n",
       "      <th>engine-size</th>\n",
       "      <th>horsepower</th>\n",
       "      <th>peak-rpm</th>\n",
       "      <th>city-mpg</th>\n",
       "    </tr>\n",
       "  </thead>\n",
       "  <tbody>\n",
       "  </tbody>\n",
       "</table>\n",
       "</div>"
      ],
      "text/plain": [
       "Empty DataFrame\n",
       "Columns: [height, curb-weight, width, length, wheel-base, engine-size, horsepower, peak-rpm, city-mpg]\n",
       "Index: []"
      ]
     },
     "execution_count": 611,
     "metadata": {},
     "output_type": "execute_result"
    }
   ],
   "source": [
    "cars_df_copy[cars_df_copy.isnull().any(axis=1)]\n",
    "#it appears that we don't have any NANs in this df"
   ]
  },
  {
   "cell_type": "code",
   "execution_count": 612,
   "id": "96c6a514",
   "metadata": {
    "scrolled": true
   },
   "outputs": [
    {
     "data": {
      "image/png": "[encoded data removed]",
      "text/plain": [
       "<Figure size 1440x1080 with 9 Axes>"
      ]
     },
     "metadata": {},
     "output_type": "display_data"
    }
   ],
   "source": [
    "fig, axs  = plt.subplots(3,3,facecolor='white')\n",
    "fig.set_size_inches(20,15)\n",
    "axs[0,0].hist(cars_df_copy.height,color='skyblue')\n",
    "axs[0,0].set_title('height')\n",
    "axs[0,1].hist(cars_df_copy.width,color='lime')\n",
    "axs[0,1].set_title('width')\n",
    "axs[0,2].hist(cars_df_copy.length,color='cyan')\n",
    "axs[0,2].set_title('length')\n",
    "axs[1,0].hist(cars_df_copy['wheel-base'],color='lightpink')\n",
    "axs[1,0].set_title('wheel-base')\n",
    "axs[1,1].hist(cars_df_copy['engine-size'],color='olive')\n",
    "axs[1,1].set_title('engine-size')\n",
    "axs[1,2].hist(cars_df_copy['horsepower'],color='slateblue')\n",
    "axs[1,2].set_title('horsepower')\n",
    "axs[2,0].hist(cars_df_copy['peak-rpm'],color='tab:pink')\n",
    "axs[2,0].set_title('peak-rpm')\n",
    "axs[2,1].hist(cars_df_copy['city-mpg'],color='tab:red')\n",
    "axs[2,1].set_title('city-mpg')\n",
    "axs[2,2].hist(cars_df_copy['curb-weight'],color='tab:blue')\n",
    "axs[2,2].set_title('curb-weight')\n",
    "plt.show()"
   ]
  },
  {
   "cell_type": "code",
   "execution_count": 613,
   "id": "ba8ee855",
   "metadata": {},
   "outputs": [
    {
     "data": {
      "image/png": "[encoded data removed]",
      "text/plain": [
       "<Figure size 1440x1080 with 9 Axes>"
      ]
     },
     "metadata": {
      "needs_background": "light"
     },
     "output_type": "display_data"
    }
   ],
   "source": [
    "fig, axs  =plt.subplots(3,3)\n",
    "fig.set_size_inches(20,15)\n",
    "axs[0,0].boxplot(cars_df_copy.height)\n",
    "axs[0,0].set_title('height')\n",
    "axs[0,1].boxplot(cars_df_copy.width)\n",
    "axs[0,1].set_title('width')\n",
    "axs[0,2].boxplot(cars_df_copy.length)\n",
    "axs[0,2].set_title('length')\n",
    "axs[1,0].boxplot(cars_df_copy['wheel-base'])\n",
    "axs[1,0].set_title('wheel-base')\n",
    "axs[1,1].boxplot(cars_df_copy['engine-size'])\n",
    "axs[1,1].set_title('engine-size')\n",
    "axs[1,2].boxplot(cars_df_copy['horsepower'])\n",
    "axs[1,2].set_title('horsepower')\n",
    "axs[2,0].boxplot(cars_df_copy['peak-rpm'])\n",
    "axs[2,0].set_title('peak-rpm')\n",
    "axs[2,1].boxplot(cars_df_copy['city-mpg'])\n",
    "axs[2,1].set_title('city-mpg')\n",
    "axs[2,2].boxplot(cars_df_copy['curb-weight'])\n",
    "axs[2,2].set_title('curb-weight')\n",
    "plt.show()"
   ]
  },
  {
   "cell_type": "code",
   "execution_count": 614,
   "id": "1a9bb203",
   "metadata": {
    "scrolled": false
   },
   "outputs": [
    {
     "data": {
      "image/png": "[encoded data removed]",
      "text/plain": [
       "<Figure size 720x576 with 2 Axes>"
      ]
     },
     "metadata": {
      "needs_background": "light"
     },
     "output_type": "display_data"
    },
    {
     "data": {
      "text/html": [
       "<div>\n",
       "<style scoped>\n",
       "    .dataframe tbody tr th:only-of-type {\n",
       "        vertical-align: middle;\n",
       "    }\n",
       "\n",
       "    .dataframe tbody tr th {\n",
       "        vertical-align: top;\n",
       "    }\n",
       "\n",
       "    .dataframe thead th {\n",
       "        text-align: right;\n",
       "    }\n",
       "</style>\n",
       "<table border=\"1\" class=\"dataframe\">\n",
       "  <thead>\n",
       "    <tr style=\"text-align: right;\">\n",
       "      <th></th>\n",
       "      <th>height</th>\n",
       "      <th>curb-weight</th>\n",
       "      <th>width</th>\n",
       "      <th>length</th>\n",
       "      <th>wheel-base</th>\n",
       "      <th>engine-size</th>\n",
       "      <th>horsepower</th>\n",
       "      <th>peak-rpm</th>\n",
       "      <th>city-mpg</th>\n",
       "    </tr>\n",
       "  </thead>\n",
       "  <tbody>\n",
       "    <tr>\n",
       "      <th>height</th>\n",
       "      <td>1.000000</td>\n",
       "      <td>0.298701</td>\n",
       "      <td>0.276980</td>\n",
       "      <td>0.494804</td>\n",
       "      <td>0.584641</td>\n",
       "      <td>0.069403</td>\n",
       "      <td>-0.110136</td>\n",
       "      <td>-0.328303</td>\n",
       "      <td>-0.057259</td>\n",
       "    </tr>\n",
       "    <tr>\n",
       "      <th>curb-weight</th>\n",
       "      <td>0.298701</td>\n",
       "      <td>1.000000</td>\n",
       "      <td>0.869177</td>\n",
       "      <td>0.879130</td>\n",
       "      <td>0.782315</td>\n",
       "      <td>0.850834</td>\n",
       "      <td>0.751101</td>\n",
       "      <td>-0.266372</td>\n",
       "      <td>-0.758981</td>\n",
       "    </tr>\n",
       "    <tr>\n",
       "      <th>width</th>\n",
       "      <td>0.276980</td>\n",
       "      <td>0.869177</td>\n",
       "      <td>1.000000</td>\n",
       "      <td>0.841259</td>\n",
       "      <td>0.797597</td>\n",
       "      <td>0.737059</td>\n",
       "      <td>0.644356</td>\n",
       "      <td>-0.221468</td>\n",
       "      <td>-0.646831</td>\n",
       "    </tr>\n",
       "    <tr>\n",
       "      <th>length</th>\n",
       "      <td>0.494804</td>\n",
       "      <td>0.879130</td>\n",
       "      <td>0.841259</td>\n",
       "      <td>1.000000</td>\n",
       "      <td>0.881246</td>\n",
       "      <td>0.684077</td>\n",
       "      <td>0.555641</td>\n",
       "      <td>-0.288046</td>\n",
       "      <td>-0.672929</td>\n",
       "    </tr>\n",
       "    <tr>\n",
       "      <th>wheel-base</th>\n",
       "      <td>0.584641</td>\n",
       "      <td>0.782315</td>\n",
       "      <td>0.797597</td>\n",
       "      <td>0.881246</td>\n",
       "      <td>1.000000</td>\n",
       "      <td>0.575165</td>\n",
       "      <td>0.356268</td>\n",
       "      <td>-0.365896</td>\n",
       "      <td>-0.481938</td>\n",
       "    </tr>\n",
       "    <tr>\n",
       "      <th>engine-size</th>\n",
       "      <td>0.069403</td>\n",
       "      <td>0.850834</td>\n",
       "      <td>0.737059</td>\n",
       "      <td>0.684077</td>\n",
       "      <td>0.575165</td>\n",
       "      <td>1.000000</td>\n",
       "      <td>0.810779</td>\n",
       "      <td>-0.244565</td>\n",
       "      <td>-0.654114</td>\n",
       "    </tr>\n",
       "    <tr>\n",
       "      <th>horsepower</th>\n",
       "      <td>-0.110136</td>\n",
       "      <td>0.751101</td>\n",
       "      <td>0.644356</td>\n",
       "      <td>0.555641</td>\n",
       "      <td>0.356268</td>\n",
       "      <td>0.810779</td>\n",
       "      <td>1.000000</td>\n",
       "      <td>0.131224</td>\n",
       "      <td>-0.803966</td>\n",
       "    </tr>\n",
       "    <tr>\n",
       "      <th>peak-rpm</th>\n",
       "      <td>-0.328303</td>\n",
       "      <td>-0.266372</td>\n",
       "      <td>-0.221468</td>\n",
       "      <td>-0.288046</td>\n",
       "      <td>-0.365896</td>\n",
       "      <td>-0.244565</td>\n",
       "      <td>0.131224</td>\n",
       "      <td>1.000000</td>\n",
       "      <td>-0.114766</td>\n",
       "    </tr>\n",
       "    <tr>\n",
       "      <th>city-mpg</th>\n",
       "      <td>-0.057259</td>\n",
       "      <td>-0.758981</td>\n",
       "      <td>-0.646831</td>\n",
       "      <td>-0.672929</td>\n",
       "      <td>-0.481938</td>\n",
       "      <td>-0.654114</td>\n",
       "      <td>-0.803966</td>\n",
       "      <td>-0.114766</td>\n",
       "      <td>1.000000</td>\n",
       "    </tr>\n",
       "  </tbody>\n",
       "</table>\n",
       "</div>"
      ],
      "text/plain": [
       "               height  curb-weight     width    length  wheel-base  \\\n",
       "height       1.000000     0.298701  0.276980  0.494804    0.584641   \n",
       "curb-weight  0.298701     1.000000  0.869177  0.879130    0.782315   \n",
       "width        0.276980     0.869177  1.000000  0.841259    0.797597   \n",
       "length       0.494804     0.879130  0.841259  1.000000    0.881246   \n",
       "wheel-base   0.584641     0.782315  0.797597  0.881246    1.000000   \n",
       "engine-size  0.069403     0.850834  0.737059  0.684077    0.575165   \n",
       "horsepower  -0.110136     0.751101  0.644356  0.555641    0.356268   \n",
       "peak-rpm    -0.328303    -0.266372 -0.221468 -0.288046   -0.365896   \n",
       "city-mpg    -0.057259    -0.758981 -0.646831 -0.672929   -0.481938   \n",
       "\n",
       "             engine-size  horsepower  peak-rpm  city-mpg  \n",
       "height          0.069403   -0.110136 -0.328303 -0.057259  \n",
       "curb-weight     0.850834    0.751101 -0.266372 -0.758981  \n",
       "width           0.737059    0.644356 -0.221468 -0.646831  \n",
       "length          0.684077    0.555641 -0.288046 -0.672929  \n",
       "wheel-base      0.575165    0.356268 -0.365896 -0.481938  \n",
       "engine-size     1.000000    0.810779 -0.244565 -0.654114  \n",
       "horsepower      0.810779    1.000000  0.131224 -0.803966  \n",
       "peak-rpm       -0.244565    0.131224  1.000000 -0.114766  \n",
       "city-mpg       -0.654114   -0.803966 -0.114766  1.000000  "
      ]
     },
     "execution_count": 614,
     "metadata": {},
     "output_type": "execute_result"
    }
   ],
   "source": [
    "fig, ax = plt.subplots(figsize=(10,8))\n",
    "sns.heatmap(cars_df_copy.corr(), \n",
    "        xticklabels=cars_df_copy.columns,\n",
    "        yticklabels=cars_df_copy.columns)\n",
    "plt.show()\n",
    "cars_df_copy.corr()"
   ]
  },
  {
   "cell_type": "markdown",
   "id": "e6f6604e",
   "metadata": {},
   "source": [
    "<pre>\n",
    "Looking at the above correlation matrix, we see some variables which show high correlation with curb-weight (both positive and negative correlations).\n",
    "\n",
    "In the next steps we will be working on regression models and we will be focusing on some of these variables (or features).\n",
    "\n",
    "Some variables worth mentioning include:\n",
    "['city-mpg', 'width', 'length', 'peak-rpm', 'engine-size']\n",
    "\n",
    "We will try a couple of combinations using these 5 variables\n",
    "</pre>"
   ]
  },
  {
   "cell_type": "markdown",
   "id": "f3945999",
   "metadata": {},
   "source": [
    "## 5. Regression Warm-up ☀️\n",
    "### Using engine-size for simple linear regression model"
   ]
  },
  {
   "cell_type": "code",
   "execution_count": 680,
   "id": "7b1f6458",
   "metadata": {},
   "outputs": [],
   "source": [
    "import numpy as np\n",
    "from sklearn.linear_model import LinearRegression"
   ]
  },
  {
   "cell_type": "code",
   "execution_count": 681,
   "id": "6e719c6f",
   "metadata": {},
   "outputs": [],
   "source": [
    "test_sizer = lambda x: int(len(x)*.8)"
   ]
  },
  {
   "cell_type": "code",
   "execution_count": 682,
   "id": "bdbed05d",
   "metadata": {},
   "outputs": [
    {
     "data": {
      "text/plain": [
       "161"
      ]
     },
     "execution_count": 682,
     "metadata": {},
     "output_type": "execute_result"
    }
   ],
   "source": [
    "len(cars_df_copy['engine-size'][:test_sizer(cars_df_copy['engine-size'])])"
   ]
  },
  {
   "cell_type": "code",
   "execution_count": 683,
   "id": "9a82f042",
   "metadata": {},
   "outputs": [],
   "source": [
    "train_end_index = test_sizer(cars_df_copy['engine-size'])\n",
    "\n",
    "x_train = np.array(cars_df_copy['engine-size'][:train_end_index]).reshape((-1,1))\n",
    "y_train = np.array(cars_df_copy['curb-weight'][:train_end_index])\n",
    "\n",
    "\n",
    "x_test = np.array(cars_df_copy['engine-size'][train_end_index:]).reshape((-1,1))\n",
    "y_test = np.array(cars_df_copy['curb-weight'][train_end_index:])"
   ]
  },
  {
   "cell_type": "code",
   "execution_count": 684,
   "id": "1adbc8f4",
   "metadata": {},
   "outputs": [],
   "source": [
    "model = LinearRegression().fit(x_train,y_train)"
   ]
  },
  {
   "cell_type": "code",
   "execution_count": 685,
   "id": "b2f101a7",
   "metadata": {},
   "outputs": [
    {
     "name": "stdout",
     "output_type": "stream",
     "text": [
      "coefficient of determination: 0.5641941051577479\n"
     ]
    }
   ],
   "source": [
    "r_sq = model.score(x_test,y_test)\n",
    "print(f\"coefficient of determination: {r_sq}\")"
   ]
  },
  {
   "cell_type": "code",
   "execution_count": 686,
   "id": "50517b19",
   "metadata": {},
   "outputs": [
    {
     "name": "stdout",
     "output_type": "stream",
     "text": [
      "intercept: 0.13829118000128587\n",
      "slope: [1.08273589]\n"
     ]
    }
   ],
   "source": [
    "print(f\"intercept: {model.intercept_}\")\n",
    "print(f\"slope: {model.coef_}\")\n",
    "b = model.intercept_\n",
    "m = model.coef_"
   ]
  },
  {
   "cell_type": "code",
   "execution_count": 687,
   "id": "87251468",
   "metadata": {},
   "outputs": [
    {
     "name": "stdout",
     "output_type": "stream",
     "text": [
      "predicted response:\n",
      "[[0.28946563]\n",
      " [0.28946563]\n",
      " [0.28946563]\n",
      " [0.48558382]\n",
      " [0.48558382]\n",
      " [0.48558382]\n",
      " [0.48558382]\n",
      " [0.48558382]\n",
      " [0.48558382]\n",
      " [0.38752473]\n",
      " [0.33849518]\n",
      " [0.38752473]\n",
      " [0.38752473]\n",
      " [0.38752473]\n",
      " [0.58772872]\n",
      " [0.58772872]\n",
      " [0.58772872]\n",
      " [0.54687076]\n",
      " [0.28537983]\n",
      " [0.33440938]\n",
      " [0.28537983]\n",
      " [0.33440938]\n",
      " [0.33440938]\n",
      " [0.28537983]\n",
      " [0.33440938]\n",
      " [0.33440938]\n",
      " [0.33440938]\n",
      " [0.44472587]\n",
      " [0.28537983]\n",
      " [0.33440938]\n",
      " [0.46515485]\n",
      " [0.46515485]\n",
      " [0.46515485]\n",
      " [0.46515485]\n",
      " [0.42021109]\n",
      " [0.42021109]\n",
      " [0.46515485]\n",
      " [0.46515485]\n",
      " [0.59590031]\n",
      " [0.48149803]\n",
      " [0.46515485]]\n"
     ]
    }
   ],
   "source": [
    "y_pred = model.intercept_ + model.coef_ * x_test\n",
    "print(f\"predicted response:\\n{y_pred}\")"
   ]
  },
  {
   "cell_type": "code",
   "execution_count": 688,
   "id": "db9a1ce9",
   "metadata": {},
   "outputs": [
    {
     "data": {
      "image/png": "[encoded data removed]",
      "text/plain": [
       "<Figure size 720x540 with 1 Axes>"
      ]
     },
     "metadata": {
      "needs_background": "light"
     },
     "output_type": "display_data"
    }
   ],
   "source": [
    "fig = plt.figure()\n",
    "ax1 = fig.add_subplot(111)\n",
    "fig.set_size_inches(10,7.5)\n",
    "\n",
    "ax1.scatter(x_train, y_train, s=10, c='b', marker=\"o\", label='sample data')\n",
    "ax1.scatter(x_test,y_pred, s=10, c='r', marker=\"o\", label='predicted y values given test data')\n",
    "ax1.axline(xy1=(0, b), slope=m, color='tab:green', label='line of best fit on sample data')\n",
    "plt.legend(loc='upper left',fontsize='15')\n",
    "plt.title('Linear regression curb-weight (based on engine size)',size='16')\n",
    "plt.show()"
   ]
  },
  {
   "cell_type": "code",
   "execution_count": 689,
   "id": "3bd9cb2a",
   "metadata": {
    "scrolled": false
   },
   "outputs": [
    {
     "data": {
      "image/png": "[encoded data removed]",
      "text/plain": [
       "<Figure size 720x540 with 1 Axes>"
      ]
     },
     "metadata": {
      "needs_background": "light"
     },
     "output_type": "display_data"
    },
    {
     "name": "stdout",
     "output_type": "stream",
     "text": [
      "Error [[3.35646652e-06 3.47180802e-06 1.58687405e-05 ... 2.21992787e-03\n",
      "  3.54440348e-03 2.51452924e-03]\n",
      " [3.35646652e-06 3.47180802e-06 1.58687405e-05 ... 2.21992787e-03\n",
      "  3.54440348e-03 2.51452924e-03]\n",
      " [3.35646652e-06 3.47180802e-06 1.58687405e-05 ... 2.21992787e-03\n",
      "  3.54440348e-03 2.51452924e-03]\n",
      " ...\n",
      " [2.46900904e-03 2.11542770e-03 1.92488392e-03 ... 5.49002845e-07\n",
      "  1.36371835e-04 5.23505415e-06]\n",
      " [1.01267081e-03 7.91136233e-04 6.76356981e-04 ... 2.93289178e-04\n",
      "  8.72875714e-04 4.06210279e-04]\n",
      " [8.56739495e-04 6.54068740e-04 5.50112993e-04 ... 3.87226205e-04\n",
      "  1.03020756e-03 5.15609457e-04]]\n"
     ]
    }
   ],
   "source": [
    "fig = plt.figure()\n",
    "ax1 = fig.add_subplot(111)\n",
    "fig.set_size_inches(10,7.5)\n",
    "\n",
    "ax1.scatter(x_test, y_test, s=10, c='b', marker=\"o\", label='actual x,y vals for test')\n",
    "ax1.scatter(x_test,y_pred, s=10, c='r', marker=\"o\", label='predicted y values given test data')\n",
    "# ax1.axline(xy1=(0, b), slope=m, color='tab:green', label='line of best fit on sample data')\n",
    "plt.legend(loc='upper left',fontsize='15')\n",
    "plt.title('Pred vs Actual (error)',size='16')\n",
    "plt.show()\n",
    "print('Error' ,(y_pred-y_test)**2/len(y_pred))"
   ]
  },
  {
   "cell_type": "code",
   "execution_count": 690,
   "id": "8490f827",
   "metadata": {
    "scrolled": false
   },
   "outputs": [
    {
     "data": {
      "image/png": "[encoded data removed]",
      "text/plain": [
       "<Figure size 432x288 with 1 Axes>"
      ]
     },
     "metadata": {
      "needs_background": "light"
     },
     "output_type": "display_data"
    }
   ],
   "source": [
    "error = (np.array([y_test]).T - y_pred)**2/len(y_pred)\n",
    "plt.plot(error)\n",
    "\n",
    "plt.title('error')\n",
    "plt.show()\n"
   ]
  },
  {
   "cell_type": "markdown",
   "id": "48f8cb97",
   "metadata": {},
   "source": [
    "## 6. Multiple Regression Model(s) 🔥🔮\n",
    "**Bulding on information from the EDA step, we find variables which prove to be highly effective for regression**"
   ]
  },
  {
   "cell_type": "markdown",
   "id": "9bae7c18",
   "metadata": {},
   "source": [
    "#### Below, adhering to the DRY principle, we define a function which will make things easier down the line"
   ]
  },
  {
   "cell_type": "code",
   "execution_count": 691,
   "id": "12f21151",
   "metadata": {},
   "outputs": [],
   "source": [
    "def r_sq_calculator(x, y):\n",
    "    train_end_index = test_sizer(cars_df_copy['engine-size'])\n",
    "    x_train = np.array(x[:train_end_index])\n",
    "    y_train = np.array(y[:train_end_index])\n",
    "\n",
    "    x_test = np.array(x[train_end_index:])\n",
    "    y_test = np.array(y[train_end_index:])\n",
    "    model = LinearRegression().fit(x_train,y_train)\n",
    "    r_sq = model.score(x_test, y_test)\n",
    "#     print(f\"coefficient of determination: {r_sq}\")\n",
    "#     print(f\"intercept: {model.intercept_}\")\n",
    "#     print(f\"slope: {model.coef_}\")\n",
    "    b = model.intercept_\n",
    "    m = model.coef_\n",
    "    y_pred = model.intercept_ + model.coef_ * x_test\n",
    "#     print(f\"predicted response:\\n{y_pred}\")\n",
    "#     fig = plt.figure()\n",
    "#     ax1 = fig.add_subplot(111)\n",
    "#     fig.set_size_inches(10,7.5)\n",
    "#     print(y_test.shape,y_pred.shape)\n",
    "#     sns.regplot(x=y_test, y=y_pred, ci=None, color=\"b\")\n",
    "#     ax1.scatter(x_train, y_train, s=10, c='b', marker=\"o\", label='sample data')\n",
    "#     ax1.scatter(x_test,y_pred, s=10, c='r', marker=\"o\", label='predicted y values given test data')\n",
    "    \n",
    "#     return y_test, y_pred, m, b\n",
    "    return r_sq, list(x.columns)"
   ]
  },
  {
   "cell_type": "markdown",
   "id": "a0706fcd",
   "metadata": {},
   "source": [
    "**Below, we take a few important variables from the df**\n",
    "\n",
    "**In the code-cell following this one, we do the same things many times**\n",
    "\n",
    "**Showing here to add a visual element**"
   ]
  },
  {
   "cell_type": "code",
   "execution_count": 692,
   "id": "47c14944",
   "metadata": {},
   "outputs": [
    {
     "data": {
      "text/html": [
       "<div>\n",
       "<style scoped>\n",
       "    .dataframe tbody tr th:only-of-type {\n",
       "        vertical-align: middle;\n",
       "    }\n",
       "\n",
       "    .dataframe tbody tr th {\n",
       "        vertical-align: top;\n",
       "    }\n",
       "\n",
       "    .dataframe thead th {\n",
       "        text-align: right;\n",
       "    }\n",
       "</style>\n",
       "<table border=\"1\" class=\"dataframe\">\n",
       "  <thead>\n",
       "    <tr style=\"text-align: right;\">\n",
       "      <th></th>\n",
       "      <th>city-mpg</th>\n",
       "      <th>engine-size</th>\n",
       "      <th>height</th>\n",
       "    </tr>\n",
       "  </thead>\n",
       "  <tbody>\n",
       "    <tr>\n",
       "      <th>0</th>\n",
       "      <td>0.222222</td>\n",
       "      <td>0.260377</td>\n",
       "      <td>0.083333</td>\n",
       "    </tr>\n",
       "    <tr>\n",
       "      <th>1</th>\n",
       "      <td>0.166667</td>\n",
       "      <td>0.343396</td>\n",
       "      <td>0.383333</td>\n",
       "    </tr>\n",
       "    <tr>\n",
       "      <th>2</th>\n",
       "      <td>0.305556</td>\n",
       "      <td>0.181132</td>\n",
       "      <td>0.541667</td>\n",
       "    </tr>\n",
       "    <tr>\n",
       "      <th>3</th>\n",
       "      <td>0.138889</td>\n",
       "      <td>0.283019</td>\n",
       "      <td>0.541667</td>\n",
       "    </tr>\n",
       "    <tr>\n",
       "      <th>4</th>\n",
       "      <td>0.166667</td>\n",
       "      <td>0.283019</td>\n",
       "      <td>0.441667</td>\n",
       "    </tr>\n",
       "    <tr>\n",
       "      <th>...</th>\n",
       "      <td>...</td>\n",
       "      <td>...</td>\n",
       "      <td>...</td>\n",
       "    </tr>\n",
       "    <tr>\n",
       "      <th>199</th>\n",
       "      <td>0.277778</td>\n",
       "      <td>0.301887</td>\n",
       "      <td>0.641667</td>\n",
       "    </tr>\n",
       "    <tr>\n",
       "      <th>200</th>\n",
       "      <td>0.166667</td>\n",
       "      <td>0.301887</td>\n",
       "      <td>0.641667</td>\n",
       "    </tr>\n",
       "    <tr>\n",
       "      <th>201</th>\n",
       "      <td>0.138889</td>\n",
       "      <td>0.422642</td>\n",
       "      <td>0.641667</td>\n",
       "    </tr>\n",
       "    <tr>\n",
       "      <th>202</th>\n",
       "      <td>0.361111</td>\n",
       "      <td>0.316981</td>\n",
       "      <td>0.641667</td>\n",
       "    </tr>\n",
       "    <tr>\n",
       "      <th>203</th>\n",
       "      <td>0.166667</td>\n",
       "      <td>0.301887</td>\n",
       "      <td>0.641667</td>\n",
       "    </tr>\n",
       "  </tbody>\n",
       "</table>\n",
       "<p>202 rows × 3 columns</p>\n",
       "</div>"
      ],
      "text/plain": [
       "     city-mpg  engine-size    height\n",
       "0    0.222222     0.260377  0.083333\n",
       "1    0.166667     0.343396  0.383333\n",
       "2    0.305556     0.181132  0.541667\n",
       "3    0.138889     0.283019  0.541667\n",
       "4    0.166667     0.283019  0.441667\n",
       "..        ...          ...       ...\n",
       "199  0.277778     0.301887  0.641667\n",
       "200  0.166667     0.301887  0.641667\n",
       "201  0.138889     0.422642  0.641667\n",
       "202  0.361111     0.316981  0.641667\n",
       "203  0.166667     0.301887  0.641667\n",
       "\n",
       "[202 rows x 3 columns]"
      ]
     },
     "execution_count": 692,
     "metadata": {},
     "output_type": "execute_result"
    }
   ],
   "source": [
    "cars_ex_vars_1 = cars_df_copy[['city-mpg', 'engine-size', 'height']]\n",
    "cars_ex_vars_1"
   ]
  },
  {
   "cell_type": "markdown",
   "id": "15bc422c",
   "metadata": {},
   "source": [
    "**Due to the size of our dataset we have the option of trying many different variable combinations to find the variables which offer the highest r-square model score**\n",
    "(We could possible use this same technique even on a larger dataset, by focusing on a smaller sample)"
   ]
  },
  {
   "cell_type": "code",
   "execution_count": 693,
   "id": "da8c33b3",
   "metadata": {},
   "outputs": [
    {
     "data": {
      "text/plain": [
       "[('city-mpg',),\n",
       " ('width',),\n",
       " ('length',),\n",
       " ('peak-rpm',),\n",
       " ('engine-size',),\n",
       " ('city-mpg', 'width'),\n",
       " ('city-mpg', 'length'),\n",
       " ('city-mpg', 'peak-rpm'),\n",
       " ('city-mpg', 'engine-size'),\n",
       " ('width', 'length'),\n",
       " ('width', 'peak-rpm'),\n",
       " ('width', 'engine-size'),\n",
       " ('length', 'peak-rpm'),\n",
       " ('length', 'engine-size'),\n",
       " ('peak-rpm', 'engine-size'),\n",
       " ('city-mpg', 'width', 'length'),\n",
       " ('city-mpg', 'width', 'peak-rpm'),\n",
       " ('city-mpg', 'width', 'engine-size'),\n",
       " ('city-mpg', 'length', 'peak-rpm'),\n",
       " ('city-mpg', 'length', 'engine-size'),\n",
       " ('city-mpg', 'peak-rpm', 'engine-size'),\n",
       " ('width', 'length', 'peak-rpm'),\n",
       " ('width', 'length', 'engine-size'),\n",
       " ('width', 'peak-rpm', 'engine-size'),\n",
       " ('length', 'peak-rpm', 'engine-size'),\n",
       " ('city-mpg', 'width', 'length', 'peak-rpm'),\n",
       " ('city-mpg', 'width', 'length', 'engine-size'),\n",
       " ('city-mpg', 'width', 'peak-rpm', 'engine-size'),\n",
       " ('city-mpg', 'length', 'peak-rpm', 'engine-size'),\n",
       " ('width', 'length', 'peak-rpm', 'engine-size'),\n",
       " ('city-mpg', 'width', 'length', 'peak-rpm', 'engine-size')]"
      ]
     },
     "metadata": {},
     "output_type": "display_data"
    }
   ],
   "source": [
    "import itertools\n",
    "main_vars = ['city-mpg', 'width','length', 'peak-rpm', 'engine-size']\n",
    "all_combos = []\n",
    "# get all possible combinations of these variable \n",
    "# (all of which are highly correlated with curb-weight)\n",
    "for i in range(1,len(main_vars)+1):\n",
    "    all_combos += list(itertools.combinations(main_vars, i))\n",
    "                       \n",
    "display(all_combos)"
   ]
  },
  {
   "cell_type": "code",
   "execution_count": 694,
   "id": "4a789918",
   "metadata": {},
   "outputs": [
    {
     "data": {
      "text/plain": [
       "[(-0.5742301902119424, ['peak-rpm']),\n",
       " (0.25221086468569864, ['city-mpg', 'peak-rpm']),\n",
       " (0.3669449978265047, ['city-mpg']),\n",
       " (0.4569717564287217, ['width', 'peak-rpm']),\n",
       " (0.5003578439278757, ['city-mpg', 'peak-rpm', 'engine-size']),\n",
       " (0.5023725145160172, ['peak-rpm', 'engine-size']),\n",
       " (0.5641941051577479, ['engine-size']),\n",
       " (0.5866278336750419, ['city-mpg', 'engine-size']),\n",
       " (0.5926150834866124, ['width']),\n",
       " (0.5975278467562708, ['city-mpg', 'width', 'peak-rpm']),\n",
       " (0.6787316259184516, ['width', 'length', 'peak-rpm']),\n",
       " (0.6820785675343759, ['city-mpg', 'width', 'peak-rpm', 'engine-size']),\n",
       " (0.6903906915267017, ['width', 'peak-rpm', 'engine-size']),\n",
       " (0.7140804770692379, ['width', 'length']),\n",
       " (0.7260886138222189, ['length', 'peak-rpm']),\n",
       " (0.7286912693687297, ['city-mpg', 'width', 'length', 'peak-rpm']),\n",
       " (0.7324795259562573, ['length']),\n",
       " (0.7434554584534786, ['city-mpg', 'width']),\n",
       " (0.757280528449271, ['width', 'engine-size']),\n",
       " (0.7853607963145446, ['city-mpg', 'length', 'peak-rpm']),\n",
       " (0.7870247832097212, ['city-mpg', 'width', 'engine-size']),\n",
       " (0.8121482956665884, ['city-mpg', 'width', 'length']),\n",
       " (0.8142853284110568,\n",
       "  ['city-mpg', 'width', 'length', 'peak-rpm', 'engine-size']),\n",
       " (0.8281955959129487, ['city-mpg', 'length']),\n",
       " (0.8400492208880418, ['city-mpg', 'length', 'peak-rpm', 'engine-size']),\n",
       " (0.8403700764898161, ['width', 'length', 'peak-rpm', 'engine-size']),\n",
       " (0.8523572920659767, ['width', 'length', 'engine-size']),\n",
       " (0.8678328399312827, ['city-mpg', 'width', 'length', 'engine-size']),\n",
       " (0.8681852196671713, ['length', 'peak-rpm', 'engine-size']),\n",
       " (0.8692892334778601, ['length', 'engine-size']),\n",
       " (0.8726413590554893, ['city-mpg', 'length', 'engine-size'])]"
      ]
     },
     "metadata": {},
     "output_type": "display_data"
    }
   ],
   "source": [
    "all_r_sqrs = []\n",
    "\n",
    "for combo in all_combos:\n",
    "    all_r_sqrs.append(r_sq_calculator(cars_df_copy[list(combo)], \n",
    "                                     cars_df_copy['curb-weight']))\n",
    "all_r_sqrs.sort()\n",
    "display(all_r_sqrs)\n",
    "best_r_sqr = max(all_r_sqrs)"
   ]
  },
  {
   "cell_type": "code",
   "execution_count": 695,
   "id": "a8cd9485",
   "metadata": {},
   "outputs": [
    {
     "name": "stdout",
     "output_type": "stream",
     "text": [
      "\n",
      "\n",
      "best r_sq and respective variables:\n",
      " (0.8726413590554893, ['city-mpg', 'length', 'engine-size'])\n"
     ]
    }
   ],
   "source": [
    "print('''\\n\\nbest r_sq and respective variables:\\n''',best_r_sqr)"
   ]
  },
  {
   "cell_type": "markdown",
   "id": "6c61eaf8",
   "metadata": {},
   "source": [
    "## 7. K Cross validation 🧪\n",
    "#### The code I'm using for cross-validation is from https://scikit-learn.org/stable/modules/cross_validation.html"
   ]
  },
  {
   "cell_type": "code",
   "execution_count": 731,
   "id": "1c306776",
   "metadata": {},
   "outputs": [],
   "source": [
    "from sklearn.model_selection import train_test_split\n",
    "from sklearn import datasets\n",
    "from sklearn import svm\n",
    "from sklearn import preprocessing\n",
    "from sklearn import utils"
   ]
  },
  {
   "cell_type": "code",
   "execution_count": 742,
   "id": "d0914d4d",
   "metadata": {},
   "outputs": [],
   "source": [
    "# cross_val_score will only work with int vals\n",
    "# new_cars_df = (cars_df_copy*100).astype('int')\n",
    "lab_enc = preprocessing.LabelEncoder()\n",
    "encoded = lab_enc.fit_transform(cars_df_copy['curb-weight'])"
   ]
  },
  {
   "cell_type": "code",
   "execution_count": 744,
   "id": "5a7438be",
   "metadata": {
    "scrolled": true
   },
   "outputs": [
    {
     "name": "stdout",
     "output_type": "stream",
     "text": [
      "0.02 accuracy with a standard deviation of 0.01\n"
     ]
    },
    {
     "name": "stderr",
     "output_type": "stream",
     "text": [
      "C:\\Users\\Wesso\\Anaconda3\\lib\\site-packages\\sklearn\\model_selection\\_split.py:668: UserWarning: The least populated class in y has only 1 members, which is less than n_splits=3.\n",
      "  % (min_groups, self.n_splits)), UserWarning)\n"
     ]
    }
   ],
   "source": [
    "X = cars_df_copy[all_r_sqrs[-1][1]]\n",
    "y = encoded\n",
    "clf = svm.SVC(kernel='linear', C=1, random_state=42, gamma='auto')\n",
    "scores = cross_val_score(clf, X, y, cv=3)\n",
    "print(\"%0.2f accuracy with a standard deviation of %0.2f\" % (scores.mean(), scores.std()))"
   ]
  },
  {
   "cell_type": "code",
   "execution_count": 741,
   "id": "f83e5f3e",
   "metadata": {
    "scrolled": true
   },
   "outputs": [
    {
     "name": "stdout",
     "output_type": "stream",
     "text": [
      "0.13 accuracy with a standard deviation of 0.02\n"
     ]
    },
    {
     "name": "stderr",
     "output_type": "stream",
     "text": [
      "C:\\Users\\Wesso\\Anaconda3\\lib\\site-packages\\sklearn\\model_selection\\_split.py:668: UserWarning: The least populated class in y has only 1 members, which is less than n_splits=3.\n",
      "  % (min_groups, self.n_splits)), UserWarning)\n"
     ]
    }
   ],
   "source": [
    "X, y = new_cars_df[all_r_sqrs[-2][1]], new_cars_df['curb-weight']\n",
    "clf = svm.SVC(kernel='linear', C=1, random_state=42)\n",
    "scores = cross_val_score(clf, X, y, cv=3)\n",
    "print(\"%0.2f accuracy with a standard deviation of %0.2f\" % (scores.mean(), scores.std()))"
   ]
  },
  {
   "cell_type": "markdown",
   "id": "13160419",
   "metadata": {},
   "source": [
    "#### Note: When I originally converted the numbers to int types, I did `new_cars_df = cars_df_copy.astype('int')` and I actually thought that my k-cross validation score was higher (like 95%). <br> Then I realized that I was actually converting all the normalized #s to 0. It's not too hard to predict 0 with a dataframe full of zeros... By the time I realized my mistake, it was kinda late. <br> And so, here we are with 20% accuracy. \n",
    "\n",
    "## Considering the high score for r_sqr, it's likely there's simply something wrong with the way I'm doing the cross validation. Either way, such is the way of coding..."
   ]
  },
  {
   "cell_type": "code",
   "execution_count": null,
   "id": "88998dc0",
   "metadata": {},
   "outputs": [],
   "source": []
  }
 ],
 "metadata": {
  "kernelspec": {
   "display_name": "Python 3",
   "language": "python",
   "name": "python3"
  },
  "language_info": {
   "codemirror_mode": {
    "name": "ipython",
    "version": 3
   },
   "file_extension": ".py",
   "mimetype": "text/x-python",
   "name": "python",
   "nbconvert_exporter": "python",
   "pygments_lexer": "ipython3",
   "version": "3.7.4"
  }
 },
 "nbformat": 4,
 "nbformat_minor": 5
}
