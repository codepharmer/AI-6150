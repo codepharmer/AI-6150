{
 "cells": [
  {
   "cell_type": "markdown",
   "id": "4888ff3a",
   "metadata": {},
   "source": [
    "**Nosson Weissman**\n",
    "\n",
    "**DAV 6150 - Data Science**\n",
    "\n",
    "**Professor James Topor**\n",
    "\n",
    "**Summer 2022**\n",
    "\n",
    "__DAV 6150  (Module 7): Logistic Regression__"
   ]
  },
  {
   "cell_type": "code",
   "execution_count": 115,
   "id": "744f9253",
   "metadata": {},
   "outputs": [],
   "source": [
    "import pandas as pd\n",
    "import numpy as np\n",
    "import matplotlib.pyplot as plt\n",
    "import seaborn as sns\n",
    "from patsy import dmatrices\n",
    "from sklearn.linear_model import LogisticRegression\n",
    "from sklearn.model_selection import train_test_split\n",
    "\n",
    "from sklearn import metrics\n",
    "from sklearn.model_selection import cross_val_score\n",
    "import statsmodels.api as sm"
   ]
  },
  {
   "cell_type": "markdown",
   "id": "98cd4155",
   "metadata": {},
   "source": [
    "## Intro\n",
    "\n",
    "\n",
    "Insurance company\n",
    "An insurance company wants to identify customers willing to buy a new product. They gathered data \n",
    "about customers to whom they offered the new product. You get information about whether they did or \n",
    "did not sign up for the new product, together with some customer information and information about \n",
    "their buying behavior of two other products. \n",
    "\n",
    "---------------\n",
    "| Variable | Description |\n",
    "-----------|------\n",
    "ID |Unique customer identifier\n",
    "Target| Indicator of buying the new product (0 = no, 1= \n",
    "yes)\n",
    "Loyalty level | from low to high (0 to 3), 99 = unclassified\n",
    "Age |Age in years\n",
    "City |Unique code per city\n",
    "Age_p |Age of partner in years\n",
    "LOR |Length of relationship in years\n",
    "LOR_m| Length of relationship in months\n",
    "Prod_A |Bought product A (0= no, 1=yes)\n",
    "Type_A |Type of product A \n",
    "Turnover_A| Amount of money spent on product A\n",
    "Prod_B |Bought product B (0= no, 1=yes)\n",
    "Type_B |Type of product B\n",
    "Turnover_B| Amount of money spent on product B\n",
    "Contract |Type of contract\n",
    "\n",
    "\n",
    "You can present us your results (max 25’) in which you cover the following topics: \n",
    "Which steps did you take in your analysis?\n",
    "Which statistical modelling techniques did you use and why?\n",
    "What are the results?\n",
    "Give a profile description of the customers who are likely to (not) buy the new product.\n",
    "Which customers should we target to do a marketing campaign for the new product?\n",
    "How accurate is your prediction of buying the new product?\n",
    "\n",
    "\n",
    "**In this assignment we are given a dataset containing anonymized customer data from an insurance company. <br>\n",
    "We are asked to use the categorical data to predict whether a customer is likely to buy another policy.**"
   ]
  },
  {
   "cell_type": "code",
   "execution_count": 159,
   "id": "dbad7a9c",
   "metadata": {},
   "outputs": [
    {
     "name": "stdout",
     "output_type": "stream",
     "text": [
      "data shape (14016, 15)\n"
     ]
    },
    {
     "data": {
      "text/html": [
       "<div>\n",
       "<style scoped>\n",
       "    .dataframe tbody tr th:only-of-type {\n",
       "        vertical-align: middle;\n",
       "    }\n",
       "\n",
       "    .dataframe tbody tr th {\n",
       "        vertical-align: top;\n",
       "    }\n",
       "\n",
       "    .dataframe thead th {\n",
       "        text-align: right;\n",
       "    }\n",
       "</style>\n",
       "<table border=\"1\" class=\"dataframe\">\n",
       "  <thead>\n",
       "    <tr style=\"text-align: right;\">\n",
       "      <th></th>\n",
       "      <th>TARGET</th>\n",
       "      <th>loyalty</th>\n",
       "      <th>ID</th>\n",
       "      <th>age</th>\n",
       "      <th>city</th>\n",
       "      <th>LOR</th>\n",
       "      <th>prod_A</th>\n",
       "      <th>type_A</th>\n",
       "      <th>type_B</th>\n",
       "      <th>prod_B</th>\n",
       "      <th>turnover_A</th>\n",
       "      <th>turnover_B</th>\n",
       "      <th>contract</th>\n",
       "      <th>age_P</th>\n",
       "      <th>lor_M</th>\n",
       "    </tr>\n",
       "  </thead>\n",
       "  <tbody>\n",
       "    <tr>\n",
       "      <th>0</th>\n",
       "      <td>Y</td>\n",
       "      <td>99</td>\n",
       "      <td>77</td>\n",
       "      <td>66</td>\n",
       "      <td>2</td>\n",
       "      <td>0</td>\n",
       "      <td>0</td>\n",
       "      <td>0</td>\n",
       "      <td>0</td>\n",
       "      <td>0</td>\n",
       "      <td>333.561114</td>\n",
       "      <td>264.721010</td>\n",
       "      <td>2</td>\n",
       "      <td>66</td>\n",
       "      <td>3</td>\n",
       "    </tr>\n",
       "    <tr>\n",
       "      <th>1</th>\n",
       "      <td>Y</td>\n",
       "      <td>1</td>\n",
       "      <td>159</td>\n",
       "      <td>45</td>\n",
       "      <td>2</td>\n",
       "      <td>3</td>\n",
       "      <td>1</td>\n",
       "      <td>3</td>\n",
       "      <td>3</td>\n",
       "      <td>1</td>\n",
       "      <td>394.735699</td>\n",
       "      <td>284.904978</td>\n",
       "      <td>2</td>\n",
       "      <td>45</td>\n",
       "      <td>39</td>\n",
       "    </tr>\n",
       "    <tr>\n",
       "      <th>2</th>\n",
       "      <td>Y</td>\n",
       "      <td>1</td>\n",
       "      <td>220</td>\n",
       "      <td>42</td>\n",
       "      <td>2</td>\n",
       "      <td>2</td>\n",
       "      <td>1</td>\n",
       "      <td>3</td>\n",
       "      <td>6</td>\n",
       "      <td>1</td>\n",
       "      <td>342.180990</td>\n",
       "      <td>1175.589721</td>\n",
       "      <td>2</td>\n",
       "      <td>42</td>\n",
       "      <td>27</td>\n",
       "    </tr>\n",
       "    <tr>\n",
       "      <th>3</th>\n",
       "      <td>Y</td>\n",
       "      <td>99</td>\n",
       "      <td>303</td>\n",
       "      <td>31</td>\n",
       "      <td>2</td>\n",
       "      <td>0</td>\n",
       "      <td>0</td>\n",
       "      <td>0</td>\n",
       "      <td>0</td>\n",
       "      <td>0</td>\n",
       "      <td>453.757916</td>\n",
       "      <td>242.341754</td>\n",
       "      <td>2</td>\n",
       "      <td>31</td>\n",
       "      <td>3</td>\n",
       "    </tr>\n",
       "    <tr>\n",
       "      <th>4</th>\n",
       "      <td>Y</td>\n",
       "      <td>99</td>\n",
       "      <td>306</td>\n",
       "      <td>62</td>\n",
       "      <td>2</td>\n",
       "      <td>0</td>\n",
       "      <td>0</td>\n",
       "      <td>0</td>\n",
       "      <td>0</td>\n",
       "      <td>0</td>\n",
       "      <td>384.577469</td>\n",
       "      <td>287.008370</td>\n",
       "      <td>2</td>\n",
       "      <td>62</td>\n",
       "      <td>3</td>\n",
       "    </tr>\n",
       "  </tbody>\n",
       "</table>\n",
       "</div>"
      ],
      "text/plain": [
       "  TARGET  loyalty   ID  age  city  LOR  prod_A  type_A  type_B  prod_B  \\\n",
       "0      Y       99   77   66     2    0       0       0       0       0   \n",
       "1      Y        1  159   45     2    3       1       3       3       1   \n",
       "2      Y        1  220   42     2    2       1       3       6       1   \n",
       "3      Y       99  303   31     2    0       0       0       0       0   \n",
       "4      Y       99  306   62     2    0       0       0       0       0   \n",
       "\n",
       "   turnover_A   turnover_B  contract  age_P  lor_M  \n",
       "0  333.561114   264.721010         2     66      3  \n",
       "1  394.735699   284.904978         2     45     39  \n",
       "2  342.180990  1175.589721         2     42     27  \n",
       "3  453.757916   242.341754         2     31      3  \n",
       "4  384.577469   287.008370         2     62      3  "
      ]
     },
     "execution_count": 159,
     "metadata": {},
     "output_type": "execute_result"
    }
   ],
   "source": [
    "path = 'https://raw.githubusercontent.com/codepharmer/AI-6150/main/M7%20Logistic%20Regression/M7_Data.csv'\n",
    "ins_data = pd.read_csv(path)\n",
    "print('data shape', ins_data.shape)\n",
    "ins_data.head()"
   ]
  },
  {
   "cell_type": "markdown",
   "id": "c1ad1272",
   "metadata": {},
   "source": [
    "### Get rid of a couple of variables which are either redundant or highly correlated to another field"
   ]
  },
  {
   "cell_type": "code",
   "execution_count": 160,
   "id": "c0050ded",
   "metadata": {},
   "outputs": [],
   "source": [
    "ins_data.drop(columns = ['age_P','LOR'], inplace = True)"
   ]
  },
  {
   "cell_type": "markdown",
   "id": "8fd873ce",
   "metadata": {},
   "source": [
    "## Data Preperation and  EDA"
   ]
  },
  {
   "cell_type": "markdown",
   "id": "af7f2388",
   "metadata": {},
   "source": [
    "### Check for missing data values"
   ]
  },
  {
   "cell_type": "code",
   "execution_count": 161,
   "id": "e2b3951f",
   "metadata": {},
   "outputs": [
    {
     "data": {
      "text/plain": [
       "TARGET        0\n",
       "loyalty       0\n",
       "ID            0\n",
       "age           0\n",
       "city          0\n",
       "prod_A        0\n",
       "type_A        0\n",
       "type_B        0\n",
       "prod_B        0\n",
       "turnover_A    0\n",
       "turnover_B    0\n",
       "contract      0\n",
       "lor_M         0\n",
       "dtype: int64"
      ]
     },
     "execution_count": 161,
     "metadata": {},
     "output_type": "execute_result"
    }
   ],
   "source": [
    "ins_data.isna().sum()"
   ]
  },
  {
   "cell_type": "code",
   "execution_count": 162,
   "id": "fe7f8343",
   "metadata": {},
   "outputs": [
    {
     "data": {
      "text/plain": [
       "count    14016.000000\n",
       "mean       379.161320\n",
       "std         92.612207\n",
       "min        300.095909\n",
       "25%        334.919412\n",
       "50%        367.891493\n",
       "75%        399.744924\n",
       "max       5568.784139\n",
       "Name: turnover_A, dtype: float64"
      ]
     },
     "execution_count": 162,
     "metadata": {},
     "output_type": "execute_result"
    }
   ],
   "source": [
    "ins_data.turnover_A.describe()"
   ]
  },
  {
   "cell_type": "markdown",
   "id": "fdf141f9",
   "metadata": {},
   "source": [
    "### Outline of Variable Types:\n",
    "<pre>\n",
    "TARGET        categorical nominal\n",
    "loyalty       categorical ordinal\n",
    "ID            Id\n",
    "age           Numerical discreet\n",
    "city          Categorical nominal\n",
    "LOR           Numerical discreet\n",
    "prod_A        Categorical nominal\n",
    "type_A        Categorical nominal\n",
    "type_B        Categorical nominal\n",
    "prod_B        Categorical nominal\n",
    "turnover_A    Numerical continuous\n",
    "turnover_B    Categorical nominal\n",
    "contract      Categorical nominal\n",
    "age_P         Numerical Discreet\n",
    "lor_M         Numerical Discreet\n",
    "</pre>"
   ]
  },
  {
   "cell_type": "markdown",
   "id": "510806e8",
   "metadata": {},
   "source": [
    "#### replace 99 loyalty (where loyalty was never measured) with -1"
   ]
  },
  {
   "cell_type": "code",
   "execution_count": 163,
   "id": "c8c399e7",
   "metadata": {},
   "outputs": [],
   "source": [
    "l = ins_data['loyalty']\n",
    "ins_data['loyalty'] = l.replace(99,-1)"
   ]
  },
  {
   "cell_type": "markdown",
   "id": "b209529c",
   "metadata": {},
   "source": [
    "#### replace Target strings with actual boolean values"
   ]
  },
  {
   "cell_type": "code",
   "execution_count": 164,
   "id": "c03989cf",
   "metadata": {},
   "outputs": [],
   "source": [
    "bool_map = {'Y': 1, 'N': 0}\n",
    "ins_data['TARGET'] = ins_data['TARGET'].map(bool_map)"
   ]
  },
  {
   "cell_type": "code",
   "execution_count": 165,
   "id": "ac157e2f",
   "metadata": {
    "scrolled": true
   },
   "outputs": [
    {
     "data": {
      "text/html": [
       "<div>\n",
       "<style scoped>\n",
       "    .dataframe tbody tr th:only-of-type {\n",
       "        vertical-align: middle;\n",
       "    }\n",
       "\n",
       "    .dataframe tbody tr th {\n",
       "        vertical-align: top;\n",
       "    }\n",
       "\n",
       "    .dataframe thead th {\n",
       "        text-align: right;\n",
       "    }\n",
       "</style>\n",
       "<table border=\"1\" class=\"dataframe\">\n",
       "  <thead>\n",
       "    <tr style=\"text-align: right;\">\n",
       "      <th></th>\n",
       "      <th>TARGET</th>\n",
       "      <th>loyalty</th>\n",
       "      <th>ID</th>\n",
       "      <th>age</th>\n",
       "      <th>city</th>\n",
       "      <th>prod_A</th>\n",
       "      <th>type_A</th>\n",
       "      <th>type_B</th>\n",
       "      <th>prod_B</th>\n",
       "      <th>turnover_A</th>\n",
       "      <th>turnover_B</th>\n",
       "      <th>contract</th>\n",
       "      <th>lor_M</th>\n",
       "    </tr>\n",
       "  </thead>\n",
       "  <tbody>\n",
       "    <tr>\n",
       "      <th>0</th>\n",
       "      <td>1</td>\n",
       "      <td>-1</td>\n",
       "      <td>77</td>\n",
       "      <td>66</td>\n",
       "      <td>2</td>\n",
       "      <td>0</td>\n",
       "      <td>0</td>\n",
       "      <td>0</td>\n",
       "      <td>0</td>\n",
       "      <td>333.561114</td>\n",
       "      <td>264.721010</td>\n",
       "      <td>2</td>\n",
       "      <td>3</td>\n",
       "    </tr>\n",
       "    <tr>\n",
       "      <th>1</th>\n",
       "      <td>1</td>\n",
       "      <td>1</td>\n",
       "      <td>159</td>\n",
       "      <td>45</td>\n",
       "      <td>2</td>\n",
       "      <td>1</td>\n",
       "      <td>3</td>\n",
       "      <td>3</td>\n",
       "      <td>1</td>\n",
       "      <td>394.735699</td>\n",
       "      <td>284.904978</td>\n",
       "      <td>2</td>\n",
       "      <td>39</td>\n",
       "    </tr>\n",
       "    <tr>\n",
       "      <th>2</th>\n",
       "      <td>1</td>\n",
       "      <td>1</td>\n",
       "      <td>220</td>\n",
       "      <td>42</td>\n",
       "      <td>2</td>\n",
       "      <td>1</td>\n",
       "      <td>3</td>\n",
       "      <td>6</td>\n",
       "      <td>1</td>\n",
       "      <td>342.180990</td>\n",
       "      <td>1175.589721</td>\n",
       "      <td>2</td>\n",
       "      <td>27</td>\n",
       "    </tr>\n",
       "    <tr>\n",
       "      <th>3</th>\n",
       "      <td>1</td>\n",
       "      <td>-1</td>\n",
       "      <td>303</td>\n",
       "      <td>31</td>\n",
       "      <td>2</td>\n",
       "      <td>0</td>\n",
       "      <td>0</td>\n",
       "      <td>0</td>\n",
       "      <td>0</td>\n",
       "      <td>453.757916</td>\n",
       "      <td>242.341754</td>\n",
       "      <td>2</td>\n",
       "      <td>3</td>\n",
       "    </tr>\n",
       "    <tr>\n",
       "      <th>4</th>\n",
       "      <td>1</td>\n",
       "      <td>-1</td>\n",
       "      <td>306</td>\n",
       "      <td>62</td>\n",
       "      <td>2</td>\n",
       "      <td>0</td>\n",
       "      <td>0</td>\n",
       "      <td>0</td>\n",
       "      <td>0</td>\n",
       "      <td>384.577469</td>\n",
       "      <td>287.008370</td>\n",
       "      <td>2</td>\n",
       "      <td>3</td>\n",
       "    </tr>\n",
       "    <tr>\n",
       "      <th>...</th>\n",
       "      <td>...</td>\n",
       "      <td>...</td>\n",
       "      <td>...</td>\n",
       "      <td>...</td>\n",
       "      <td>...</td>\n",
       "      <td>...</td>\n",
       "      <td>...</td>\n",
       "      <td>...</td>\n",
       "      <td>...</td>\n",
       "      <td>...</td>\n",
       "      <td>...</td>\n",
       "      <td>...</td>\n",
       "      <td>...</td>\n",
       "    </tr>\n",
       "    <tr>\n",
       "      <th>14011</th>\n",
       "      <td>1</td>\n",
       "      <td>-1</td>\n",
       "      <td>151601</td>\n",
       "      <td>30</td>\n",
       "      <td>2</td>\n",
       "      <td>0</td>\n",
       "      <td>0</td>\n",
       "      <td>0</td>\n",
       "      <td>0</td>\n",
       "      <td>386.434278</td>\n",
       "      <td>284.309508</td>\n",
       "      <td>2</td>\n",
       "      <td>3</td>\n",
       "    </tr>\n",
       "    <tr>\n",
       "      <th>14012</th>\n",
       "      <td>1</td>\n",
       "      <td>1</td>\n",
       "      <td>151634</td>\n",
       "      <td>27</td>\n",
       "      <td>2</td>\n",
       "      <td>1</td>\n",
       "      <td>3</td>\n",
       "      <td>3</td>\n",
       "      <td>1</td>\n",
       "      <td>376.842591</td>\n",
       "      <td>266.993794</td>\n",
       "      <td>2</td>\n",
       "      <td>27</td>\n",
       "    </tr>\n",
       "    <tr>\n",
       "      <th>14013</th>\n",
       "      <td>1</td>\n",
       "      <td>-1</td>\n",
       "      <td>151679</td>\n",
       "      <td>26</td>\n",
       "      <td>2</td>\n",
       "      <td>0</td>\n",
       "      <td>0</td>\n",
       "      <td>0</td>\n",
       "      <td>0</td>\n",
       "      <td>434.805703</td>\n",
       "      <td>284.629361</td>\n",
       "      <td>2</td>\n",
       "      <td>3</td>\n",
       "    </tr>\n",
       "    <tr>\n",
       "      <th>14014</th>\n",
       "      <td>1</td>\n",
       "      <td>1</td>\n",
       "      <td>151804</td>\n",
       "      <td>75</td>\n",
       "      <td>2</td>\n",
       "      <td>1</td>\n",
       "      <td>3</td>\n",
       "      <td>3</td>\n",
       "      <td>1</td>\n",
       "      <td>366.273857</td>\n",
       "      <td>270.573265</td>\n",
       "      <td>2</td>\n",
       "      <td>15</td>\n",
       "    </tr>\n",
       "    <tr>\n",
       "      <th>14015</th>\n",
       "      <td>1</td>\n",
       "      <td>-1</td>\n",
       "      <td>151811</td>\n",
       "      <td>61</td>\n",
       "      <td>2</td>\n",
       "      <td>0</td>\n",
       "      <td>0</td>\n",
       "      <td>0</td>\n",
       "      <td>0</td>\n",
       "      <td>445.059067</td>\n",
       "      <td>217.425934</td>\n",
       "      <td>2</td>\n",
       "      <td>3</td>\n",
       "    </tr>\n",
       "  </tbody>\n",
       "</table>\n",
       "<p>14016 rows × 13 columns</p>\n",
       "</div>"
      ],
      "text/plain": [
       "       TARGET  loyalty      ID  age  city  prod_A  type_A  type_B  prod_B  \\\n",
       "0           1       -1      77   66     2       0       0       0       0   \n",
       "1           1        1     159   45     2       1       3       3       1   \n",
       "2           1        1     220   42     2       1       3       6       1   \n",
       "3           1       -1     303   31     2       0       0       0       0   \n",
       "4           1       -1     306   62     2       0       0       0       0   \n",
       "...       ...      ...     ...  ...   ...     ...     ...     ...     ...   \n",
       "14011       1       -1  151601   30     2       0       0       0       0   \n",
       "14012       1        1  151634   27     2       1       3       3       1   \n",
       "14013       1       -1  151679   26     2       0       0       0       0   \n",
       "14014       1        1  151804   75     2       1       3       3       1   \n",
       "14015       1       -1  151811   61     2       0       0       0       0   \n",
       "\n",
       "       turnover_A   turnover_B  contract  lor_M  \n",
       "0      333.561114   264.721010         2      3  \n",
       "1      394.735699   284.904978         2     39  \n",
       "2      342.180990  1175.589721         2     27  \n",
       "3      453.757916   242.341754         2      3  \n",
       "4      384.577469   287.008370         2      3  \n",
       "...           ...          ...       ...    ...  \n",
       "14011  386.434278   284.309508         2      3  \n",
       "14012  376.842591   266.993794         2     27  \n",
       "14013  434.805703   284.629361         2      3  \n",
       "14014  366.273857   270.573265         2     15  \n",
       "14015  445.059067   217.425934         2      3  \n",
       "\n",
       "[14016 rows x 13 columns]"
      ]
     },
     "execution_count": 165,
     "metadata": {},
     "output_type": "execute_result"
    }
   ],
   "source": [
    "ins_data"
   ]
  },
  {
   "cell_type": "code",
   "execution_count": 131,
   "id": "6ff3b47a",
   "metadata": {
    "scrolled": true
   },
   "outputs": [
    {
     "data": {
      "text/plain": [
       "TARGET          int64\n",
       "loyalty         int64\n",
       "ID              int64\n",
       "age             int64\n",
       "city            int64\n",
       "prod_A          int64\n",
       "type_A          int64\n",
       "type_B          int64\n",
       "prod_B          int64\n",
       "turnover_A    float64\n",
       "turnover_B    float64\n",
       "contract        int64\n",
       "lor_M           int64\n",
       "dtype: object"
      ]
     },
     "execution_count": 131,
     "metadata": {},
     "output_type": "execute_result"
    }
   ],
   "source": [
    "ins_data.dtypes"
   ]
  },
  {
   "cell_type": "code",
   "execution_count": 174,
   "id": "2ceda1f1",
   "metadata": {
    "scrolled": true
   },
   "outputs": [
    {
     "data": {
      "text/html": [
       "<div>\n",
       "<style scoped>\n",
       "    .dataframe tbody tr th:only-of-type {\n",
       "        vertical-align: middle;\n",
       "    }\n",
       "\n",
       "    .dataframe tbody tr th {\n",
       "        vertical-align: top;\n",
       "    }\n",
       "\n",
       "    .dataframe thead th {\n",
       "        text-align: right;\n",
       "    }\n",
       "</style>\n",
       "<table border=\"1\" class=\"dataframe\">\n",
       "  <thead>\n",
       "    <tr style=\"text-align: right;\">\n",
       "      <th></th>\n",
       "      <th>loyalty</th>\n",
       "      <th>ID</th>\n",
       "      <th>age</th>\n",
       "      <th>city</th>\n",
       "      <th>prod_A</th>\n",
       "      <th>type_A</th>\n",
       "      <th>type_B</th>\n",
       "      <th>prod_B</th>\n",
       "      <th>turnover_A</th>\n",
       "      <th>turnover_B</th>\n",
       "      <th>contract</th>\n",
       "      <th>lor_M</th>\n",
       "    </tr>\n",
       "    <tr>\n",
       "      <th>TARGET</th>\n",
       "      <th></th>\n",
       "      <th></th>\n",
       "      <th></th>\n",
       "      <th></th>\n",
       "      <th></th>\n",
       "      <th></th>\n",
       "      <th></th>\n",
       "      <th></th>\n",
       "      <th></th>\n",
       "      <th></th>\n",
       "      <th></th>\n",
       "      <th></th>\n",
       "    </tr>\n",
       "  </thead>\n",
       "  <tbody>\n",
       "    <tr>\n",
       "      <th>0</th>\n",
       "      <td>0.916625</td>\n",
       "      <td>8366.446750</td>\n",
       "      <td>33.027125</td>\n",
       "      <td>-747.257125</td>\n",
       "      <td>0.673000</td>\n",
       "      <td>2.025000</td>\n",
       "      <td>2.411625</td>\n",
       "      <td>0.74475</td>\n",
       "      <td>360.368141</td>\n",
       "      <td>371.263176</td>\n",
       "      <td>2.0</td>\n",
       "      <td>15.976500</td>\n",
       "    </tr>\n",
       "    <tr>\n",
       "      <th>1</th>\n",
       "      <td>0.036237</td>\n",
       "      <td>76643.175864</td>\n",
       "      <td>39.680519</td>\n",
       "      <td>-662.669548</td>\n",
       "      <td>0.348737</td>\n",
       "      <td>1.053191</td>\n",
       "      <td>1.263630</td>\n",
       "      <td>0.40625</td>\n",
       "      <td>404.152250</td>\n",
       "      <td>271.932769</td>\n",
       "      <td>2.0</td>\n",
       "      <td>11.640957</td>\n",
       "    </tr>\n",
       "  </tbody>\n",
       "</table>\n",
       "</div>"
      ],
      "text/plain": [
       "         loyalty            ID        age        city    prod_A    type_A  \\\n",
       "TARGET                                                                      \n",
       "0       0.916625   8366.446750  33.027125 -747.257125  0.673000  2.025000   \n",
       "1       0.036237  76643.175864  39.680519 -662.669548  0.348737  1.053191   \n",
       "\n",
       "          type_B   prod_B  turnover_A  turnover_B  contract      lor_M  \n",
       "TARGET                                                                  \n",
       "0       2.411625  0.74475  360.368141  371.263176       2.0  15.976500  \n",
       "1       1.263630  0.40625  404.152250  271.932769       2.0  11.640957  "
      ]
     },
     "execution_count": 174,
     "metadata": {},
     "output_type": "execute_result"
    }
   ],
   "source": [
    "ins_data.groupby('TARGET').mean()"
   ]
  },
  {
   "cell_type": "markdown",
   "id": "127c7e83",
   "metadata": {},
   "source": [
    "**We can see that customers with a higher loyalty rating were much less likely to pay for the new product.**"
   ]
  },
  {
   "cell_type": "code",
   "execution_count": 133,
   "id": "72f45a38",
   "metadata": {
    "scrolled": true
   },
   "outputs": [
    {
     "data": {
      "text/html": [
       "<div>\n",
       "<style scoped>\n",
       "    .dataframe tbody tr th:only-of-type {\n",
       "        vertical-align: middle;\n",
       "    }\n",
       "\n",
       "    .dataframe tbody tr th {\n",
       "        vertical-align: top;\n",
       "    }\n",
       "\n",
       "    .dataframe thead th {\n",
       "        text-align: right;\n",
       "    }\n",
       "</style>\n",
       "<table border=\"1\" class=\"dataframe\">\n",
       "  <thead>\n",
       "    <tr style=\"text-align: right;\">\n",
       "      <th></th>\n",
       "      <th>TARGET</th>\n",
       "      <th>ID</th>\n",
       "      <th>age</th>\n",
       "      <th>city</th>\n",
       "      <th>prod_A</th>\n",
       "      <th>type_A</th>\n",
       "      <th>type_B</th>\n",
       "      <th>prod_B</th>\n",
       "      <th>turnover_A</th>\n",
       "      <th>turnover_B</th>\n",
       "      <th>contract</th>\n",
       "      <th>lor_M</th>\n",
       "    </tr>\n",
       "    <tr>\n",
       "      <th>loyalty</th>\n",
       "      <th></th>\n",
       "      <th></th>\n",
       "      <th></th>\n",
       "      <th></th>\n",
       "      <th></th>\n",
       "      <th></th>\n",
       "      <th></th>\n",
       "      <th></th>\n",
       "      <th></th>\n",
       "      <th></th>\n",
       "      <th></th>\n",
       "      <th></th>\n",
       "    </tr>\n",
       "  </thead>\n",
       "  <tbody>\n",
       "    <tr>\n",
       "      <th>-1</th>\n",
       "      <td>0.554824</td>\n",
       "      <td>46689.215717</td>\n",
       "      <td>35.420412</td>\n",
       "      <td>-427.166762</td>\n",
       "      <td>0.220584</td>\n",
       "      <td>0.661752</td>\n",
       "      <td>0.684512</td>\n",
       "      <td>0.228171</td>\n",
       "      <td>379.912323</td>\n",
       "      <td>240.804242</td>\n",
       "      <td>2.0</td>\n",
       "      <td>6.361580</td>\n",
       "    </tr>\n",
       "    <tr>\n",
       "      <th>0</th>\n",
       "      <td>0.000000</td>\n",
       "      <td>7905.089286</td>\n",
       "      <td>22.000000</td>\n",
       "      <td>2.000000</td>\n",
       "      <td>0.982143</td>\n",
       "      <td>2.946429</td>\n",
       "      <td>2.946429</td>\n",
       "      <td>0.982143</td>\n",
       "      <td>347.174767</td>\n",
       "      <td>225.063832</td>\n",
       "      <td>2.0</td>\n",
       "      <td>15.000000</td>\n",
       "    </tr>\n",
       "    <tr>\n",
       "      <th>1</th>\n",
       "      <td>0.371774</td>\n",
       "      <td>33197.442339</td>\n",
       "      <td>40.206452</td>\n",
       "      <td>-1206.228226</td>\n",
       "      <td>0.784274</td>\n",
       "      <td>2.377016</td>\n",
       "      <td>3.232258</td>\n",
       "      <td>0.969758</td>\n",
       "      <td>391.492582</td>\n",
       "      <td>426.587777</td>\n",
       "      <td>2.0</td>\n",
       "      <td>28.146774</td>\n",
       "    </tr>\n",
       "    <tr>\n",
       "      <th>2</th>\n",
       "      <td>0.338246</td>\n",
       "      <td>32064.120702</td>\n",
       "      <td>40.590877</td>\n",
       "      <td>2.549474</td>\n",
       "      <td>0.776842</td>\n",
       "      <td>2.343158</td>\n",
       "      <td>3.221053</td>\n",
       "      <td>0.938246</td>\n",
       "      <td>383.360997</td>\n",
       "      <td>574.666097</td>\n",
       "      <td>2.0</td>\n",
       "      <td>21.728421</td>\n",
       "    </tr>\n",
       "    <tr>\n",
       "      <th>3</th>\n",
       "      <td>0.239818</td>\n",
       "      <td>23910.832519</td>\n",
       "      <td>31.509286</td>\n",
       "      <td>-1301.006517</td>\n",
       "      <td>0.923428</td>\n",
       "      <td>2.774194</td>\n",
       "      <td>3.043988</td>\n",
       "      <td>0.981101</td>\n",
       "      <td>366.120810</td>\n",
       "      <td>337.032931</td>\n",
       "      <td>2.0</td>\n",
       "      <td>16.876833</td>\n",
       "    </tr>\n",
       "  </tbody>\n",
       "</table>\n",
       "</div>"
      ],
      "text/plain": [
       "           TARGET            ID        age         city    prod_A    type_A  \\\n",
       "loyalty                                                                       \n",
       "-1       0.554824  46689.215717  35.420412  -427.166762  0.220584  0.661752   \n",
       " 0       0.000000   7905.089286  22.000000     2.000000  0.982143  2.946429   \n",
       " 1       0.371774  33197.442339  40.206452 -1206.228226  0.784274  2.377016   \n",
       " 2       0.338246  32064.120702  40.590877     2.549474  0.776842  2.343158   \n",
       " 3       0.239818  23910.832519  31.509286 -1301.006517  0.923428  2.774194   \n",
       "\n",
       "           type_B    prod_B  turnover_A  turnover_B  contract      lor_M  \n",
       "loyalty                                                                   \n",
       "-1       0.684512  0.228171  379.912323  240.804242       2.0   6.361580  \n",
       " 0       2.946429  0.982143  347.174767  225.063832       2.0  15.000000  \n",
       " 1       3.232258  0.969758  391.492582  426.587777       2.0  28.146774  \n",
       " 2       3.221053  0.938246  383.360997  574.666097       2.0  21.728421  \n",
       " 3       3.043988  0.981101  366.120810  337.032931       2.0  16.876833  "
      ]
     },
     "execution_count": 133,
     "metadata": {},
     "output_type": "execute_result"
    }
   ],
   "source": [
    "ins_data.groupby('loyalty').mean()"
   ]
  },
  {
   "cell_type": "code",
   "execution_count": 172,
   "id": "c6a8281c",
   "metadata": {},
   "outputs": [],
   "source": [
    "# pd.get_dummies(ins_data).corr()"
   ]
  },
  {
   "cell_type": "markdown",
   "id": "a323afe9",
   "metadata": {},
   "source": [
    "### We look at age distribution..."
   ]
  },
  {
   "cell_type": "code",
   "execution_count": 134,
   "id": "7a24edc2",
   "metadata": {
    "scrolled": false
   },
   "outputs": [
    {
     "data": {
      "image/png": "[encoded data removed]",
      "text/plain": [
       "<Figure size 432x288 with 1 Axes>"
      ]
     },
     "metadata": {
      "needs_background": "light"
     },
     "output_type": "display_data"
    }
   ],
   "source": [
    "ins_data['age'].hist()\n",
    "plt.title('Age Histogram')\n",
    "plt.xlabel('Age')\n",
    "plt.ylabel('Frequency')\n",
    "plt.show()"
   ]
  },
  {
   "cell_type": "markdown",
   "id": "f540861a",
   "metadata": {},
   "source": [
    "### Let's look at customer loyalty"
   ]
  },
  {
   "cell_type": "code",
   "execution_count": 135,
   "id": "2869bca0",
   "metadata": {},
   "outputs": [
    {
     "data": {
      "image/png": "[encoded data removed]",
      "text/plain": [
       "<Figure size 432x288 with 1 Axes>"
      ]
     },
     "metadata": {
      "needs_background": "light"
     },
     "output_type": "display_data"
    }
   ],
   "source": [
    "ins_data['loyalty'].hist()\n",
    "plt.title('Loyalty Histogram')\n",
    "plt.xlabel('Loyalty')\n",
    "plt.ylabel('Frequency')\n",
    "plt.show()"
   ]
  },
  {
   "cell_type": "code",
   "execution_count": 136,
   "id": "9660143a",
   "metadata": {},
   "outputs": [
    {
     "data": {
      "image/png": "[encoded data removed]",
      "text/plain": [
       "<Figure size 432x288 with 1 Axes>"
      ]
     },
     "metadata": {
      "needs_background": "light"
     },
     "output_type": "display_data"
    }
   ],
   "source": [
    "pd.crosstab(ins_data['loyalty'], ins_data['TARGET'].astype(bool)).plot(kind='bar')\n",
    "plt.title('Customer Return by loyalty distribution')\n",
    "plt.xlabel('Loyalty')\n",
    "plt.ylabel('Frequency')\n",
    "plt.show()"
   ]
  },
  {
   "cell_type": "markdown",
   "id": "d7a3d360",
   "metadata": {},
   "source": [
    "It appears that customers in the unspecified category are more likely to purchase another policy"
   ]
  },
  {
   "cell_type": "code",
   "execution_count": 137,
   "id": "ea6e0710",
   "metadata": {},
   "outputs": [
    {
     "data": {
      "image/png": "[encoded data removed]",
      "text/plain": [
       "<Figure size 432x288 with 1 Axes>"
      ]
     },
     "metadata": {
      "needs_background": "light"
     },
     "output_type": "display_data"
    }
   ],
   "source": [
    "return_cust_loyalty = pd.crosstab(ins_data['loyalty'], ins_data['TARGET'].astype(bool))\n",
    "return_cust_loyalty.div(return_cust_loyalty.sum(1).astype(float), axis=0).plot(kind='bar', stacked=True)\n",
    "plt.title('Customer return by loyalty rating')\n",
    "plt.xlabel('Rating')\n",
    "plt.ylabel('Percentage')\n",
    "plt.show()"
   ]
  },
  {
   "cell_type": "markdown",
   "id": "3fe58d79",
   "metadata": {},
   "source": [
    "## We'll again look at the mean values for fields grouped by target value to see which column might tell us some more information"
   ]
  },
  {
   "cell_type": "code",
   "execution_count": 176,
   "id": "dafc428b",
   "metadata": {
    "scrolled": true
   },
   "outputs": [
    {
     "data": {
      "text/html": [
       "<div>\n",
       "<style scoped>\n",
       "    .dataframe tbody tr th:only-of-type {\n",
       "        vertical-align: middle;\n",
       "    }\n",
       "\n",
       "    .dataframe tbody tr th {\n",
       "        vertical-align: top;\n",
       "    }\n",
       "\n",
       "    .dataframe thead th {\n",
       "        text-align: right;\n",
       "    }\n",
       "</style>\n",
       "<table border=\"1\" class=\"dataframe\">\n",
       "  <thead>\n",
       "    <tr style=\"text-align: right;\">\n",
       "      <th></th>\n",
       "      <th>loyalty</th>\n",
       "      <th>ID</th>\n",
       "      <th>age</th>\n",
       "      <th>city</th>\n",
       "      <th>prod_A</th>\n",
       "      <th>type_A</th>\n",
       "      <th>type_B</th>\n",
       "      <th>prod_B</th>\n",
       "      <th>turnover_A</th>\n",
       "      <th>turnover_B</th>\n",
       "      <th>contract</th>\n",
       "      <th>lor_M</th>\n",
       "    </tr>\n",
       "    <tr>\n",
       "      <th>TARGET</th>\n",
       "      <th></th>\n",
       "      <th></th>\n",
       "      <th></th>\n",
       "      <th></th>\n",
       "      <th></th>\n",
       "      <th></th>\n",
       "      <th></th>\n",
       "      <th></th>\n",
       "      <th></th>\n",
       "      <th></th>\n",
       "      <th></th>\n",
       "      <th></th>\n",
       "    </tr>\n",
       "  </thead>\n",
       "  <tbody>\n",
       "    <tr>\n",
       "      <th>0</th>\n",
       "      <td>0.916625</td>\n",
       "      <td>8366.446750</td>\n",
       "      <td>33.027125</td>\n",
       "      <td>-747.257125</td>\n",
       "      <td>0.673000</td>\n",
       "      <td>2.025000</td>\n",
       "      <td>2.411625</td>\n",
       "      <td>0.74475</td>\n",
       "      <td>360.368141</td>\n",
       "      <td>371.263176</td>\n",
       "      <td>2.0</td>\n",
       "      <td>15.976500</td>\n",
       "    </tr>\n",
       "    <tr>\n",
       "      <th>1</th>\n",
       "      <td>0.036237</td>\n",
       "      <td>76643.175864</td>\n",
       "      <td>39.680519</td>\n",
       "      <td>-662.669548</td>\n",
       "      <td>0.348737</td>\n",
       "      <td>1.053191</td>\n",
       "      <td>1.263630</td>\n",
       "      <td>0.40625</td>\n",
       "      <td>404.152250</td>\n",
       "      <td>271.932769</td>\n",
       "      <td>2.0</td>\n",
       "      <td>11.640957</td>\n",
       "    </tr>\n",
       "  </tbody>\n",
       "</table>\n",
       "</div>"
      ],
      "text/plain": [
       "         loyalty            ID        age        city    prod_A    type_A  \\\n",
       "TARGET                                                                      \n",
       "0       0.916625   8366.446750  33.027125 -747.257125  0.673000  2.025000   \n",
       "1       0.036237  76643.175864  39.680519 -662.669548  0.348737  1.053191   \n",
       "\n",
       "          type_B   prod_B  turnover_A  turnover_B  contract      lor_M  \n",
       "TARGET                                                                  \n",
       "0       2.411625  0.74475  360.368141  371.263176       2.0  15.976500  \n",
       "1       1.263630  0.40625  404.152250  271.932769       2.0  11.640957  "
      ]
     },
     "execution_count": 176,
     "metadata": {},
     "output_type": "execute_result"
    }
   ],
   "source": [
    "ins_data.groupby('TARGET').mean()"
   ]
  },
  {
   "cell_type": "markdown",
   "id": "19d29eb9",
   "metadata": {},
   "source": [
    "### It appears that customers with higher values in the turnover_A column are more liklely to pay for the new product. The same appears to be the case for customers who are slighly older than the mean."
   ]
  },
  {
   "cell_type": "code",
   "execution_count": 177,
   "id": "4cc54212",
   "metadata": {
    "scrolled": true
   },
   "outputs": [
    {
     "data": {
      "text/html": [
       "<div>\n",
       "<style scoped>\n",
       "    .dataframe tbody tr th:only-of-type {\n",
       "        vertical-align: middle;\n",
       "    }\n",
       "\n",
       "    .dataframe tbody tr th {\n",
       "        vertical-align: top;\n",
       "    }\n",
       "\n",
       "    .dataframe thead th {\n",
       "        text-align: right;\n",
       "    }\n",
       "</style>\n",
       "<table border=\"1\" class=\"dataframe\">\n",
       "  <thead>\n",
       "    <tr style=\"text-align: right;\">\n",
       "      <th></th>\n",
       "      <th>TARGET</th>\n",
       "      <th>loyalty</th>\n",
       "      <th>ID</th>\n",
       "      <th>city</th>\n",
       "      <th>prod_A</th>\n",
       "      <th>type_A</th>\n",
       "      <th>type_B</th>\n",
       "      <th>prod_B</th>\n",
       "      <th>turnover_A</th>\n",
       "      <th>turnover_B</th>\n",
       "      <th>contract</th>\n",
       "      <th>lor_M</th>\n",
       "    </tr>\n",
       "    <tr>\n",
       "      <th>age</th>\n",
       "      <th></th>\n",
       "      <th></th>\n",
       "      <th></th>\n",
       "      <th></th>\n",
       "      <th></th>\n",
       "      <th></th>\n",
       "      <th></th>\n",
       "      <th></th>\n",
       "      <th></th>\n",
       "      <th></th>\n",
       "      <th></th>\n",
       "      <th></th>\n",
       "    </tr>\n",
       "  </thead>\n",
       "  <tbody>\n",
       "    <tr>\n",
       "      <th>5</th>\n",
       "      <td>0.000000</td>\n",
       "      <td>2.000000</td>\n",
       "      <td>9161.571429</td>\n",
       "      <td>0.0</td>\n",
       "      <td>0.142857</td>\n",
       "      <td>0.428571</td>\n",
       "      <td>3.0</td>\n",
       "      <td>1.000000</td>\n",
       "      <td>334.145315</td>\n",
       "      <td>271.714636</td>\n",
       "      <td>2.0</td>\n",
       "      <td>15.0</td>\n",
       "    </tr>\n",
       "    <tr>\n",
       "      <th>10</th>\n",
       "      <td>0.000000</td>\n",
       "      <td>1.666667</td>\n",
       "      <td>10851.333333</td>\n",
       "      <td>2.0</td>\n",
       "      <td>0.000000</td>\n",
       "      <td>0.000000</td>\n",
       "      <td>3.0</td>\n",
       "      <td>1.000000</td>\n",
       "      <td>353.820740</td>\n",
       "      <td>276.916939</td>\n",
       "      <td>2.0</td>\n",
       "      <td>15.0</td>\n",
       "    </tr>\n",
       "    <tr>\n",
       "      <th>11</th>\n",
       "      <td>0.000000</td>\n",
       "      <td>0.500000</td>\n",
       "      <td>7789.000000</td>\n",
       "      <td>2.0</td>\n",
       "      <td>0.000000</td>\n",
       "      <td>0.000000</td>\n",
       "      <td>1.5</td>\n",
       "      <td>0.500000</td>\n",
       "      <td>372.804476</td>\n",
       "      <td>501.482001</td>\n",
       "      <td>2.0</td>\n",
       "      <td>9.0</td>\n",
       "    </tr>\n",
       "    <tr>\n",
       "      <th>12</th>\n",
       "      <td>0.000000</td>\n",
       "      <td>2.000000</td>\n",
       "      <td>15996.000000</td>\n",
       "      <td>2.0</td>\n",
       "      <td>0.000000</td>\n",
       "      <td>0.000000</td>\n",
       "      <td>3.0</td>\n",
       "      <td>1.000000</td>\n",
       "      <td>373.568088</td>\n",
       "      <td>254.254362</td>\n",
       "      <td>2.0</td>\n",
       "      <td>15.0</td>\n",
       "    </tr>\n",
       "    <tr>\n",
       "      <th>13</th>\n",
       "      <td>0.000000</td>\n",
       "      <td>0.000000</td>\n",
       "      <td>7202.000000</td>\n",
       "      <td>2.0</td>\n",
       "      <td>0.000000</td>\n",
       "      <td>0.000000</td>\n",
       "      <td>1.5</td>\n",
       "      <td>0.500000</td>\n",
       "      <td>368.635456</td>\n",
       "      <td>223.026767</td>\n",
       "      <td>2.0</td>\n",
       "      <td>9.0</td>\n",
       "    </tr>\n",
       "    <tr>\n",
       "      <th>...</th>\n",
       "      <td>...</td>\n",
       "      <td>...</td>\n",
       "      <td>...</td>\n",
       "      <td>...</td>\n",
       "      <td>...</td>\n",
       "      <td>...</td>\n",
       "      <td>...</td>\n",
       "      <td>...</td>\n",
       "      <td>...</td>\n",
       "      <td>...</td>\n",
       "      <td>...</td>\n",
       "      <td>...</td>\n",
       "    </tr>\n",
       "    <tr>\n",
       "      <th>92</th>\n",
       "      <td>0.000000</td>\n",
       "      <td>2.000000</td>\n",
       "      <td>8894.000000</td>\n",
       "      <td>2.0</td>\n",
       "      <td>1.000000</td>\n",
       "      <td>3.000000</td>\n",
       "      <td>6.0</td>\n",
       "      <td>1.000000</td>\n",
       "      <td>323.856674</td>\n",
       "      <td>2781.529903</td>\n",
       "      <td>2.0</td>\n",
       "      <td>27.0</td>\n",
       "    </tr>\n",
       "    <tr>\n",
       "      <th>93</th>\n",
       "      <td>1.000000</td>\n",
       "      <td>1.000000</td>\n",
       "      <td>19958.000000</td>\n",
       "      <td>2.0</td>\n",
       "      <td>1.000000</td>\n",
       "      <td>3.000000</td>\n",
       "      <td>3.0</td>\n",
       "      <td>1.000000</td>\n",
       "      <td>759.703292</td>\n",
       "      <td>602.248238</td>\n",
       "      <td>2.0</td>\n",
       "      <td>15.0</td>\n",
       "    </tr>\n",
       "    <tr>\n",
       "      <th>94</th>\n",
       "      <td>0.666667</td>\n",
       "      <td>0.000000</td>\n",
       "      <td>86330.000000</td>\n",
       "      <td>2.0</td>\n",
       "      <td>0.333333</td>\n",
       "      <td>1.000000</td>\n",
       "      <td>1.0</td>\n",
       "      <td>0.333333</td>\n",
       "      <td>409.802468</td>\n",
       "      <td>276.338027</td>\n",
       "      <td>2.0</td>\n",
       "      <td>7.0</td>\n",
       "    </tr>\n",
       "    <tr>\n",
       "      <th>100</th>\n",
       "      <td>0.000000</td>\n",
       "      <td>-1.000000</td>\n",
       "      <td>5372.500000</td>\n",
       "      <td>2.0</td>\n",
       "      <td>0.000000</td>\n",
       "      <td>0.000000</td>\n",
       "      <td>0.0</td>\n",
       "      <td>0.000000</td>\n",
       "      <td>363.602963</td>\n",
       "      <td>222.895149</td>\n",
       "      <td>2.0</td>\n",
       "      <td>3.0</td>\n",
       "    </tr>\n",
       "    <tr>\n",
       "      <th>102</th>\n",
       "      <td>0.666667</td>\n",
       "      <td>0.333333</td>\n",
       "      <td>102062.666667</td>\n",
       "      <td>2.0</td>\n",
       "      <td>0.000000</td>\n",
       "      <td>0.000000</td>\n",
       "      <td>1.0</td>\n",
       "      <td>0.333333</td>\n",
       "      <td>413.200146</td>\n",
       "      <td>1242.367013</td>\n",
       "      <td>2.0</td>\n",
       "      <td>15.0</td>\n",
       "    </tr>\n",
       "  </tbody>\n",
       "</table>\n",
       "<p>86 rows × 12 columns</p>\n",
       "</div>"
      ],
      "text/plain": [
       "       TARGET   loyalty             ID  city    prod_A    type_A  type_B  \\\n",
       "age                                                                        \n",
       "5    0.000000  2.000000    9161.571429   0.0  0.142857  0.428571     3.0   \n",
       "10   0.000000  1.666667   10851.333333   2.0  0.000000  0.000000     3.0   \n",
       "11   0.000000  0.500000    7789.000000   2.0  0.000000  0.000000     1.5   \n",
       "12   0.000000  2.000000   15996.000000   2.0  0.000000  0.000000     3.0   \n",
       "13   0.000000  0.000000    7202.000000   2.0  0.000000  0.000000     1.5   \n",
       "..        ...       ...            ...   ...       ...       ...     ...   \n",
       "92   0.000000  2.000000    8894.000000   2.0  1.000000  3.000000     6.0   \n",
       "93   1.000000  1.000000   19958.000000   2.0  1.000000  3.000000     3.0   \n",
       "94   0.666667  0.000000   86330.000000   2.0  0.333333  1.000000     1.0   \n",
       "100  0.000000 -1.000000    5372.500000   2.0  0.000000  0.000000     0.0   \n",
       "102  0.666667  0.333333  102062.666667   2.0  0.000000  0.000000     1.0   \n",
       "\n",
       "       prod_B  turnover_A   turnover_B  contract  lor_M  \n",
       "age                                                      \n",
       "5    1.000000  334.145315   271.714636       2.0   15.0  \n",
       "10   1.000000  353.820740   276.916939       2.0   15.0  \n",
       "11   0.500000  372.804476   501.482001       2.0    9.0  \n",
       "12   1.000000  373.568088   254.254362       2.0   15.0  \n",
       "13   0.500000  368.635456   223.026767       2.0    9.0  \n",
       "..        ...         ...          ...       ...    ...  \n",
       "92   1.000000  323.856674  2781.529903       2.0   27.0  \n",
       "93   1.000000  759.703292   602.248238       2.0   15.0  \n",
       "94   0.333333  409.802468   276.338027       2.0    7.0  \n",
       "100  0.000000  363.602963   222.895149       2.0    3.0  \n",
       "102  0.333333  413.200146  1242.367013       2.0   15.0  \n",
       "\n",
       "[86 rows x 12 columns]"
      ]
     },
     "execution_count": 177,
     "metadata": {},
     "output_type": "execute_result"
    }
   ],
   "source": [
    "ins_data.groupby('age').mean()"
   ]
  },
  {
   "cell_type": "code",
   "execution_count": 178,
   "id": "dd14a341",
   "metadata": {},
   "outputs": [],
   "source": [
    "# pd.get_dummies(ins_data).corr()"
   ]
  },
  {
   "cell_type": "markdown",
   "id": "c3b5e203",
   "metadata": {},
   "source": [
    "### Let's look at customer loyalty"
   ]
  },
  {
   "cell_type": "code",
   "execution_count": 179,
   "id": "b2c82855",
   "metadata": {},
   "outputs": [
    {
     "data": {
      "image/png": "[encoded data removed]",
      "text/plain": [
       "<Figure size 432x288 with 1 Axes>"
      ]
     },
     "metadata": {
      "needs_background": "light"
     },
     "output_type": "display_data"
    }
   ],
   "source": [
    "ins_data['age'].hist()\n",
    "plt.title('age Histogram')\n",
    "plt.xlabel('age')\n",
    "plt.ylabel('Frequency')\n",
    "plt.show()"
   ]
  },
  {
   "cell_type": "code",
   "execution_count": 180,
   "id": "d5cd0981",
   "metadata": {},
   "outputs": [
    {
     "data": {
      "image/png": "[encoded data removed]",
      "text/plain": [
       "<Figure size 432x288 with 1 Axes>"
      ]
     },
     "metadata": {
      "needs_background": "light"
     },
     "output_type": "display_data"
    }
   ],
   "source": [
    "pd.crosstab(ins_data['age'], ins_data['TARGET'].astype(bool)).plot(kind='bar')\n",
    "plt.title('Customer Return by age distribution')\n",
    "plt.xlabel('age')\n",
    "plt.ylabel('Frequency')\n",
    "plt.show()"
   ]
  },
  {
   "cell_type": "markdown",
   "id": "d2f99bd2",
   "metadata": {},
   "source": [
    "It appears that customers in the unspecified category are more likely to purchase another policy"
   ]
  },
  {
   "cell_type": "code",
   "execution_count": 181,
   "id": "6bdeb176",
   "metadata": {},
   "outputs": [
    {
     "data": {
      "image/png": "[encoded data removed]",
      "text/plain": [
       "<Figure size 432x288 with 1 Axes>"
      ]
     },
     "metadata": {
      "needs_background": "light"
     },
     "output_type": "display_data"
    }
   ],
   "source": [
    "return_cust_loyalty = pd.crosstab(ins_data['age'], ins_data['TARGET'].astype(bool))\n",
    "return_cust_loyalty.div(return_cust_loyalty.sum(1).astype(float), axis=0).plot(kind='bar', stacked=True)\n",
    "plt.title('Customer return by age rating')\n",
    "plt.xlabel('age')\n",
    "plt.ylabel('Percentage')\n",
    "plt.show()"
   ]
  },
  {
   "cell_type": "markdown",
   "id": "833be87c",
   "metadata": {},
   "source": [
    "It's hard to read the words, but we can see that there's a distinct correlation with age and buying the new product"
   ]
  },
  {
   "cell_type": "markdown",
   "id": "081115d9",
   "metadata": {},
   "source": [
    "Overall we covered: \n",
    "\n",
    "- About the data, what each data type is\n",
    "- The largest age group is in the 20-40 range\n",
    "- Customer 'loyalty' doesn't seem to show a postive correlation with buying a new policy/product\n",
    "- corrlation between various values and returning"
   ]
  },
  {
   "cell_type": "markdown",
   "id": "eb78bf4a",
   "metadata": {},
   "source": [
    "### Judging from all the data we're seeing, it seems that 'unspecified' is a better indicator of loyalty that other actual ratings."
   ]
  },
  {
   "cell_type": "code",
   "execution_count": 138,
   "id": "700ae72e",
   "metadata": {},
   "outputs": [
    {
     "data": {
      "text/plain": [
       "0.4292237442922374"
      ]
     },
     "execution_count": 138,
     "metadata": {},
     "output_type": "execute_result"
    }
   ],
   "source": [
    "ins_data['TARGET'].astype(int).mean()"
   ]
  },
  {
   "cell_type": "markdown",
   "id": "631486aa",
   "metadata": {},
   "source": [
    "## Preparing for and modeling data using logistic regression"
   ]
  },
  {
   "cell_type": "code",
   "execution_count": 140,
   "id": "256aba9f",
   "metadata": {},
   "outputs": [
    {
     "name": "stdout",
     "output_type": "stream",
     "text": [
      "Index(['Intercept', 'C(prod_A)[T.1]', 'C(type_A)[T.3]', 'C(type_A)[T.6]',\n",
      "       'C(type_B)[T.3]', 'C(type_B)[T.6]', 'C(type_B)[T.9]', 'C(prod_B)[T.1]',\n",
      "       'loyalty', 'ID', 'age', 'city', 'turnover_A', 'turnover_B', 'lor_M'],\n",
      "      dtype='object')\n"
     ]
    }
   ],
   "source": [
    "y, X = dmatrices('''TARGET ~ loyalty + ID + age + city + C(prod_A) + \n",
    "                    C(type_A) + C(type_B) + C(prod_B) + turnover_A + \n",
    "                    turnover_B + C(contract) + lor_M''',\n",
    "                  ins_data, return_type=\"dataframe\")\n",
    "print(X.columns)"
   ]
  },
  {
   "cell_type": "markdown",
   "id": "779e9fad",
   "metadata": {},
   "source": [
    "### flatten y values"
   ]
  },
  {
   "cell_type": "code",
   "execution_count": 141,
   "id": "ce102fd8",
   "metadata": {},
   "outputs": [
    {
     "data": {
      "text/plain": [
       "array([1., 1., 1., ..., 1., 1., 1.])"
      ]
     },
     "execution_count": 141,
     "metadata": {},
     "output_type": "execute_result"
    }
   ],
   "source": [
    "y = np.ravel(y)\n",
    "y"
   ]
  },
  {
   "cell_type": "markdown",
   "id": "8829623a",
   "metadata": {},
   "source": [
    "#### Note: We have to increase the max iterations as the default max_iter is 100 (which is relatively small)"
   ]
  },
  {
   "cell_type": "code",
   "execution_count": 173,
   "id": "129c2019",
   "metadata": {},
   "outputs": [
    {
     "name": "stdout",
     "output_type": "stream",
     "text": [
      "Accuracy without cross- validation 0.929152397260274\n"
     ]
    }
   ],
   "source": [
    "# instantiate a logistic regression model, and fit with X and y\n",
    "model = LogisticRegression(max_iter=1000)\n",
    "model = model.fit(X, y)\n",
    "\n",
    "# check the accuracy on the training set\n",
    "print('Accuracy without cross- validation',model.score(X, y))"
   ]
  },
  {
   "cell_type": "markdown",
   "id": "79fb3259",
   "metadata": {},
   "source": [
    "\n",
    "#### ↓ This ↓  just looks at what percentage of the target observations were True "
   ]
  },
  {
   "cell_type": "code",
   "execution_count": 144,
   "id": "f40840f4",
   "metadata": {},
   "outputs": [
    {
     "name": "stdout",
     "output_type": "stream",
     "text": [
      "Percentage of customers who got the new policy\n"
     ]
    },
    {
     "data": {
      "text/plain": [
       "0.4292237442922374"
      ]
     },
     "execution_count": 144,
     "metadata": {},
     "output_type": "execute_result"
    }
   ],
   "source": [
    "print('Percentage of customers who got the new policy')\n",
    "y.mean()"
   ]
  },
  {
   "cell_type": "code",
   "execution_count": 145,
   "id": "ca49ff2a",
   "metadata": {},
   "outputs": [
    {
     "data": {
      "text/html": [
       "<div>\n",
       "<style scoped>\n",
       "    .dataframe tbody tr th:only-of-type {\n",
       "        vertical-align: middle;\n",
       "    }\n",
       "\n",
       "    .dataframe tbody tr th {\n",
       "        vertical-align: top;\n",
       "    }\n",
       "\n",
       "    .dataframe thead th {\n",
       "        text-align: right;\n",
       "    }\n",
       "</style>\n",
       "<table border=\"1\" class=\"dataframe\">\n",
       "  <thead>\n",
       "    <tr style=\"text-align: right;\">\n",
       "      <th></th>\n",
       "      <th>0</th>\n",
       "      <th>1</th>\n",
       "    </tr>\n",
       "  </thead>\n",
       "  <tbody>\n",
       "    <tr>\n",
       "      <th>0</th>\n",
       "      <td>Intercept</td>\n",
       "      <td>[-0.9557001527404355]</td>\n",
       "    </tr>\n",
       "    <tr>\n",
       "      <th>1</th>\n",
       "      <td>C(prod_A)[T.1]</td>\n",
       "      <td>[-0.7226082208491137]</td>\n",
       "    </tr>\n",
       "    <tr>\n",
       "      <th>2</th>\n",
       "      <td>C(type_A)[T.3]</td>\n",
       "      <td>[-0.73536568761197]</td>\n",
       "    </tr>\n",
       "    <tr>\n",
       "      <th>3</th>\n",
       "      <td>C(type_A)[T.6]</td>\n",
       "      <td>[0.012757466746893887]</td>\n",
       "    </tr>\n",
       "    <tr>\n",
       "      <th>4</th>\n",
       "      <td>C(type_B)[T.3]</td>\n",
       "      <td>[-0.6127446457032889]</td>\n",
       "    </tr>\n",
       "    <tr>\n",
       "      <th>5</th>\n",
       "      <td>C(type_B)[T.6]</td>\n",
       "      <td>[0.02491710867131207]</td>\n",
       "    </tr>\n",
       "    <tr>\n",
       "      <th>6</th>\n",
       "      <td>C(type_B)[T.9]</td>\n",
       "      <td>[-0.0025400222916815195]</td>\n",
       "    </tr>\n",
       "    <tr>\n",
       "      <th>7</th>\n",
       "      <td>C(prod_B)[T.1]</td>\n",
       "      <td>[-0.5903675594131157]</td>\n",
       "    </tr>\n",
       "    <tr>\n",
       "      <th>8</th>\n",
       "      <td>loyalty</td>\n",
       "      <td>[0.1871776815328808]</td>\n",
       "    </tr>\n",
       "    <tr>\n",
       "      <th>9</th>\n",
       "      <td>ID</td>\n",
       "      <td>[0.00017799523740448989]</td>\n",
       "    </tr>\n",
       "    <tr>\n",
       "      <th>10</th>\n",
       "      <td>age</td>\n",
       "      <td>[0.01611408692285192]</td>\n",
       "    </tr>\n",
       "    <tr>\n",
       "      <th>11</th>\n",
       "      <td>city</td>\n",
       "      <td>[7.1372571069621425e-06]</td>\n",
       "    </tr>\n",
       "    <tr>\n",
       "      <th>12</th>\n",
       "      <td>turnover_A</td>\n",
       "      <td>[-0.00223636677758962]</td>\n",
       "    </tr>\n",
       "    <tr>\n",
       "      <th>13</th>\n",
       "      <td>turnover_B</td>\n",
       "      <td>[-0.0019849881998765437]</td>\n",
       "    </tr>\n",
       "    <tr>\n",
       "      <th>14</th>\n",
       "      <td>lor_M</td>\n",
       "      <td>[0.02137411435957463]</td>\n",
       "    </tr>\n",
       "  </tbody>\n",
       "</table>\n",
       "</div>"
      ],
      "text/plain": [
       "                 0                         1\n",
       "0        Intercept     [-0.9557001527404355]\n",
       "1   C(prod_A)[T.1]     [-0.7226082208491137]\n",
       "2   C(type_A)[T.3]       [-0.73536568761197]\n",
       "3   C(type_A)[T.6]    [0.012757466746893887]\n",
       "4   C(type_B)[T.3]     [-0.6127446457032889]\n",
       "5   C(type_B)[T.6]     [0.02491710867131207]\n",
       "6   C(type_B)[T.9]  [-0.0025400222916815195]\n",
       "7   C(prod_B)[T.1]     [-0.5903675594131157]\n",
       "8          loyalty      [0.1871776815328808]\n",
       "9               ID  [0.00017799523740448989]\n",
       "10             age     [0.01611408692285192]\n",
       "11            city  [7.1372571069621425e-06]\n",
       "12      turnover_A    [-0.00223636677758962]\n",
       "13      turnover_B  [-0.0019849881998765437]\n",
       "14           lor_M     [0.02137411435957463]"
      ]
     },
     "execution_count": 145,
     "metadata": {},
     "output_type": "execute_result"
    }
   ],
   "source": [
    "# examine the coefficients\n",
    "pd.DataFrame(zip(X.columns, np.transpose(model.coef_)))"
   ]
  },
  {
   "cell_type": "markdown",
   "id": "cb080809",
   "metadata": {},
   "source": [
    "### Testing on seperate data from the training data\n"
   ]
  },
  {
   "cell_type": "code",
   "execution_count": 146,
   "id": "88725b77",
   "metadata": {},
   "outputs": [
    {
     "data": {
      "text/plain": [
       "LogisticRegression(max_iter=1000)"
      ]
     },
     "execution_count": 146,
     "metadata": {},
     "output_type": "execute_result"
    }
   ],
   "source": [
    "X_train, X_test, y_train, y_test = train_test_split(X, y, test_size=0.3, random_state=0)\n",
    "model2 = LogisticRegression(max_iter=1000)\n",
    "model2.fit(X_train, y_train)"
   ]
  },
  {
   "cell_type": "code",
   "execution_count": 148,
   "id": "5b921031",
   "metadata": {},
   "outputs": [
    {
     "name": "stdout",
     "output_type": "stream",
     "text": [
      "[0. 0. 1. ... 0. 0. 1.]\n"
     ]
    }
   ],
   "source": [
    "predicted = model2.predict(X_test)\n",
    "print (predicted)"
   ]
  },
  {
   "cell_type": "code",
   "execution_count": 149,
   "id": "c308f738",
   "metadata": {},
   "outputs": [
    {
     "name": "stdout",
     "output_type": "stream",
     "text": [
      "[[8.06373012e-01 1.93626988e-01]\n",
      " [8.97722247e-01 1.02277753e-01]\n",
      " [5.42652812e-10 9.99999999e-01]\n",
      " ...\n",
      " [9.10464948e-01 8.95350525e-02]\n",
      " [9.76788627e-01 2.32113726e-02]\n",
      " [1.74966986e-06 9.99998250e-01]]\n"
     ]
    }
   ],
   "source": [
    "# generate class probabilities\n",
    "probs = model2.predict_proba(X_test)\n",
    "print( probs)"
   ]
  },
  {
   "cell_type": "code",
   "execution_count": 152,
   "id": "1d121e01",
   "metadata": {},
   "outputs": [
    {
     "name": "stdout",
     "output_type": "stream",
     "text": [
      "              precision    recall  f1-score   support\n",
      "\n",
      "         0.0       0.92      0.99      0.95      2402\n",
      "         1.0       0.98      0.88      0.93      1803\n",
      "\n",
      "    accuracy                           0.94      4205\n",
      "   macro avg       0.95      0.93      0.94      4205\n",
      "weighted avg       0.94      0.94      0.94      4205\n",
      "\n",
      "ROC AUC score:  0.9642733939132807\n"
     ]
    }
   ],
   "source": [
    "# generate evaluation metrics\n",
    "print (metrics.classification_report(y_test, predicted))\n",
    "print ('ROC AUC score: ', metrics.roc_auc_score(y_test, probs[:, 1]))"
   ]
  },
  {
   "cell_type": "code",
   "execution_count": 158,
   "id": "77722bf8",
   "metadata": {},
   "outputs": [
    {
     "name": "stdout",
     "output_type": "stream",
     "text": [
      "[0.70042796 0.9978602  0.99857347 1.         0.99857347 0.7211127\n",
      " 0.99214847 0.97501784 0.94575303 0.83154889]\n",
      "Accuracy with 10 fold cross validation:  0.9161016025846628\n"
     ]
    }
   ],
   "source": [
    "# evaluate the model using 10-fold cross-validation\n",
    "scores = cross_val_score(LogisticRegression(max_iter=1000), X, y, scoring='accuracy', cv=10)\n",
    "print( scores)\n",
    "print('Accuracy with 10 fold cross validation: ' ,scores.mean())"
   ]
  },
  {
   "cell_type": "markdown",
   "id": "d9c8acf7",
   "metadata": {},
   "source": [
    "## Conclusion"
   ]
  },
  {
   "cell_type": "markdown",
   "id": "b06a924b",
   "metadata": {},
   "source": [
    "It appears that including the columns we did, resulted in a reliable model.\n",
    "Although we did not cover specifics fields, this model seems to perform well."
   ]
  },
  {
   "cell_type": "markdown",
   "id": "d935ec71",
   "metadata": {},
   "source": [
    "<!-- ### Predicting probability of random cusotmer returning/ -->"
   ]
  },
  {
   "cell_type": "code",
   "execution_count": 182,
   "id": "35ba9afd",
   "metadata": {},
   "outputs": [],
   "source": [
    "# model.predict_proba(np.array([-1,77,66,2,0,0,0,0,333.561114,264.721010,2,12]))"
   ]
  },
  {
   "cell_type": "markdown",
   "id": "6d339155",
   "metadata": {},
   "source": [
    "### [Note: Inspiration for this code was taken from here](https://nbviewer.org/gist/justmarkham/6d5c061ca5aee67c4316471f8c2ae976)"
   ]
  }
 ],
 "metadata": {
  "kernelspec": {
   "display_name": "Python 3",
   "language": "python",
   "name": "python3"
  },
  "language_info": {
   "codemirror_mode": {
    "name": "ipython",
    "version": 3
   },
   "file_extension": ".py",
   "mimetype": "text/x-python",
   "name": "python",
   "nbconvert_exporter": "python",
   "pygments_lexer": "ipython3",
   "version": "3.8.7"
  }
 },
 "nbformat": 4,
 "nbformat_minor": 5
}
