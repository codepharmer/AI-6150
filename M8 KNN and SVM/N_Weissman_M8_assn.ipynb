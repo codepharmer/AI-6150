{
  "nbformat": 4,
  "nbformat_minor": 0,
  "metadata": {
    "colab": {
      "name": "A_Skidelsky_M8_assn",
      "provenance": [],
      "collapsed_sections": [
        "OlII2xPedwnL"
      ]
    },
    "kernelspec": {
      "name": "python3",
      "display_name": "Python 3"
    },
    "language_info": {
      "name": "python"
    }
  },
  "cells": [
    {
      "cell_type": "markdown",
      "source": [
        "# Avi Skidelsky\n",
        "# Nosson Weissman\n",
        "\n",
        "# DAV-6150 Module 8 Assignment"
      ],
      "metadata": {
        "id": "fS4y2YjMTjLE"
      }
    },
    {
      "cell_type": "code",
      "execution_count": null,
      "metadata": {
        "id": "3G6dVshMESES",
        "colab": {
          "base_uri": "https://localhost:8080/"
        },
        "outputId": "d393b83f-0d6c-4cb8-f439-702595aad2ff"
      },
      "outputs": [
        {
          "output_type": "stream",
          "name": "stderr",
          "text": [
            "/usr/local/lib/python3.7/dist-packages/statsmodels/tools/_testing.py:19: FutureWarning: pandas.util.testing is deprecated. Use the functions in the public API at pandas.testing instead.\n",
            "  import pandas.util.testing as tm\n"
          ]
        }
      ],
      "source": [
        "import pandas as pd\n",
        "import numpy as np\n",
        "import matplotlib.pyplot as plt\n",
        "import statsmodels.api as sm\n",
        "import math as m\n",
        "import seaborn as sns\n",
        "from sklearn.model_selection import train_test_split\n",
        "from sklearn import metrics\n",
        "from sklearn.model_selection import cross_val_score\n",
        "from sklearn.linear_model import LassoCV\n",
        "from sklearn.feature_selection import SelectFromModel\n",
        "from sklearn.ensemble import ExtraTreesClassifier\n",
        "from sklearn.preprocessing import StandardScaler\n",
        "from sklearn.model_selection import GridSearchCV\n",
        "from numpy.random import seed\n",
        "from numpy.random import randn\n",
        "from numpy import exp\n",
        "from scipy.stats import boxcox\n",
        "from scipy import stats\n",
        "from scipy.special import boxcox1p\n",
        "from sklearn.metrics import mean_squared_error\n",
        "from math import sqrt\n",
        "from sklearn.neighbors import KNeighborsClassifier\n",
        "from sklearn.svm import SVC\n",
        "from sklearn.feature_selection import RFE"
      ]
    },
    {
      "cell_type": "code",
      "source": [
        "%matplotlib inline"
      ],
      "metadata": {
        "id": "9QOlECjRdslu"
      },
      "execution_count": null,
      "outputs": []
    },
    {
      "cell_type": "markdown",
      "source": [
        "# Introduction"
      ],
      "metadata": {
        "id": "OlII2xPedwnL"
      }
    },
    {
      "cell_type": "markdown",
      "source": [
        "The problem that we are tasked with in this scenario is interpretting for an insurance company whether a customer is likely to purchase an additional insurance product. The goal is to try and create particular segments of the data using different classification algorithms to create a group of customers to target as opposed to probabilities that could be generated through a logistic regression model. In the data, we have variables like customer age, city, amount of money spent, type of contract, and various others. This includes our variable that we are trying to predict, TARGET. First importing the data, the size is approximately 14,000 rows and 15 attributes, 14 if you want to only consider the predictive variables."
      ],
      "metadata": {
        "id": "-QDL9zW0d04k"
      }
    },
    {
      "cell_type": "markdown",
      "source": [
        "1.   ID: Unique customer identifier\n",
        "2.   TARGET: Indicator of buying the new product (0=no, 1=yes)\n",
        "3.   Loyalty: Loyalty level, from low to high (0 to 3), 99 = unclassified\n",
        "4.   Age: Age in years\n",
        "5.   City: Unique code per city\n",
        "6.   Age_p: Age of partner in years\n",
        "7.   LOR: Length of relationship in months\n",
        "8.   LOR_m: Length of relationship in months\n",
        "9.   Prod_A: Bought product A (0=no, 1=yes)\n",
        "10.  Type_A: Type of product A\n",
        "11.  Turnover_A: Amount of money spent on product A\n",
        "12.  Prod_B: Bought product B (0=no, 1=yes)\n",
        "13.  Type_B: Type of product B\n",
        "14.  Turnover_B: Amount of money spent on product B\n",
        "15.  Contract: Type of contract\n"
      ],
      "metadata": {
        "id": "03k_3yq8eLKi"
      }
    },
    {
      "cell_type": "markdown",
      "source": [
        "# EDA:"
      ],
      "metadata": {
        "id": "8yc7pw65eOLD"
      }
    },
    {
      "cell_type": "code",
      "source": [
        "df = pd.read_csv(\"https://raw.githubusercontent.com/askidelsky/DAV-6150/main/Homework/Module%207/M7_Data.csv\")\n",
        "df.head()"
      ],
      "metadata": {
        "colab": {
          "base_uri": "https://localhost:8080/",
          "height": 206
        },
        "id": "un0w-GQTgofC",
        "outputId": "d100fc6b-3eed-4870-df8b-9f701f5bf8f6"
      },
      "execution_count": null,
      "outputs": [
        {
          "output_type": "execute_result",
          "data": {
            "text/plain": [
              "  TARGET  loyalty   ID  age  city  LOR  prod_A  type_A  type_B  prod_B  \\\n",
              "0      Y       99   77   66     2    0       0       0       0       0   \n",
              "1      Y        1  159   45     2    3       1       3       3       1   \n",
              "2      Y        1  220   42     2    2       1       3       6       1   \n",
              "3      Y       99  303   31     2    0       0       0       0       0   \n",
              "4      Y       99  306   62     2    0       0       0       0       0   \n",
              "\n",
              "   turnover_A   turnover_B  contract  age_P  lor_M  \n",
              "0  333.561114   264.721010         2     66      3  \n",
              "1  394.735699   284.904978         2     45     39  \n",
              "2  342.180990  1175.589721         2     42     27  \n",
              "3  453.757916   242.341754         2     31      3  \n",
              "4  384.577469   287.008370         2     62      3  "
            ],
            "text/html": [
              "\n",
              "  <div id=\"df-d7c613c0-5a82-4f3f-9f17-43b303f5c31a\">\n",
              "    <div class=\"colab-df-container\">\n",
              "      <div>\n",
              "<style scoped>\n",
              "    .dataframe tbody tr th:only-of-type {\n",
              "        vertical-align: middle;\n",
              "    }\n",
              "\n",
              "    .dataframe tbody tr th {\n",
              "        vertical-align: top;\n",
              "    }\n",
              "\n",
              "    .dataframe thead th {\n",
              "        text-align: right;\n",
              "    }\n",
              "</style>\n",
              "<table border=\"1\" class=\"dataframe\">\n",
              "  <thead>\n",
              "    <tr style=\"text-align: right;\">\n",
              "      <th></th>\n",
              "      <th>TARGET</th>\n",
              "      <th>loyalty</th>\n",
              "      <th>ID</th>\n",
              "      <th>age</th>\n",
              "      <th>city</th>\n",
              "      <th>LOR</th>\n",
              "      <th>prod_A</th>\n",
              "      <th>type_A</th>\n",
              "      <th>type_B</th>\n",
              "      <th>prod_B</th>\n",
              "      <th>turnover_A</th>\n",
              "      <th>turnover_B</th>\n",
              "      <th>contract</th>\n",
              "      <th>age_P</th>\n",
              "      <th>lor_M</th>\n",
              "    </tr>\n",
              "  </thead>\n",
              "  <tbody>\n",
              "    <tr>\n",
              "      <th>0</th>\n",
              "      <td>Y</td>\n",
              "      <td>99</td>\n",
              "      <td>77</td>\n",
              "      <td>66</td>\n",
              "      <td>2</td>\n",
              "      <td>0</td>\n",
              "      <td>0</td>\n",
              "      <td>0</td>\n",
              "      <td>0</td>\n",
              "      <td>0</td>\n",
              "      <td>333.561114</td>\n",
              "      <td>264.721010</td>\n",
              "      <td>2</td>\n",
              "      <td>66</td>\n",
              "      <td>3</td>\n",
              "    </tr>\n",
              "    <tr>\n",
              "      <th>1</th>\n",
              "      <td>Y</td>\n",
              "      <td>1</td>\n",
              "      <td>159</td>\n",
              "      <td>45</td>\n",
              "      <td>2</td>\n",
              "      <td>3</td>\n",
              "      <td>1</td>\n",
              "      <td>3</td>\n",
              "      <td>3</td>\n",
              "      <td>1</td>\n",
              "      <td>394.735699</td>\n",
              "      <td>284.904978</td>\n",
              "      <td>2</td>\n",
              "      <td>45</td>\n",
              "      <td>39</td>\n",
              "    </tr>\n",
              "    <tr>\n",
              "      <th>2</th>\n",
              "      <td>Y</td>\n",
              "      <td>1</td>\n",
              "      <td>220</td>\n",
              "      <td>42</td>\n",
              "      <td>2</td>\n",
              "      <td>2</td>\n",
              "      <td>1</td>\n",
              "      <td>3</td>\n",
              "      <td>6</td>\n",
              "      <td>1</td>\n",
              "      <td>342.180990</td>\n",
              "      <td>1175.589721</td>\n",
              "      <td>2</td>\n",
              "      <td>42</td>\n",
              "      <td>27</td>\n",
              "    </tr>\n",
              "    <tr>\n",
              "      <th>3</th>\n",
              "      <td>Y</td>\n",
              "      <td>99</td>\n",
              "      <td>303</td>\n",
              "      <td>31</td>\n",
              "      <td>2</td>\n",
              "      <td>0</td>\n",
              "      <td>0</td>\n",
              "      <td>0</td>\n",
              "      <td>0</td>\n",
              "      <td>0</td>\n",
              "      <td>453.757916</td>\n",
              "      <td>242.341754</td>\n",
              "      <td>2</td>\n",
              "      <td>31</td>\n",
              "      <td>3</td>\n",
              "    </tr>\n",
              "    <tr>\n",
              "      <th>4</th>\n",
              "      <td>Y</td>\n",
              "      <td>99</td>\n",
              "      <td>306</td>\n",
              "      <td>62</td>\n",
              "      <td>2</td>\n",
              "      <td>0</td>\n",
              "      <td>0</td>\n",
              "      <td>0</td>\n",
              "      <td>0</td>\n",
              "      <td>0</td>\n",
              "      <td>384.577469</td>\n",
              "      <td>287.008370</td>\n",
              "      <td>2</td>\n",
              "      <td>62</td>\n",
              "      <td>3</td>\n",
              "    </tr>\n",
              "  </tbody>\n",
              "</table>\n",
              "</div>\n",
              "      <button class=\"colab-df-convert\" onclick=\"convertToInteractive('df-d7c613c0-5a82-4f3f-9f17-43b303f5c31a')\"\n",
              "              title=\"Convert this dataframe to an interactive table.\"\n",
              "              style=\"display:none;\">\n",
              "        \n",
              "  <svg xmlns=\"http://www.w3.org/2000/svg\" height=\"24px\"viewBox=\"0 0 24 24\"\n",
              "       width=\"24px\">\n",
              "    <path d=\"M0 0h24v24H0V0z\" fill=\"none\"/>\n",
              "    <path d=\"M18.56 5.44l.94 2.06.94-2.06 2.06-.94-2.06-.94-.94-2.06-.94 2.06-2.06.94zm-11 1L8.5 8.5l.94-2.06 2.06-.94-2.06-.94L8.5 2.5l-.94 2.06-2.06.94zm10 10l.94 2.06.94-2.06 2.06-.94-2.06-.94-.94-2.06-.94 2.06-2.06.94z\"/><path d=\"M17.41 7.96l-1.37-1.37c-.4-.4-.92-.59-1.43-.59-.52 0-1.04.2-1.43.59L10.3 9.45l-7.72 7.72c-.78.78-.78 2.05 0 2.83L4 21.41c.39.39.9.59 1.41.59.51 0 1.02-.2 1.41-.59l7.78-7.78 2.81-2.81c.8-.78.8-2.07 0-2.86zM5.41 20L4 18.59l7.72-7.72 1.47 1.35L5.41 20z\"/>\n",
              "  </svg>\n",
              "      </button>\n",
              "      \n",
              "  <style>\n",
              "    .colab-df-container {\n",
              "      display:flex;\n",
              "      flex-wrap:wrap;\n",
              "      gap: 12px;\n",
              "    }\n",
              "\n",
              "    .colab-df-convert {\n",
              "      background-color: #E8F0FE;\n",
              "      border: none;\n",
              "      border-radius: 50%;\n",
              "      cursor: pointer;\n",
              "      display: none;\n",
              "      fill: #1967D2;\n",
              "      height: 32px;\n",
              "      padding: 0 0 0 0;\n",
              "      width: 32px;\n",
              "    }\n",
              "\n",
              "    .colab-df-convert:hover {\n",
              "      background-color: #E2EBFA;\n",
              "      box-shadow: 0px 1px 2px rgba(60, 64, 67, 0.3), 0px 1px 3px 1px rgba(60, 64, 67, 0.15);\n",
              "      fill: #174EA6;\n",
              "    }\n",
              "\n",
              "    [theme=dark] .colab-df-convert {\n",
              "      background-color: #3B4455;\n",
              "      fill: #D2E3FC;\n",
              "    }\n",
              "\n",
              "    [theme=dark] .colab-df-convert:hover {\n",
              "      background-color: #434B5C;\n",
              "      box-shadow: 0px 1px 3px 1px rgba(0, 0, 0, 0.15);\n",
              "      filter: drop-shadow(0px 1px 2px rgba(0, 0, 0, 0.3));\n",
              "      fill: #FFFFFF;\n",
              "    }\n",
              "  </style>\n",
              "\n",
              "      <script>\n",
              "        const buttonEl =\n",
              "          document.querySelector('#df-d7c613c0-5a82-4f3f-9f17-43b303f5c31a button.colab-df-convert');\n",
              "        buttonEl.style.display =\n",
              "          google.colab.kernel.accessAllowed ? 'block' : 'none';\n",
              "\n",
              "        async function convertToInteractive(key) {\n",
              "          const element = document.querySelector('#df-d7c613c0-5a82-4f3f-9f17-43b303f5c31a');\n",
              "          const dataTable =\n",
              "            await google.colab.kernel.invokeFunction('convertToInteractive',\n",
              "                                                     [key], {});\n",
              "          if (!dataTable) return;\n",
              "\n",
              "          const docLinkHtml = 'Like what you see? Visit the ' +\n",
              "            '<a target=\"_blank\" href=https://colab.research.google.com/notebooks/data_table.ipynb>data table notebook</a>'\n",
              "            + ' to learn more about interactive tables.';\n",
              "          element.innerHTML = '';\n",
              "          dataTable['output_type'] = 'display_data';\n",
              "          await google.colab.output.renderOutput(dataTable, element);\n",
              "          const docLink = document.createElement('div');\n",
              "          docLink.innerHTML = docLinkHtml;\n",
              "          element.appendChild(docLink);\n",
              "        }\n",
              "      </script>\n",
              "    </div>\n",
              "  </div>\n",
              "  "
            ]
          },
          "metadata": {},
          "execution_count": 3
        }
      ]
    },
    {
      "cell_type": "code",
      "source": [
        "df.shape"
      ],
      "metadata": {
        "colab": {
          "base_uri": "https://localhost:8080/"
        },
        "id": "rCWP-b6heV-u",
        "outputId": "086cd5f3-031d-496e-f1ea-78357eb6512a"
      },
      "execution_count": null,
      "outputs": [
        {
          "output_type": "execute_result",
          "data": {
            "text/plain": [
              "(14016, 15)"
            ]
          },
          "metadata": {},
          "execution_count": 4
        }
      ]
    },
    {
      "cell_type": "markdown",
      "source": [
        "### Data Profiling\n",
        "Looking at the data, it consists of approximately 14,000 observations, each with 15 columns, 14 attributes."
      ],
      "metadata": {
        "id": "3izqbKK8ns7t"
      }
    },
    {
      "cell_type": "markdown",
      "source": [
        "Inspecting the data types of all columns, they are all numeric with the exception of TARGET which is listed as either Y or N. This is fine as we are trying to predict Y vs N and this is easily converted into a simple 1 or 0 value. This change will take place in the data preparation stage. Note that with the exception of age, LOR, turnover_A, turnover_B, age_P, and lor_M, all are categorical variables both ordinal and nominal. Those previously mentioned are the only continuous ones."
      ],
      "metadata": {
        "id": "uztbV2tQnyS6"
      }
    },
    {
      "cell_type": "code",
      "source": [
        "df.dtypes"
      ],
      "metadata": {
        "colab": {
          "base_uri": "https://localhost:8080/"
        },
        "id": "TDlSUfQohHQY",
        "outputId": "efe9da17-0a7e-4744-ba6d-2d02691a8e09"
      },
      "execution_count": null,
      "outputs": [
        {
          "output_type": "execute_result",
          "data": {
            "text/plain": [
              "TARGET         object\n",
              "loyalty         int64\n",
              "ID              int64\n",
              "age             int64\n",
              "city            int64\n",
              "LOR             int64\n",
              "prod_A          int64\n",
              "type_A          int64\n",
              "type_B          int64\n",
              "prod_B          int64\n",
              "turnover_A    float64\n",
              "turnover_B    float64\n",
              "contract        int64\n",
              "age_P           int64\n",
              "lor_M           int64\n",
              "dtype: object"
            ]
          },
          "metadata": {},
          "execution_count": 5
        }
      ]
    },
    {
      "cell_type": "markdown",
      "source": [
        "Next, looking at the amount of missing values, thankfully there are none so no imputations will be needed."
      ],
      "metadata": {
        "id": "LC_SSSorn_ng"
      }
    },
    {
      "cell_type": "code",
      "source": [
        "df.isna().sum().sum()"
      ],
      "metadata": {
        "colab": {
          "base_uri": "https://localhost:8080/"
        },
        "id": "fMl83aE8YzAR",
        "outputId": "a0c2eaac-0b14-4c3e-956a-00fe933bff3c"
      },
      "execution_count": null,
      "outputs": [
        {
          "output_type": "execute_result",
          "data": {
            "text/plain": [
              "0"
            ]
          },
          "metadata": {},
          "execution_count": 6
        }
      ]
    },
    {
      "cell_type": "markdown",
      "source": [
        "### Data Contents and Structure"
      ],
      "metadata": {
        "id": "5lMTocFazg8n"
      }
    },
    {
      "cell_type": "markdown",
      "source": [
        "I decided to check the data for attributes with little to no variance, signaling that they won't impact the result of the model, at least not strongly. One column that is easy to eliminate off the bat is contract. Contract can be eliminated because every observation in this data set has the same value. This signals that the response variable, TARGET, does not change based on whatever this value is at least in the data provided. These steps will be taken care of in the data preparation step.\n",
        "\n",
        "ID in theory should be unique to each observation but I decided to check anyways. In this case, there are 3,000 rows, amounting to 21.5% of all observations, that are complete duplicates. If it was a smaller percentage of observations then we wouldn't bother eliminating because it wouldn't have much of an effect but here we have no choice but to eliminate the duplicates. \n",
        "\n",
        "Since we are unable to provide accurate EDA while having so many duplicates, they will be removed right away as opposed to during the data preparation step. The entire column of ID will be removed since it is just an identifying column and doesn't contain meaningful values."
      ],
      "metadata": {
        "id": "gk2qguArzmYR"
      }
    },
    {
      "cell_type": "code",
      "source": [
        "df[df.duplicated()==True]"
      ],
      "metadata": {
        "colab": {
          "base_uri": "https://localhost:8080/",
          "height": 424
        },
        "id": "J7_6oabThOLv",
        "outputId": "6555b450-81df-4d55-ca16-ea698b3cfb9b"
      },
      "execution_count": null,
      "outputs": [
        {
          "output_type": "execute_result",
          "data": {
            "text/plain": [
              "      TARGET  loyalty      ID  age  city  LOR  prod_A  type_A  type_B  prod_B  \\\n",
              "11008      Y       99      77   66     2    0       0       0       0       0   \n",
              "11009      Y        1     159   45     2    3       1       3       3       1   \n",
              "11010      Y        1     220   42     2    2       1       3       6       1   \n",
              "11011      Y       99     303   31     2    0       0       0       0       0   \n",
              "11012      Y       99     306   62     2    0       0       0       0       0   \n",
              "...      ...      ...     ...  ...   ...  ...     ...     ...     ...     ...   \n",
              "14011      Y       99  151601   30     2    0       0       0       0       0   \n",
              "14012      Y        1  151634   27     2    2       1       3       3       1   \n",
              "14013      Y       99  151679   26     2    0       0       0       0       0   \n",
              "14014      Y        1  151804   75     2    1       1       3       3       1   \n",
              "14015      Y       99  151811   61     2    0       0       0       0       0   \n",
              "\n",
              "       turnover_A   turnover_B  contract  age_P  lor_M  \n",
              "11008  333.561114   264.721010         2     66      3  \n",
              "11009  394.735699   284.904978         2     45     39  \n",
              "11010  342.180990  1175.589721         2     42     27  \n",
              "11011  453.757916   242.341754         2     31      3  \n",
              "11012  384.577469   287.008370         2     62      3  \n",
              "...           ...          ...       ...    ...    ...  \n",
              "14011  386.434278   284.309508         2     30      3  \n",
              "14012  376.842591   266.993794         2     27     27  \n",
              "14013  434.805703   284.629361         2     26      3  \n",
              "14014  366.273857   270.573265         2     75     15  \n",
              "14015  445.059067   217.425934         2     61      3  \n",
              "\n",
              "[3008 rows x 15 columns]"
            ],
            "text/html": [
              "\n",
              "  <div id=\"df-5d1497a7-7179-409f-aa16-d91e459cd1ff\">\n",
              "    <div class=\"colab-df-container\">\n",
              "      <div>\n",
              "<style scoped>\n",
              "    .dataframe tbody tr th:only-of-type {\n",
              "        vertical-align: middle;\n",
              "    }\n",
              "\n",
              "    .dataframe tbody tr th {\n",
              "        vertical-align: top;\n",
              "    }\n",
              "\n",
              "    .dataframe thead th {\n",
              "        text-align: right;\n",
              "    }\n",
              "</style>\n",
              "<table border=\"1\" class=\"dataframe\">\n",
              "  <thead>\n",
              "    <tr style=\"text-align: right;\">\n",
              "      <th></th>\n",
              "      <th>TARGET</th>\n",
              "      <th>loyalty</th>\n",
              "      <th>ID</th>\n",
              "      <th>age</th>\n",
              "      <th>city</th>\n",
              "      <th>LOR</th>\n",
              "      <th>prod_A</th>\n",
              "      <th>type_A</th>\n",
              "      <th>type_B</th>\n",
              "      <th>prod_B</th>\n",
              "      <th>turnover_A</th>\n",
              "      <th>turnover_B</th>\n",
              "      <th>contract</th>\n",
              "      <th>age_P</th>\n",
              "      <th>lor_M</th>\n",
              "    </tr>\n",
              "  </thead>\n",
              "  <tbody>\n",
              "    <tr>\n",
              "      <th>11008</th>\n",
              "      <td>Y</td>\n",
              "      <td>99</td>\n",
              "      <td>77</td>\n",
              "      <td>66</td>\n",
              "      <td>2</td>\n",
              "      <td>0</td>\n",
              "      <td>0</td>\n",
              "      <td>0</td>\n",
              "      <td>0</td>\n",
              "      <td>0</td>\n",
              "      <td>333.561114</td>\n",
              "      <td>264.721010</td>\n",
              "      <td>2</td>\n",
              "      <td>66</td>\n",
              "      <td>3</td>\n",
              "    </tr>\n",
              "    <tr>\n",
              "      <th>11009</th>\n",
              "      <td>Y</td>\n",
              "      <td>1</td>\n",
              "      <td>159</td>\n",
              "      <td>45</td>\n",
              "      <td>2</td>\n",
              "      <td>3</td>\n",
              "      <td>1</td>\n",
              "      <td>3</td>\n",
              "      <td>3</td>\n",
              "      <td>1</td>\n",
              "      <td>394.735699</td>\n",
              "      <td>284.904978</td>\n",
              "      <td>2</td>\n",
              "      <td>45</td>\n",
              "      <td>39</td>\n",
              "    </tr>\n",
              "    <tr>\n",
              "      <th>11010</th>\n",
              "      <td>Y</td>\n",
              "      <td>1</td>\n",
              "      <td>220</td>\n",
              "      <td>42</td>\n",
              "      <td>2</td>\n",
              "      <td>2</td>\n",
              "      <td>1</td>\n",
              "      <td>3</td>\n",
              "      <td>6</td>\n",
              "      <td>1</td>\n",
              "      <td>342.180990</td>\n",
              "      <td>1175.589721</td>\n",
              "      <td>2</td>\n",
              "      <td>42</td>\n",
              "      <td>27</td>\n",
              "    </tr>\n",
              "    <tr>\n",
              "      <th>11011</th>\n",
              "      <td>Y</td>\n",
              "      <td>99</td>\n",
              "      <td>303</td>\n",
              "      <td>31</td>\n",
              "      <td>2</td>\n",
              "      <td>0</td>\n",
              "      <td>0</td>\n",
              "      <td>0</td>\n",
              "      <td>0</td>\n",
              "      <td>0</td>\n",
              "      <td>453.757916</td>\n",
              "      <td>242.341754</td>\n",
              "      <td>2</td>\n",
              "      <td>31</td>\n",
              "      <td>3</td>\n",
              "    </tr>\n",
              "    <tr>\n",
              "      <th>11012</th>\n",
              "      <td>Y</td>\n",
              "      <td>99</td>\n",
              "      <td>306</td>\n",
              "      <td>62</td>\n",
              "      <td>2</td>\n",
              "      <td>0</td>\n",
              "      <td>0</td>\n",
              "      <td>0</td>\n",
              "      <td>0</td>\n",
              "      <td>0</td>\n",
              "      <td>384.577469</td>\n",
              "      <td>287.008370</td>\n",
              "      <td>2</td>\n",
              "      <td>62</td>\n",
              "      <td>3</td>\n",
              "    </tr>\n",
              "    <tr>\n",
              "      <th>...</th>\n",
              "      <td>...</td>\n",
              "      <td>...</td>\n",
              "      <td>...</td>\n",
              "      <td>...</td>\n",
              "      <td>...</td>\n",
              "      <td>...</td>\n",
              "      <td>...</td>\n",
              "      <td>...</td>\n",
              "      <td>...</td>\n",
              "      <td>...</td>\n",
              "      <td>...</td>\n",
              "      <td>...</td>\n",
              "      <td>...</td>\n",
              "      <td>...</td>\n",
              "      <td>...</td>\n",
              "    </tr>\n",
              "    <tr>\n",
              "      <th>14011</th>\n",
              "      <td>Y</td>\n",
              "      <td>99</td>\n",
              "      <td>151601</td>\n",
              "      <td>30</td>\n",
              "      <td>2</td>\n",
              "      <td>0</td>\n",
              "      <td>0</td>\n",
              "      <td>0</td>\n",
              "      <td>0</td>\n",
              "      <td>0</td>\n",
              "      <td>386.434278</td>\n",
              "      <td>284.309508</td>\n",
              "      <td>2</td>\n",
              "      <td>30</td>\n",
              "      <td>3</td>\n",
              "    </tr>\n",
              "    <tr>\n",
              "      <th>14012</th>\n",
              "      <td>Y</td>\n",
              "      <td>1</td>\n",
              "      <td>151634</td>\n",
              "      <td>27</td>\n",
              "      <td>2</td>\n",
              "      <td>2</td>\n",
              "      <td>1</td>\n",
              "      <td>3</td>\n",
              "      <td>3</td>\n",
              "      <td>1</td>\n",
              "      <td>376.842591</td>\n",
              "      <td>266.993794</td>\n",
              "      <td>2</td>\n",
              "      <td>27</td>\n",
              "      <td>27</td>\n",
              "    </tr>\n",
              "    <tr>\n",
              "      <th>14013</th>\n",
              "      <td>Y</td>\n",
              "      <td>99</td>\n",
              "      <td>151679</td>\n",
              "      <td>26</td>\n",
              "      <td>2</td>\n",
              "      <td>0</td>\n",
              "      <td>0</td>\n",
              "      <td>0</td>\n",
              "      <td>0</td>\n",
              "      <td>0</td>\n",
              "      <td>434.805703</td>\n",
              "      <td>284.629361</td>\n",
              "      <td>2</td>\n",
              "      <td>26</td>\n",
              "      <td>3</td>\n",
              "    </tr>\n",
              "    <tr>\n",
              "      <th>14014</th>\n",
              "      <td>Y</td>\n",
              "      <td>1</td>\n",
              "      <td>151804</td>\n",
              "      <td>75</td>\n",
              "      <td>2</td>\n",
              "      <td>1</td>\n",
              "      <td>1</td>\n",
              "      <td>3</td>\n",
              "      <td>3</td>\n",
              "      <td>1</td>\n",
              "      <td>366.273857</td>\n",
              "      <td>270.573265</td>\n",
              "      <td>2</td>\n",
              "      <td>75</td>\n",
              "      <td>15</td>\n",
              "    </tr>\n",
              "    <tr>\n",
              "      <th>14015</th>\n",
              "      <td>Y</td>\n",
              "      <td>99</td>\n",
              "      <td>151811</td>\n",
              "      <td>61</td>\n",
              "      <td>2</td>\n",
              "      <td>0</td>\n",
              "      <td>0</td>\n",
              "      <td>0</td>\n",
              "      <td>0</td>\n",
              "      <td>0</td>\n",
              "      <td>445.059067</td>\n",
              "      <td>217.425934</td>\n",
              "      <td>2</td>\n",
              "      <td>61</td>\n",
              "      <td>3</td>\n",
              "    </tr>\n",
              "  </tbody>\n",
              "</table>\n",
              "<p>3008 rows × 15 columns</p>\n",
              "</div>\n",
              "      <button class=\"colab-df-convert\" onclick=\"convertToInteractive('df-5d1497a7-7179-409f-aa16-d91e459cd1ff')\"\n",
              "              title=\"Convert this dataframe to an interactive table.\"\n",
              "              style=\"display:none;\">\n",
              "        \n",
              "  <svg xmlns=\"http://www.w3.org/2000/svg\" height=\"24px\"viewBox=\"0 0 24 24\"\n",
              "       width=\"24px\">\n",
              "    <path d=\"M0 0h24v24H0V0z\" fill=\"none\"/>\n",
              "    <path d=\"M18.56 5.44l.94 2.06.94-2.06 2.06-.94-2.06-.94-.94-2.06-.94 2.06-2.06.94zm-11 1L8.5 8.5l.94-2.06 2.06-.94-2.06-.94L8.5 2.5l-.94 2.06-2.06.94zm10 10l.94 2.06.94-2.06 2.06-.94-2.06-.94-.94-2.06-.94 2.06-2.06.94z\"/><path d=\"M17.41 7.96l-1.37-1.37c-.4-.4-.92-.59-1.43-.59-.52 0-1.04.2-1.43.59L10.3 9.45l-7.72 7.72c-.78.78-.78 2.05 0 2.83L4 21.41c.39.39.9.59 1.41.59.51 0 1.02-.2 1.41-.59l7.78-7.78 2.81-2.81c.8-.78.8-2.07 0-2.86zM5.41 20L4 18.59l7.72-7.72 1.47 1.35L5.41 20z\"/>\n",
              "  </svg>\n",
              "      </button>\n",
              "      \n",
              "  <style>\n",
              "    .colab-df-container {\n",
              "      display:flex;\n",
              "      flex-wrap:wrap;\n",
              "      gap: 12px;\n",
              "    }\n",
              "\n",
              "    .colab-df-convert {\n",
              "      background-color: #E8F0FE;\n",
              "      border: none;\n",
              "      border-radius: 50%;\n",
              "      cursor: pointer;\n",
              "      display: none;\n",
              "      fill: #1967D2;\n",
              "      height: 32px;\n",
              "      padding: 0 0 0 0;\n",
              "      width: 32px;\n",
              "    }\n",
              "\n",
              "    .colab-df-convert:hover {\n",
              "      background-color: #E2EBFA;\n",
              "      box-shadow: 0px 1px 2px rgba(60, 64, 67, 0.3), 0px 1px 3px 1px rgba(60, 64, 67, 0.15);\n",
              "      fill: #174EA6;\n",
              "    }\n",
              "\n",
              "    [theme=dark] .colab-df-convert {\n",
              "      background-color: #3B4455;\n",
              "      fill: #D2E3FC;\n",
              "    }\n",
              "\n",
              "    [theme=dark] .colab-df-convert:hover {\n",
              "      background-color: #434B5C;\n",
              "      box-shadow: 0px 1px 3px 1px rgba(0, 0, 0, 0.15);\n",
              "      filter: drop-shadow(0px 1px 2px rgba(0, 0, 0, 0.3));\n",
              "      fill: #FFFFFF;\n",
              "    }\n",
              "  </style>\n",
              "\n",
              "      <script>\n",
              "        const buttonEl =\n",
              "          document.querySelector('#df-5d1497a7-7179-409f-aa16-d91e459cd1ff button.colab-df-convert');\n",
              "        buttonEl.style.display =\n",
              "          google.colab.kernel.accessAllowed ? 'block' : 'none';\n",
              "\n",
              "        async function convertToInteractive(key) {\n",
              "          const element = document.querySelector('#df-5d1497a7-7179-409f-aa16-d91e459cd1ff');\n",
              "          const dataTable =\n",
              "            await google.colab.kernel.invokeFunction('convertToInteractive',\n",
              "                                                     [key], {});\n",
              "          if (!dataTable) return;\n",
              "\n",
              "          const docLinkHtml = 'Like what you see? Visit the ' +\n",
              "            '<a target=\"_blank\" href=https://colab.research.google.com/notebooks/data_table.ipynb>data table notebook</a>'\n",
              "            + ' to learn more about interactive tables.';\n",
              "          element.innerHTML = '';\n",
              "          dataTable['output_type'] = 'display_data';\n",
              "          await google.colab.output.renderOutput(dataTable, element);\n",
              "          const docLink = document.createElement('div');\n",
              "          docLink.innerHTML = docLinkHtml;\n",
              "          element.appendChild(docLink);\n",
              "        }\n",
              "      </script>\n",
              "    </div>\n",
              "  </div>\n",
              "  "
            ]
          },
          "metadata": {},
          "execution_count": 7
        }
      ]
    },
    {
      "cell_type": "code",
      "source": [
        "1 - len(df.ID.unique())/len(df.ID)"
      ],
      "metadata": {
        "colab": {
          "base_uri": "https://localhost:8080/"
        },
        "id": "P5GqdTNlY5bs",
        "outputId": "f525a1ce-88cc-4bd8-c0e4-56d4c0737406"
      },
      "execution_count": null,
      "outputs": [
        {
          "output_type": "execute_result",
          "data": {
            "text/plain": [
              "0.21461187214611877"
            ]
          },
          "metadata": {},
          "execution_count": 8
        }
      ]
    },
    {
      "cell_type": "code",
      "source": [
        "df= df.drop_duplicates(subset=['ID'])\n",
        "1 - len(df.ID.unique())/len(df.ID)"
      ],
      "metadata": {
        "colab": {
          "base_uri": "https://localhost:8080/"
        },
        "id": "-TwXSyfjFWt0",
        "outputId": "68183978-dee3-424e-cb5d-f9ad42996222"
      },
      "execution_count": null,
      "outputs": [
        {
          "output_type": "execute_result",
          "data": {
            "text/plain": [
              "0.0"
            ]
          },
          "metadata": {},
          "execution_count": 9
        }
      ]
    },
    {
      "cell_type": "code",
      "source": [
        "cols = df[['type_A','type_B','contract']]\n",
        "\n",
        "vals={}\n",
        "for i in range(len(cols.columns)):\n",
        "  vals[cols.columns[i]] = cols.iloc[:,i].unique()\n",
        "vals"
      ],
      "metadata": {
        "colab": {
          "base_uri": "https://localhost:8080/"
        },
        "id": "ITK_9CdDZmJw",
        "outputId": "b346acee-e186-45f4-c3e8-652927b773df"
      },
      "execution_count": null,
      "outputs": [
        {
          "output_type": "execute_result",
          "data": {
            "text/plain": [
              "{'contract': array([2]),\n",
              " 'type_A': array([0, 3, 6]),\n",
              " 'type_B': array([0, 3, 6, 9])}"
            ]
          },
          "metadata": {},
          "execution_count": 10
        }
      ]
    },
    {
      "cell_type": "code",
      "source": [
        "df['city'].value_counts().plot(kind='barh', figsize=(20,10), title='city codes')"
      ],
      "metadata": {
        "colab": {
          "base_uri": "https://localhost:8080/",
          "height": 624
        },
        "id": "azxWBCl5auOD",
        "outputId": "3134cb86-8ac3-485b-9c04-f4a5ebd49a50"
      },
      "execution_count": null,
      "outputs": [
        {
          "output_type": "execute_result",
          "data": {
            "text/plain": [
              "<matplotlib.axes._subplots.AxesSubplot at 0x7f9463bc2e50>"
            ]
          },
          "metadata": {},
          "execution_count": 11
        },
        {
          "output_type": "display_data",
          "data": {
            "text/plain": [
              "<Figure size 1440x720 with 1 Axes>"
            ],
            "image/png": "[encoded data removed]"
          },
          "metadata": {
            "needs_background": "light"
          }
        }
      ]
    },
    {
      "cell_type": "code",
      "source": [
        "df['prod_A'].value_counts().plot(kind='barh', title='product A')"
      ],
      "metadata": {
        "colab": {
          "base_uri": "https://localhost:8080/",
          "height": 298
        },
        "id": "NrR3jyaha5T_",
        "outputId": "2391b4c8-a0c1-4b8d-9dad-2f4ee9161160"
      },
      "execution_count": null,
      "outputs": [
        {
          "output_type": "execute_result",
          "data": {
            "text/plain": [
              "<matplotlib.axes._subplots.AxesSubplot at 0x7f9463997950>"
            ]
          },
          "metadata": {},
          "execution_count": 12
        },
        {
          "output_type": "display_data",
          "data": {
            "text/plain": [
              "<Figure size 432x288 with 1 Axes>"
            ],
            "image/png": "[encoded data removed]"
          },
          "metadata": {
            "needs_background": "light"
          }
        }
      ]
    },
    {
      "cell_type": "code",
      "source": [
        "df['type_A'].value_counts().plot(kind='barh', title='product A types')"
      ],
      "metadata": {
        "colab": {
          "base_uri": "https://localhost:8080/",
          "height": 298
        },
        "id": "TmgJGM2Fa9HJ",
        "outputId": "f33aec16-e76b-4a64-b5fd-b31d5c2bac79"
      },
      "execution_count": null,
      "outputs": [
        {
          "output_type": "execute_result",
          "data": {
            "text/plain": [
              "<matplotlib.axes._subplots.AxesSubplot at 0x7f9463475a10>"
            ]
          },
          "metadata": {},
          "execution_count": 13
        },
        {
          "output_type": "display_data",
          "data": {
            "text/plain": [
              "<Figure size 432x288 with 1 Axes>"
            ],
            "image/png": "[encoded data removed]"
          },
          "metadata": {
            "needs_background": "light"
          }
        }
      ]
    },
    {
      "cell_type": "code",
      "source": [
        "df['type_B'].value_counts().plot(kind='barh', title='product B types')"
      ],
      "metadata": {
        "colab": {
          "base_uri": "https://localhost:8080/",
          "height": 298
        },
        "id": "IJdWLTCma_g8",
        "outputId": "63291c25-1c35-456d-bc84-0b938db81bc1"
      },
      "execution_count": null,
      "outputs": [
        {
          "output_type": "execute_result",
          "data": {
            "text/plain": [
              "<matplotlib.axes._subplots.AxesSubplot at 0x7f94633e2bd0>"
            ]
          },
          "metadata": {},
          "execution_count": 14
        },
        {
          "output_type": "display_data",
          "data": {
            "text/plain": [
              "<Figure size 432x288 with 1 Axes>"
            ],
            "image/png": "[encoded data removed]"
          },
          "metadata": {
            "needs_background": "light"
          }
        }
      ]
    },
    {
      "cell_type": "code",
      "source": [
        "df['prod_B'].value_counts().plot(kind='barh', title='product B')"
      ],
      "metadata": {
        "colab": {
          "base_uri": "https://localhost:8080/",
          "height": 298
        },
        "id": "YhnPb-8MbFhq",
        "outputId": "3a482691-88ec-4639-a6f6-fe972fa10904"
      },
      "execution_count": null,
      "outputs": [
        {
          "output_type": "execute_result",
          "data": {
            "text/plain": [
              "<matplotlib.axes._subplots.AxesSubplot at 0x7f9463357890>"
            ]
          },
          "metadata": {},
          "execution_count": 15
        },
        {
          "output_type": "display_data",
          "data": {
            "text/plain": [
              "<Figure size 432x288 with 1 Axes>"
            ],
            "image/png": "[encoded data removed]"
          },
          "metadata": {
            "needs_background": "light"
          }
        }
      ]
    },
    {
      "cell_type": "code",
      "source": [
        "df['TARGET'].value_counts().plot(kind='barh', title='will purchase new product')"
      ],
      "metadata": {
        "colab": {
          "base_uri": "https://localhost:8080/",
          "height": 298
        },
        "id": "X_ZmGZx6cAXr",
        "outputId": "96ef0d10-e57d-48db-f4de-46906c1059e1"
      },
      "execution_count": null,
      "outputs": [
        {
          "output_type": "execute_result",
          "data": {
            "text/plain": [
              "<matplotlib.axes._subplots.AxesSubplot at 0x7f946347b510>"
            ]
          },
          "metadata": {},
          "execution_count": 16
        },
        {
          "output_type": "display_data",
          "data": {
            "text/plain": [
              "<Figure size 432x288 with 1 Axes>"
            ],
            "image/png": "[encoded data removed]"
          },
          "metadata": {
            "needs_background": "light"
          }
        }
      ]
    },
    {
      "cell_type": "markdown",
      "source": [
        "Based on the bar charts above, we can see that they all have enough of a spread of values that they should be considered significant moving forward with the exception of city. While there is variance, an overwhelming majority of the observations are associated with the code \"2\". I decided to isolate the observations where city code is \"2\" below and checked out the same distributions of the variables that I did for the data set at large. After examination, they are nearly identical which leads me to believe that city isn't significant and can be removed. This is helpful going forward as we would need to create over 50 dummy variables if we had included it. This change will be reflected in the data preparation step."
      ],
      "metadata": {
        "id": "flWsg7hn0EGK"
      }
    },
    {
      "cell_type": "code",
      "source": [
        "city = df[df.city==2]\n",
        "city['prod_A'].value_counts().plot(kind='barh', title='product A in city 2')"
      ],
      "metadata": {
        "colab": {
          "base_uri": "https://localhost:8080/",
          "height": 298
        },
        "id": "R477nCYBcaEV",
        "outputId": "c771a45e-eac0-477b-aea9-90e7a41d4acb"
      },
      "execution_count": null,
      "outputs": [
        {
          "output_type": "execute_result",
          "data": {
            "text/plain": [
              "<matplotlib.axes._subplots.AxesSubplot at 0x7f9463292350>"
            ]
          },
          "metadata": {},
          "execution_count": 17
        },
        {
          "output_type": "display_data",
          "data": {
            "text/plain": [
              "<Figure size 432x288 with 1 Axes>"
            ],
            "image/png": "[encoded data removed]"
          },
          "metadata": {
            "needs_background": "light"
          }
        }
      ]
    },
    {
      "cell_type": "code",
      "source": [
        "city['type_A'].value_counts().plot(kind='barh', title='product A types in city 2')"
      ],
      "metadata": {
        "colab": {
          "base_uri": "https://localhost:8080/",
          "height": 298
        },
        "id": "gD1bh04lcxj3",
        "outputId": "c7885592-34bc-4b43-aeb8-6865d5d13c7d"
      },
      "execution_count": null,
      "outputs": [
        {
          "output_type": "execute_result",
          "data": {
            "text/plain": [
              "<matplotlib.axes._subplots.AxesSubplot at 0x7f9463274c90>"
            ]
          },
          "metadata": {},
          "execution_count": 18
        },
        {
          "output_type": "display_data",
          "data": {
            "text/plain": [
              "<Figure size 432x288 with 1 Axes>"
            ],
            "image/png": "[encoded data removed]"
          },
          "metadata": {
            "needs_background": "light"
          }
        }
      ]
    },
    {
      "cell_type": "code",
      "source": [
        "city['prod_B'].value_counts().plot(kind='barh', title='product B in city 2')"
      ],
      "metadata": {
        "colab": {
          "base_uri": "https://localhost:8080/",
          "height": 298
        },
        "id": "FcakXPvfc201",
        "outputId": "b38e7791-eedd-459c-cd9b-4e8d4a5223bf"
      },
      "execution_count": null,
      "outputs": [
        {
          "output_type": "execute_result",
          "data": {
            "text/plain": [
              "<matplotlib.axes._subplots.AxesSubplot at 0x7f94631e7d10>"
            ]
          },
          "metadata": {},
          "execution_count": 19
        },
        {
          "output_type": "display_data",
          "data": {
            "text/plain": [
              "<Figure size 432x288 with 1 Axes>"
            ],
            "image/png": "[encoded data removed]"
          },
          "metadata": {
            "needs_background": "light"
          }
        }
      ]
    },
    {
      "cell_type": "code",
      "source": [
        "city['type_B'].value_counts().plot(kind='barh', title='product B types in city 2')"
      ],
      "metadata": {
        "colab": {
          "base_uri": "https://localhost:8080/",
          "height": 298
        },
        "id": "lFmUhSH4c6S9",
        "outputId": "81e78940-a315-46cd-a3cf-8bfe31547f5b"
      },
      "execution_count": null,
      "outputs": [
        {
          "output_type": "execute_result",
          "data": {
            "text/plain": [
              "<matplotlib.axes._subplots.AxesSubplot at 0x7f94631ca4d0>"
            ]
          },
          "metadata": {},
          "execution_count": 20
        },
        {
          "output_type": "display_data",
          "data": {
            "text/plain": [
              "<Figure size 432x288 with 1 Axes>"
            ],
            "image/png": "[encoded data removed]"
          },
          "metadata": {
            "needs_background": "light"
          }
        }
      ]
    },
    {
      "cell_type": "code",
      "source": [
        "city['TARGET'].value_counts().plot(kind='barh', title='will purchase new product in city 2')"
      ],
      "metadata": {
        "colab": {
          "base_uri": "https://localhost:8080/",
          "height": 298
        },
        "id": "r6rXoOPAc9px",
        "outputId": "92366b56-f31c-4938-975d-0e754725d830"
      },
      "execution_count": null,
      "outputs": [
        {
          "output_type": "execute_result",
          "data": {
            "text/plain": [
              "<matplotlib.axes._subplots.AxesSubplot at 0x7f94632524d0>"
            ]
          },
          "metadata": {},
          "execution_count": 21
        },
        {
          "output_type": "display_data",
          "data": {
            "text/plain": [
              "<Figure size 432x288 with 1 Axes>"
            ],
            "image/png": "[encoded data removed]"
          },
          "metadata": {
            "needs_background": "light"
          }
        }
      ]
    },
    {
      "cell_type": "markdown",
      "source": [
        "Looking at these histograms describing the continuous distributions, a lot of these results are easily interpretable by considering the characteristics of each observation. For example, turnover_A and turnover_B are largely skewed to one value. A simple explanation for this is that products are typically the same price, although this isn't always true based on some other factors considered by the insurance underwriters which explains the small amount of data that is represented as other values.\n",
        "\n",
        "age_P, the age of the other member of the insurance policy is skewed towards dependents in their 30s with the next highest values coming in around the 20s although it is noted that the skew isn't as heavy as other distributions. A possible explanation is that typically dependents on policies are spouses or children which explains the ages. age and age_P follow almost identical distributions, seeing as typically spouses who share the policy are roughly similar ages. \n",
        "\n",
        "What is surprising is looking at the describe box, the lowest value for age is five, what five year old has their own insurance policy? This is likely an outlier or an error on input. However, looking at the histogram for age, the count of those values is so minimal that it isn't even appearing as visual on the chart, only 7 observations amounting to only 0.05% of the overall data. An explanation for this is if a parent buys a plan for just the child for one reason or another. Looking at the boxplots below however, there are a significant amount of outliers and I don't want to shy away from them since there are significant amount of them for each attribute. "
      ],
      "metadata": {
        "id": "yBDZ6-Y11iHW"
      }
    },
    {
      "cell_type": "code",
      "source": [
        "nums = df[['age','LOR','turnover_A','turnover_B','age_P','lor_M']]\n",
        "nums.hist(figsize=(20,10))"
      ],
      "metadata": {
        "colab": {
          "base_uri": "https://localhost:8080/",
          "height": 729
        },
        "id": "cB8YkJJ4dJJL",
        "outputId": "3da36fc7-7afb-483c-9f84-9642531e45ab"
      },
      "execution_count": null,
      "outputs": [
        {
          "output_type": "execute_result",
          "data": {
            "text/plain": [
              "array([[<matplotlib.axes._subplots.AxesSubplot object at 0x7f94630c5f90>,\n",
              "        <matplotlib.axes._subplots.AxesSubplot object at 0x7f946307b910>],\n",
              "       [<matplotlib.axes._subplots.AxesSubplot object at 0x7f9463033f10>,\n",
              "        <matplotlib.axes._subplots.AxesSubplot object at 0x7f9462ff8550>],\n",
              "       [<matplotlib.axes._subplots.AxesSubplot object at 0x7f9462faeb50>,\n",
              "        <matplotlib.axes._subplots.AxesSubplot object at 0x7f9462f71190>]],\n",
              "      dtype=object)"
            ]
          },
          "metadata": {},
          "execution_count": 22
        },
        {
          "output_type": "display_data",
          "data": {
            "text/plain": [
              "<Figure size 1440x720 with 6 Axes>"
            ],
            "image/png": "[encoded data removed]"
          },
          "metadata": {
            "needs_background": "light"
          }
        }
      ]
    },
    {
      "cell_type": "code",
      "source": [
        "nums.describe()"
      ],
      "metadata": {
        "id": "ELJwS5N1dNEh",
        "outputId": "351be232-499d-4cb4-8605-21009829d5b7",
        "colab": {
          "base_uri": "https://localhost:8080/",
          "height": 300
        }
      },
      "execution_count": null,
      "outputs": [
        {
          "output_type": "execute_result",
          "data": {
            "text/plain": [
              "                age           LOR    turnover_A    turnover_B         age_P  \\\n",
              "count  11008.000000  11008.000000  11008.000000  11008.000000  11008.000000   \n",
              "mean      34.845203      0.982649    372.332403    344.120565     34.845203   \n",
              "std       13.032781      0.939415     96.685932    524.372413     13.032781   \n",
              "min        5.000000      0.000000    300.095909    191.962852      5.000000   \n",
              "25%       24.000000      0.000000    332.229899    218.302029     24.000000   \n",
              "50%       31.000000      1.000000    361.930298    235.025216     31.000000   \n",
              "75%       42.000000      1.000000    391.567662    253.759401     42.000000   \n",
              "max      102.000000      6.000000   5568.784139  12249.084770    102.000000   \n",
              "\n",
              "              lor_M  \n",
              "count  11008.000000  \n",
              "mean      14.791788  \n",
              "std       11.272981  \n",
              "min        3.000000  \n",
              "25%        3.000000  \n",
              "50%       15.000000  \n",
              "75%       15.000000  \n",
              "max       75.000000  "
            ],
            "text/html": [
              "\n",
              "  <div id=\"df-ccafce98-e142-4140-888f-f6d1b7b7d2bb\">\n",
              "    <div class=\"colab-df-container\">\n",
              "      <div>\n",
              "<style scoped>\n",
              "    .dataframe tbody tr th:only-of-type {\n",
              "        vertical-align: middle;\n",
              "    }\n",
              "\n",
              "    .dataframe tbody tr th {\n",
              "        vertical-align: top;\n",
              "    }\n",
              "\n",
              "    .dataframe thead th {\n",
              "        text-align: right;\n",
              "    }\n",
              "</style>\n",
              "<table border=\"1\" class=\"dataframe\">\n",
              "  <thead>\n",
              "    <tr style=\"text-align: right;\">\n",
              "      <th></th>\n",
              "      <th>age</th>\n",
              "      <th>LOR</th>\n",
              "      <th>turnover_A</th>\n",
              "      <th>turnover_B</th>\n",
              "      <th>age_P</th>\n",
              "      <th>lor_M</th>\n",
              "    </tr>\n",
              "  </thead>\n",
              "  <tbody>\n",
              "    <tr>\n",
              "      <th>count</th>\n",
              "      <td>11008.000000</td>\n",
              "      <td>11008.000000</td>\n",
              "      <td>11008.000000</td>\n",
              "      <td>11008.000000</td>\n",
              "      <td>11008.000000</td>\n",
              "      <td>11008.000000</td>\n",
              "    </tr>\n",
              "    <tr>\n",
              "      <th>mean</th>\n",
              "      <td>34.845203</td>\n",
              "      <td>0.982649</td>\n",
              "      <td>372.332403</td>\n",
              "      <td>344.120565</td>\n",
              "      <td>34.845203</td>\n",
              "      <td>14.791788</td>\n",
              "    </tr>\n",
              "    <tr>\n",
              "      <th>std</th>\n",
              "      <td>13.032781</td>\n",
              "      <td>0.939415</td>\n",
              "      <td>96.685932</td>\n",
              "      <td>524.372413</td>\n",
              "      <td>13.032781</td>\n",
              "      <td>11.272981</td>\n",
              "    </tr>\n",
              "    <tr>\n",
              "      <th>min</th>\n",
              "      <td>5.000000</td>\n",
              "      <td>0.000000</td>\n",
              "      <td>300.095909</td>\n",
              "      <td>191.962852</td>\n",
              "      <td>5.000000</td>\n",
              "      <td>3.000000</td>\n",
              "    </tr>\n",
              "    <tr>\n",
              "      <th>25%</th>\n",
              "      <td>24.000000</td>\n",
              "      <td>0.000000</td>\n",
              "      <td>332.229899</td>\n",
              "      <td>218.302029</td>\n",
              "      <td>24.000000</td>\n",
              "      <td>3.000000</td>\n",
              "    </tr>\n",
              "    <tr>\n",
              "      <th>50%</th>\n",
              "      <td>31.000000</td>\n",
              "      <td>1.000000</td>\n",
              "      <td>361.930298</td>\n",
              "      <td>235.025216</td>\n",
              "      <td>31.000000</td>\n",
              "      <td>15.000000</td>\n",
              "    </tr>\n",
              "    <tr>\n",
              "      <th>75%</th>\n",
              "      <td>42.000000</td>\n",
              "      <td>1.000000</td>\n",
              "      <td>391.567662</td>\n",
              "      <td>253.759401</td>\n",
              "      <td>42.000000</td>\n",
              "      <td>15.000000</td>\n",
              "    </tr>\n",
              "    <tr>\n",
              "      <th>max</th>\n",
              "      <td>102.000000</td>\n",
              "      <td>6.000000</td>\n",
              "      <td>5568.784139</td>\n",
              "      <td>12249.084770</td>\n",
              "      <td>102.000000</td>\n",
              "      <td>75.000000</td>\n",
              "    </tr>\n",
              "  </tbody>\n",
              "</table>\n",
              "</div>\n",
              "      <button class=\"colab-df-convert\" onclick=\"convertToInteractive('df-ccafce98-e142-4140-888f-f6d1b7b7d2bb')\"\n",
              "              title=\"Convert this dataframe to an interactive table.\"\n",
              "              style=\"display:none;\">\n",
              "        \n",
              "  <svg xmlns=\"http://www.w3.org/2000/svg\" height=\"24px\"viewBox=\"0 0 24 24\"\n",
              "       width=\"24px\">\n",
              "    <path d=\"M0 0h24v24H0V0z\" fill=\"none\"/>\n",
              "    <path d=\"M18.56 5.44l.94 2.06.94-2.06 2.06-.94-2.06-.94-.94-2.06-.94 2.06-2.06.94zm-11 1L8.5 8.5l.94-2.06 2.06-.94-2.06-.94L8.5 2.5l-.94 2.06-2.06.94zm10 10l.94 2.06.94-2.06 2.06-.94-2.06-.94-.94-2.06-.94 2.06-2.06.94z\"/><path d=\"M17.41 7.96l-1.37-1.37c-.4-.4-.92-.59-1.43-.59-.52 0-1.04.2-1.43.59L10.3 9.45l-7.72 7.72c-.78.78-.78 2.05 0 2.83L4 21.41c.39.39.9.59 1.41.59.51 0 1.02-.2 1.41-.59l7.78-7.78 2.81-2.81c.8-.78.8-2.07 0-2.86zM5.41 20L4 18.59l7.72-7.72 1.47 1.35L5.41 20z\"/>\n",
              "  </svg>\n",
              "      </button>\n",
              "      \n",
              "  <style>\n",
              "    .colab-df-container {\n",
              "      display:flex;\n",
              "      flex-wrap:wrap;\n",
              "      gap: 12px;\n",
              "    }\n",
              "\n",
              "    .colab-df-convert {\n",
              "      background-color: #E8F0FE;\n",
              "      border: none;\n",
              "      border-radius: 50%;\n",
              "      cursor: pointer;\n",
              "      display: none;\n",
              "      fill: #1967D2;\n",
              "      height: 32px;\n",
              "      padding: 0 0 0 0;\n",
              "      width: 32px;\n",
              "    }\n",
              "\n",
              "    .colab-df-convert:hover {\n",
              "      background-color: #E2EBFA;\n",
              "      box-shadow: 0px 1px 2px rgba(60, 64, 67, 0.3), 0px 1px 3px 1px rgba(60, 64, 67, 0.15);\n",
              "      fill: #174EA6;\n",
              "    }\n",
              "\n",
              "    [theme=dark] .colab-df-convert {\n",
              "      background-color: #3B4455;\n",
              "      fill: #D2E3FC;\n",
              "    }\n",
              "\n",
              "    [theme=dark] .colab-df-convert:hover {\n",
              "      background-color: #434B5C;\n",
              "      box-shadow: 0px 1px 3px 1px rgba(0, 0, 0, 0.15);\n",
              "      filter: drop-shadow(0px 1px 2px rgba(0, 0, 0, 0.3));\n",
              "      fill: #FFFFFF;\n",
              "    }\n",
              "  </style>\n",
              "\n",
              "      <script>\n",
              "        const buttonEl =\n",
              "          document.querySelector('#df-ccafce98-e142-4140-888f-f6d1b7b7d2bb button.colab-df-convert');\n",
              "        buttonEl.style.display =\n",
              "          google.colab.kernel.accessAllowed ? 'block' : 'none';\n",
              "\n",
              "        async function convertToInteractive(key) {\n",
              "          const element = document.querySelector('#df-ccafce98-e142-4140-888f-f6d1b7b7d2bb');\n",
              "          const dataTable =\n",
              "            await google.colab.kernel.invokeFunction('convertToInteractive',\n",
              "                                                     [key], {});\n",
              "          if (!dataTable) return;\n",
              "\n",
              "          const docLinkHtml = 'Like what you see? Visit the ' +\n",
              "            '<a target=\"_blank\" href=https://colab.research.google.com/notebooks/data_table.ipynb>data table notebook</a>'\n",
              "            + ' to learn more about interactive tables.';\n",
              "          element.innerHTML = '';\n",
              "          dataTable['output_type'] = 'display_data';\n",
              "          await google.colab.output.renderOutput(dataTable, element);\n",
              "          const docLink = document.createElement('div');\n",
              "          docLink.innerHTML = docLinkHtml;\n",
              "          element.appendChild(docLink);\n",
              "        }\n",
              "      </script>\n",
              "    </div>\n",
              "  </div>\n",
              "  "
            ]
          },
          "metadata": {},
          "execution_count": 23
        }
      ]
    },
    {
      "cell_type": "markdown",
      "source": [
        "If we would take a look at some of the numeric attributes paired with the response variables, we can try and make some inferences. When it comes to spending for products A and B, both say indicate that the more that a person spends the less likely they are to purchase the new package. However, upon comparison of the two, the spread of values for turnover_B is much greater than turnover_A. While the higher price points for both fields are somewhat outliers, the outliers for turnover_A is much more severe and in general the values for turnover_A are similar. Thanks to this, we can come to an early conclusion that turnover_B will be pretty significant.\n",
        "\n",
        "When it comes to the spread of age and the response, there is only a discrepency when the age dips below around 21. After that point, all responses are \"no\". This also leads my to believe that age will be significant, seeing as the value of one condition has a direct impact on the outcome."
      ],
      "metadata": {
        "id": "8DKz0LvB83SD"
      }
    },
    {
      "cell_type": "code",
      "source": [
        "sns.stripplot(x='TARGET', y='turnover_A', data=df)"
      ],
      "metadata": {
        "colab": {
          "base_uri": "https://localhost:8080/",
          "height": 296
        },
        "id": "cLflJqXG2lHi",
        "outputId": "56e64f1d-8a62-4c0f-e312-b5e1cd86b955"
      },
      "execution_count": null,
      "outputs": [
        {
          "output_type": "execute_result",
          "data": {
            "text/plain": [
              "<matplotlib.axes._subplots.AxesSubplot at 0x7f9462d62d10>"
            ]
          },
          "metadata": {},
          "execution_count": 24
        },
        {
          "output_type": "display_data",
          "data": {
            "text/plain": [
              "<Figure size 432x288 with 1 Axes>"
            ],
            "image/png": "[encoded data removed]"
          },
          "metadata": {
            "needs_background": "light"
          }
        }
      ]
    },
    {
      "cell_type": "code",
      "source": [
        "sns.stripplot(x='TARGET',y='turnover_B', data=df)"
      ],
      "metadata": {
        "colab": {
          "base_uri": "https://localhost:8080/",
          "height": 296
        },
        "id": "8o7Bys_B9BdZ",
        "outputId": "3c494104-de84-4043-8f43-f66dae61be98"
      },
      "execution_count": null,
      "outputs": [
        {
          "output_type": "execute_result",
          "data": {
            "text/plain": [
              "<matplotlib.axes._subplots.AxesSubplot at 0x7f9462ce74d0>"
            ]
          },
          "metadata": {},
          "execution_count": 25
        },
        {
          "output_type": "display_data",
          "data": {
            "text/plain": [
              "<Figure size 432x288 with 1 Axes>"
            ],
            "image/png": "[encoded data removed]"
          },
          "metadata": {
            "needs_background": "light"
          }
        }
      ]
    },
    {
      "cell_type": "code",
      "source": [
        "sns.stripplot(x='TARGET',y='age',data=df)"
      ],
      "metadata": {
        "colab": {
          "base_uri": "https://localhost:8080/",
          "height": 296
        },
        "id": "dwZf6uvVE_WJ",
        "outputId": "fd23c9e6-772d-4630-98f4-e4ab1e77072b"
      },
      "execution_count": null,
      "outputs": [
        {
          "output_type": "execute_result",
          "data": {
            "text/plain": [
              "<matplotlib.axes._subplots.AxesSubplot at 0x7f9462cca990>"
            ]
          },
          "metadata": {},
          "execution_count": 26
        },
        {
          "output_type": "display_data",
          "data": {
            "text/plain": [
              "<Figure size 432x288 with 1 Axes>"
            ],
            "image/png": "[encoded data removed]"
          },
          "metadata": {
            "needs_background": "light"
          }
        }
      ]
    },
    {
      "cell_type": "code",
      "source": [
        "df[df.prod_A==1].TARGET.value_counts().plot(kind='barh', title='Responses per Product A')"
      ],
      "metadata": {
        "colab": {
          "base_uri": "https://localhost:8080/",
          "height": 298
        },
        "id": "6HVlJXt_3CR-",
        "outputId": "bf98c197-96b9-4734-9478-d73dec39962e"
      },
      "execution_count": null,
      "outputs": [
        {
          "output_type": "execute_result",
          "data": {
            "text/plain": [
              "<matplotlib.axes._subplots.AxesSubplot at 0x7f9462c25b90>"
            ]
          },
          "metadata": {},
          "execution_count": 27
        },
        {
          "output_type": "display_data",
          "data": {
            "text/plain": [
              "<Figure size 432x288 with 1 Axes>"
            ],
            "image/png": "[encoded data removed]"
          },
          "metadata": {
            "needs_background": "light"
          }
        }
      ]
    },
    {
      "cell_type": "code",
      "source": [
        "df[df.prod_B==1].TARGET.value_counts().plot(kind='barh', title='Responses per Product B')"
      ],
      "metadata": {
        "colab": {
          "base_uri": "https://localhost:8080/",
          "height": 298
        },
        "id": "hj6iJKeL3c6-",
        "outputId": "d65653c1-0a03-4bd3-b99b-e8e1fa35c867"
      },
      "execution_count": null,
      "outputs": [
        {
          "output_type": "execute_result",
          "data": {
            "text/plain": [
              "<matplotlib.axes._subplots.AxesSubplot at 0x7f9463132cd0>"
            ]
          },
          "metadata": {},
          "execution_count": 28
        },
        {
          "output_type": "display_data",
          "data": {
            "text/plain": [
              "<Figure size 432x288 with 1 Axes>"
            ],
            "image/png": "[encoded data removed]"
          },
          "metadata": {
            "needs_background": "light"
          }
        }
      ]
    },
    {
      "cell_type": "code",
      "source": [
        "df['package'] = np.where((df.prod_A==1)&(df.prod_B!=1),'A',np.where((df.prod_A!=1)&(df.prod_B==1),'B',np.where((df.prod_A!=1)&(df.prod_B!=1),'None','Both')))\n",
        "df['package'].unique()"
      ],
      "metadata": {
        "colab": {
          "base_uri": "https://localhost:8080/"
        },
        "id": "0XDTrAlOGD7w",
        "outputId": "9ee08f0f-72a1-4857-c214-ab570054c45f"
      },
      "execution_count": null,
      "outputs": [
        {
          "output_type": "execute_result",
          "data": {
            "text/plain": [
              "array(['None', 'Both', 'B'], dtype=object)"
            ]
          },
          "metadata": {},
          "execution_count": 29
        }
      ]
    },
    {
      "cell_type": "code",
      "source": [
        "print('No A, No B: ',len(df[(df.prod_A==0)&(df.prod_B==0)]))\n",
        "print('No A, Yes B: ',len(df[(df.prod_A==0)&(df.prod_B!=0)]))\n",
        "print('Yes A, No B: ',len(df[(df.prod_A!=0)&(df.prod_B==0)]))\n",
        "print('Yes A, Yes B: ',len(df[(df.prod_A!=0)&(df.prod_B!=0)]))"
      ],
      "metadata": {
        "colab": {
          "base_uri": "https://localhost:8080/"
        },
        "id": "wAouUpOTGrSZ",
        "outputId": "27ae7025-b7b1-4366-83ac-a1d870599b64"
      },
      "execution_count": null,
      "outputs": [
        {
          "output_type": "stream",
          "name": "stdout",
          "text": [
            "No A, No B:  3828\n",
            "No A, Yes B:  747\n",
            "Yes A, No B:  0\n",
            "Yes A, Yes B:  6433\n"
          ]
        }
      ]
    },
    {
      "cell_type": "code",
      "source": [
        "df[df.TARGET=='Y'].package.value_counts().plot(kind='barh',title='Products')"
      ],
      "metadata": {
        "colab": {
          "base_uri": "https://localhost:8080/",
          "height": 298
        },
        "id": "1W0V46SxKUhD",
        "outputId": "229f4a54-e42f-4877-c21a-fce5bdf8418e"
      },
      "execution_count": null,
      "outputs": [
        {
          "output_type": "execute_result",
          "data": {
            "text/plain": [
              "<matplotlib.axes._subplots.AxesSubplot at 0x7f9465df5950>"
            ]
          },
          "metadata": {},
          "execution_count": 31
        },
        {
          "output_type": "display_data",
          "data": {
            "text/plain": [
              "<Figure size 432x288 with 1 Axes>"
            ],
            "image/png": "[encoded data removed]"
          },
          "metadata": {
            "needs_background": "light"
          }
        }
      ]
    },
    {
      "cell_type": "markdown",
      "source": [
        "Comparing the responses for products A and B, they look nearly identical which seems to indicate that something is wrong since it's highly unlikely that they would be identical. \n",
        "\n",
        "To check this out, I created a new column showing which products each observation owns. Interesting to note, there are no observations where the customer owns product A and not product B, they all either B, both, or none prior to study.\n",
        "\n",
        "Charting out who is most likely to purchase product C, the customer most likely to purchase is the customer who owns neither product prior to the study. This is in line with the inference drawn above that the customer most likely to purcahse product C is the new customer.\n"
      ],
      "metadata": {
        "id": "763Z0IbBOASQ"
      }
    },
    {
      "cell_type": "code",
      "source": [
        "df[df.TARGET=='Y'].loyalty.value_counts().plot(kind='barh', title='Responses per Loyalty Level')"
      ],
      "metadata": {
        "colab": {
          "base_uri": "https://localhost:8080/",
          "height": 298
        },
        "id": "dhLWPfbg0scU",
        "outputId": "0baea7f5-03ae-4a10-c334-aa715296abcc"
      },
      "execution_count": null,
      "outputs": [
        {
          "output_type": "execute_result",
          "data": {
            "text/plain": [
              "<matplotlib.axes._subplots.AxesSubplot at 0x7f9462a67bd0>"
            ]
          },
          "metadata": {},
          "execution_count": 32
        },
        {
          "output_type": "display_data",
          "data": {
            "text/plain": [
              "<Figure size 432x288 with 1 Axes>"
            ],
            "image/png": "[encoded data removed]"
          },
          "metadata": {
            "needs_background": "light"
          }
        }
      ]
    },
    {
      "cell_type": "code",
      "source": [
        "df[df.package=='None'].loyalty.value_counts().plot(kind='barh',title='Loyalty vs Package')"
      ],
      "metadata": {
        "colab": {
          "base_uri": "https://localhost:8080/",
          "height": 298
        },
        "id": "JItWZRN3MYLF",
        "outputId": "b6a06520-87fc-4c2e-a9d6-c8f583b60255"
      },
      "execution_count": null,
      "outputs": [
        {
          "output_type": "execute_result",
          "data": {
            "text/plain": [
              "<matplotlib.axes._subplots.AxesSubplot at 0x7f94629e4350>"
            ]
          },
          "metadata": {},
          "execution_count": 33
        },
        {
          "output_type": "display_data",
          "data": {
            "text/plain": [
              "<Figure size 432x288 with 1 Axes>"
            ],
            "image/png": "[encoded data removed]"
          },
          "metadata": {
            "needs_background": "light"
          }
        }
      ]
    },
    {
      "cell_type": "markdown",
      "source": [
        "Looking at loyalty vs response, we can see that those observations with unclassified loyalty have the highest responses of yes. \n",
        "\n",
        "This seems strange seeing as someone with high loyalty would be most likely to purchase this new product. Comparing loyalty level with the amount of packages owned, as was demonstrated above, nearly all customers who, prior to being observed, owned no products had the highest positive response rate. Pairing this information with the products owned chart, we can see that nearly all customers who had none of the products prior had unclassified loyalty. \n",
        "\n",
        "These pieces of information lead me to conclude that the customer most likely to purchase product C is a new customer who doesn't have any loyalty level to be observed."
      ],
      "metadata": {
        "id": "8NXo6T67L_s3"
      }
    },
    {
      "cell_type": "code",
      "source": [
        "nums.corr()"
      ],
      "metadata": {
        "colab": {
          "base_uri": "https://localhost:8080/",
          "height": 238
        },
        "id": "Qn_B4_PbRiw5",
        "outputId": "37ed2beb-28ae-4388-8df1-a9e72962c190"
      },
      "execution_count": null,
      "outputs": [
        {
          "output_type": "execute_result",
          "data": {
            "text/plain": [
              "                 age       LOR  turnover_A  turnover_B     age_P     lor_M\n",
              "age         1.000000  0.120313    0.130944    0.293546  1.000000  0.120313\n",
              "LOR         0.120313  1.000000    0.024052    0.164561  0.120313  1.000000\n",
              "turnover_A  0.130944  0.024052    1.000000    0.138260  0.130944  0.024052\n",
              "turnover_B  0.293546  0.164561    0.138260    1.000000  0.293546  0.164561\n",
              "age_P       1.000000  0.120313    0.130944    0.293546  1.000000  0.120313\n",
              "lor_M       0.120313  1.000000    0.024052    0.164561  0.120313  1.000000"
            ],
            "text/html": [
              "\n",
              "  <div id=\"df-11f1e8ca-4f94-42d5-97ce-c1c10e5790fc\">\n",
              "    <div class=\"colab-df-container\">\n",
              "      <div>\n",
              "<style scoped>\n",
              "    .dataframe tbody tr th:only-of-type {\n",
              "        vertical-align: middle;\n",
              "    }\n",
              "\n",
              "    .dataframe tbody tr th {\n",
              "        vertical-align: top;\n",
              "    }\n",
              "\n",
              "    .dataframe thead th {\n",
              "        text-align: right;\n",
              "    }\n",
              "</style>\n",
              "<table border=\"1\" class=\"dataframe\">\n",
              "  <thead>\n",
              "    <tr style=\"text-align: right;\">\n",
              "      <th></th>\n",
              "      <th>age</th>\n",
              "      <th>LOR</th>\n",
              "      <th>turnover_A</th>\n",
              "      <th>turnover_B</th>\n",
              "      <th>age_P</th>\n",
              "      <th>lor_M</th>\n",
              "    </tr>\n",
              "  </thead>\n",
              "  <tbody>\n",
              "    <tr>\n",
              "      <th>age</th>\n",
              "      <td>1.000000</td>\n",
              "      <td>0.120313</td>\n",
              "      <td>0.130944</td>\n",
              "      <td>0.293546</td>\n",
              "      <td>1.000000</td>\n",
              "      <td>0.120313</td>\n",
              "    </tr>\n",
              "    <tr>\n",
              "      <th>LOR</th>\n",
              "      <td>0.120313</td>\n",
              "      <td>1.000000</td>\n",
              "      <td>0.024052</td>\n",
              "      <td>0.164561</td>\n",
              "      <td>0.120313</td>\n",
              "      <td>1.000000</td>\n",
              "    </tr>\n",
              "    <tr>\n",
              "      <th>turnover_A</th>\n",
              "      <td>0.130944</td>\n",
              "      <td>0.024052</td>\n",
              "      <td>1.000000</td>\n",
              "      <td>0.138260</td>\n",
              "      <td>0.130944</td>\n",
              "      <td>0.024052</td>\n",
              "    </tr>\n",
              "    <tr>\n",
              "      <th>turnover_B</th>\n",
              "      <td>0.293546</td>\n",
              "      <td>0.164561</td>\n",
              "      <td>0.138260</td>\n",
              "      <td>1.000000</td>\n",
              "      <td>0.293546</td>\n",
              "      <td>0.164561</td>\n",
              "    </tr>\n",
              "    <tr>\n",
              "      <th>age_P</th>\n",
              "      <td>1.000000</td>\n",
              "      <td>0.120313</td>\n",
              "      <td>0.130944</td>\n",
              "      <td>0.293546</td>\n",
              "      <td>1.000000</td>\n",
              "      <td>0.120313</td>\n",
              "    </tr>\n",
              "    <tr>\n",
              "      <th>lor_M</th>\n",
              "      <td>0.120313</td>\n",
              "      <td>1.000000</td>\n",
              "      <td>0.024052</td>\n",
              "      <td>0.164561</td>\n",
              "      <td>0.120313</td>\n",
              "      <td>1.000000</td>\n",
              "    </tr>\n",
              "  </tbody>\n",
              "</table>\n",
              "</div>\n",
              "      <button class=\"colab-df-convert\" onclick=\"convertToInteractive('df-11f1e8ca-4f94-42d5-97ce-c1c10e5790fc')\"\n",
              "              title=\"Convert this dataframe to an interactive table.\"\n",
              "              style=\"display:none;\">\n",
              "        \n",
              "  <svg xmlns=\"http://www.w3.org/2000/svg\" height=\"24px\"viewBox=\"0 0 24 24\"\n",
              "       width=\"24px\">\n",
              "    <path d=\"M0 0h24v24H0V0z\" fill=\"none\"/>\n",
              "    <path d=\"M18.56 5.44l.94 2.06.94-2.06 2.06-.94-2.06-.94-.94-2.06-.94 2.06-2.06.94zm-11 1L8.5 8.5l.94-2.06 2.06-.94-2.06-.94L8.5 2.5l-.94 2.06-2.06.94zm10 10l.94 2.06.94-2.06 2.06-.94-2.06-.94-.94-2.06-.94 2.06-2.06.94z\"/><path d=\"M17.41 7.96l-1.37-1.37c-.4-.4-.92-.59-1.43-.59-.52 0-1.04.2-1.43.59L10.3 9.45l-7.72 7.72c-.78.78-.78 2.05 0 2.83L4 21.41c.39.39.9.59 1.41.59.51 0 1.02-.2 1.41-.59l7.78-7.78 2.81-2.81c.8-.78.8-2.07 0-2.86zM5.41 20L4 18.59l7.72-7.72 1.47 1.35L5.41 20z\"/>\n",
              "  </svg>\n",
              "      </button>\n",
              "      \n",
              "  <style>\n",
              "    .colab-df-container {\n",
              "      display:flex;\n",
              "      flex-wrap:wrap;\n",
              "      gap: 12px;\n",
              "    }\n",
              "\n",
              "    .colab-df-convert {\n",
              "      background-color: #E8F0FE;\n",
              "      border: none;\n",
              "      border-radius: 50%;\n",
              "      cursor: pointer;\n",
              "      display: none;\n",
              "      fill: #1967D2;\n",
              "      height: 32px;\n",
              "      padding: 0 0 0 0;\n",
              "      width: 32px;\n",
              "    }\n",
              "\n",
              "    .colab-df-convert:hover {\n",
              "      background-color: #E2EBFA;\n",
              "      box-shadow: 0px 1px 2px rgba(60, 64, 67, 0.3), 0px 1px 3px 1px rgba(60, 64, 67, 0.15);\n",
              "      fill: #174EA6;\n",
              "    }\n",
              "\n",
              "    [theme=dark] .colab-df-convert {\n",
              "      background-color: #3B4455;\n",
              "      fill: #D2E3FC;\n",
              "    }\n",
              "\n",
              "    [theme=dark] .colab-df-convert:hover {\n",
              "      background-color: #434B5C;\n",
              "      box-shadow: 0px 1px 3px 1px rgba(0, 0, 0, 0.15);\n",
              "      filter: drop-shadow(0px 1px 2px rgba(0, 0, 0, 0.3));\n",
              "      fill: #FFFFFF;\n",
              "    }\n",
              "  </style>\n",
              "\n",
              "      <script>\n",
              "        const buttonEl =\n",
              "          document.querySelector('#df-11f1e8ca-4f94-42d5-97ce-c1c10e5790fc button.colab-df-convert');\n",
              "        buttonEl.style.display =\n",
              "          google.colab.kernel.accessAllowed ? 'block' : 'none';\n",
              "\n",
              "        async function convertToInteractive(key) {\n",
              "          const element = document.querySelector('#df-11f1e8ca-4f94-42d5-97ce-c1c10e5790fc');\n",
              "          const dataTable =\n",
              "            await google.colab.kernel.invokeFunction('convertToInteractive',\n",
              "                                                     [key], {});\n",
              "          if (!dataTable) return;\n",
              "\n",
              "          const docLinkHtml = 'Like what you see? Visit the ' +\n",
              "            '<a target=\"_blank\" href=https://colab.research.google.com/notebooks/data_table.ipynb>data table notebook</a>'\n",
              "            + ' to learn more about interactive tables.';\n",
              "          element.innerHTML = '';\n",
              "          dataTable['output_type'] = 'display_data';\n",
              "          await google.colab.output.renderOutput(dataTable, element);\n",
              "          const docLink = document.createElement('div');\n",
              "          docLink.innerHTML = docLinkHtml;\n",
              "          element.appendChild(docLink);\n",
              "        }\n",
              "      </script>\n",
              "    </div>\n",
              "  </div>\n",
              "  "
            ]
          },
          "metadata": {},
          "execution_count": 34
        }
      ]
    },
    {
      "cell_type": "markdown",
      "source": [
        "To examine any more variables before creating tons of dummies, we will check out a correlation matrix to see if there may be colinearity. There are two concerns of multicolinearity between age and age_P and LOR and lor_M. Neither age or age_P will be eliminated at this point since they are describing two different aspects of each observation. \n",
        "\n",
        "However, the connection between LOR and lor_M is concerning since LOR is essentially just lor_M divided by 12, length being expressed in years instead of months. I don't think that it's necessary to include both of these and since I want to preserve both possible relationships, I will remove LOR since lor_M encompasses both pieces of information on a more granular level while LOR only expresses one piece of information on a very general sense. This change will occur in data preparation."
      ],
      "metadata": {
        "id": "_URPulb0RXeY"
      }
    },
    {
      "cell_type": "markdown",
      "source": [
        "# Data Preparation"
      ],
      "metadata": {
        "id": "7s35P-ohSF_n"
      }
    },
    {
      "cell_type": "markdown",
      "source": [
        "### Removing Variables\n",
        "\n",
        "As mentioned in steps above, city, and contract can be eliminated because they provide no new information for each observation after we eliminated all duplicates. Contract is a constant value of \"2\". City can be dropped because even though not all observations are of the same value, an overwhelming majority of them are and by using city and creating over 50 dummy variables, we would be introducing a lot of unnecessary noise."
      ],
      "metadata": {
        "id": "xJwT9dBUSLJg"
      }
    },
    {
      "cell_type": "code",
      "source": [
        "df = df.drop(columns=['ID','contract', 'city']).copy()\n",
        "df.head()"
      ],
      "metadata": {
        "colab": {
          "base_uri": "https://localhost:8080/",
          "height": 206
        },
        "id": "NsX6_wucS76E",
        "outputId": "200f0a8b-70c5-4700-935f-589a5494795f"
      },
      "execution_count": null,
      "outputs": [
        {
          "output_type": "execute_result",
          "data": {
            "text/plain": [
              "  TARGET  loyalty  age  LOR  prod_A  type_A  type_B  prod_B  turnover_A  \\\n",
              "0      Y       99   66    0       0       0       0       0  333.561114   \n",
              "1      Y        1   45    3       1       3       3       1  394.735699   \n",
              "2      Y        1   42    2       1       3       6       1  342.180990   \n",
              "3      Y       99   31    0       0       0       0       0  453.757916   \n",
              "4      Y       99   62    0       0       0       0       0  384.577469   \n",
              "\n",
              "    turnover_B  age_P  lor_M package  \n",
              "0   264.721010     66      3    None  \n",
              "1   284.904978     45     39    Both  \n",
              "2  1175.589721     42     27    Both  \n",
              "3   242.341754     31      3    None  \n",
              "4   287.008370     62      3    None  "
            ],
            "text/html": [
              "\n",
              "  <div id=\"df-ac9df2fe-1ac2-4f3d-b560-2e87e0502cbe\">\n",
              "    <div class=\"colab-df-container\">\n",
              "      <div>\n",
              "<style scoped>\n",
              "    .dataframe tbody tr th:only-of-type {\n",
              "        vertical-align: middle;\n",
              "    }\n",
              "\n",
              "    .dataframe tbody tr th {\n",
              "        vertical-align: top;\n",
              "    }\n",
              "\n",
              "    .dataframe thead th {\n",
              "        text-align: right;\n",
              "    }\n",
              "</style>\n",
              "<table border=\"1\" class=\"dataframe\">\n",
              "  <thead>\n",
              "    <tr style=\"text-align: right;\">\n",
              "      <th></th>\n",
              "      <th>TARGET</th>\n",
              "      <th>loyalty</th>\n",
              "      <th>age</th>\n",
              "      <th>LOR</th>\n",
              "      <th>prod_A</th>\n",
              "      <th>type_A</th>\n",
              "      <th>type_B</th>\n",
              "      <th>prod_B</th>\n",
              "      <th>turnover_A</th>\n",
              "      <th>turnover_B</th>\n",
              "      <th>age_P</th>\n",
              "      <th>lor_M</th>\n",
              "      <th>package</th>\n",
              "    </tr>\n",
              "  </thead>\n",
              "  <tbody>\n",
              "    <tr>\n",
              "      <th>0</th>\n",
              "      <td>Y</td>\n",
              "      <td>99</td>\n",
              "      <td>66</td>\n",
              "      <td>0</td>\n",
              "      <td>0</td>\n",
              "      <td>0</td>\n",
              "      <td>0</td>\n",
              "      <td>0</td>\n",
              "      <td>333.561114</td>\n",
              "      <td>264.721010</td>\n",
              "      <td>66</td>\n",
              "      <td>3</td>\n",
              "      <td>None</td>\n",
              "    </tr>\n",
              "    <tr>\n",
              "      <th>1</th>\n",
              "      <td>Y</td>\n",
              "      <td>1</td>\n",
              "      <td>45</td>\n",
              "      <td>3</td>\n",
              "      <td>1</td>\n",
              "      <td>3</td>\n",
              "      <td>3</td>\n",
              "      <td>1</td>\n",
              "      <td>394.735699</td>\n",
              "      <td>284.904978</td>\n",
              "      <td>45</td>\n",
              "      <td>39</td>\n",
              "      <td>Both</td>\n",
              "    </tr>\n",
              "    <tr>\n",
              "      <th>2</th>\n",
              "      <td>Y</td>\n",
              "      <td>1</td>\n",
              "      <td>42</td>\n",
              "      <td>2</td>\n",
              "      <td>1</td>\n",
              "      <td>3</td>\n",
              "      <td>6</td>\n",
              "      <td>1</td>\n",
              "      <td>342.180990</td>\n",
              "      <td>1175.589721</td>\n",
              "      <td>42</td>\n",
              "      <td>27</td>\n",
              "      <td>Both</td>\n",
              "    </tr>\n",
              "    <tr>\n",
              "      <th>3</th>\n",
              "      <td>Y</td>\n",
              "      <td>99</td>\n",
              "      <td>31</td>\n",
              "      <td>0</td>\n",
              "      <td>0</td>\n",
              "      <td>0</td>\n",
              "      <td>0</td>\n",
              "      <td>0</td>\n",
              "      <td>453.757916</td>\n",
              "      <td>242.341754</td>\n",
              "      <td>31</td>\n",
              "      <td>3</td>\n",
              "      <td>None</td>\n",
              "    </tr>\n",
              "    <tr>\n",
              "      <th>4</th>\n",
              "      <td>Y</td>\n",
              "      <td>99</td>\n",
              "      <td>62</td>\n",
              "      <td>0</td>\n",
              "      <td>0</td>\n",
              "      <td>0</td>\n",
              "      <td>0</td>\n",
              "      <td>0</td>\n",
              "      <td>384.577469</td>\n",
              "      <td>287.008370</td>\n",
              "      <td>62</td>\n",
              "      <td>3</td>\n",
              "      <td>None</td>\n",
              "    </tr>\n",
              "  </tbody>\n",
              "</table>\n",
              "</div>\n",
              "      <button class=\"colab-df-convert\" onclick=\"convertToInteractive('df-ac9df2fe-1ac2-4f3d-b560-2e87e0502cbe')\"\n",
              "              title=\"Convert this dataframe to an interactive table.\"\n",
              "              style=\"display:none;\">\n",
              "        \n",
              "  <svg xmlns=\"http://www.w3.org/2000/svg\" height=\"24px\"viewBox=\"0 0 24 24\"\n",
              "       width=\"24px\">\n",
              "    <path d=\"M0 0h24v24H0V0z\" fill=\"none\"/>\n",
              "    <path d=\"M18.56 5.44l.94 2.06.94-2.06 2.06-.94-2.06-.94-.94-2.06-.94 2.06-2.06.94zm-11 1L8.5 8.5l.94-2.06 2.06-.94-2.06-.94L8.5 2.5l-.94 2.06-2.06.94zm10 10l.94 2.06.94-2.06 2.06-.94-2.06-.94-.94-2.06-.94 2.06-2.06.94z\"/><path d=\"M17.41 7.96l-1.37-1.37c-.4-.4-.92-.59-1.43-.59-.52 0-1.04.2-1.43.59L10.3 9.45l-7.72 7.72c-.78.78-.78 2.05 0 2.83L4 21.41c.39.39.9.59 1.41.59.51 0 1.02-.2 1.41-.59l7.78-7.78 2.81-2.81c.8-.78.8-2.07 0-2.86zM5.41 20L4 18.59l7.72-7.72 1.47 1.35L5.41 20z\"/>\n",
              "  </svg>\n",
              "      </button>\n",
              "      \n",
              "  <style>\n",
              "    .colab-df-container {\n",
              "      display:flex;\n",
              "      flex-wrap:wrap;\n",
              "      gap: 12px;\n",
              "    }\n",
              "\n",
              "    .colab-df-convert {\n",
              "      background-color: #E8F0FE;\n",
              "      border: none;\n",
              "      border-radius: 50%;\n",
              "      cursor: pointer;\n",
              "      display: none;\n",
              "      fill: #1967D2;\n",
              "      height: 32px;\n",
              "      padding: 0 0 0 0;\n",
              "      width: 32px;\n",
              "    }\n",
              "\n",
              "    .colab-df-convert:hover {\n",
              "      background-color: #E2EBFA;\n",
              "      box-shadow: 0px 1px 2px rgba(60, 64, 67, 0.3), 0px 1px 3px 1px rgba(60, 64, 67, 0.15);\n",
              "      fill: #174EA6;\n",
              "    }\n",
              "\n",
              "    [theme=dark] .colab-df-convert {\n",
              "      background-color: #3B4455;\n",
              "      fill: #D2E3FC;\n",
              "    }\n",
              "\n",
              "    [theme=dark] .colab-df-convert:hover {\n",
              "      background-color: #434B5C;\n",
              "      box-shadow: 0px 1px 3px 1px rgba(0, 0, 0, 0.15);\n",
              "      filter: drop-shadow(0px 1px 2px rgba(0, 0, 0, 0.3));\n",
              "      fill: #FFFFFF;\n",
              "    }\n",
              "  </style>\n",
              "\n",
              "      <script>\n",
              "        const buttonEl =\n",
              "          document.querySelector('#df-ac9df2fe-1ac2-4f3d-b560-2e87e0502cbe button.colab-df-convert');\n",
              "        buttonEl.style.display =\n",
              "          google.colab.kernel.accessAllowed ? 'block' : 'none';\n",
              "\n",
              "        async function convertToInteractive(key) {\n",
              "          const element = document.querySelector('#df-ac9df2fe-1ac2-4f3d-b560-2e87e0502cbe');\n",
              "          const dataTable =\n",
              "            await google.colab.kernel.invokeFunction('convertToInteractive',\n",
              "                                                     [key], {});\n",
              "          if (!dataTable) return;\n",
              "\n",
              "          const docLinkHtml = 'Like what you see? Visit the ' +\n",
              "            '<a target=\"_blank\" href=https://colab.research.google.com/notebooks/data_table.ipynb>data table notebook</a>'\n",
              "            + ' to learn more about interactive tables.';\n",
              "          element.innerHTML = '';\n",
              "          dataTable['output_type'] = 'display_data';\n",
              "          await google.colab.output.renderOutput(dataTable, element);\n",
              "          const docLink = document.createElement('div');\n",
              "          docLink.innerHTML = docLinkHtml;\n",
              "          element.appendChild(docLink);\n",
              "        }\n",
              "      </script>\n",
              "    </div>\n",
              "  </div>\n",
              "  "
            ]
          },
          "metadata": {},
          "execution_count": 35
        }
      ]
    },
    {
      "cell_type": "markdown",
      "source": [
        "Also mentioned above, LOR and lor_M have too strong of a connection to both be included and if both are included, will likely introduce a lot of unnecessary noise and multicollinearity. For this reason, I decided to remove LOR since lor_M encompasses all of the information."
      ],
      "metadata": {
        "id": "bxdj4-aHTGnl"
      }
    },
    {
      "cell_type": "code",
      "source": [
        "df.drop(columns='LOR', inplace=True)\n",
        "df.head()"
      ],
      "metadata": {
        "colab": {
          "base_uri": "https://localhost:8080/",
          "height": 206
        },
        "id": "uD5Ve5s7TJKf",
        "outputId": "c9a2f39f-3953-4b1e-e77a-6f7801a3bc23"
      },
      "execution_count": null,
      "outputs": [
        {
          "output_type": "execute_result",
          "data": {
            "text/plain": [
              "  TARGET  loyalty  age  prod_A  type_A  type_B  prod_B  turnover_A  \\\n",
              "0      Y       99   66       0       0       0       0  333.561114   \n",
              "1      Y        1   45       1       3       3       1  394.735699   \n",
              "2      Y        1   42       1       3       6       1  342.180990   \n",
              "3      Y       99   31       0       0       0       0  453.757916   \n",
              "4      Y       99   62       0       0       0       0  384.577469   \n",
              "\n",
              "    turnover_B  age_P  lor_M package  \n",
              "0   264.721010     66      3    None  \n",
              "1   284.904978     45     39    Both  \n",
              "2  1175.589721     42     27    Both  \n",
              "3   242.341754     31      3    None  \n",
              "4   287.008370     62      3    None  "
            ],
            "text/html": [
              "\n",
              "  <div id=\"df-ca5b83e3-c03a-407b-a466-f1a48ec6029a\">\n",
              "    <div class=\"colab-df-container\">\n",
              "      <div>\n",
              "<style scoped>\n",
              "    .dataframe tbody tr th:only-of-type {\n",
              "        vertical-align: middle;\n",
              "    }\n",
              "\n",
              "    .dataframe tbody tr th {\n",
              "        vertical-align: top;\n",
              "    }\n",
              "\n",
              "    .dataframe thead th {\n",
              "        text-align: right;\n",
              "    }\n",
              "</style>\n",
              "<table border=\"1\" class=\"dataframe\">\n",
              "  <thead>\n",
              "    <tr style=\"text-align: right;\">\n",
              "      <th></th>\n",
              "      <th>TARGET</th>\n",
              "      <th>loyalty</th>\n",
              "      <th>age</th>\n",
              "      <th>prod_A</th>\n",
              "      <th>type_A</th>\n",
              "      <th>type_B</th>\n",
              "      <th>prod_B</th>\n",
              "      <th>turnover_A</th>\n",
              "      <th>turnover_B</th>\n",
              "      <th>age_P</th>\n",
              "      <th>lor_M</th>\n",
              "      <th>package</th>\n",
              "    </tr>\n",
              "  </thead>\n",
              "  <tbody>\n",
              "    <tr>\n",
              "      <th>0</th>\n",
              "      <td>Y</td>\n",
              "      <td>99</td>\n",
              "      <td>66</td>\n",
              "      <td>0</td>\n",
              "      <td>0</td>\n",
              "      <td>0</td>\n",
              "      <td>0</td>\n",
              "      <td>333.561114</td>\n",
              "      <td>264.721010</td>\n",
              "      <td>66</td>\n",
              "      <td>3</td>\n",
              "      <td>None</td>\n",
              "    </tr>\n",
              "    <tr>\n",
              "      <th>1</th>\n",
              "      <td>Y</td>\n",
              "      <td>1</td>\n",
              "      <td>45</td>\n",
              "      <td>1</td>\n",
              "      <td>3</td>\n",
              "      <td>3</td>\n",
              "      <td>1</td>\n",
              "      <td>394.735699</td>\n",
              "      <td>284.904978</td>\n",
              "      <td>45</td>\n",
              "      <td>39</td>\n",
              "      <td>Both</td>\n",
              "    </tr>\n",
              "    <tr>\n",
              "      <th>2</th>\n",
              "      <td>Y</td>\n",
              "      <td>1</td>\n",
              "      <td>42</td>\n",
              "      <td>1</td>\n",
              "      <td>3</td>\n",
              "      <td>6</td>\n",
              "      <td>1</td>\n",
              "      <td>342.180990</td>\n",
              "      <td>1175.589721</td>\n",
              "      <td>42</td>\n",
              "      <td>27</td>\n",
              "      <td>Both</td>\n",
              "    </tr>\n",
              "    <tr>\n",
              "      <th>3</th>\n",
              "      <td>Y</td>\n",
              "      <td>99</td>\n",
              "      <td>31</td>\n",
              "      <td>0</td>\n",
              "      <td>0</td>\n",
              "      <td>0</td>\n",
              "      <td>0</td>\n",
              "      <td>453.757916</td>\n",
              "      <td>242.341754</td>\n",
              "      <td>31</td>\n",
              "      <td>3</td>\n",
              "      <td>None</td>\n",
              "    </tr>\n",
              "    <tr>\n",
              "      <th>4</th>\n",
              "      <td>Y</td>\n",
              "      <td>99</td>\n",
              "      <td>62</td>\n",
              "      <td>0</td>\n",
              "      <td>0</td>\n",
              "      <td>0</td>\n",
              "      <td>0</td>\n",
              "      <td>384.577469</td>\n",
              "      <td>287.008370</td>\n",
              "      <td>62</td>\n",
              "      <td>3</td>\n",
              "      <td>None</td>\n",
              "    </tr>\n",
              "  </tbody>\n",
              "</table>\n",
              "</div>\n",
              "      <button class=\"colab-df-convert\" onclick=\"convertToInteractive('df-ca5b83e3-c03a-407b-a466-f1a48ec6029a')\"\n",
              "              title=\"Convert this dataframe to an interactive table.\"\n",
              "              style=\"display:none;\">\n",
              "        \n",
              "  <svg xmlns=\"http://www.w3.org/2000/svg\" height=\"24px\"viewBox=\"0 0 24 24\"\n",
              "       width=\"24px\">\n",
              "    <path d=\"M0 0h24v24H0V0z\" fill=\"none\"/>\n",
              "    <path d=\"M18.56 5.44l.94 2.06.94-2.06 2.06-.94-2.06-.94-.94-2.06-.94 2.06-2.06.94zm-11 1L8.5 8.5l.94-2.06 2.06-.94-2.06-.94L8.5 2.5l-.94 2.06-2.06.94zm10 10l.94 2.06.94-2.06 2.06-.94-2.06-.94-.94-2.06-.94 2.06-2.06.94z\"/><path d=\"M17.41 7.96l-1.37-1.37c-.4-.4-.92-.59-1.43-.59-.52 0-1.04.2-1.43.59L10.3 9.45l-7.72 7.72c-.78.78-.78 2.05 0 2.83L4 21.41c.39.39.9.59 1.41.59.51 0 1.02-.2 1.41-.59l7.78-7.78 2.81-2.81c.8-.78.8-2.07 0-2.86zM5.41 20L4 18.59l7.72-7.72 1.47 1.35L5.41 20z\"/>\n",
              "  </svg>\n",
              "      </button>\n",
              "      \n",
              "  <style>\n",
              "    .colab-df-container {\n",
              "      display:flex;\n",
              "      flex-wrap:wrap;\n",
              "      gap: 12px;\n",
              "    }\n",
              "\n",
              "    .colab-df-convert {\n",
              "      background-color: #E8F0FE;\n",
              "      border: none;\n",
              "      border-radius: 50%;\n",
              "      cursor: pointer;\n",
              "      display: none;\n",
              "      fill: #1967D2;\n",
              "      height: 32px;\n",
              "      padding: 0 0 0 0;\n",
              "      width: 32px;\n",
              "    }\n",
              "\n",
              "    .colab-df-convert:hover {\n",
              "      background-color: #E2EBFA;\n",
              "      box-shadow: 0px 1px 2px rgba(60, 64, 67, 0.3), 0px 1px 3px 1px rgba(60, 64, 67, 0.15);\n",
              "      fill: #174EA6;\n",
              "    }\n",
              "\n",
              "    [theme=dark] .colab-df-convert {\n",
              "      background-color: #3B4455;\n",
              "      fill: #D2E3FC;\n",
              "    }\n",
              "\n",
              "    [theme=dark] .colab-df-convert:hover {\n",
              "      background-color: #434B5C;\n",
              "      box-shadow: 0px 1px 3px 1px rgba(0, 0, 0, 0.15);\n",
              "      filter: drop-shadow(0px 1px 2px rgba(0, 0, 0, 0.3));\n",
              "      fill: #FFFFFF;\n",
              "    }\n",
              "  </style>\n",
              "\n",
              "      <script>\n",
              "        const buttonEl =\n",
              "          document.querySelector('#df-ca5b83e3-c03a-407b-a466-f1a48ec6029a button.colab-df-convert');\n",
              "        buttonEl.style.display =\n",
              "          google.colab.kernel.accessAllowed ? 'block' : 'none';\n",
              "\n",
              "        async function convertToInteractive(key) {\n",
              "          const element = document.querySelector('#df-ca5b83e3-c03a-407b-a466-f1a48ec6029a');\n",
              "          const dataTable =\n",
              "            await google.colab.kernel.invokeFunction('convertToInteractive',\n",
              "                                                     [key], {});\n",
              "          if (!dataTable) return;\n",
              "\n",
              "          const docLinkHtml = 'Like what you see? Visit the ' +\n",
              "            '<a target=\"_blank\" href=https://colab.research.google.com/notebooks/data_table.ipynb>data table notebook</a>'\n",
              "            + ' to learn more about interactive tables.';\n",
              "          element.innerHTML = '';\n",
              "          dataTable['output_type'] = 'display_data';\n",
              "          await google.colab.output.renderOutput(dataTable, element);\n",
              "          const docLink = document.createElement('div');\n",
              "          docLink.innerHTML = docLinkHtml;\n",
              "          element.appendChild(docLink);\n",
              "        }\n",
              "      </script>\n",
              "    </div>\n",
              "  </div>\n",
              "  "
            ]
          },
          "metadata": {},
          "execution_count": 36
        }
      ]
    },
    {
      "cell_type": "markdown",
      "source": [
        "### Variable Manipulation\n",
        "\n",
        "A binary dummy variable needed to be added to the data to replace the target variable since the target variable was listed as a simple Y or N and the model can't take that. The target column can be dropped after this step as it would be redundent to include it in the data set now that we have a simplified version of it."
      ],
      "metadata": {
        "id": "O8NlDls8TPHJ"
      }
    },
    {
      "cell_type": "code",
      "source": [
        "df['purchase'] = (df.TARGET=='Y').astype(int)\n",
        "df.drop(columns='TARGET', inplace=True)\n",
        "df.head()"
      ],
      "metadata": {
        "colab": {
          "base_uri": "https://localhost:8080/",
          "height": 206
        },
        "id": "P5VYBEhYTXdY",
        "outputId": "9002ed42-327f-4a16-c6a8-8e7c59935186"
      },
      "execution_count": null,
      "outputs": [
        {
          "output_type": "execute_result",
          "data": {
            "text/plain": [
              "   loyalty  age  prod_A  type_A  type_B  prod_B  turnover_A   turnover_B  \\\n",
              "0       99   66       0       0       0       0  333.561114   264.721010   \n",
              "1        1   45       1       3       3       1  394.735699   284.904978   \n",
              "2        1   42       1       3       6       1  342.180990  1175.589721   \n",
              "3       99   31       0       0       0       0  453.757916   242.341754   \n",
              "4       99   62       0       0       0       0  384.577469   287.008370   \n",
              "\n",
              "   age_P  lor_M package  purchase  \n",
              "0     66      3    None         1  \n",
              "1     45     39    Both         1  \n",
              "2     42     27    Both         1  \n",
              "3     31      3    None         1  \n",
              "4     62      3    None         1  "
            ],
            "text/html": [
              "\n",
              "  <div id=\"df-585d9e53-6eb7-46d2-b13e-e04bbe7d9c32\">\n",
              "    <div class=\"colab-df-container\">\n",
              "      <div>\n",
              "<style scoped>\n",
              "    .dataframe tbody tr th:only-of-type {\n",
              "        vertical-align: middle;\n",
              "    }\n",
              "\n",
              "    .dataframe tbody tr th {\n",
              "        vertical-align: top;\n",
              "    }\n",
              "\n",
              "    .dataframe thead th {\n",
              "        text-align: right;\n",
              "    }\n",
              "</style>\n",
              "<table border=\"1\" class=\"dataframe\">\n",
              "  <thead>\n",
              "    <tr style=\"text-align: right;\">\n",
              "      <th></th>\n",
              "      <th>loyalty</th>\n",
              "      <th>age</th>\n",
              "      <th>prod_A</th>\n",
              "      <th>type_A</th>\n",
              "      <th>type_B</th>\n",
              "      <th>prod_B</th>\n",
              "      <th>turnover_A</th>\n",
              "      <th>turnover_B</th>\n",
              "      <th>age_P</th>\n",
              "      <th>lor_M</th>\n",
              "      <th>package</th>\n",
              "      <th>purchase</th>\n",
              "    </tr>\n",
              "  </thead>\n",
              "  <tbody>\n",
              "    <tr>\n",
              "      <th>0</th>\n",
              "      <td>99</td>\n",
              "      <td>66</td>\n",
              "      <td>0</td>\n",
              "      <td>0</td>\n",
              "      <td>0</td>\n",
              "      <td>0</td>\n",
              "      <td>333.561114</td>\n",
              "      <td>264.721010</td>\n",
              "      <td>66</td>\n",
              "      <td>3</td>\n",
              "      <td>None</td>\n",
              "      <td>1</td>\n",
              "    </tr>\n",
              "    <tr>\n",
              "      <th>1</th>\n",
              "      <td>1</td>\n",
              "      <td>45</td>\n",
              "      <td>1</td>\n",
              "      <td>3</td>\n",
              "      <td>3</td>\n",
              "      <td>1</td>\n",
              "      <td>394.735699</td>\n",
              "      <td>284.904978</td>\n",
              "      <td>45</td>\n",
              "      <td>39</td>\n",
              "      <td>Both</td>\n",
              "      <td>1</td>\n",
              "    </tr>\n",
              "    <tr>\n",
              "      <th>2</th>\n",
              "      <td>1</td>\n",
              "      <td>42</td>\n",
              "      <td>1</td>\n",
              "      <td>3</td>\n",
              "      <td>6</td>\n",
              "      <td>1</td>\n",
              "      <td>342.180990</td>\n",
              "      <td>1175.589721</td>\n",
              "      <td>42</td>\n",
              "      <td>27</td>\n",
              "      <td>Both</td>\n",
              "      <td>1</td>\n",
              "    </tr>\n",
              "    <tr>\n",
              "      <th>3</th>\n",
              "      <td>99</td>\n",
              "      <td>31</td>\n",
              "      <td>0</td>\n",
              "      <td>0</td>\n",
              "      <td>0</td>\n",
              "      <td>0</td>\n",
              "      <td>453.757916</td>\n",
              "      <td>242.341754</td>\n",
              "      <td>31</td>\n",
              "      <td>3</td>\n",
              "      <td>None</td>\n",
              "      <td>1</td>\n",
              "    </tr>\n",
              "    <tr>\n",
              "      <th>4</th>\n",
              "      <td>99</td>\n",
              "      <td>62</td>\n",
              "      <td>0</td>\n",
              "      <td>0</td>\n",
              "      <td>0</td>\n",
              "      <td>0</td>\n",
              "      <td>384.577469</td>\n",
              "      <td>287.008370</td>\n",
              "      <td>62</td>\n",
              "      <td>3</td>\n",
              "      <td>None</td>\n",
              "      <td>1</td>\n",
              "    </tr>\n",
              "  </tbody>\n",
              "</table>\n",
              "</div>\n",
              "      <button class=\"colab-df-convert\" onclick=\"convertToInteractive('df-585d9e53-6eb7-46d2-b13e-e04bbe7d9c32')\"\n",
              "              title=\"Convert this dataframe to an interactive table.\"\n",
              "              style=\"display:none;\">\n",
              "        \n",
              "  <svg xmlns=\"http://www.w3.org/2000/svg\" height=\"24px\"viewBox=\"0 0 24 24\"\n",
              "       width=\"24px\">\n",
              "    <path d=\"M0 0h24v24H0V0z\" fill=\"none\"/>\n",
              "    <path d=\"M18.56 5.44l.94 2.06.94-2.06 2.06-.94-2.06-.94-.94-2.06-.94 2.06-2.06.94zm-11 1L8.5 8.5l.94-2.06 2.06-.94-2.06-.94L8.5 2.5l-.94 2.06-2.06.94zm10 10l.94 2.06.94-2.06 2.06-.94-2.06-.94-.94-2.06-.94 2.06-2.06.94z\"/><path d=\"M17.41 7.96l-1.37-1.37c-.4-.4-.92-.59-1.43-.59-.52 0-1.04.2-1.43.59L10.3 9.45l-7.72 7.72c-.78.78-.78 2.05 0 2.83L4 21.41c.39.39.9.59 1.41.59.51 0 1.02-.2 1.41-.59l7.78-7.78 2.81-2.81c.8-.78.8-2.07 0-2.86zM5.41 20L4 18.59l7.72-7.72 1.47 1.35L5.41 20z\"/>\n",
              "  </svg>\n",
              "      </button>\n",
              "      \n",
              "  <style>\n",
              "    .colab-df-container {\n",
              "      display:flex;\n",
              "      flex-wrap:wrap;\n",
              "      gap: 12px;\n",
              "    }\n",
              "\n",
              "    .colab-df-convert {\n",
              "      background-color: #E8F0FE;\n",
              "      border: none;\n",
              "      border-radius: 50%;\n",
              "      cursor: pointer;\n",
              "      display: none;\n",
              "      fill: #1967D2;\n",
              "      height: 32px;\n",
              "      padding: 0 0 0 0;\n",
              "      width: 32px;\n",
              "    }\n",
              "\n",
              "    .colab-df-convert:hover {\n",
              "      background-color: #E2EBFA;\n",
              "      box-shadow: 0px 1px 2px rgba(60, 64, 67, 0.3), 0px 1px 3px 1px rgba(60, 64, 67, 0.15);\n",
              "      fill: #174EA6;\n",
              "    }\n",
              "\n",
              "    [theme=dark] .colab-df-convert {\n",
              "      background-color: #3B4455;\n",
              "      fill: #D2E3FC;\n",
              "    }\n",
              "\n",
              "    [theme=dark] .colab-df-convert:hover {\n",
              "      background-color: #434B5C;\n",
              "      box-shadow: 0px 1px 3px 1px rgba(0, 0, 0, 0.15);\n",
              "      filter: drop-shadow(0px 1px 2px rgba(0, 0, 0, 0.3));\n",
              "      fill: #FFFFFF;\n",
              "    }\n",
              "  </style>\n",
              "\n",
              "      <script>\n",
              "        const buttonEl =\n",
              "          document.querySelector('#df-585d9e53-6eb7-46d2-b13e-e04bbe7d9c32 button.colab-df-convert');\n",
              "        buttonEl.style.display =\n",
              "          google.colab.kernel.accessAllowed ? 'block' : 'none';\n",
              "\n",
              "        async function convertToInteractive(key) {\n",
              "          const element = document.querySelector('#df-585d9e53-6eb7-46d2-b13e-e04bbe7d9c32');\n",
              "          const dataTable =\n",
              "            await google.colab.kernel.invokeFunction('convertToInteractive',\n",
              "                                                     [key], {});\n",
              "          if (!dataTable) return;\n",
              "\n",
              "          const docLinkHtml = 'Like what you see? Visit the ' +\n",
              "            '<a target=\"_blank\" href=https://colab.research.google.com/notebooks/data_table.ipynb>data table notebook</a>'\n",
              "            + ' to learn more about interactive tables.';\n",
              "          element.innerHTML = '';\n",
              "          dataTable['output_type'] = 'display_data';\n",
              "          await google.colab.output.renderOutput(dataTable, element);\n",
              "          const docLink = document.createElement('div');\n",
              "          docLink.innerHTML = docLinkHtml;\n",
              "          element.appendChild(docLink);\n",
              "        }\n",
              "      </script>\n",
              "    </div>\n",
              "  </div>\n",
              "  "
            ]
          },
          "metadata": {},
          "execution_count": 37
        }
      ]
    },
    {
      "cell_type": "markdown",
      "source": [
        "### Feature Engineering\n",
        "\n",
        "Even though all values are listed as integers, type_A, type_B, and loyalty are all categorical and should be treated as any other categorical value. For this reason, dummy variables need to be created based off of them. This leaves us with 19 variables to possibly include. This number will be reduced after performing some further review."
      ],
      "metadata": {
        "id": "U9FrczDaTweY"
      }
    },
    {
      "cell_type": "code",
      "source": [
        "df = pd.get_dummies(df, columns=['loyalty','type_A','type_B'], drop_first=True)\n",
        "df.head()"
      ],
      "metadata": {
        "colab": {
          "base_uri": "https://localhost:8080/",
          "height": 270
        },
        "id": "EXNbUqQ8T0rz",
        "outputId": "acf25aa9-324b-489a-ee39-cb767ff8c3d1"
      },
      "execution_count": null,
      "outputs": [
        {
          "output_type": "execute_result",
          "data": {
            "text/plain": [
              "   age  prod_A  prod_B  turnover_A   turnover_B  age_P  lor_M package  \\\n",
              "0   66       0       0  333.561114   264.721010     66      3    None   \n",
              "1   45       1       1  394.735699   284.904978     45     39    Both   \n",
              "2   42       1       1  342.180990  1175.589721     42     27    Both   \n",
              "3   31       0       0  453.757916   242.341754     31      3    None   \n",
              "4   62       0       0  384.577469   287.008370     62      3    None   \n",
              "\n",
              "   purchase  loyalty_1  loyalty_2  loyalty_3  loyalty_99  type_A_3  type_A_6  \\\n",
              "0         1          0          0          0           1         0         0   \n",
              "1         1          1          0          0           0         1         0   \n",
              "2         1          1          0          0           0         1         0   \n",
              "3         1          0          0          0           1         0         0   \n",
              "4         1          0          0          0           1         0         0   \n",
              "\n",
              "   type_B_3  type_B_6  type_B_9  \n",
              "0         0         0         0  \n",
              "1         1         0         0  \n",
              "2         0         1         0  \n",
              "3         0         0         0  \n",
              "4         0         0         0  "
            ],
            "text/html": [
              "\n",
              "  <div id=\"df-e292691a-cd60-47ae-9196-fc159a988782\">\n",
              "    <div class=\"colab-df-container\">\n",
              "      <div>\n",
              "<style scoped>\n",
              "    .dataframe tbody tr th:only-of-type {\n",
              "        vertical-align: middle;\n",
              "    }\n",
              "\n",
              "    .dataframe tbody tr th {\n",
              "        vertical-align: top;\n",
              "    }\n",
              "\n",
              "    .dataframe thead th {\n",
              "        text-align: right;\n",
              "    }\n",
              "</style>\n",
              "<table border=\"1\" class=\"dataframe\">\n",
              "  <thead>\n",
              "    <tr style=\"text-align: right;\">\n",
              "      <th></th>\n",
              "      <th>age</th>\n",
              "      <th>prod_A</th>\n",
              "      <th>prod_B</th>\n",
              "      <th>turnover_A</th>\n",
              "      <th>turnover_B</th>\n",
              "      <th>age_P</th>\n",
              "      <th>lor_M</th>\n",
              "      <th>package</th>\n",
              "      <th>purchase</th>\n",
              "      <th>loyalty_1</th>\n",
              "      <th>loyalty_2</th>\n",
              "      <th>loyalty_3</th>\n",
              "      <th>loyalty_99</th>\n",
              "      <th>type_A_3</th>\n",
              "      <th>type_A_6</th>\n",
              "      <th>type_B_3</th>\n",
              "      <th>type_B_6</th>\n",
              "      <th>type_B_9</th>\n",
              "    </tr>\n",
              "  </thead>\n",
              "  <tbody>\n",
              "    <tr>\n",
              "      <th>0</th>\n",
              "      <td>66</td>\n",
              "      <td>0</td>\n",
              "      <td>0</td>\n",
              "      <td>333.561114</td>\n",
              "      <td>264.721010</td>\n",
              "      <td>66</td>\n",
              "      <td>3</td>\n",
              "      <td>None</td>\n",
              "      <td>1</td>\n",
              "      <td>0</td>\n",
              "      <td>0</td>\n",
              "      <td>0</td>\n",
              "      <td>1</td>\n",
              "      <td>0</td>\n",
              "      <td>0</td>\n",
              "      <td>0</td>\n",
              "      <td>0</td>\n",
              "      <td>0</td>\n",
              "    </tr>\n",
              "    <tr>\n",
              "      <th>1</th>\n",
              "      <td>45</td>\n",
              "      <td>1</td>\n",
              "      <td>1</td>\n",
              "      <td>394.735699</td>\n",
              "      <td>284.904978</td>\n",
              "      <td>45</td>\n",
              "      <td>39</td>\n",
              "      <td>Both</td>\n",
              "      <td>1</td>\n",
              "      <td>1</td>\n",
              "      <td>0</td>\n",
              "      <td>0</td>\n",
              "      <td>0</td>\n",
              "      <td>1</td>\n",
              "      <td>0</td>\n",
              "      <td>1</td>\n",
              "      <td>0</td>\n",
              "      <td>0</td>\n",
              "    </tr>\n",
              "    <tr>\n",
              "      <th>2</th>\n",
              "      <td>42</td>\n",
              "      <td>1</td>\n",
              "      <td>1</td>\n",
              "      <td>342.180990</td>\n",
              "      <td>1175.589721</td>\n",
              "      <td>42</td>\n",
              "      <td>27</td>\n",
              "      <td>Both</td>\n",
              "      <td>1</td>\n",
              "      <td>1</td>\n",
              "      <td>0</td>\n",
              "      <td>0</td>\n",
              "      <td>0</td>\n",
              "      <td>1</td>\n",
              "      <td>0</td>\n",
              "      <td>0</td>\n",
              "      <td>1</td>\n",
              "      <td>0</td>\n",
              "    </tr>\n",
              "    <tr>\n",
              "      <th>3</th>\n",
              "      <td>31</td>\n",
              "      <td>0</td>\n",
              "      <td>0</td>\n",
              "      <td>453.757916</td>\n",
              "      <td>242.341754</td>\n",
              "      <td>31</td>\n",
              "      <td>3</td>\n",
              "      <td>None</td>\n",
              "      <td>1</td>\n",
              "      <td>0</td>\n",
              "      <td>0</td>\n",
              "      <td>0</td>\n",
              "      <td>1</td>\n",
              "      <td>0</td>\n",
              "      <td>0</td>\n",
              "      <td>0</td>\n",
              "      <td>0</td>\n",
              "      <td>0</td>\n",
              "    </tr>\n",
              "    <tr>\n",
              "      <th>4</th>\n",
              "      <td>62</td>\n",
              "      <td>0</td>\n",
              "      <td>0</td>\n",
              "      <td>384.577469</td>\n",
              "      <td>287.008370</td>\n",
              "      <td>62</td>\n",
              "      <td>3</td>\n",
              "      <td>None</td>\n",
              "      <td>1</td>\n",
              "      <td>0</td>\n",
              "      <td>0</td>\n",
              "      <td>0</td>\n",
              "      <td>1</td>\n",
              "      <td>0</td>\n",
              "      <td>0</td>\n",
              "      <td>0</td>\n",
              "      <td>0</td>\n",
              "      <td>0</td>\n",
              "    </tr>\n",
              "  </tbody>\n",
              "</table>\n",
              "</div>\n",
              "      <button class=\"colab-df-convert\" onclick=\"convertToInteractive('df-e292691a-cd60-47ae-9196-fc159a988782')\"\n",
              "              title=\"Convert this dataframe to an interactive table.\"\n",
              "              style=\"display:none;\">\n",
              "        \n",
              "  <svg xmlns=\"http://www.w3.org/2000/svg\" height=\"24px\"viewBox=\"0 0 24 24\"\n",
              "       width=\"24px\">\n",
              "    <path d=\"M0 0h24v24H0V0z\" fill=\"none\"/>\n",
              "    <path d=\"M18.56 5.44l.94 2.06.94-2.06 2.06-.94-2.06-.94-.94-2.06-.94 2.06-2.06.94zm-11 1L8.5 8.5l.94-2.06 2.06-.94-2.06-.94L8.5 2.5l-.94 2.06-2.06.94zm10 10l.94 2.06.94-2.06 2.06-.94-2.06-.94-.94-2.06-.94 2.06-2.06.94z\"/><path d=\"M17.41 7.96l-1.37-1.37c-.4-.4-.92-.59-1.43-.59-.52 0-1.04.2-1.43.59L10.3 9.45l-7.72 7.72c-.78.78-.78 2.05 0 2.83L4 21.41c.39.39.9.59 1.41.59.51 0 1.02-.2 1.41-.59l7.78-7.78 2.81-2.81c.8-.78.8-2.07 0-2.86zM5.41 20L4 18.59l7.72-7.72 1.47 1.35L5.41 20z\"/>\n",
              "  </svg>\n",
              "      </button>\n",
              "      \n",
              "  <style>\n",
              "    .colab-df-container {\n",
              "      display:flex;\n",
              "      flex-wrap:wrap;\n",
              "      gap: 12px;\n",
              "    }\n",
              "\n",
              "    .colab-df-convert {\n",
              "      background-color: #E8F0FE;\n",
              "      border: none;\n",
              "      border-radius: 50%;\n",
              "      cursor: pointer;\n",
              "      display: none;\n",
              "      fill: #1967D2;\n",
              "      height: 32px;\n",
              "      padding: 0 0 0 0;\n",
              "      width: 32px;\n",
              "    }\n",
              "\n",
              "    .colab-df-convert:hover {\n",
              "      background-color: #E2EBFA;\n",
              "      box-shadow: 0px 1px 2px rgba(60, 64, 67, 0.3), 0px 1px 3px 1px rgba(60, 64, 67, 0.15);\n",
              "      fill: #174EA6;\n",
              "    }\n",
              "\n",
              "    [theme=dark] .colab-df-convert {\n",
              "      background-color: #3B4455;\n",
              "      fill: #D2E3FC;\n",
              "    }\n",
              "\n",
              "    [theme=dark] .colab-df-convert:hover {\n",
              "      background-color: #434B5C;\n",
              "      box-shadow: 0px 1px 3px 1px rgba(0, 0, 0, 0.15);\n",
              "      filter: drop-shadow(0px 1px 2px rgba(0, 0, 0, 0.3));\n",
              "      fill: #FFFFFF;\n",
              "    }\n",
              "  </style>\n",
              "\n",
              "      <script>\n",
              "        const buttonEl =\n",
              "          document.querySelector('#df-e292691a-cd60-47ae-9196-fc159a988782 button.colab-df-convert');\n",
              "        buttonEl.style.display =\n",
              "          google.colab.kernel.accessAllowed ? 'block' : 'none';\n",
              "\n",
              "        async function convertToInteractive(key) {\n",
              "          const element = document.querySelector('#df-e292691a-cd60-47ae-9196-fc159a988782');\n",
              "          const dataTable =\n",
              "            await google.colab.kernel.invokeFunction('convertToInteractive',\n",
              "                                                     [key], {});\n",
              "          if (!dataTable) return;\n",
              "\n",
              "          const docLinkHtml = 'Like what you see? Visit the ' +\n",
              "            '<a target=\"_blank\" href=https://colab.research.google.com/notebooks/data_table.ipynb>data table notebook</a>'\n",
              "            + ' to learn more about interactive tables.';\n",
              "          element.innerHTML = '';\n",
              "          dataTable['output_type'] = 'display_data';\n",
              "          await google.colab.output.renderOutput(dataTable, element);\n",
              "          const docLink = document.createElement('div');\n",
              "          docLink.innerHTML = docLinkHtml;\n",
              "          element.appendChild(docLink);\n",
              "        }\n",
              "      </script>\n",
              "    </div>\n",
              "  </div>\n",
              "  "
            ]
          },
          "metadata": {},
          "execution_count": 38
        }
      ]
    },
    {
      "cell_type": "code",
      "source": [
        "df.shape"
      ],
      "metadata": {
        "colab": {
          "base_uri": "https://localhost:8080/"
        },
        "id": "vi0OpVkjUDtP",
        "outputId": "3af897fc-bbf2-42ce-c557-237a53ea9e5b"
      },
      "execution_count": null,
      "outputs": [
        {
          "output_type": "execute_result",
          "data": {
            "text/plain": [
              "(11008, 18)"
            ]
          },
          "metadata": {},
          "execution_count": 39
        }
      ]
    },
    {
      "cell_type": "markdown",
      "source": [
        "We are able to know which products a particular customer has purchased but it may be helpful to have a new attribute detailing how many products a given customer may have, not just which ones. I created that column and dropped the \"package\" column that was used earlier just for EDA."
      ],
      "metadata": {
        "id": "zCpsBZI_i_nz"
      }
    },
    {
      "cell_type": "code",
      "source": [
        "df['prods'] = np.where(df.package=='B',1,np.where(df.package=='None',0,2))\n",
        "df.head()"
      ],
      "metadata": {
        "colab": {
          "base_uri": "https://localhost:8080/",
          "height": 270
        },
        "id": "z5BOsKvvjUOP",
        "outputId": "47c502f7-df5f-4b3e-b134-10480a8ad25f"
      },
      "execution_count": null,
      "outputs": [
        {
          "output_type": "execute_result",
          "data": {
            "text/plain": [
              "   age  prod_A  prod_B  turnover_A   turnover_B  age_P  lor_M package  \\\n",
              "0   66       0       0  333.561114   264.721010     66      3    None   \n",
              "1   45       1       1  394.735699   284.904978     45     39    Both   \n",
              "2   42       1       1  342.180990  1175.589721     42     27    Both   \n",
              "3   31       0       0  453.757916   242.341754     31      3    None   \n",
              "4   62       0       0  384.577469   287.008370     62      3    None   \n",
              "\n",
              "   purchase  loyalty_1  loyalty_2  loyalty_3  loyalty_99  type_A_3  type_A_6  \\\n",
              "0         1          0          0          0           1         0         0   \n",
              "1         1          1          0          0           0         1         0   \n",
              "2         1          1          0          0           0         1         0   \n",
              "3         1          0          0          0           1         0         0   \n",
              "4         1          0          0          0           1         0         0   \n",
              "\n",
              "   type_B_3  type_B_6  type_B_9  prods  \n",
              "0         0         0         0      0  \n",
              "1         1         0         0      2  \n",
              "2         0         1         0      2  \n",
              "3         0         0         0      0  \n",
              "4         0         0         0      0  "
            ],
            "text/html": [
              "\n",
              "  <div id=\"df-df54755e-f7ce-4677-a80f-d5b53330f6d8\">\n",
              "    <div class=\"colab-df-container\">\n",
              "      <div>\n",
              "<style scoped>\n",
              "    .dataframe tbody tr th:only-of-type {\n",
              "        vertical-align: middle;\n",
              "    }\n",
              "\n",
              "    .dataframe tbody tr th {\n",
              "        vertical-align: top;\n",
              "    }\n",
              "\n",
              "    .dataframe thead th {\n",
              "        text-align: right;\n",
              "    }\n",
              "</style>\n",
              "<table border=\"1\" class=\"dataframe\">\n",
              "  <thead>\n",
              "    <tr style=\"text-align: right;\">\n",
              "      <th></th>\n",
              "      <th>age</th>\n",
              "      <th>prod_A</th>\n",
              "      <th>prod_B</th>\n",
              "      <th>turnover_A</th>\n",
              "      <th>turnover_B</th>\n",
              "      <th>age_P</th>\n",
              "      <th>lor_M</th>\n",
              "      <th>package</th>\n",
              "      <th>purchase</th>\n",
              "      <th>loyalty_1</th>\n",
              "      <th>loyalty_2</th>\n",
              "      <th>loyalty_3</th>\n",
              "      <th>loyalty_99</th>\n",
              "      <th>type_A_3</th>\n",
              "      <th>type_A_6</th>\n",
              "      <th>type_B_3</th>\n",
              "      <th>type_B_6</th>\n",
              "      <th>type_B_9</th>\n",
              "      <th>prods</th>\n",
              "    </tr>\n",
              "  </thead>\n",
              "  <tbody>\n",
              "    <tr>\n",
              "      <th>0</th>\n",
              "      <td>66</td>\n",
              "      <td>0</td>\n",
              "      <td>0</td>\n",
              "      <td>333.561114</td>\n",
              "      <td>264.721010</td>\n",
              "      <td>66</td>\n",
              "      <td>3</td>\n",
              "      <td>None</td>\n",
              "      <td>1</td>\n",
              "      <td>0</td>\n",
              "      <td>0</td>\n",
              "      <td>0</td>\n",
              "      <td>1</td>\n",
              "      <td>0</td>\n",
              "      <td>0</td>\n",
              "      <td>0</td>\n",
              "      <td>0</td>\n",
              "      <td>0</td>\n",
              "      <td>0</td>\n",
              "    </tr>\n",
              "    <tr>\n",
              "      <th>1</th>\n",
              "      <td>45</td>\n",
              "      <td>1</td>\n",
              "      <td>1</td>\n",
              "      <td>394.735699</td>\n",
              "      <td>284.904978</td>\n",
              "      <td>45</td>\n",
              "      <td>39</td>\n",
              "      <td>Both</td>\n",
              "      <td>1</td>\n",
              "      <td>1</td>\n",
              "      <td>0</td>\n",
              "      <td>0</td>\n",
              "      <td>0</td>\n",
              "      <td>1</td>\n",
              "      <td>0</td>\n",
              "      <td>1</td>\n",
              "      <td>0</td>\n",
              "      <td>0</td>\n",
              "      <td>2</td>\n",
              "    </tr>\n",
              "    <tr>\n",
              "      <th>2</th>\n",
              "      <td>42</td>\n",
              "      <td>1</td>\n",
              "      <td>1</td>\n",
              "      <td>342.180990</td>\n",
              "      <td>1175.589721</td>\n",
              "      <td>42</td>\n",
              "      <td>27</td>\n",
              "      <td>Both</td>\n",
              "      <td>1</td>\n",
              "      <td>1</td>\n",
              "      <td>0</td>\n",
              "      <td>0</td>\n",
              "      <td>0</td>\n",
              "      <td>1</td>\n",
              "      <td>0</td>\n",
              "      <td>0</td>\n",
              "      <td>1</td>\n",
              "      <td>0</td>\n",
              "      <td>2</td>\n",
              "    </tr>\n",
              "    <tr>\n",
              "      <th>3</th>\n",
              "      <td>31</td>\n",
              "      <td>0</td>\n",
              "      <td>0</td>\n",
              "      <td>453.757916</td>\n",
              "      <td>242.341754</td>\n",
              "      <td>31</td>\n",
              "      <td>3</td>\n",
              "      <td>None</td>\n",
              "      <td>1</td>\n",
              "      <td>0</td>\n",
              "      <td>0</td>\n",
              "      <td>0</td>\n",
              "      <td>1</td>\n",
              "      <td>0</td>\n",
              "      <td>0</td>\n",
              "      <td>0</td>\n",
              "      <td>0</td>\n",
              "      <td>0</td>\n",
              "      <td>0</td>\n",
              "    </tr>\n",
              "    <tr>\n",
              "      <th>4</th>\n",
              "      <td>62</td>\n",
              "      <td>0</td>\n",
              "      <td>0</td>\n",
              "      <td>384.577469</td>\n",
              "      <td>287.008370</td>\n",
              "      <td>62</td>\n",
              "      <td>3</td>\n",
              "      <td>None</td>\n",
              "      <td>1</td>\n",
              "      <td>0</td>\n",
              "      <td>0</td>\n",
              "      <td>0</td>\n",
              "      <td>1</td>\n",
              "      <td>0</td>\n",
              "      <td>0</td>\n",
              "      <td>0</td>\n",
              "      <td>0</td>\n",
              "      <td>0</td>\n",
              "      <td>0</td>\n",
              "    </tr>\n",
              "  </tbody>\n",
              "</table>\n",
              "</div>\n",
              "      <button class=\"colab-df-convert\" onclick=\"convertToInteractive('df-df54755e-f7ce-4677-a80f-d5b53330f6d8')\"\n",
              "              title=\"Convert this dataframe to an interactive table.\"\n",
              "              style=\"display:none;\">\n",
              "        \n",
              "  <svg xmlns=\"http://www.w3.org/2000/svg\" height=\"24px\"viewBox=\"0 0 24 24\"\n",
              "       width=\"24px\">\n",
              "    <path d=\"M0 0h24v24H0V0z\" fill=\"none\"/>\n",
              "    <path d=\"M18.56 5.44l.94 2.06.94-2.06 2.06-.94-2.06-.94-.94-2.06-.94 2.06-2.06.94zm-11 1L8.5 8.5l.94-2.06 2.06-.94-2.06-.94L8.5 2.5l-.94 2.06-2.06.94zm10 10l.94 2.06.94-2.06 2.06-.94-2.06-.94-.94-2.06-.94 2.06-2.06.94z\"/><path d=\"M17.41 7.96l-1.37-1.37c-.4-.4-.92-.59-1.43-.59-.52 0-1.04.2-1.43.59L10.3 9.45l-7.72 7.72c-.78.78-.78 2.05 0 2.83L4 21.41c.39.39.9.59 1.41.59.51 0 1.02-.2 1.41-.59l7.78-7.78 2.81-2.81c.8-.78.8-2.07 0-2.86zM5.41 20L4 18.59l7.72-7.72 1.47 1.35L5.41 20z\"/>\n",
              "  </svg>\n",
              "      </button>\n",
              "      \n",
              "  <style>\n",
              "    .colab-df-container {\n",
              "      display:flex;\n",
              "      flex-wrap:wrap;\n",
              "      gap: 12px;\n",
              "    }\n",
              "\n",
              "    .colab-df-convert {\n",
              "      background-color: #E8F0FE;\n",
              "      border: none;\n",
              "      border-radius: 50%;\n",
              "      cursor: pointer;\n",
              "      display: none;\n",
              "      fill: #1967D2;\n",
              "      height: 32px;\n",
              "      padding: 0 0 0 0;\n",
              "      width: 32px;\n",
              "    }\n",
              "\n",
              "    .colab-df-convert:hover {\n",
              "      background-color: #E2EBFA;\n",
              "      box-shadow: 0px 1px 2px rgba(60, 64, 67, 0.3), 0px 1px 3px 1px rgba(60, 64, 67, 0.15);\n",
              "      fill: #174EA6;\n",
              "    }\n",
              "\n",
              "    [theme=dark] .colab-df-convert {\n",
              "      background-color: #3B4455;\n",
              "      fill: #D2E3FC;\n",
              "    }\n",
              "\n",
              "    [theme=dark] .colab-df-convert:hover {\n",
              "      background-color: #434B5C;\n",
              "      box-shadow: 0px 1px 3px 1px rgba(0, 0, 0, 0.15);\n",
              "      filter: drop-shadow(0px 1px 2px rgba(0, 0, 0, 0.3));\n",
              "      fill: #FFFFFF;\n",
              "    }\n",
              "  </style>\n",
              "\n",
              "      <script>\n",
              "        const buttonEl =\n",
              "          document.querySelector('#df-df54755e-f7ce-4677-a80f-d5b53330f6d8 button.colab-df-convert');\n",
              "        buttonEl.style.display =\n",
              "          google.colab.kernel.accessAllowed ? 'block' : 'none';\n",
              "\n",
              "        async function convertToInteractive(key) {\n",
              "          const element = document.querySelector('#df-df54755e-f7ce-4677-a80f-d5b53330f6d8');\n",
              "          const dataTable =\n",
              "            await google.colab.kernel.invokeFunction('convertToInteractive',\n",
              "                                                     [key], {});\n",
              "          if (!dataTable) return;\n",
              "\n",
              "          const docLinkHtml = 'Like what you see? Visit the ' +\n",
              "            '<a target=\"_blank\" href=https://colab.research.google.com/notebooks/data_table.ipynb>data table notebook</a>'\n",
              "            + ' to learn more about interactive tables.';\n",
              "          element.innerHTML = '';\n",
              "          dataTable['output_type'] = 'display_data';\n",
              "          await google.colab.output.renderOutput(dataTable, element);\n",
              "          const docLink = document.createElement('div');\n",
              "          docLink.innerHTML = docLinkHtml;\n",
              "          element.appendChild(docLink);\n",
              "        }\n",
              "      </script>\n",
              "    </div>\n",
              "  </div>\n",
              "  "
            ]
          },
          "metadata": {},
          "execution_count": 40
        }
      ]
    },
    {
      "cell_type": "code",
      "source": [
        "df.drop(columns='package',inplace=True)"
      ],
      "metadata": {
        "id": "KUmXrjWGyB65"
      },
      "execution_count": null,
      "outputs": []
    },
    {
      "cell_type": "markdown",
      "source": [
        "# Prepped Data Review\n",
        "\n",
        "Now that all of data has been transformed and the necessary dummy variables have been created, a good step to start our review is at the correlation matrix. Looking at this revised correlation chart there are a few things that stand out. \n",
        "\n",
        "First, none of these features has an extremely high correlation value, even though a significant amount of them have decent numbers. This could indicate that more variables are required to put together a strong model.\n",
        "\n",
        "What is a little bit confusing are a few of the variables that are negatively correlated. For example, the highest level of loyalty has the highest level of correlation out of all levels and yet it's negatively correlated. This goes against conventional knowledge that the customer who is more loyal would buy more products.\n",
        "\n",
        "While none of these variables have particularly amazing correlation values, I do see some of them as potentially being good predictors. Therefore based on this, one of the methods that I will be using is a correlation threshold for feature selection."
      ],
      "metadata": {
        "id": "VHtTJEBygFBP"
      }
    },
    {
      "cell_type": "code",
      "source": [
        "corr = df.corr()\n",
        "corr['purchase'].sort_values(ascending=False)"
      ],
      "metadata": {
        "colab": {
          "base_uri": "https://localhost:8080/"
        },
        "id": "vhMhl6t7hfP_",
        "outputId": "406460b6-be46-461f-b3c0-7f5796c568f1"
      },
      "execution_count": null,
      "outputs": [
        {
          "output_type": "execute_result",
          "data": {
            "text/plain": [
              "purchase      1.000000\n",
              "loyalty_99    0.228532\n",
              "age           0.227510\n",
              "age_P         0.227510\n",
              "turnover_A    0.201813\n",
              "type_A_6      0.003193\n",
              "type_B_9     -0.026166\n",
              "loyalty_1    -0.047778\n",
              "loyalty_2    -0.054305\n",
              "turnover_B   -0.084418\n",
              "type_B_6     -0.084766\n",
              "lor_M        -0.171396\n",
              "loyalty_3    -0.175314\n",
              "type_B_3     -0.271626\n",
              "prod_A       -0.293210\n",
              "type_A_3     -0.293296\n",
              "prods        -0.315535\n",
              "prod_B       -0.316734\n",
              "Name: purchase, dtype: float64"
            ]
          },
          "metadata": {},
          "execution_count": 42
        }
      ]
    },
    {
      "cell_type": "code",
      "source": [
        "corr"
      ],
      "metadata": {
        "colab": {
          "base_uri": "https://localhost:8080/",
          "height": 678
        },
        "id": "uIyTDFr9lwvJ",
        "outputId": "26d6c7a4-e1f4-4eec-c44d-5de666499ca5"
      },
      "execution_count": null,
      "outputs": [
        {
          "output_type": "execute_result",
          "data": {
            "text/plain": [
              "                 age    prod_A    prod_B  turnover_A  turnover_B     age_P  \\\n",
              "age         1.000000 -0.140526 -0.038487    0.130944    0.293546  1.000000   \n",
              "prod_A     -0.140526  1.000000  0.865835    0.000495   -0.029556 -0.140526   \n",
              "prod_B     -0.038487  0.865835  1.000000   -0.016728    0.148441 -0.038487   \n",
              "turnover_A  0.130944  0.000495 -0.016728    1.000000    0.138260  0.130944   \n",
              "turnover_B  0.293546 -0.029556  0.148441    0.138260    1.000000  0.293546   \n",
              "age_P       1.000000 -0.140526 -0.038487    0.130944    0.293546  1.000000   \n",
              "lor_M       0.120313  0.558389  0.734568    0.024052    0.164561  0.120313   \n",
              "purchase    0.227510 -0.293210 -0.316734    0.201813   -0.084418  0.227510   \n",
              "loyalty_1   0.176724  0.201052  0.315490    0.070925    0.098606  0.176724   \n",
              "loyalty_2   0.142065  0.138672  0.215316    0.021966    0.179842  0.142065   \n",
              "loyalty_3  -0.172700  0.395625  0.397294   -0.068654    0.002766 -0.172700   \n",
              "loyalty_99 -0.066388 -0.592269 -0.729080   -0.006800   -0.188478 -0.066388   \n",
              "type_A_3   -0.140334  0.995711  0.862121   -0.000342   -0.028874 -0.140334   \n",
              "type_A_6   -0.000983  0.038588  0.033411    0.009035   -0.007131 -0.000983   \n",
              "type_B_3   -0.136908  0.784853  0.909723   -0.019888   -0.055078 -0.136908   \n",
              "type_B_6    0.228266  0.139205  0.151093    0.009333    0.455100  0.228266   \n",
              "type_B_9    0.058666  0.029384  0.040039   -0.002020    0.133092  0.058666   \n",
              "prods      -0.093571  0.967054  0.964679   -0.008251    0.059967 -0.093571   \n",
              "\n",
              "               lor_M  purchase  loyalty_1  loyalty_2  loyalty_3  loyalty_99  \\\n",
              "age         0.120313  0.227510   0.176724   0.142065  -0.172700   -0.066388   \n",
              "prod_A      0.558389 -0.293210   0.201052   0.138672   0.395625   -0.592269   \n",
              "prod_B      0.734568 -0.316734   0.315490   0.215316   0.397294   -0.729080   \n",
              "turnover_A  0.024052  0.201813   0.070925   0.021966  -0.068654   -0.006800   \n",
              "turnover_B  0.164561 -0.084418   0.098606   0.179842   0.002766   -0.188478   \n",
              "age_P       0.120313  0.227510   0.176724   0.142065  -0.172700   -0.066388   \n",
              "lor_M       1.000000 -0.171396   0.542256   0.210861   0.101552   -0.640154   \n",
              "purchase   -0.171396  1.000000  -0.047778  -0.054305  -0.175314    0.228532   \n",
              "loyalty_1   0.542256 -0.047778   1.000000  -0.164530  -0.270242   -0.436163   \n",
              "loyalty_2   0.210861 -0.054305  -0.164530   1.000000  -0.197957   -0.319498   \n",
              "loyalty_3   0.101552 -0.175314  -0.270242  -0.197957   1.000000   -0.524779   \n",
              "loyalty_99 -0.640154  0.228532  -0.436163  -0.319498  -0.524779    1.000000   \n",
              "type_A_3    0.554773 -0.293296   0.195776   0.137071   0.396473   -0.587946   \n",
              "type_A_6    0.034731  0.003193   0.055424   0.016221  -0.012222   -0.042111   \n",
              "type_B_3    0.581869 -0.271626   0.247190   0.136888   0.397559   -0.628245   \n",
              "type_B_6    0.296721 -0.084766   0.127874   0.179362  -0.021178   -0.190439   \n",
              "type_B_9    0.126605 -0.026166   0.077060   0.002417  -0.011960   -0.050465   \n",
              "prods       0.667751 -0.315535   0.266379   0.182567   0.410447   -0.682797   \n",
              "\n",
              "            type_A_3  type_A_6  type_B_3  type_B_6  type_B_9     prods  \n",
              "age        -0.140334 -0.000983 -0.136908  0.228266  0.058666 -0.093571  \n",
              "prod_A      0.995711  0.038588  0.784853  0.139205  0.029384  0.967054  \n",
              "prod_B      0.862121  0.033411  0.909723  0.151093  0.040039  0.964679  \n",
              "turnover_A -0.000342  0.009035 -0.019888  0.009333 -0.002020 -0.008251  \n",
              "turnover_B -0.028874 -0.007131 -0.055078  0.455100  0.133092  0.059967  \n",
              "age_P      -0.140334 -0.000983 -0.136908  0.228266  0.058666 -0.093571  \n",
              "lor_M       0.554773  0.034731  0.581869  0.296721  0.126605  0.667751  \n",
              "purchase   -0.293296  0.003193 -0.271626 -0.084766 -0.026166 -0.315535  \n",
              "loyalty_1   0.195776  0.055424  0.247190  0.127874  0.077060  0.266379  \n",
              "loyalty_2   0.137071  0.016221  0.136888  0.179362  0.002417  0.182567  \n",
              "loyalty_3   0.396473 -0.012222  0.397559 -0.021178 -0.011960  0.410447  \n",
              "loyalty_99 -0.587946 -0.042111 -0.628245 -0.190439 -0.050465 -0.682797  \n",
              "type_A_3    1.000000 -0.054027  0.789570  0.119560  0.026226  0.962906  \n",
              "type_A_6   -0.054027  1.000000 -0.057010  0.211102  0.033881  0.037317  \n",
              "type_B_3    0.789570 -0.057010  1.000000 -0.257813 -0.068319  0.876108  \n",
              "type_B_6    0.119560  0.211102 -0.257813  1.000000 -0.011347  0.150170  \n",
              "type_B_9    0.026226  0.033881 -0.068319 -0.011347  1.000000  0.035843  \n",
              "prods       0.962906  0.037317  0.876108  0.150170  0.035843  1.000000  "
            ],
            "text/html": [
              "\n",
              "  <div id=\"df-c9530439-d94d-4f7b-ae51-caffc4a4e31f\">\n",
              "    <div class=\"colab-df-container\">\n",
              "      <div>\n",
              "<style scoped>\n",
              "    .dataframe tbody tr th:only-of-type {\n",
              "        vertical-align: middle;\n",
              "    }\n",
              "\n",
              "    .dataframe tbody tr th {\n",
              "        vertical-align: top;\n",
              "    }\n",
              "\n",
              "    .dataframe thead th {\n",
              "        text-align: right;\n",
              "    }\n",
              "</style>\n",
              "<table border=\"1\" class=\"dataframe\">\n",
              "  <thead>\n",
              "    <tr style=\"text-align: right;\">\n",
              "      <th></th>\n",
              "      <th>age</th>\n",
              "      <th>prod_A</th>\n",
              "      <th>prod_B</th>\n",
              "      <th>turnover_A</th>\n",
              "      <th>turnover_B</th>\n",
              "      <th>age_P</th>\n",
              "      <th>lor_M</th>\n",
              "      <th>purchase</th>\n",
              "      <th>loyalty_1</th>\n",
              "      <th>loyalty_2</th>\n",
              "      <th>loyalty_3</th>\n",
              "      <th>loyalty_99</th>\n",
              "      <th>type_A_3</th>\n",
              "      <th>type_A_6</th>\n",
              "      <th>type_B_3</th>\n",
              "      <th>type_B_6</th>\n",
              "      <th>type_B_9</th>\n",
              "      <th>prods</th>\n",
              "    </tr>\n",
              "  </thead>\n",
              "  <tbody>\n",
              "    <tr>\n",
              "      <th>age</th>\n",
              "      <td>1.000000</td>\n",
              "      <td>-0.140526</td>\n",
              "      <td>-0.038487</td>\n",
              "      <td>0.130944</td>\n",
              "      <td>0.293546</td>\n",
              "      <td>1.000000</td>\n",
              "      <td>0.120313</td>\n",
              "      <td>0.227510</td>\n",
              "      <td>0.176724</td>\n",
              "      <td>0.142065</td>\n",
              "      <td>-0.172700</td>\n",
              "      <td>-0.066388</td>\n",
              "      <td>-0.140334</td>\n",
              "      <td>-0.000983</td>\n",
              "      <td>-0.136908</td>\n",
              "      <td>0.228266</td>\n",
              "      <td>0.058666</td>\n",
              "      <td>-0.093571</td>\n",
              "    </tr>\n",
              "    <tr>\n",
              "      <th>prod_A</th>\n",
              "      <td>-0.140526</td>\n",
              "      <td>1.000000</td>\n",
              "      <td>0.865835</td>\n",
              "      <td>0.000495</td>\n",
              "      <td>-0.029556</td>\n",
              "      <td>-0.140526</td>\n",
              "      <td>0.558389</td>\n",
              "      <td>-0.293210</td>\n",
              "      <td>0.201052</td>\n",
              "      <td>0.138672</td>\n",
              "      <td>0.395625</td>\n",
              "      <td>-0.592269</td>\n",
              "      <td>0.995711</td>\n",
              "      <td>0.038588</td>\n",
              "      <td>0.784853</td>\n",
              "      <td>0.139205</td>\n",
              "      <td>0.029384</td>\n",
              "      <td>0.967054</td>\n",
              "    </tr>\n",
              "    <tr>\n",
              "      <th>prod_B</th>\n",
              "      <td>-0.038487</td>\n",
              "      <td>0.865835</td>\n",
              "      <td>1.000000</td>\n",
              "      <td>-0.016728</td>\n",
              "      <td>0.148441</td>\n",
              "      <td>-0.038487</td>\n",
              "      <td>0.734568</td>\n",
              "      <td>-0.316734</td>\n",
              "      <td>0.315490</td>\n",
              "      <td>0.215316</td>\n",
              "      <td>0.397294</td>\n",
              "      <td>-0.729080</td>\n",
              "      <td>0.862121</td>\n",
              "      <td>0.033411</td>\n",
              "      <td>0.909723</td>\n",
              "      <td>0.151093</td>\n",
              "      <td>0.040039</td>\n",
              "      <td>0.964679</td>\n",
              "    </tr>\n",
              "    <tr>\n",
              "      <th>turnover_A</th>\n",
              "      <td>0.130944</td>\n",
              "      <td>0.000495</td>\n",
              "      <td>-0.016728</td>\n",
              "      <td>1.000000</td>\n",
              "      <td>0.138260</td>\n",
              "      <td>0.130944</td>\n",
              "      <td>0.024052</td>\n",
              "      <td>0.201813</td>\n",
              "      <td>0.070925</td>\n",
              "      <td>0.021966</td>\n",
              "      <td>-0.068654</td>\n",
              "      <td>-0.006800</td>\n",
              "      <td>-0.000342</td>\n",
              "      <td>0.009035</td>\n",
              "      <td>-0.019888</td>\n",
              "      <td>0.009333</td>\n",
              "      <td>-0.002020</td>\n",
              "      <td>-0.008251</td>\n",
              "    </tr>\n",
              "    <tr>\n",
              "      <th>turnover_B</th>\n",
              "      <td>0.293546</td>\n",
              "      <td>-0.029556</td>\n",
              "      <td>0.148441</td>\n",
              "      <td>0.138260</td>\n",
              "      <td>1.000000</td>\n",
              "      <td>0.293546</td>\n",
              "      <td>0.164561</td>\n",
              "      <td>-0.084418</td>\n",
              "      <td>0.098606</td>\n",
              "      <td>0.179842</td>\n",
              "      <td>0.002766</td>\n",
              "      <td>-0.188478</td>\n",
              "      <td>-0.028874</td>\n",
              "      <td>-0.007131</td>\n",
              "      <td>-0.055078</td>\n",
              "      <td>0.455100</td>\n",
              "      <td>0.133092</td>\n",
              "      <td>0.059967</td>\n",
              "    </tr>\n",
              "    <tr>\n",
              "      <th>age_P</th>\n",
              "      <td>1.000000</td>\n",
              "      <td>-0.140526</td>\n",
              "      <td>-0.038487</td>\n",
              "      <td>0.130944</td>\n",
              "      <td>0.293546</td>\n",
              "      <td>1.000000</td>\n",
              "      <td>0.120313</td>\n",
              "      <td>0.227510</td>\n",
              "      <td>0.176724</td>\n",
              "      <td>0.142065</td>\n",
              "      <td>-0.172700</td>\n",
              "      <td>-0.066388</td>\n",
              "      <td>-0.140334</td>\n",
              "      <td>-0.000983</td>\n",
              "      <td>-0.136908</td>\n",
              "      <td>0.228266</td>\n",
              "      <td>0.058666</td>\n",
              "      <td>-0.093571</td>\n",
              "    </tr>\n",
              "    <tr>\n",
              "      <th>lor_M</th>\n",
              "      <td>0.120313</td>\n",
              "      <td>0.558389</td>\n",
              "      <td>0.734568</td>\n",
              "      <td>0.024052</td>\n",
              "      <td>0.164561</td>\n",
              "      <td>0.120313</td>\n",
              "      <td>1.000000</td>\n",
              "      <td>-0.171396</td>\n",
              "      <td>0.542256</td>\n",
              "      <td>0.210861</td>\n",
              "      <td>0.101552</td>\n",
              "      <td>-0.640154</td>\n",
              "      <td>0.554773</td>\n",
              "      <td>0.034731</td>\n",
              "      <td>0.581869</td>\n",
              "      <td>0.296721</td>\n",
              "      <td>0.126605</td>\n",
              "      <td>0.667751</td>\n",
              "    </tr>\n",
              "    <tr>\n",
              "      <th>purchase</th>\n",
              "      <td>0.227510</td>\n",
              "      <td>-0.293210</td>\n",
              "      <td>-0.316734</td>\n",
              "      <td>0.201813</td>\n",
              "      <td>-0.084418</td>\n",
              "      <td>0.227510</td>\n",
              "      <td>-0.171396</td>\n",
              "      <td>1.000000</td>\n",
              "      <td>-0.047778</td>\n",
              "      <td>-0.054305</td>\n",
              "      <td>-0.175314</td>\n",
              "      <td>0.228532</td>\n",
              "      <td>-0.293296</td>\n",
              "      <td>0.003193</td>\n",
              "      <td>-0.271626</td>\n",
              "      <td>-0.084766</td>\n",
              "      <td>-0.026166</td>\n",
              "      <td>-0.315535</td>\n",
              "    </tr>\n",
              "    <tr>\n",
              "      <th>loyalty_1</th>\n",
              "      <td>0.176724</td>\n",
              "      <td>0.201052</td>\n",
              "      <td>0.315490</td>\n",
              "      <td>0.070925</td>\n",
              "      <td>0.098606</td>\n",
              "      <td>0.176724</td>\n",
              "      <td>0.542256</td>\n",
              "      <td>-0.047778</td>\n",
              "      <td>1.000000</td>\n",
              "      <td>-0.164530</td>\n",
              "      <td>-0.270242</td>\n",
              "      <td>-0.436163</td>\n",
              "      <td>0.195776</td>\n",
              "      <td>0.055424</td>\n",
              "      <td>0.247190</td>\n",
              "      <td>0.127874</td>\n",
              "      <td>0.077060</td>\n",
              "      <td>0.266379</td>\n",
              "    </tr>\n",
              "    <tr>\n",
              "      <th>loyalty_2</th>\n",
              "      <td>0.142065</td>\n",
              "      <td>0.138672</td>\n",
              "      <td>0.215316</td>\n",
              "      <td>0.021966</td>\n",
              "      <td>0.179842</td>\n",
              "      <td>0.142065</td>\n",
              "      <td>0.210861</td>\n",
              "      <td>-0.054305</td>\n",
              "      <td>-0.164530</td>\n",
              "      <td>1.000000</td>\n",
              "      <td>-0.197957</td>\n",
              "      <td>-0.319498</td>\n",
              "      <td>0.137071</td>\n",
              "      <td>0.016221</td>\n",
              "      <td>0.136888</td>\n",
              "      <td>0.179362</td>\n",
              "      <td>0.002417</td>\n",
              "      <td>0.182567</td>\n",
              "    </tr>\n",
              "    <tr>\n",
              "      <th>loyalty_3</th>\n",
              "      <td>-0.172700</td>\n",
              "      <td>0.395625</td>\n",
              "      <td>0.397294</td>\n",
              "      <td>-0.068654</td>\n",
              "      <td>0.002766</td>\n",
              "      <td>-0.172700</td>\n",
              "      <td>0.101552</td>\n",
              "      <td>-0.175314</td>\n",
              "      <td>-0.270242</td>\n",
              "      <td>-0.197957</td>\n",
              "      <td>1.000000</td>\n",
              "      <td>-0.524779</td>\n",
              "      <td>0.396473</td>\n",
              "      <td>-0.012222</td>\n",
              "      <td>0.397559</td>\n",
              "      <td>-0.021178</td>\n",
              "      <td>-0.011960</td>\n",
              "      <td>0.410447</td>\n",
              "    </tr>\n",
              "    <tr>\n",
              "      <th>loyalty_99</th>\n",
              "      <td>-0.066388</td>\n",
              "      <td>-0.592269</td>\n",
              "      <td>-0.729080</td>\n",
              "      <td>-0.006800</td>\n",
              "      <td>-0.188478</td>\n",
              "      <td>-0.066388</td>\n",
              "      <td>-0.640154</td>\n",
              "      <td>0.228532</td>\n",
              "      <td>-0.436163</td>\n",
              "      <td>-0.319498</td>\n",
              "      <td>-0.524779</td>\n",
              "      <td>1.000000</td>\n",
              "      <td>-0.587946</td>\n",
              "      <td>-0.042111</td>\n",
              "      <td>-0.628245</td>\n",
              "      <td>-0.190439</td>\n",
              "      <td>-0.050465</td>\n",
              "      <td>-0.682797</td>\n",
              "    </tr>\n",
              "    <tr>\n",
              "      <th>type_A_3</th>\n",
              "      <td>-0.140334</td>\n",
              "      <td>0.995711</td>\n",
              "      <td>0.862121</td>\n",
              "      <td>-0.000342</td>\n",
              "      <td>-0.028874</td>\n",
              "      <td>-0.140334</td>\n",
              "      <td>0.554773</td>\n",
              "      <td>-0.293296</td>\n",
              "      <td>0.195776</td>\n",
              "      <td>0.137071</td>\n",
              "      <td>0.396473</td>\n",
              "      <td>-0.587946</td>\n",
              "      <td>1.000000</td>\n",
              "      <td>-0.054027</td>\n",
              "      <td>0.789570</td>\n",
              "      <td>0.119560</td>\n",
              "      <td>0.026226</td>\n",
              "      <td>0.962906</td>\n",
              "    </tr>\n",
              "    <tr>\n",
              "      <th>type_A_6</th>\n",
              "      <td>-0.000983</td>\n",
              "      <td>0.038588</td>\n",
              "      <td>0.033411</td>\n",
              "      <td>0.009035</td>\n",
              "      <td>-0.007131</td>\n",
              "      <td>-0.000983</td>\n",
              "      <td>0.034731</td>\n",
              "      <td>0.003193</td>\n",
              "      <td>0.055424</td>\n",
              "      <td>0.016221</td>\n",
              "      <td>-0.012222</td>\n",
              "      <td>-0.042111</td>\n",
              "      <td>-0.054027</td>\n",
              "      <td>1.000000</td>\n",
              "      <td>-0.057010</td>\n",
              "      <td>0.211102</td>\n",
              "      <td>0.033881</td>\n",
              "      <td>0.037317</td>\n",
              "    </tr>\n",
              "    <tr>\n",
              "      <th>type_B_3</th>\n",
              "      <td>-0.136908</td>\n",
              "      <td>0.784853</td>\n",
              "      <td>0.909723</td>\n",
              "      <td>-0.019888</td>\n",
              "      <td>-0.055078</td>\n",
              "      <td>-0.136908</td>\n",
              "      <td>0.581869</td>\n",
              "      <td>-0.271626</td>\n",
              "      <td>0.247190</td>\n",
              "      <td>0.136888</td>\n",
              "      <td>0.397559</td>\n",
              "      <td>-0.628245</td>\n",
              "      <td>0.789570</td>\n",
              "      <td>-0.057010</td>\n",
              "      <td>1.000000</td>\n",
              "      <td>-0.257813</td>\n",
              "      <td>-0.068319</td>\n",
              "      <td>0.876108</td>\n",
              "    </tr>\n",
              "    <tr>\n",
              "      <th>type_B_6</th>\n",
              "      <td>0.228266</td>\n",
              "      <td>0.139205</td>\n",
              "      <td>0.151093</td>\n",
              "      <td>0.009333</td>\n",
              "      <td>0.455100</td>\n",
              "      <td>0.228266</td>\n",
              "      <td>0.296721</td>\n",
              "      <td>-0.084766</td>\n",
              "      <td>0.127874</td>\n",
              "      <td>0.179362</td>\n",
              "      <td>-0.021178</td>\n",
              "      <td>-0.190439</td>\n",
              "      <td>0.119560</td>\n",
              "      <td>0.211102</td>\n",
              "      <td>-0.257813</td>\n",
              "      <td>1.000000</td>\n",
              "      <td>-0.011347</td>\n",
              "      <td>0.150170</td>\n",
              "    </tr>\n",
              "    <tr>\n",
              "      <th>type_B_9</th>\n",
              "      <td>0.058666</td>\n",
              "      <td>0.029384</td>\n",
              "      <td>0.040039</td>\n",
              "      <td>-0.002020</td>\n",
              "      <td>0.133092</td>\n",
              "      <td>0.058666</td>\n",
              "      <td>0.126605</td>\n",
              "      <td>-0.026166</td>\n",
              "      <td>0.077060</td>\n",
              "      <td>0.002417</td>\n",
              "      <td>-0.011960</td>\n",
              "      <td>-0.050465</td>\n",
              "      <td>0.026226</td>\n",
              "      <td>0.033881</td>\n",
              "      <td>-0.068319</td>\n",
              "      <td>-0.011347</td>\n",
              "      <td>1.000000</td>\n",
              "      <td>0.035843</td>\n",
              "    </tr>\n",
              "    <tr>\n",
              "      <th>prods</th>\n",
              "      <td>-0.093571</td>\n",
              "      <td>0.967054</td>\n",
              "      <td>0.964679</td>\n",
              "      <td>-0.008251</td>\n",
              "      <td>0.059967</td>\n",
              "      <td>-0.093571</td>\n",
              "      <td>0.667751</td>\n",
              "      <td>-0.315535</td>\n",
              "      <td>0.266379</td>\n",
              "      <td>0.182567</td>\n",
              "      <td>0.410447</td>\n",
              "      <td>-0.682797</td>\n",
              "      <td>0.962906</td>\n",
              "      <td>0.037317</td>\n",
              "      <td>0.876108</td>\n",
              "      <td>0.150170</td>\n",
              "      <td>0.035843</td>\n",
              "      <td>1.000000</td>\n",
              "    </tr>\n",
              "  </tbody>\n",
              "</table>\n",
              "</div>\n",
              "      <button class=\"colab-df-convert\" onclick=\"convertToInteractive('df-c9530439-d94d-4f7b-ae51-caffc4a4e31f')\"\n",
              "              title=\"Convert this dataframe to an interactive table.\"\n",
              "              style=\"display:none;\">\n",
              "        \n",
              "  <svg xmlns=\"http://www.w3.org/2000/svg\" height=\"24px\"viewBox=\"0 0 24 24\"\n",
              "       width=\"24px\">\n",
              "    <path d=\"M0 0h24v24H0V0z\" fill=\"none\"/>\n",
              "    <path d=\"M18.56 5.44l.94 2.06.94-2.06 2.06-.94-2.06-.94-.94-2.06-.94 2.06-2.06.94zm-11 1L8.5 8.5l.94-2.06 2.06-.94-2.06-.94L8.5 2.5l-.94 2.06-2.06.94zm10 10l.94 2.06.94-2.06 2.06-.94-2.06-.94-.94-2.06-.94 2.06-2.06.94z\"/><path d=\"M17.41 7.96l-1.37-1.37c-.4-.4-.92-.59-1.43-.59-.52 0-1.04.2-1.43.59L10.3 9.45l-7.72 7.72c-.78.78-.78 2.05 0 2.83L4 21.41c.39.39.9.59 1.41.59.51 0 1.02-.2 1.41-.59l7.78-7.78 2.81-2.81c.8-.78.8-2.07 0-2.86zM5.41 20L4 18.59l7.72-7.72 1.47 1.35L5.41 20z\"/>\n",
              "  </svg>\n",
              "      </button>\n",
              "      \n",
              "  <style>\n",
              "    .colab-df-container {\n",
              "      display:flex;\n",
              "      flex-wrap:wrap;\n",
              "      gap: 12px;\n",
              "    }\n",
              "\n",
              "    .colab-df-convert {\n",
              "      background-color: #E8F0FE;\n",
              "      border: none;\n",
              "      border-radius: 50%;\n",
              "      cursor: pointer;\n",
              "      display: none;\n",
              "      fill: #1967D2;\n",
              "      height: 32px;\n",
              "      padding: 0 0 0 0;\n",
              "      width: 32px;\n",
              "    }\n",
              "\n",
              "    .colab-df-convert:hover {\n",
              "      background-color: #E2EBFA;\n",
              "      box-shadow: 0px 1px 2px rgba(60, 64, 67, 0.3), 0px 1px 3px 1px rgba(60, 64, 67, 0.15);\n",
              "      fill: #174EA6;\n",
              "    }\n",
              "\n",
              "    [theme=dark] .colab-df-convert {\n",
              "      background-color: #3B4455;\n",
              "      fill: #D2E3FC;\n",
              "    }\n",
              "\n",
              "    [theme=dark] .colab-df-convert:hover {\n",
              "      background-color: #434B5C;\n",
              "      box-shadow: 0px 1px 3px 1px rgba(0, 0, 0, 0.15);\n",
              "      filter: drop-shadow(0px 1px 2px rgba(0, 0, 0, 0.3));\n",
              "      fill: #FFFFFF;\n",
              "    }\n",
              "  </style>\n",
              "\n",
              "      <script>\n",
              "        const buttonEl =\n",
              "          document.querySelector('#df-c9530439-d94d-4f7b-ae51-caffc4a4e31f button.colab-df-convert');\n",
              "        buttonEl.style.display =\n",
              "          google.colab.kernel.accessAllowed ? 'block' : 'none';\n",
              "\n",
              "        async function convertToInteractive(key) {\n",
              "          const element = document.querySelector('#df-c9530439-d94d-4f7b-ae51-caffc4a4e31f');\n",
              "          const dataTable =\n",
              "            await google.colab.kernel.invokeFunction('convertToInteractive',\n",
              "                                                     [key], {});\n",
              "          if (!dataTable) return;\n",
              "\n",
              "          const docLinkHtml = 'Like what you see? Visit the ' +\n",
              "            '<a target=\"_blank\" href=https://colab.research.google.com/notebooks/data_table.ipynb>data table notebook</a>'\n",
              "            + ' to learn more about interactive tables.';\n",
              "          element.innerHTML = '';\n",
              "          dataTable['output_type'] = 'display_data';\n",
              "          await google.colab.output.renderOutput(dataTable, element);\n",
              "          const docLink = document.createElement('div');\n",
              "          docLink.innerHTML = docLinkHtml;\n",
              "          element.appendChild(docLink);\n",
              "        }\n",
              "      </script>\n",
              "    </div>\n",
              "  </div>\n",
              "  "
            ]
          },
          "metadata": {},
          "execution_count": 43
        }
      ]
    },
    {
      "cell_type": "markdown",
      "source": [
        "As can be seen by the matrix as a whole, age and age_P are perfectly correlated, meaning that we can remove one of them. I will remove age_P since age is more in line with the actual observation as opposed to the partner."
      ],
      "metadata": {
        "id": "dQ_EGLs-lzau"
      }
    },
    {
      "cell_type": "code",
      "source": [
        "df.drop(columns='age_P', inplace=True)"
      ],
      "metadata": {
        "id": "L2FVCjIWmCba"
      },
      "execution_count": null,
      "outputs": []
    },
    {
      "cell_type": "markdown",
      "source": [
        "# Modeling"
      ],
      "metadata": {
        "id": "ViQdW791nQGE"
      }
    },
    {
      "cell_type": "code",
      "source": [
        "x = df.drop('purchase', axis=1)\n",
        "y = df[['purchase']]\n",
        "\n",
        "x_train, x_test, y_train, y_test = train_test_split(x, y, test_size=0.2, random_state=42)\n",
        "\n",
        "y_train = np.ravel(y_train)\n",
        "y_test = np.ravel(y_test)"
      ],
      "metadata": {
        "id": "TK7YrjTF1fh-"
      },
      "execution_count": null,
      "outputs": []
    },
    {
      "cell_type": "code",
      "source": [
        "print(len(df[df.purchase==0])/len(df))"
      ],
      "metadata": {
        "colab": {
          "base_uri": "https://localhost:8080/"
        },
        "id": "uLm6X5pqDiar",
        "outputId": "adba5e32-d05c-4897-d429-41dffe7f0c95"
      },
      "execution_count": null,
      "outputs": [
        {
          "output_type": "stream",
          "name": "stdout",
          "text": [
            "0.7267441860465116\n"
          ]
        }
      ]
    },
    {
      "cell_type": "code",
      "source": [
        "x_train.head()"
      ],
      "metadata": {
        "colab": {
          "base_uri": "https://localhost:8080/",
          "height": 250
        },
        "id": "t-44hYmrHuUJ",
        "outputId": "9c6a03ef-817d-4705-a3dc-0b3244719905"
      },
      "execution_count": null,
      "outputs": [
        {
          "output_type": "execute_result",
          "data": {
            "text/plain": [
              "      age  prod_A  prod_B  turnover_A  turnover_B  lor_M  loyalty_1  \\\n",
              "3790   44       1       1  360.034181  280.583889     15          0   \n",
              "4502   23       1       1  353.010958  209.100968     27          0   \n",
              "9850   23       1       1  372.083677  216.646587     15          0   \n",
              "5859   23       1       1  393.175199  227.897882     15          0   \n",
              "3334   25       1       1  342.767908  224.491908     15          0   \n",
              "\n",
              "      loyalty_2  loyalty_3  loyalty_99  type_A_3  type_A_6  type_B_3  \\\n",
              "3790          1          0           0         1         0         1   \n",
              "4502          0          0           1         1         0         1   \n",
              "9850          0          1           0         1         0         1   \n",
              "5859          0          0           1         1         0         1   \n",
              "3334          0          1           0         1         0         1   \n",
              "\n",
              "      type_B_6  type_B_9  prods  \n",
              "3790         0         0      2  \n",
              "4502         0         0      2  \n",
              "9850         0         0      2  \n",
              "5859         0         0      2  \n",
              "3334         0         0      2  "
            ],
            "text/html": [
              "\n",
              "  <div id=\"df-c9ffe0da-7ab5-46dd-adb5-90e83475e8f8\">\n",
              "    <div class=\"colab-df-container\">\n",
              "      <div>\n",
              "<style scoped>\n",
              "    .dataframe tbody tr th:only-of-type {\n",
              "        vertical-align: middle;\n",
              "    }\n",
              "\n",
              "    .dataframe tbody tr th {\n",
              "        vertical-align: top;\n",
              "    }\n",
              "\n",
              "    .dataframe thead th {\n",
              "        text-align: right;\n",
              "    }\n",
              "</style>\n",
              "<table border=\"1\" class=\"dataframe\">\n",
              "  <thead>\n",
              "    <tr style=\"text-align: right;\">\n",
              "      <th></th>\n",
              "      <th>age</th>\n",
              "      <th>prod_A</th>\n",
              "      <th>prod_B</th>\n",
              "      <th>turnover_A</th>\n",
              "      <th>turnover_B</th>\n",
              "      <th>lor_M</th>\n",
              "      <th>loyalty_1</th>\n",
              "      <th>loyalty_2</th>\n",
              "      <th>loyalty_3</th>\n",
              "      <th>loyalty_99</th>\n",
              "      <th>type_A_3</th>\n",
              "      <th>type_A_6</th>\n",
              "      <th>type_B_3</th>\n",
              "      <th>type_B_6</th>\n",
              "      <th>type_B_9</th>\n",
              "      <th>prods</th>\n",
              "    </tr>\n",
              "  </thead>\n",
              "  <tbody>\n",
              "    <tr>\n",
              "      <th>3790</th>\n",
              "      <td>44</td>\n",
              "      <td>1</td>\n",
              "      <td>1</td>\n",
              "      <td>360.034181</td>\n",
              "      <td>280.583889</td>\n",
              "      <td>15</td>\n",
              "      <td>0</td>\n",
              "      <td>1</td>\n",
              "      <td>0</td>\n",
              "      <td>0</td>\n",
              "      <td>1</td>\n",
              "      <td>0</td>\n",
              "      <td>1</td>\n",
              "      <td>0</td>\n",
              "      <td>0</td>\n",
              "      <td>2</td>\n",
              "    </tr>\n",
              "    <tr>\n",
              "      <th>4502</th>\n",
              "      <td>23</td>\n",
              "      <td>1</td>\n",
              "      <td>1</td>\n",
              "      <td>353.010958</td>\n",
              "      <td>209.100968</td>\n",
              "      <td>27</td>\n",
              "      <td>0</td>\n",
              "      <td>0</td>\n",
              "      <td>0</td>\n",
              "      <td>1</td>\n",
              "      <td>1</td>\n",
              "      <td>0</td>\n",
              "      <td>1</td>\n",
              "      <td>0</td>\n",
              "      <td>0</td>\n",
              "      <td>2</td>\n",
              "    </tr>\n",
              "    <tr>\n",
              "      <th>9850</th>\n",
              "      <td>23</td>\n",
              "      <td>1</td>\n",
              "      <td>1</td>\n",
              "      <td>372.083677</td>\n",
              "      <td>216.646587</td>\n",
              "      <td>15</td>\n",
              "      <td>0</td>\n",
              "      <td>0</td>\n",
              "      <td>1</td>\n",
              "      <td>0</td>\n",
              "      <td>1</td>\n",
              "      <td>0</td>\n",
              "      <td>1</td>\n",
              "      <td>0</td>\n",
              "      <td>0</td>\n",
              "      <td>2</td>\n",
              "    </tr>\n",
              "    <tr>\n",
              "      <th>5859</th>\n",
              "      <td>23</td>\n",
              "      <td>1</td>\n",
              "      <td>1</td>\n",
              "      <td>393.175199</td>\n",
              "      <td>227.897882</td>\n",
              "      <td>15</td>\n",
              "      <td>0</td>\n",
              "      <td>0</td>\n",
              "      <td>0</td>\n",
              "      <td>1</td>\n",
              "      <td>1</td>\n",
              "      <td>0</td>\n",
              "      <td>1</td>\n",
              "      <td>0</td>\n",
              "      <td>0</td>\n",
              "      <td>2</td>\n",
              "    </tr>\n",
              "    <tr>\n",
              "      <th>3334</th>\n",
              "      <td>25</td>\n",
              "      <td>1</td>\n",
              "      <td>1</td>\n",
              "      <td>342.767908</td>\n",
              "      <td>224.491908</td>\n",
              "      <td>15</td>\n",
              "      <td>0</td>\n",
              "      <td>0</td>\n",
              "      <td>1</td>\n",
              "      <td>0</td>\n",
              "      <td>1</td>\n",
              "      <td>0</td>\n",
              "      <td>1</td>\n",
              "      <td>0</td>\n",
              "      <td>0</td>\n",
              "      <td>2</td>\n",
              "    </tr>\n",
              "  </tbody>\n",
              "</table>\n",
              "</div>\n",
              "      <button class=\"colab-df-convert\" onclick=\"convertToInteractive('df-c9ffe0da-7ab5-46dd-adb5-90e83475e8f8')\"\n",
              "              title=\"Convert this dataframe to an interactive table.\"\n",
              "              style=\"display:none;\">\n",
              "        \n",
              "  <svg xmlns=\"http://www.w3.org/2000/svg\" height=\"24px\"viewBox=\"0 0 24 24\"\n",
              "       width=\"24px\">\n",
              "    <path d=\"M0 0h24v24H0V0z\" fill=\"none\"/>\n",
              "    <path d=\"M18.56 5.44l.94 2.06.94-2.06 2.06-.94-2.06-.94-.94-2.06-.94 2.06-2.06.94zm-11 1L8.5 8.5l.94-2.06 2.06-.94-2.06-.94L8.5 2.5l-.94 2.06-2.06.94zm10 10l.94 2.06.94-2.06 2.06-.94-2.06-.94-.94-2.06-.94 2.06-2.06.94z\"/><path d=\"M17.41 7.96l-1.37-1.37c-.4-.4-.92-.59-1.43-.59-.52 0-1.04.2-1.43.59L10.3 9.45l-7.72 7.72c-.78.78-.78 2.05 0 2.83L4 21.41c.39.39.9.59 1.41.59.51 0 1.02-.2 1.41-.59l7.78-7.78 2.81-2.81c.8-.78.8-2.07 0-2.86zM5.41 20L4 18.59l7.72-7.72 1.47 1.35L5.41 20z\"/>\n",
              "  </svg>\n",
              "      </button>\n",
              "      \n",
              "  <style>\n",
              "    .colab-df-container {\n",
              "      display:flex;\n",
              "      flex-wrap:wrap;\n",
              "      gap: 12px;\n",
              "    }\n",
              "\n",
              "    .colab-df-convert {\n",
              "      background-color: #E8F0FE;\n",
              "      border: none;\n",
              "      border-radius: 50%;\n",
              "      cursor: pointer;\n",
              "      display: none;\n",
              "      fill: #1967D2;\n",
              "      height: 32px;\n",
              "      padding: 0 0 0 0;\n",
              "      width: 32px;\n",
              "    }\n",
              "\n",
              "    .colab-df-convert:hover {\n",
              "      background-color: #E2EBFA;\n",
              "      box-shadow: 0px 1px 2px rgba(60, 64, 67, 0.3), 0px 1px 3px 1px rgba(60, 64, 67, 0.15);\n",
              "      fill: #174EA6;\n",
              "    }\n",
              "\n",
              "    [theme=dark] .colab-df-convert {\n",
              "      background-color: #3B4455;\n",
              "      fill: #D2E3FC;\n",
              "    }\n",
              "\n",
              "    [theme=dark] .colab-df-convert:hover {\n",
              "      background-color: #434B5C;\n",
              "      box-shadow: 0px 1px 3px 1px rgba(0, 0, 0, 0.15);\n",
              "      filter: drop-shadow(0px 1px 2px rgba(0, 0, 0, 0.3));\n",
              "      fill: #FFFFFF;\n",
              "    }\n",
              "  </style>\n",
              "\n",
              "      <script>\n",
              "        const buttonEl =\n",
              "          document.querySelector('#df-c9ffe0da-7ab5-46dd-adb5-90e83475e8f8 button.colab-df-convert');\n",
              "        buttonEl.style.display =\n",
              "          google.colab.kernel.accessAllowed ? 'block' : 'none';\n",
              "\n",
              "        async function convertToInteractive(key) {\n",
              "          const element = document.querySelector('#df-c9ffe0da-7ab5-46dd-adb5-90e83475e8f8');\n",
              "          const dataTable =\n",
              "            await google.colab.kernel.invokeFunction('convertToInteractive',\n",
              "                                                     [key], {});\n",
              "          if (!dataTable) return;\n",
              "\n",
              "          const docLinkHtml = 'Like what you see? Visit the ' +\n",
              "            '<a target=\"_blank\" href=https://colab.research.google.com/notebooks/data_table.ipynb>data table notebook</a>'\n",
              "            + ' to learn more about interactive tables.';\n",
              "          element.innerHTML = '';\n",
              "          dataTable['output_type'] = 'display_data';\n",
              "          await google.colab.output.renderOutput(dataTable, element);\n",
              "          const docLink = document.createElement('div');\n",
              "          docLink.innerHTML = docLinkHtml;\n",
              "          element.appendChild(docLink);\n",
              "        }\n",
              "      </script>\n",
              "    </div>\n",
              "  </div>\n",
              "  "
            ]
          },
          "metadata": {},
          "execution_count": 47
        }
      ]
    },
    {
      "cell_type": "markdown",
      "source": [
        "Before going into the modeling, it is important to check the null error rate. In this case, when predicting all observations as \"no\" we still end up being accurate 72.67% of the time. This gives us a tough null error rate to beat."
      ],
      "metadata": {
        "id": "FUvlVd0MENIr"
      }
    },
    {
      "cell_type": "markdown",
      "source": [
        "### KNN Model 1\n",
        "\n",
        "For my first model, I will use a correlation threshold to select the explanatory variables. Referencing the correlation matrix, none of the values have particularly high values so I will choose 25% as the correlation threshold. This reduces the number of predictors to just 5, note all correlation values in this model are negative. \n",
        "\n",
        "For K I will choose to go with the method of taking the closest odd number to the square root of the number of observations (http://theprofessionalspoint.blogspot.com/2019/02/how-to-choose-optimal-value-of-k-in-knn.html). This results in a k with value 93."
      ],
      "metadata": {
        "id": "7A7BYPD2nRpH"
      }
    },
    {
      "cell_type": "code",
      "source": [
        "round(np.sqrt(len(x_train)), 2)"
      ],
      "metadata": {
        "colab": {
          "base_uri": "https://localhost:8080/"
        },
        "id": "1fMimnl7xBX_",
        "outputId": "e27f4dc4-4c6e-4cd8-e207-9f053367dff5"
      },
      "execution_count": null,
      "outputs": [
        {
          "output_type": "execute_result",
          "data": {
            "text/plain": [
              "93.84"
            ]
          },
          "metadata": {},
          "execution_count": 48
        }
      ]
    },
    {
      "cell_type": "code",
      "source": [
        "from sklearn.utils.multiclass import check_classification_targets\n",
        "x_train1 = x_train[['type_B_3','prod_A','type_A_3','prod_B','prods']]\n",
        "\n",
        "knn1 = KNeighborsClassifier(n_neighbors=93)\n",
        "knn1.fit(x_train1, y_train)\n",
        "preds = knn1.predict(x_train1)\n",
        "rmse = np.sqrt(mean_squared_error(y_train, preds))\n",
        "\n",
        "print('K: 93')\n",
        "print('Variables: type_B_3, prod_A, type_A_3, prod_B, prods')\n",
        "print('\\n')\n",
        "print('RMSE: ', rmse)\n",
        "print(metrics.classification_report(y_train, preds))"
      ],
      "metadata": {
        "colab": {
          "base_uri": "https://localhost:8080/"
        },
        "id": "goqB2x66_9LZ",
        "outputId": "29c83c6b-6879-4b4b-e3d4-c71f638a2b3f"
      },
      "execution_count": null,
      "outputs": [
        {
          "output_type": "stream",
          "name": "stdout",
          "text": [
            "K: 93\n",
            "Variables: type_B_3, prod_A, type_A_3, prod_B, prods\n",
            "\n",
            "\n",
            "RMSE:  0.5228158008052699\n",
            "              precision    recall  f1-score   support\n",
            "\n",
            "           0       0.73      1.00      0.84      6399\n",
            "           1       0.00      0.00      0.00      2407\n",
            "\n",
            "    accuracy                           0.73      8806\n",
            "   macro avg       0.36      0.50      0.42      8806\n",
            "weighted avg       0.53      0.73      0.61      8806\n",
            "\n"
          ]
        },
        {
          "output_type": "stream",
          "name": "stderr",
          "text": [
            "/usr/local/lib/python3.7/dist-packages/sklearn/metrics/_classification.py:1318: UndefinedMetricWarning: Precision and F-score are ill-defined and being set to 0.0 in labels with no predicted samples. Use `zero_division` parameter to control this behavior.\n",
            "  _warn_prf(average, modifier, msg_start, len(result))\n",
            "/usr/local/lib/python3.7/dist-packages/sklearn/metrics/_classification.py:1318: UndefinedMetricWarning: Precision and F-score are ill-defined and being set to 0.0 in labels with no predicted samples. Use `zero_division` parameter to control this behavior.\n",
            "  _warn_prf(average, modifier, msg_start, len(result))\n",
            "/usr/local/lib/python3.7/dist-packages/sklearn/metrics/_classification.py:1318: UndefinedMetricWarning: Precision and F-score are ill-defined and being set to 0.0 in labels with no predicted samples. Use `zero_division` parameter to control this behavior.\n",
            "  _warn_prf(average, modifier, msg_start, len(result))\n"
          ]
        }
      ]
    },
    {
      "cell_type": "markdown",
      "source": [
        "In this first model, the RMSE is very low which is good, but the f-1 score, which is the best measure of a model's accuracy, falls far short of the null error rate at just 61% so it's safe to say that this model is sub-par."
      ],
      "metadata": {
        "id": "PYThUCHiIpGE"
      }
    },
    {
      "cell_type": "markdown",
      "source": [
        "### KNN Model 2\n",
        "\n",
        "The next method of feature selection that we decided to test is using the extra trees classifier. This selector fits a number of randomized decision trees on various subsamples of the data and uses averaging to improve accuracy and reduce over-fitting. Here, the classifier gives us age, turnover_A, and turnover_B as the variables to use in our prediction. In addition to this, using domain knowledge and knowing that the unclassified loyalty of a customer was significant to whether they responded yes or no, I applied the loyalty_99 column as well.\n"
      ],
      "metadata": {
        "id": "WiIsa13kTytJ"
      }
    },
    {
      "cell_type": "code",
      "source": [
        "clf = ExtraTreesClassifier()\n",
        "clf = clf.fit(x_train, y_train)\n",
        "model = SelectFromModel(clf, prefit=True)\n",
        "feature_idx = model.get_support()\n",
        "feature_name = x_train.columns[feature_idx]\n",
        "feature_name"
      ],
      "metadata": {
        "colab": {
          "base_uri": "https://localhost:8080/"
        },
        "id": "EboHOkhjyYBy",
        "outputId": "50855d6c-c173-4a01-e7ec-aa455b19e4aa"
      },
      "execution_count": null,
      "outputs": [
        {
          "output_type": "execute_result",
          "data": {
            "text/plain": [
              "Index(['age', 'turnover_A', 'turnover_B'], dtype='object')"
            ]
          },
          "metadata": {},
          "execution_count": 50
        }
      ]
    },
    {
      "cell_type": "markdown",
      "source": [
        "\n",
        "To select the value of k, I will use the grid-search cross-validation method. This is commonly used for tuning hyperparameters of models and in this case, will help by automatically finding the best value for k for this dataset. After running this algorithm we are left with a k value of 19."
      ],
      "metadata": {
        "id": "eypN1gTb1Ewy"
      }
    },
    {
      "cell_type": "code",
      "source": [
        "x_train2 = x_train[['age', 'turnover_A', 'turnover_B', 'loyalty_99']]\n",
        "parameters = {'n_neighbors' : range(1,50)}\n",
        "gridsearch = GridSearchCV(KNeighborsClassifier(), parameters)\n",
        "gridsearch.fit(x_train2, y_train)"
      ],
      "metadata": {
        "colab": {
          "base_uri": "https://localhost:8080/"
        },
        "id": "9qFmOgMkzSm6",
        "outputId": "f7af45d8-e792-422d-8e22-2d9a4ebd568a"
      },
      "execution_count": null,
      "outputs": [
        {
          "output_type": "execute_result",
          "data": {
            "text/plain": [
              "GridSearchCV(estimator=KNeighborsClassifier(),\n",
              "             param_grid={'n_neighbors': range(1, 50)})"
            ]
          },
          "metadata": {},
          "execution_count": 51
        }
      ]
    },
    {
      "cell_type": "code",
      "source": [
        "gridsearch.best_params_"
      ],
      "metadata": {
        "colab": {
          "base_uri": "https://localhost:8080/"
        },
        "id": "LWdOy1u001gy",
        "outputId": "b61e70bb-5934-4f52-9479-1ae0413e941a"
      },
      "execution_count": null,
      "outputs": [
        {
          "output_type": "execute_result",
          "data": {
            "text/plain": [
              "{'n_neighbors': 16}"
            ]
          },
          "metadata": {},
          "execution_count": 52
        }
      ]
    },
    {
      "cell_type": "code",
      "source": [
        "knn2 = KNeighborsClassifier(n_neighbors=19)\n",
        "knn2.fit(x_train2, y_train)\n",
        "preds = knn2.predict(x_train2)\n",
        "rmse = np.sqrt(mean_squared_error(y_train, preds))\n",
        "\n",
        "print('K: 16')\n",
        "print('Variables: age, turnover_A, turnover_B, loyalty_99')\n",
        "print('\\n')\n",
        "print('RMSE: ', rmse)\n",
        "print(metrics.classification_report(y_train, preds))"
      ],
      "metadata": {
        "colab": {
          "base_uri": "https://localhost:8080/"
        },
        "id": "errg6bzg0-nl",
        "outputId": "93984840-af5d-4d49-e50a-b2ba041f6979"
      },
      "execution_count": null,
      "outputs": [
        {
          "output_type": "stream",
          "name": "stdout",
          "text": [
            "K: 16\n",
            "Variables: age, turnover_A, turnover_B, loyalty_99\n",
            "\n",
            "\n",
            "RMSE:  0.3371535199659603\n",
            "              precision    recall  f1-score   support\n",
            "\n",
            "           0       0.89      0.96      0.92      6399\n",
            "           1       0.87      0.69      0.77      2407\n",
            "\n",
            "    accuracy                           0.89      8806\n",
            "   macro avg       0.88      0.83      0.85      8806\n",
            "weighted avg       0.88      0.89      0.88      8806\n",
            "\n"
          ]
        }
      ]
    },
    {
      "cell_type": "markdown",
      "source": [
        "With these features and k value, we are left with an even lower RMSE value and a very high f-1 score of 88% which is significantly higher than the null error rate of 72.67%."
      ],
      "metadata": {
        "id": "1WE_Jm1p1b-Z"
      }
    },
    {
      "cell_type": "markdown",
      "source": [
        "### SVM Model 1\n",
        "\n",
        "For the first SVM model, I decided to use recursive feature elimination, RFE, to narrow the data set down to the most important four variables. RFE goes through iterations of the model specified, eliminating a specified amount of variables with each iteration until it reaches the desired number of features. In this case, according to this algorithm the most important four variables are type_A_3, type_A_6, type_B_3, and type_B_6. Now that we have that information, we can move on to getting the values for C and gamma."
      ],
      "metadata": {
        "id": "cjoWoO9i125G"
      }
    },
    {
      "cell_type": "code",
      "source": [
        "estimator = SVC(kernel='linear')\n",
        "selector = RFE(estimator, n_features_to_select=4, step=1)\n",
        "selector = selector.fit(x_train, y_train)\n",
        "selector.support_\n",
        "x_train.columns[selector.support_]"
      ],
      "metadata": {
        "id": "bcLNAIAn8gfu"
      },
      "execution_count": null,
      "outputs": []
    },
    {
      "cell_type": "markdown",
      "source": [
        "To estimate the best values for C and gamma, we will again make use of the grid-search cross-validation method explained earlier. In this instance, we end up with a recommended values of 0.1 for C and 1 for gamma."
      ],
      "metadata": {
        "id": "KdYDJV8TA8-t"
      }
    },
    {
      "cell_type": "code",
      "source": [
        "x_train3 = x_train[['type_A_3', 'type_A_6', 'type_B_3', 'type_B_6']]\n",
        "parameters = {'C' : [0.1, 1, 10, 100, 1000], 'gamma' : [1, 0.1, 0.01, 0.001, 0.0001]}\n",
        "gridsearch = GridSearchCV(SVC(), parameters, refit=True, verbose=3)\n",
        "gridsearch.fit(x_train3, y_train)\n",
        "\n",
        "gridsearch.best_params_"
      ],
      "metadata": {
        "id": "MoBysCkiBNT6"
      },
      "execution_count": null,
      "outputs": []
    },
    {
      "cell_type": "code",
      "source": [
        "from numpy.random.mtrand import gamma\n",
        "svc1 = SVC(C = 0.1, gamma = 1)\n",
        "svc1.fit(x_train3, y_train)\n",
        "preds = svc1.predict(x_train3)\n",
        "rmse = np.sqrt(mean_squared_error(y_train, preds))\n",
        "\n",
        "print('C: 0.1')\n",
        "print('Gamma: 1')\n",
        "print('Variables: type_A_3, type_A_6, type_B_3, type_B_6')\n",
        "print('\\n')\n",
        "print('RMSE: ', rmse)\n",
        "print(metrics.classification_report(y_train, preds))"
      ],
      "metadata": {
        "id": "Yw60p19BEWgh"
      },
      "execution_count": null,
      "outputs": []
    },
    {
      "cell_type": "markdown",
      "source": [
        "Using a combination of the RFE chosen features and the grid-search cross-validation provided C and gamma values, we get results very similar to the first KNN model. A pretty good RMSE, but just 61% f1-score, far below the null error rate."
      ],
      "metadata": {
        "id": "UZU8WtUeGWet"
      }
    },
    {
      "cell_type": "markdown",
      "source": [
        "### SVM Model 2\n",
        "\n",
        "For this second model, we will use the variables provided in the second KNN model through the extra trees classifier which were age, turnover_A, and turnover_B with loyalty_99 added after that through domain knowledge and EDA experience. \n",
        "\n",
        "For selecting proper tuning parameters, we will again turn to the help of grid-search cross-validation. We won't necessarily be using the same values as last time since these values are calculated differently for each set of data put through them."
      ],
      "metadata": {
        "id": "VyVJWs2SGr0L"
      }
    },
    {
      "cell_type": "code",
      "source": [
        "parameters = {'C' : [0.1, 1, 10, 100, 1000], 'gamma' : [1, 0.1, 0.01, 0.001, 0.0001]}\n",
        "gridsearch = GridSearchCV(SVC(), parameters, refit=True, verbose=3)\n",
        "gridsearch.fit(x_train2, y_train)\n",
        "\n",
        "gridsearch.best_params_"
      ],
      "metadata": {
        "id": "sWHOOAk7Hj1o"
      },
      "execution_count": null,
      "outputs": []
    },
    {
      "cell_type": "markdown",
      "source": [
        "After going through the process, we are left with values of 10 for C and 0.001 for gamma."
      ],
      "metadata": {
        "id": "uO3UwlagKfDH"
      }
    },
    {
      "cell_type": "code",
      "source": [
        "svc2 = SVC(C = 10, gamma = 0.001)\n",
        "svc2.fit(x_train2, y_train)\n",
        "preds = svc2.predict(x_train2)\n",
        "rmse = np.sqrt(mean_squared_error(y_train, preds))\n",
        "\n",
        "print('C: 10')\n",
        "print('Gamma: 0.001')\n",
        "print('Variables: age, turnover_A, turnover_B, loyalty_99')\n",
        "print('\\n')\n",
        "print('RMSE: ', rmse)\n",
        "print(metrics.classification_report(y_train, preds))"
      ],
      "metadata": {
        "id": "3rwZPC6fKp5H"
      },
      "execution_count": null,
      "outputs": []
    },
    {
      "cell_type": "markdown",
      "source": [
        "As expected, there is some similarity between this model and the second KNN model since they use the same variables. It seems though, that here it performs slightly better, having f1 of 90% vs f1 of 88% before and a lower RMSE to go along with that."
      ],
      "metadata": {
        "id": "67f-5-xHLHUw"
      }
    },
    {
      "cell_type": "markdown",
      "source": [
        "# Model Selection\n",
        "\n",
        "Looking at all four models and taking RMSE and f1 into account, there are two models with extremely similar metrics: the second SVC model and the second KNN model. This can be expected because, even thought they are different types of classifiers, they are based off the same variables and as such would be similar in such small dimensions.\n",
        "\n",
        "Choosing between the two of them is tough because even looking at their scores against the test data, the numbers are nearly identical. However, I would have to go with the KNN model as opposed to the SVC model. \n",
        "\n",
        "Even though the SVC model is better than the KNN model, it is only incrementally better. This paired with the fact that the SVC method can be more computationally expensive, especially if the data set keeps growing. A potential downside to KNN is that it is less complex than SVC and doesn't deal well when there are a lot of dimensions and the data set is extremely large. However, I feel that given that there are only four dimensions, I am confident that the KNN model will perform fine and will save time thanks to its simplicity."
      ],
      "metadata": {
        "id": "NZst63LSLYi0"
      }
    },
    {
      "cell_type": "code",
      "source": [
        "x_test1 = x_test[['age', 'turnover_A', 'turnover_B', 'prods']]\n",
        "\n",
        "pred1 = svc2.predict(x_test1)\n",
        "a = metrics.classification_report(y_test, pred1)\n",
        "rmse1 = np.sqrt(mean_squared_error(y_test, pred1))\n",
        "pred2 = knn2.predict(x_test1)\n",
        "b = metrics.classification_report(y_test, pred2)\n",
        "rmse2 = np.sqrt(mean_squared_error(y_test, pred2))\n",
        "\n",
        "print('SVC 2: ', '\\n', 'RMSE: ', rmse1, '\\n', a)\n",
        "print('KNN 2: ', '\\n', 'RMSE: ', rmse2, '\\n', b)"
      ],
      "metadata": {
        "id": "W2LRFhR-MN1O"
      },
      "execution_count": null,
      "outputs": []
    },
    {
      "cell_type": "markdown",
      "source": [
        "Comparing these results to those of the logistic regressions in assignment 7, these models are much more effective than those chosen previously. The f1 score for the chosen model was much smaller, just 74%, just barely beats out the null error rate. This compared to the SVC and KNN models which achieve nearly 90% f1 score and blow the null error rate away. \n",
        "\n",
        "A possible reason for this is because there is a lot of overlap between customers who purchased B and customers who purchased A, making it harder to distinguish just one line separating two clusters."
      ],
      "metadata": {
        "id": "g9NBpro_QHn0"
      }
    },
    {
      "cell_type": "markdown",
      "source": [
        "# Conclusion"
      ],
      "metadata": {
        "id": "GgBrc7n4RKV1"
      }
    },
    {
      "cell_type": "markdown",
      "source": [
        "Similar to last week, it seems that the best way to achieve accuracy on a model is using statistical methods for feature selection and dimensional reduction as opposed to domain knowledge and intuition. Even though the results obtained through binary logistic regression are worse than those obtained through KNN and SVMs to say the least, the principle still stands. \n",
        "\n",
        "It seems that a feature engineering technique used in this study improved performance as opposed to logistic regression and that was creating interaction variables. One created that was especially useful in selecting the best model was creating the column indicating how many products a given customer owned prior to being surveyed. Similarly to this, the interaction variable used in EDA indicating whether a given customer owned product A, product B, neither product, or both products was extremely helpful in showing that the customers who responded Y most frequently were those who were new customers and were unclassified in loyalty which we were able to incorporate into the model."
      ],
      "metadata": {
        "id": "vHzlO1ZSRL7D"
      }
    }
  ]
}